{
 "cells": [
  {
   "cell_type": "code",
   "execution_count": 2,
   "metadata": {},
   "outputs": [],
   "source": [
    "# Creating basic Data Class\n",
    "from dataclasses import dataclass\n",
    "\n",
    "@dataclass\n",
    "class Bottle:\n",
    "    weight: float\n",
    "    color: str\n",
    "    height: int = 10"
   ]
  },
  {
   "cell_type": "code",
   "execution_count": 3,
   "metadata": {},
   "outputs": [
    {
     "name": "stdout",
     "output_type": "stream",
     "text": [
      "Bottle(weight=51, color='newRose', height=157)\n"
     ]
    },
    {
     "data": {
      "text/plain": [
       "Bottle(weight=51, color='newRose', height=157)"
      ]
     },
     "execution_count": 3,
     "metadata": {},
     "output_type": "execute_result"
    }
   ],
   "source": [
    "# Creating & looking at the instance \n",
    "b1 = Bottle(height=157, weight=51, color='newRose')\n",
    "print(b1)\n",
    "b1"
   ]
  },
  {
   "cell_type": "code",
   "execution_count": 5,
   "metadata": {},
   "outputs": [
    {
     "name": "stdout",
     "output_type": "stream",
     "text": [
      "False\n",
      "True\n"
     ]
    }
   ],
   "source": [
    "# Doing some value checks \n",
    "b1 = Bottle(height=157, weight=51, color='newRose')\n",
    "r1 = Bottle(height=157, weight=51, color='newRose')\n",
    "b2 = Bottle(height=75, weight=62, color='rawGreen')\n",
    "\n",
    "print(b1 == b2)\n",
    "print(r1 == b1)"
   ]
  },
  {
   "cell_type": "code",
   "execution_count": 6,
   "metadata": {},
   "outputs": [],
   "source": [
    "# creating the same kind of class without dataclass\n",
    "\n",
    "class RawBottle:\n",
    "    def __init__(self, weight:int,\n",
    "                  color: str, height:int = 15) -> None:\n",
    "        self.height = height \n",
    "        self.weight = weight \n",
    "        self.color = color "
   ]
  },
  {
   "cell_type": "code",
   "execution_count": 7,
   "metadata": {},
   "outputs": [
    {
     "data": {
      "text/plain": [
       "<__main__.RawBottle at 0x1c0788ca6d0>"
      ]
     },
     "execution_count": 7,
     "metadata": {},
     "output_type": "execute_result"
    }
   ],
   "source": [
    "# looking at the output and comparing\n",
    "b1r = RawBottle(weight=5, height=56, color='brown')\n",
    "b1r"
   ]
  },
  {
   "cell_type": "code",
   "execution_count": 30,
   "metadata": {},
   "outputs": [],
   "source": [
    "# Updating the raw class to make it resemble dataclass\n",
    "\n",
    "class RawBottle:\n",
    "    def __init__(self, weight:int,\n",
    "                  color: str, height:int = 15) -> None:\n",
    "        self.height = height \n",
    "        self.weight = weight \n",
    "        self.color = color \n",
    "\n",
    "    def __str__(self) -> str:\n",
    "        return f\"\"\"{self.__class__.__name__}(height={self.height}, weight={self.weight}, color={self.color})\"\"\"\n",
    "    \n",
    "    def __eq__(self, other):\n",
    "        if other.__class__ is not self.__class__:\n",
    "            return NotImplemented\n",
    "        return (self.height, self.weight) == (other.height, other.weight) "
   ]
  },
  {
   "cell_type": "code",
   "execution_count": 31,
   "metadata": {},
   "outputs": [
    {
     "name": "stdout",
     "output_type": "stream",
     "text": [
      "RawBottle(height=56, weight=5, color=brown)\n"
     ]
    },
    {
     "data": {
      "text/plain": [
       "<__main__.RawBottle at 0x1c0789311d0>"
      ]
     },
     "execution_count": 31,
     "metadata": {},
     "output_type": "execute_result"
    }
   ],
   "source": [
    "# looking at the output and comparing\n",
    "b1r = RawBottle(weight=5, height=56, color='brown')\n",
    "print(b1r)\n",
    "b1r"
   ]
  },
  {
   "cell_type": "code",
   "execution_count": 16,
   "metadata": {},
   "outputs": [
    {
     "data": {
      "text/plain": [
       "MakeRoti(flour=1, water=5, salt=0.5, qty=15)"
      ]
     },
     "execution_count": 16,
     "metadata": {},
     "output_type": "execute_result"
    }
   ],
   "source": [
    "# using make_dataclass\n",
    "from dataclasses import make_dataclass\n",
    "\n",
    "MakeRoti = make_dataclass('MakeRoti', ['flour', 'water', 'salt', 'qty'])\n",
    "\n",
    "mkr1 = MakeRoti(flour=1,\n",
    "         water=5,\n",
    "         salt=0.5,\n",
    "         qty=15)\n",
    "\n",
    "mkr1"
   ]
  },
  {
   "cell_type": "code",
   "execution_count": 39,
   "metadata": {},
   "outputs": [],
   "source": [
    "# inheritance with Dataclass \n",
    "from typing import List\n",
    "\n",
    "@dataclass\n",
    "class MakePizza(MakeRoti):\n",
    "    vegetables:bool = True\n",
    "    meat:bool = False \n",
    "    veg_list:List = None\n",
    "    meat_list:List = None"
   ]
  },
  {
   "cell_type": "code",
   "execution_count": null,
   "metadata": {},
   "outputs": [
    {
     "name": "stdout",
     "output_type": "stream",
     "text": [
      "RawBottle(height=56, weight=5, color=brown)\n"
     ]
    },
    {
     "data": {
      "text/plain": [
       "<__main__.RawBottle at 0x1c0789311d0>"
      ]
     },
     "metadata": {},
     "output_type": "display_data"
    }
   ],
   "source": [
    "# looking at the output and comparing\n",
    "b1r = RawBottle(weight=5, height=56, color='brown')\n",
    "print(b1r)\n",
    "b1r"
   ]
  },
  {
   "cell_type": "code",
   "execution_count": 18,
   "metadata": {},
   "outputs": [
    {
     "data": {
      "text/plain": [
       "MakePizza(flour=1, water=1.5, salt=0.75, qty=1, vegetables=False, meat=True, veg_list=[], meat_list=['chicken', 'meat', 'tuna'])"
      ]
     },
     "execution_count": 18,
     "metadata": {},
     "output_type": "execute_result"
    }
   ],
   "source": [
    "piz1 = MakePizza(flour=1, water=1.5,\n",
    "                 salt=0.75, qty=1,\n",
    "                 vegetables=False, meat=True,\n",
    "                 veg_list=[], meat_list=['chicken', 'meat', 'tuna',])\n",
    "piz1"
   ]
  },
  {
   "cell_type": "code",
   "execution_count": 20,
   "metadata": {},
   "outputs": [
    {
     "data": {
      "text/plain": [
       "{'flour': 1,\n",
       " 'water': 1.5,\n",
       " 'salt': 0.75,\n",
       " 'qty': 1,\n",
       " 'vegetables': False,\n",
       " 'meat': True,\n",
       " 'veg_list': [],\n",
       " 'meat_list': ['chicken', 'meat', 'tuna']}"
      ]
     },
     "execution_count": 20,
     "metadata": {},
     "output_type": "execute_result"
    }
   ],
   "source": [
    "piz1.__dict__  # this representation is important"
   ]
  },
  {
   "cell_type": "code",
   "execution_count": 21,
   "metadata": {},
   "outputs": [
    {
     "data": {
      "text/plain": [
       "'MakePizza'"
      ]
     },
     "execution_count": 21,
     "metadata": {},
     "output_type": "execute_result"
    }
   ],
   "source": [
    "piz1.__class__.__name__"
   ]
  },
  {
   "cell_type": "code",
   "execution_count": 22,
   "metadata": {},
   "outputs": [
    {
     "data": {
      "text/plain": [
       "'MakePizza'"
      ]
     },
     "execution_count": 22,
     "metadata": {},
     "output_type": "execute_result"
    }
   ],
   "source": [
    "piz1.__class__.__qualname__"
   ]
  },
  {
   "cell_type": "code",
   "execution_count": 23,
   "metadata": {},
   "outputs": [
    {
     "data": {
      "text/plain": [
       "\"MakePizza(flour: 'typing.Any', water: 'typing.Any', salt: 'typing.Any', qty: 'typing.Any', vegetables: bool, meat: bool, veg_list: List, meat_list: List)\""
      ]
     },
     "execution_count": 23,
     "metadata": {},
     "output_type": "execute_result"
    }
   ],
   "source": [
    "piz1.__doc__"
   ]
  },
  {
   "cell_type": "code",
   "execution_count": 25,
   "metadata": {},
   "outputs": [
    {
     "data": {
      "text/plain": [
       "['__annotations__',\n",
       " '__class__',\n",
       " '__dataclass_fields__',\n",
       " '__dataclass_params__',\n",
       " '__delattr__',\n",
       " '__dict__',\n",
       " '__dir__',\n",
       " '__doc__',\n",
       " '__eq__',\n",
       " '__format__',\n",
       " '__ge__',\n",
       " '__getattribute__',\n",
       " '__getstate__',\n",
       " '__gt__',\n",
       " '__hash__',\n",
       " '__init__',\n",
       " '__init_subclass__',\n",
       " '__le__',\n",
       " '__lt__',\n",
       " '__match_args__',\n",
       " '__module__',\n",
       " '__ne__',\n",
       " '__new__',\n",
       " '__reduce__',\n",
       " '__reduce_ex__',\n",
       " '__repr__',\n",
       " '__setattr__',\n",
       " '__sizeof__',\n",
       " '__str__',\n",
       " '__subclasshook__',\n",
       " '__weakref__',\n",
       " 'flour',\n",
       " 'meat',\n",
       " 'meat_list',\n",
       " 'qty',\n",
       " 'salt',\n",
       " 'veg_list',\n",
       " 'vegetables',\n",
       " 'water']"
      ]
     },
     "execution_count": 25,
     "metadata": {},
     "output_type": "execute_result"
    }
   ],
   "source": [
    "dir(piz1)"
   ]
  },
  {
   "cell_type": "code",
   "execution_count": 19,
   "metadata": {},
   "outputs": [],
   "source": [
    "# Create a dataclass of a Car, with make, model, year, color, started, speed, max_speed\n",
    "# following that add methods to get_speed, accelerate, start, stop, brake"
   ]
  },
  {
   "cell_type": "code",
   "execution_count": 33,
   "metadata": {},
   "outputs": [],
   "source": [
    "# what are mixins \n",
    "# Mixins are a useful way to add functionality to classes \n",
    "# without having to use multiple inheritance.\n",
    "\n",
    "# using mixins with dataclasses\n",
    "\n",
    "import json\n",
    "import pickle\n",
    "\n",
    "class SerializerMixin:\n",
    "    def to_json(self):\n",
    "        return json.dumps(self.__dict__)\n",
    "\n",
    "    def to_file(self, file_name):\n",
    "        with open(file_name, mode='w') as md:\n",
    "            json.dump(self.__dict__, md)\n",
    "    \n",
    "    def to_pickle(self):\n",
    "        return pickle.dumps(self.__dict__)\n"
   ]
  },
  {
   "cell_type": "code",
   "execution_count": 40,
   "metadata": {},
   "outputs": [],
   "source": [
    "# inheritance with Dataclass \n",
    "from typing import List\n",
    "\n",
    "@dataclass\n",
    "class MakePizza(MakeRoti, SerializerMixin):\n",
    "    vegetables:bool = True\n",
    "    meat:bool = False\n",
    "    veg_list:List = None\n",
    "    meat_list:List = None"
   ]
  },
  {
   "cell_type": "code",
   "execution_count": 42,
   "metadata": {},
   "outputs": [
    {
     "data": {
      "text/plain": [
       "'{\"flour\": 1.5, \"water\": 2.5, \"salt\": 1, \"qty\": 5, \"vegetables\": true, \"meat\": false, \"veg_list\": [\"onion\", \"capscicum\"], \"meat_list\": null}'"
      ]
     },
     "execution_count": 42,
     "metadata": {},
     "output_type": "execute_result"
    }
   ],
   "source": [
    "mr2 = MakePizza(flour=1.5,\n",
    "               water=2.5,\n",
    "               salt=1,\n",
    "               qty=5,\n",
    "               vegetables=True,\n",
    "               veg_list=['onion','capscicum'])\n",
    "\n",
    "mr2.to_json()"
   ]
  },
  {
   "cell_type": "code",
   "execution_count": 43,
   "metadata": {},
   "outputs": [],
   "source": [
    "mr2.to_file(file_name='todel.txt')"
   ]
  }
 ],
 "metadata": {
  "kernelspec": {
   "display_name": "Python 3",
   "language": "python",
   "name": "python3"
  },
  "language_info": {
   "codemirror_mode": {
    "name": "ipython",
    "version": 3
   },
   "file_extension": ".py",
   "mimetype": "text/x-python",
   "name": "python",
   "nbconvert_exporter": "python",
   "pygments_lexer": "ipython3",
   "version": "3.11.4"
  }
 },
 "nbformat": 4,
 "nbformat_minor": 2
}
