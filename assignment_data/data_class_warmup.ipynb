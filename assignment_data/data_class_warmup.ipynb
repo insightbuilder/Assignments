{
 "cells": [
  {
   "cell_type": "code",
   "execution_count": 2,
   "metadata": {},
   "outputs": [],
   "source": [
    "# Creating basic Data Class\n",
    "from dataclasses import dataclass\n",
    "#importing dataclass decorator\n",
    "@dataclass          # decorating the class below\n",
    "class Bottle:       # defining the class\n",
    "    weight: float       # initing the variables weight, color and its type\n",
    "    color: str          \n",
    "    height: int = 10    # initing the var, type, and assigning default value"
   ]
  },
  {
   "cell_type": "code",
   "execution_count": 3,
   "metadata": {},
   "outputs": [],
   "source": [
    "from dataclasses import dataclass\n",
    "\n",
    "@dataclass\n",
    "class Book:\n",
    "    pages: int\n",
    "    author: str\n",
    "    is_hard_cover: bool = False\n",
    "    \n",
    "# try implementing this in idle to see diff b/w __str__and __repr__"
   ]
  },
  {
   "cell_type": "code",
   "execution_count": 4,
   "metadata": {},
   "outputs": [
    {
     "name": "stdout",
     "output_type": "stream",
     "text": [
      "Book(pages=40, author='Harari', is_hard_cover=True)\n"
     ]
    },
    {
     "data": {
      "text/plain": [
       "Book(pages=40, author='Harari', is_hard_cover=True)"
      ]
     },
     "execution_count": 4,
     "metadata": {},
     "output_type": "execute_result"
    }
   ],
   "source": [
    "sapiens = Book(pages=40, author='Harari', is_hard_cover= True)\n",
    "print(sapiens)\n",
    "sapiens"
   ]
  },
  {
   "cell_type": "code",
   "execution_count": 3,
   "metadata": {},
   "outputs": [
    {
     "name": "stdout",
     "output_type": "stream",
     "text": [
      "Bottle(weight=51, color='newRose', height=157)\n"
     ]
    },
    {
     "data": {
      "text/plain": [
       "Bottle(weight=51, color='newRose', height=157)"
      ]
     },
     "execution_count": 3,
     "metadata": {},
     "output_type": "execute_result"
    }
   ],
   "source": [
    "# Creating & looking at the instance \n",
    "b1 = Bottle(height=157, weight=51, color='newRose')         # b1 is the instance of bottle class with all attr\n",
    "print(b1)               # printing b1 with __str__ \n",
    "b1                      # printing b1 with __repr__"
   ]
  },
  {
   "cell_type": "code",
   "execution_count": 5,
   "metadata": {},
   "outputs": [
    {
     "name": "stdout",
     "output_type": "stream",
     "text": [
      "False\n",
      "True\n"
     ]
    }
   ],
   "source": [
    "# Doing some value checks \n",
    "b1 = Bottle(height=157, weight=51, color='newRose') # b1 instance initalized\n",
    "r1 = Bottle(height=157, weight=51, color='newRose') # r1 & b2 instance inited\n",
    "b2 = Bottle(height=75, weight=62, color='rawGreen')\n",
    "\n",
    "print(b1 == b2)     # comparing if b1 and b2 are equal\n",
    "print(r1 == b1)     # comparing b1 and r1"
   ]
  },
  {
   "cell_type": "code",
   "execution_count": 13,
   "metadata": {},
   "outputs": [],
   "source": [
    "# do same with Book"
   ]
  },
  {
   "cell_type": "code",
   "execution_count": 38,
   "metadata": {},
   "outputs": [],
   "source": [
    "# creating the same kind of class without dataclass\n",
    "\n",
    "class RawBottle:            # defining a class RawBottle\n",
    "    def __init__(self, weight:int,      # defining init method with 3 attr \n",
    "                  color: str, bottle_height:int = 15) -> None:\n",
    "        self.height = bottle_height            # assigning height to height attr\n",
    "        self.weight = weight \n",
    "        self.color = color "
   ]
  },
  {
   "cell_type": "code",
   "execution_count": 39,
   "metadata": {},
   "outputs": [
    {
     "data": {
      "text/plain": [
       "<__main__.RawBottle at 0x1e820c48590>"
      ]
     },
     "execution_count": 39,
     "metadata": {},
     "output_type": "execute_result"
    }
   ],
   "source": [
    "# looking at the output and comparing\n",
    "b1r = RawBottle(weight=5, bottle_height=56, color='brown')\n",
    "b1r"
   ]
  },
  {
   "cell_type": "code",
   "execution_count": null,
   "metadata": {},
   "outputs": [],
   "source": [
    "# write raw book without dataclass and time while writing \n",
    "# comment below cell\n",
    "# creating, defining, assigning\n",
    "# initializing, passing, parsing"
   ]
  },
  {
   "cell_type": "code",
   "execution_count": 32,
   "metadata": {},
   "outputs": [],
   "source": [
    "#8:21\n",
    "#8:29\n",
    "class RawBook:\n",
    "    def __init__(self, name, author, pages):\n",
    "        self.name = name\n",
    "        self.author = author\n",
    "        self.pages = pages\n",
    "        \n",
    "    def __str__(self):\n",
    "        return f\"Book {self.name} is written by {self.author} and has {self.pages} pages\"\n",
    "\n",
    "    def __eq__(self, other):\n",
    "        # if other.__class__.__name__ == self.__class__.__name__:\n",
    "        if other.__class__.__name__ != self.__class__.__name__:\n",
    "            return NotImplementedError('errored out...')\n",
    "\n",
    "        print((self.name, self.author), (other.name, other.author))\n",
    "        return (self.name, self.author) == (other.name, other.author)"
   ]
  },
  {
   "cell_type": "code",
   "execution_count": 33,
   "metadata": {},
   "outputs": [
    {
     "name": "stdout",
     "output_type": "stream",
     "text": [
      "Book Sapiens is written by Yoval and has 56 pages\n"
     ]
    },
    {
     "data": {
      "text/plain": [
       "<__main__.RawBook at 0x1e820c4a0d0>"
      ]
     },
     "execution_count": 33,
     "metadata": {},
     "output_type": "execute_result"
    }
   ],
   "source": [
    "r1=RawBook(name='Sapiens',author='Yoval',pages=56)\n",
    "print(r1)\n",
    "r1"
   ]
  },
  {
   "cell_type": "code",
   "execution_count": 34,
   "metadata": {},
   "outputs": [
    {
     "data": {
      "text/plain": [
       "'RawBook'"
      ]
     },
     "execution_count": 34,
     "metadata": {},
     "output_type": "execute_result"
    }
   ],
   "source": [
    "r1.__class__.__name__"
   ]
  },
  {
   "cell_type": "code",
   "execution_count": 35,
   "metadata": {},
   "outputs": [
    {
     "data": {
      "text/plain": [
       "NotImplementedError('errored out...')"
      ]
     },
     "execution_count": 35,
     "metadata": {},
     "output_type": "execute_result"
    }
   ],
   "source": [
    "r2 = RawBook(name='Sapiens', author='Yoval', pages=56)\n",
    "\n",
    "r2.__eq__(r1)"
   ]
  },
  {
   "cell_type": "code",
   "execution_count": 37,
   "metadata": {},
   "outputs": [],
   "source": [
    "try:\n",
    "    r1 == r2\n",
    "except Exception as e:\n",
    "    print('Error')\n",
    "    print(e)"
   ]
  },
  {
   "cell_type": "code",
   "execution_count": 40,
   "metadata": {},
   "outputs": [
    {
     "name": "stdout",
     "output_type": "stream",
     "text": [
      "Error\n",
      "'RawBottle' object has no attribute 'name'\n"
     ]
    }
   ],
   "source": [
    "try:\n",
    "    r1 == b1r\n",
    "except Exception as e:\n",
    "    print('Error')\n",
    "    print(e)"
   ]
  },
  {
   "cell_type": "code",
   "execution_count": 16,
   "metadata": {},
   "outputs": [
    {
     "data": {
      "text/plain": [
       "'RawBook'"
      ]
     },
     "execution_count": 16,
     "metadata": {},
     "output_type": "execute_result"
    }
   ],
   "source": [
    "r2.__class__.__name__"
   ]
  },
  {
   "cell_type": "code",
   "execution_count": null,
   "metadata": {},
   "outputs": [],
   "source": [
    "dir(r1)"
   ]
  },
  {
   "cell_type": "code",
   "execution_count": 10,
   "metadata": {},
   "outputs": [],
   "source": [
    "# Updating the raw class to make it resemble dataclass\n",
    "\n",
    "class RawBottle:        # defining class RawBottle\n",
    "    def __init__(self, weight:int,      # defining init method with 3 attr \n",
    "                  color: str, height:int = 15) -> None:\n",
    "        self.height = height            # assigning height to self.height attr\n",
    "        self.weight = weight \n",
    "        self.color = color \n",
    "        \n",
    "    def __str__(self) -> str:              # defining __str__ method to print instance details\n",
    "        return f\"\"\"{self.__class__.__name__}(height={self.height}, weight={self.weight}, color={self.color})\"\"\"\n",
    "    \n",
    "    def __eq__(self, other):                # defining __eq__ method to compare one instance with other\n",
    "        if other.__class__ is not self.__class__:   # compare if both the instances are of the same class\n",
    "            return NotImplemented\n",
    "        return (self.height, self.weight) == (other.height, other.weight)   # if same class then compare values of attr"
   ]
  },
  {
   "cell_type": "code",
   "execution_count": 61,
   "metadata": {},
   "outputs": [],
   "source": [
    "#melt the bottle - material, calc_vlo -  (volume=height*weight), colour_change:bool\n",
    "\n",
    "\n",
    "class RawBottle:        # defining class RawBottle\n",
    "    '''This is a Bottle'''\n",
    "    def __init__(self, weight:int,      # defining init method with 3 attr \n",
    "                  color: str, height:int = 15) -> None:\n",
    "        \n",
    "        self.height = height            # assigning height to self.height attr\n",
    "        self.weight = weight \n",
    "        self.color = color \n",
    "        self.state = 'Solid'\n",
    "        \n",
    "    def __str__(self) -> str:              # defining __str__ method to print instance details\n",
    "        return f\"\"\"{self.__class__.__name__}(height={self.height}, weight={self.weight}, color={self.color})\"\"\"\n",
    "    \n",
    "    def __eq__(self, other):                # defining __eq__ method to compare one instance with other\n",
    "        if other.__class__ is not self.__class__:   # compare if both the instances are of the same class\n",
    "            return NotImplemented\n",
    "        return (self.height, self.weight) == (other.height, other.weight)   # if same class then compare values of attr\n",
    "    \n",
    "    #melting meth - \n",
    "    def melt_vol(self):\n",
    "        if self.state == 'Solid':\n",
    "            self.state = 'Liquid'\n",
    "            return f\"Volume = {self.height * self.weight}\"\n",
    "        else:\n",
    "            return \"Can not melt liquid\"\n",
    "        # return volume"
   ]
  },
  {
   "cell_type": "code",
   "execution_count": 62,
   "metadata": {},
   "outputs": [
    {
     "name": "stdout",
     "output_type": "stream",
     "text": [
      "RawBottle(height=4, weight=3, color=Red)\n",
      "Volume = 12\n"
     ]
    }
   ],
   "source": [
    "r1 = RawBottle(3,'Red', 4)\n",
    "print(r1)\n",
    "print(r1.melt_vol())"
   ]
  },
  {
   "cell_type": "code",
   "execution_count": 59,
   "metadata": {},
   "outputs": [
    {
     "data": {
      "text/plain": [
       "{'height': 4, 'weight': 3, 'color': 'Red', 'state': 'Liquid'}"
      ]
     },
     "execution_count": 59,
     "metadata": {},
     "output_type": "execute_result"
    }
   ],
   "source": [
    "r1.__dict__"
   ]
  },
  {
   "cell_type": "code",
   "execution_count": 25,
   "metadata": {},
   "outputs": [
    {
     "name": "stdout",
     "output_type": "stream",
     "text": [
      "Liquid\n"
     ]
    }
   ],
   "source": [
    "print(r1.state)"
   ]
  },
  {
   "cell_type": "code",
   "execution_count": 63,
   "metadata": {},
   "outputs": [
    {
     "name": "stdout",
     "output_type": "stream",
     "text": [
      "This is a Bottle\n"
     ]
    }
   ],
   "source": [
    "print(r1.__doc__)"
   ]
  },
  {
   "cell_type": "code",
   "execution_count": 23,
   "metadata": {},
   "outputs": [],
   "source": [
    "r1.state='Solid'"
   ]
  },
  {
   "cell_type": "code",
   "execution_count": 20,
   "metadata": {},
   "outputs": [
    {
     "name": "stdout",
     "output_type": "stream",
     "text": [
      "Volume = 12\n"
     ]
    }
   ],
   "source": [
    "# print(r1.state)\n",
    "print(r1.melt_vol())"
   ]
  },
  {
   "cell_type": "code",
   "execution_count": 31,
   "metadata": {},
   "outputs": [
    {
     "name": "stdout",
     "output_type": "stream",
     "text": [
      "RawBottle(height=56, weight=5, color=brown)\n"
     ]
    },
    {
     "data": {
      "text/plain": [
       "<__main__.RawBottle at 0x1c0789311d0>"
      ]
     },
     "execution_count": 31,
     "metadata": {},
     "output_type": "execute_result"
    }
   ],
   "source": [
    "\n",
    "# looking at the output and comparing\n",
    "b1r = RawBottle(weight=5, height=56, color='brown')\n",
    "print(b1r)\n",
    "b1r"
   ]
  },
  {
   "cell_type": "code",
   "execution_count": 40,
   "metadata": {},
   "outputs": [
    {
     "data": {
      "text/plain": [
       "MakeRoti(flour=1, water=5, salt=0.5, qty=15)"
      ]
     },
     "execution_count": 40,
     "metadata": {},
     "output_type": "execute_result"
    }
   ],
   "source": [
    "# using make_dataclass\n",
    "from dataclasses import make_dataclass\n",
    "\n",
    "MakeRoti = make_dataclass('MakeRoti', ['flour', 'water', 'salt', 'qty'])\n",
    "\n",
    "mkr1 = MakeRoti(flour=1,\n",
    "         water=5,\n",
    "         salt=0.5,\n",
    "         qty=15)\n",
    "\n",
    "mkr1"
   ]
  },
  {
   "cell_type": "code",
   "execution_count": 27,
   "metadata": {},
   "outputs": [],
   "source": [
    "from dataclasses import make_dataclass\n",
    "\n",
    "Pasta = make_dataclass('Pasta', ['vegies', 'sauce', 'cheese'])\n",
    "\n",
    "past1 = Pasta(vegies=1,\n",
    "              sauce='White',\n",
    "              cheese=3)\n"
   ]
  },
  {
   "cell_type": "code",
   "execution_count": 34,
   "metadata": {},
   "outputs": [
    {
     "name": "stdout",
     "output_type": "stream",
     "text": [
      "3\n"
     ]
    }
   ],
   "source": [
    "print(past1.cheese)"
   ]
  },
  {
   "cell_type": "code",
   "execution_count": 28,
   "metadata": {},
   "outputs": [
    {
     "name": "stdout",
     "output_type": "stream",
     "text": [
      "Pasta(vegies=1, sauce='White', cheese=3)\n"
     ]
    }
   ],
   "source": [
    "print(past1)"
   ]
  },
  {
   "cell_type": "code",
   "execution_count": 31,
   "metadata": {},
   "outputs": [],
   "source": [
    "dict1 = {'vegies':1,\n",
    "         'sauce':'White',\n",
    "         'chese':3}"
   ]
  },
  {
   "cell_type": "code",
   "execution_count": 35,
   "metadata": {},
   "outputs": [
    {
     "ename": "AttributeError",
     "evalue": "'dict' object has no attribute 'sauce'",
     "output_type": "error",
     "traceback": [
      "\u001b[0;31m---------------------------------------------------------------------------\u001b[0m",
      "\u001b[0;31mAttributeError\u001b[0m                            Traceback (most recent call last)",
      "Cell \u001b[0;32mIn[35], line 1\u001b[0m\n\u001b[0;32m----> 1\u001b[0m \u001b[39mprint\u001b[39m(dict1\u001b[39m.\u001b[39msauce)\n",
      "\u001b[0;31mAttributeError\u001b[0m: 'dict' object has no attribute 'sauce'"
     ]
    }
   ],
   "source": [
    "print(dict1.sauce)"
   ]
  },
  {
   "cell_type": "code",
   "execution_count": 51,
   "metadata": {},
   "outputs": [],
   "source": [
    "# inheritance with Dataclass \n",
    "from typing import List\n",
    "from dataclasses import dataclass\n",
    "@dataclass\n",
    "class MakePizza(MakeRoti):\n",
    "    '''\n",
    "    This class makes yummy pizzazzzzzzz'''\n",
    "    vegetables:bool = True\n",
    "    meat:bool = False \n",
    "    veg_list:List = None\n",
    "    meat_list:List = None"
   ]
  },
  {
   "cell_type": "code",
   "execution_count": null,
   "metadata": {},
   "outputs": [],
   "source": []
  },
  {
   "cell_type": "code",
   "execution_count": null,
   "metadata": {},
   "outputs": [
    {
     "name": "stdout",
     "output_type": "stream",
     "text": [
      "RawBottle(height=56, weight=5, color=brown)\n"
     ]
    },
    {
     "data": {
      "text/plain": [
       "<__main__.RawBottle at 0x1c0789311d0>"
      ]
     },
     "metadata": {},
     "output_type": "display_data"
    }
   ],
   "source": [
    "# looking at the output and comparing\n",
    "b1r = RawBottle(weight=5, height=56, color='brown')\n",
    "print(b1r)\n",
    "b1r"
   ]
  },
  {
   "cell_type": "code",
   "execution_count": 52,
   "metadata": {},
   "outputs": [
    {
     "data": {
      "text/plain": [
       "MakePizza(flour=1, water=1.5, salt=0.75, qty=1, vegetables=False, meat=True, veg_list=[], meat_list=['chicken', 'meat', 'tuna'])"
      ]
     },
     "execution_count": 52,
     "metadata": {},
     "output_type": "execute_result"
    }
   ],
   "source": [
    "piz1 = MakePizza(flour=1, water=1.5,\n",
    "                 salt=0.75, qty=1,\n",
    "                 vegetables=False, meat=True,\n",
    "                 veg_list=[], meat_list=['chicken', 'meat', 'tuna',])\n",
    "piz1"
   ]
  },
  {
   "cell_type": "code",
   "execution_count": 20,
   "metadata": {},
   "outputs": [
    {
     "data": {
      "text/plain": [
       "{'flour': 1,\n",
       " 'water': 1.5,\n",
       " 'salt': 0.75,\n",
       " 'qty': 1,\n",
       " 'vegetables': False,\n",
       " 'meat': True,\n",
       " 'veg_list': [],\n",
       " 'meat_list': ['chicken', 'meat', 'tuna']}"
      ]
     },
     "execution_count": 20,
     "metadata": {},
     "output_type": "execute_result"
    }
   ],
   "source": [
    "piz1.__dict__  # this representation is important"
   ]
  },
  {
   "cell_type": "code",
   "execution_count": 21,
   "metadata": {},
   "outputs": [
    {
     "data": {
      "text/plain": [
       "'MakePizza'"
      ]
     },
     "execution_count": 21,
     "metadata": {},
     "output_type": "execute_result"
    }
   ],
   "source": [
    "piz1.__class__.__name__"
   ]
  },
  {
   "cell_type": "code",
   "execution_count": 49,
   "metadata": {},
   "outputs": [
    {
     "name": "stdout",
     "output_type": "stream",
     "text": [
      "str(object='') -> str\n",
      "str(bytes_or_buffer[, encoding[, errors]]) -> str\n",
      "\n",
      "Create a new string object from the given object. If encoding or\n",
      "errors is specified, then the object must expose a data buffer\n",
      "that will be decoded using the given encoding and error handler.\n",
      "Otherwise, returns the result of object.__str__() (if defined)\n",
      "or repr(object).\n",
      "encoding defaults to sys.getdefaultencoding().\n",
      "errors defaults to 'strict'.\n"
     ]
    }
   ],
   "source": [
    "print(\"sauce\".__doc__)"
   ]
  },
  {
   "cell_type": "code",
   "execution_count": 22,
   "metadata": {},
   "outputs": [
    {
     "data": {
      "text/plain": [
       "'MakePizza'"
      ]
     },
     "execution_count": 22,
     "metadata": {},
     "output_type": "execute_result"
    }
   ],
   "source": [
    "piz1.__class__.__qualname__"
   ]
  },
  {
   "cell_type": "code",
   "execution_count": 53,
   "metadata": {},
   "outputs": [
    {
     "name": "stdout",
     "output_type": "stream",
     "text": [
      "\n",
      "    This class makes yummy pizzazzzzzzz\n"
     ]
    }
   ],
   "source": [
    "print(piz1.__doc__)"
   ]
  },
  {
   "cell_type": "code",
   "execution_count": 25,
   "metadata": {},
   "outputs": [
    {
     "data": {
      "text/plain": [
       "['__annotations__',\n",
       " '__class__',\n",
       " '__dataclass_fields__',\n",
       " '__dataclass_params__',\n",
       " '__delattr__',\n",
       " '__dict__',\n",
       " '__dir__',\n",
       " '__doc__',\n",
       " '__eq__',\n",
       " '__format__',\n",
       " '__ge__',\n",
       " '__getattribute__',\n",
       " '__getstate__',\n",
       " '__gt__',\n",
       " '__hash__',\n",
       " '__init__',\n",
       " '__init_subclass__',\n",
       " '__le__',\n",
       " '__lt__',\n",
       " '__match_args__',\n",
       " '__module__',\n",
       " '__ne__',\n",
       " '__new__',\n",
       " '__reduce__',\n",
       " '__reduce_ex__',\n",
       " '__repr__',\n",
       " '__setattr__',\n",
       " '__sizeof__',\n",
       " '__str__',\n",
       " '__subclasshook__',\n",
       " '__weakref__',\n",
       " 'flour',\n",
       " 'meat',\n",
       " 'meat_list',\n",
       " 'qty',\n",
       " 'salt',\n",
       " 'veg_list',\n",
       " 'vegetables',\n",
       " 'water']"
      ]
     },
     "execution_count": 25,
     "metadata": {},
     "output_type": "execute_result"
    }
   ],
   "source": [
    "dir(piz1)"
   ]
  },
  {
   "cell_type": "code",
   "execution_count": 19,
   "metadata": {},
   "outputs": [],
   "source": [
    "# Create a dataclass of a Car, with make, model, year, color, started, speed, max_speed\n",
    "# following that add methods to get_speed, accelerate, start, stop, brake"
   ]
  },
  {
   "cell_type": "code",
   "execution_count": 33,
   "metadata": {},
   "outputs": [],
   "source": [
    "# what are mixins \n",
    "# Mixins are a useful way to add functionality to classes \n",
    "# without having to use multiple inheritance.\n",
    "\n",
    "# using mixins with dataclasses\n",
    "\n",
    "import json\n",
    "import pickle\n",
    "\n",
    "class SerializerMixin:\n",
    "    def to_json(self):\n",
    "        return json.dumps(self.__dict__)\n",
    "\n",
    "    def to_file(self, file_name):\n",
    "        with open(file_name, mode='w') as md:\n",
    "            json.dump(self.__dict__, md)\n",
    "    \n",
    "    def to_pickle(self):\n",
    "        return pickle.dumps(self.__dict__)\n"
   ]
  },
  {
   "cell_type": "code",
   "execution_count": 40,
   "metadata": {},
   "outputs": [],
   "source": [
    "# inheritance with Dataclass \n",
    "from typing import List\n",
    "\n",
    "@dataclass\n",
    "class MakePizza(MakeRoti, SerializerMixin):\n",
    "    vegetables:bool = True\n",
    "    meat:bool = False\n",
    "    veg_list:List = None\n",
    "    meat_list:List = None"
   ]
  },
  {
   "cell_type": "code",
   "execution_count": 42,
   "metadata": {},
   "outputs": [
    {
     "data": {
      "text/plain": [
       "'{\"flour\": 1.5, \"water\": 2.5, \"salt\": 1, \"qty\": 5, \"vegetables\": true, \"meat\": false, \"veg_list\": [\"onion\", \"capscicum\"], \"meat_list\": null}'"
      ]
     },
     "execution_count": 42,
     "metadata": {},
     "output_type": "execute_result"
    }
   ],
   "source": [
    "mr2 = MakePizza(flour=1.5,\n",
    "               water=2.5,\n",
    "               salt=1,\n",
    "               qty=5,\n",
    "               vegetables=True,\n",
    "               veg_list=['onion','capscicum'])\n",
    "\n",
    "mr2.to_json()"
   ]
  },
  {
   "cell_type": "code",
   "execution_count": 43,
   "metadata": {},
   "outputs": [],
   "source": [
    "mr2.to_file(file_name='todel.txt')"
   ]
  }
 ],
 "metadata": {
  "kernelspec": {
   "display_name": "Python 3",
   "language": "python",
   "name": "python3"
  },
  "language_info": {
   "codemirror_mode": {
    "name": "ipython",
    "version": 3
   },
   "file_extension": ".py",
   "mimetype": "text/x-python",
   "name": "python",
   "nbconvert_exporter": "python",
   "pygments_lexer": "ipython3",
   "version": "3.11.4"
  }
 },
 "nbformat": 4,
 "nbformat_minor": 2
}
