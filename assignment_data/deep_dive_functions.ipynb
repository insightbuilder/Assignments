{
 "cells": [
  {
   "cell_type": "markdown",
   "id": "55e51611",
   "metadata": {},
   "source": [
    "Python functions are 1st class Objects, meaning\n",
    "\n",
    "> Can be assigned to variable \n",
    "\n",
    "> Store in datastructure \n",
    "\n",
    "> pass them as args to other functions\n",
    "\n",
    "> return them from other functions"
   ]
  },
  {
   "cell_type": "markdown",
   "id": "f20b5c4d",
   "metadata": {},
   "source": [
    "Why of the functions?\n",
    "   \n",
    "   > Abstraction and Reusability: functionality abstraction\n",
    "\n",
    "   > Modularity: breaking complex to simple\n",
    "\n",
    "   > NS SeperatioN: A namespace is a region of a program in which identifiers have meaning\n"
   ]
  },
  {
   "cell_type": "markdown",
   "id": "365d0f3c",
   "metadata": {},
   "source": [
    "def <function_name>([parameters]):\n",
    "\n",
    "    <statement(s)>\n",
    "\n",
    "\n",
    "<function_name>([arguments])\n",
    "\n",
    "\n",
    "<arguments> are the values passed into the function. They correspond to the <parameters> in the Python function definition"
   ]
  },
  {
   "cell_type": "code",
   "execution_count": 35,
   "id": "09466b90",
   "metadata": {},
   "outputs": [
    {
     "name": "stdout",
     "output_type": "stream",
     "text": [
      "Before calling f()\n",
      "-- Inside f()\n",
      "After calling f()\n"
     ]
    }
   ],
   "source": [
    "def f():\n",
    "    s = '-- Inside f()'\n",
    "    print(s)\n",
    "\n",
    "print('Before calling f()')\n",
    "f()\n",
    "print('After calling f()')"
   ]
  },
  {
   "cell_type": "code",
   "execution_count": null,
   "id": "90a6fd3b",
   "metadata": {},
   "outputs": [],
   "source": [
    "# positional args\n",
    "\n",
    "def f(qty, item, price):\n",
    "    print(f'{qty} {item} cost ${price:.2f}')\n",
    "\n",
    "# check what happens when one arg is not given when called\n",
    "\n",
    "# check what happens when calling with key-val args\n",
    "    \n",
    "# Wht if one key used is not present in the val"
   ]
  },
  {
   "cell_type": "code",
   "execution_count": 2,
   "id": "df494d4b",
   "metadata": {},
   "outputs": [
    {
     "data": {
      "text/plain": [
       "'THIS IS AWESOME!'"
      ]
     },
     "execution_count": 2,
     "metadata": {},
     "output_type": "execute_result"
    }
   ],
   "source": [
    "# assigning function to variables\n",
    "\n",
    "def trysay(text_data):\n",
    "    return text_data.upper() + '!'\n",
    "\n",
    "trysay('this is awesome')"
   ]
  },
  {
   "cell_type": "code",
   "execution_count": 3,
   "id": "79744459",
   "metadata": {},
   "outputs": [
    {
     "data": {
      "text/plain": [
       "'SOUPER COOL!'"
      ]
     },
     "execution_count": 3,
     "metadata": {},
     "output_type": "execute_result"
    }
   ],
   "source": [
    "shout = trysay\n",
    "\n",
    "shout('Souper Cool')"
   ]
  },
  {
   "cell_type": "code",
   "execution_count": 4,
   "id": "298c338f",
   "metadata": {},
   "outputs": [
    {
     "data": {
      "text/plain": [
       "'trysay'"
      ]
     },
     "execution_count": 4,
     "metadata": {},
     "output_type": "execute_result"
    }
   ],
   "source": [
    "shout.__name__"
   ]
  },
  {
   "cell_type": "code",
   "execution_count": 6,
   "id": "02d740da",
   "metadata": {},
   "outputs": [
    {
     "data": {
      "text/plain": [
       "'LETS SEE!'"
      ]
     },
     "execution_count": 6,
     "metadata": {},
     "output_type": "execute_result"
    }
   ],
   "source": [
    "zoo_funk = [shout, str.replace, str.translate]\n",
    "\n",
    "zoo_funk[0]('lets see')"
   ]
  },
  {
   "cell_type": "code",
   "execution_count": 7,
   "id": "dc3dcc9f",
   "metadata": {},
   "outputs": [
    {
     "data": {
      "text/plain": [
       "'THIS IS INSIDE!'"
      ]
     },
     "execution_count": 7,
     "metadata": {},
     "output_type": "execute_result"
    }
   ],
   "source": [
    "# passing funcs as params\n",
    "\n",
    "def greeter(get_func):\n",
    "    tem_var = get_func('This is inside')\n",
    "    return tem_var\n",
    "\n",
    "greeter(zoo_funk[0])"
   ]
  },
  {
   "cell_type": "code",
   "execution_count": 20,
   "id": "e9176384",
   "metadata": {},
   "outputs": [],
   "source": [
    "# Taking abstraction to next level\n",
    "from string import ascii_letters\n",
    "# print(ascii_letters)\n",
    "\n",
    "def encode_text(text):\n",
    "    ascii_dict = {}\n",
    "    updated_letter = ascii_letters\n",
    "    updated_letter += ' '\n",
    "    for ind, x in enumerate(updated_letter):\n",
    "        ascii_dict[x] = ind\n",
    "    incode = '' \n",
    "    for ch in text:\n",
    "        incode += str(ascii_dict[ch])\n",
    "    return incode"
   ]
  },
  {
   "cell_type": "code",
   "execution_count": 21,
   "id": "a018bac1",
   "metadata": {},
   "outputs": [
    {
     "data": {
      "text/plain": [
       "'457818528185281318834'"
      ]
     },
     "execution_count": 21,
     "metadata": {},
     "output_type": "execute_result"
    }
   ],
   "source": [
    "greeter(encode_text)"
   ]
  },
  {
   "cell_type": "code",
   "execution_count": null,
   "id": "5f776662",
   "metadata": {},
   "outputs": [],
   "source": [
    "def speak(text):\n",
    "    def whisper(t):\n",
    "        return t.lower() + '...'\n",
    "    return whisper(text)"
   ]
  },
  {
   "cell_type": "code",
   "execution_count": 23,
   "id": "863877c5",
   "metadata": {},
   "outputs": [],
   "source": [
    "def get_speak_func(volume):\n",
    "    def whisper(text):\n",
    "        return text.lower() + '...'\n",
    "    def yell(text):\n",
    "        return text.upper() + '!'\n",
    "    if volume > 0.5:\n",
    "        return yell\n",
    "    else:\n",
    "        return whisper"
   ]
  },
  {
   "cell_type": "code",
   "execution_count": 24,
   "id": "4de9b5bc",
   "metadata": {},
   "outputs": [
    {
     "data": {
      "text/plain": [
       "'SUPER NICE!'"
      ]
     },
     "execution_count": 24,
     "metadata": {},
     "output_type": "execute_result"
    }
   ],
   "source": [
    "# How to call the nested function\n",
    "\n",
    "get_func = get_speak_func(0.7)\n",
    "get_func('super nice')"
   ]
  },
  {
   "cell_type": "code",
   "execution_count": 25,
   "id": "77c5a315",
   "metadata": {},
   "outputs": [
    {
     "data": {
      "text/plain": [
       "'super wow...'"
      ]
     },
     "execution_count": 25,
     "metadata": {},
     "output_type": "execute_result"
    }
   ],
   "source": [
    "loudFunc = get_speak_func(0.3)\n",
    "loudFunc('super wow')"
   ]
  },
  {
   "cell_type": "markdown",
   "id": "000216f6",
   "metadata": {},
   "source": [
    "#### Capturing states...\n",
    "\n",
    "Inner functions capture and carry \n",
    "\n",
    "A closure remembers the values from its enclosing lexical scope even when the program flow is no longer in that scope."
   ]
  },
  {
   "cell_type": "code",
   "execution_count": 26,
   "id": "f408b2a0",
   "metadata": {},
   "outputs": [
    {
     "data": {
      "text/plain": [
       "9"
      ]
     },
     "execution_count": 26,
     "metadata": {},
     "output_type": "execute_result"
    }
   ],
   "source": [
    "# Creating factories\n",
    "def make_adder(n):\n",
    "    # which variable is in this scope\n",
    "    def add(x):\n",
    "        # which variables are in this scope\n",
    "        return x + n\n",
    "    return add\n",
    "\n",
    "plus3 = make_adder(3)\n",
    "\n",
    "plus3(6)"
   ]
  },
  {
   "cell_type": "code",
   "execution_count": 28,
   "id": "c61eb4d9",
   "metadata": {},
   "outputs": [
    {
     "data": {
      "text/plain": [
       "9"
      ]
     },
     "execution_count": 28,
     "metadata": {},
     "output_type": "execute_result"
    }
   ],
   "source": [
    "# Functions are objects while the reverse is not true, objects are not functions\n",
    "\n",
    "class Adder:\n",
    "    def __init__(self, n):\n",
    "        self.n = n\n",
    "    def __call__(self, x):\n",
    "        return self.n + x\n",
    "\n",
    "plus3 = Adder(3)\n",
    "\n",
    "plus3(6)"
   ]
  },
  {
   "cell_type": "markdown",
   "id": "5f44d433",
   "metadata": {},
   "source": [
    "#### Enter lambdas"
   ]
  },
  {
   "cell_type": "code",
   "execution_count": 30,
   "id": "0ff68066",
   "metadata": {},
   "outputs": [
    {
     "data": {
      "text/plain": [
       "13"
      ]
     },
     "execution_count": 30,
     "metadata": {},
     "output_type": "execute_result"
    }
   ],
   "source": [
    "add = lambda x, y: x + y\n",
    "add(5, 2)\n",
    "# here is that I didn’t have to bind the function object to a name before I used it\n",
    "(lambda x, y: x + y)(7, 6)\n",
    "# how does lambda return? There is always implicit return statement, \n",
    "# so its called single expression functions"
   ]
  },
  {
   "cell_type": "code",
   "execution_count": 31,
   "id": "68ad42e6",
   "metadata": {},
   "outputs": [
    {
     "data": {
      "text/plain": [
       "[(4, 'a'), (2, 'b'), (3, 'c'), (1, 'd')]"
      ]
     },
     "execution_count": 31,
     "metadata": {},
     "output_type": "execute_result"
    }
   ],
   "source": [
    "tuples = [(1, 'd'),\n",
    "          (2, 'b'),\n",
    "          (4, 'a'),\n",
    "          (3, 'c')]\n",
    "\n",
    "sorted(tuples, key=lambda x: x[1])"
   ]
  },
  {
   "cell_type": "code",
   "execution_count": 33,
   "id": "2e305760",
   "metadata": {},
   "outputs": [
    {
     "data": {
      "text/plain": [
       "8"
      ]
     },
     "execution_count": 33,
     "metadata": {},
     "output_type": "execute_result"
    }
   ],
   "source": [
    "def make_adder(n):\n",
    "    return lambda x: x + n\n",
    "\n",
    "plus5 = make_adder(5)\n",
    "plus5(3)"
   ]
  },
  {
   "cell_type": "code",
   "execution_count": null,
   "id": "e137fdbc",
   "metadata": {},
   "outputs": [],
   "source": []
  },
  {
   "cell_type": "code",
   "execution_count": null,
   "id": "06ddcd45",
   "metadata": {},
   "outputs": [],
   "source": []
  }
 ],
 "metadata": {
  "kernelspec": {
   "display_name": "Python 3 (ipykernel)",
   "language": "python",
   "name": "python3"
  },
  "language_info": {
   "codemirror_mode": {
    "name": "ipython",
    "version": 3
   },
   "file_extension": ".py",
   "mimetype": "text/x-python",
   "name": "python",
   "nbconvert_exporter": "python",
   "pygments_lexer": "ipython3",
   "version": "3.11.4"
  }
 },
 "nbformat": 4,
 "nbformat_minor": 5
}
