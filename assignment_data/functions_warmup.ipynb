{
 "cells": [
  {
   "attachments": {},
   "cell_type": "markdown",
   "metadata": {},
   "source": [
    "Following activities to be completed for the warmup\n",
    "\n",
    "Target time : 30 min"
   ]
  },
  {
   "attachments": {},
   "cell_type": "markdown",
   "metadata": {},
   "source": [
    "1) Define a only_print that prints a fixed string \"Hello There\"\n",
    "\n",
    "2) Define a math_solver that takes 3 arguments, and use them in the equation 5x^3 - 7y^2 + 8z -25 and return the value\n",
    "\n",
    "3) List out the methods of int type variable and define int_methods that uses the int type methods inside the function. (Each warmup, the methods explored has to be different)\n",
    "\n",
    "4) List out the methods of str type variable and define str_methods that uses the str type methods inside the function.  (Each warmup, the methods explored has to be different)\n",
    "\n",
    "5) Define repeat_me, that takes in a string and integer and prints out the string if the integer is above 50, else print 'not enough power' once and return\n",
    "\n",
    "6) Define word_play that takes three words as arguments \n",
    "and return only those words that have length greater than 5 chars. Call the word_play function with tuple ('age', 'ultranus', 'mischief') and unpack it\n",
    "\n",
    "7) Define many_args with *tupleargs as argument which prints the content of argument, only if there are 10 or more args\n",
    "\n",
    "8) Re-define the word_play function and include *args in arguments, then call it with more args, and try to print the additional args sent \n",
    "\n",
    "9) Create a list called dept and fill it with 5 departments. Print this list using *list syntax.\n",
    "\n",
    "10) Create a dictionary called org and fill it with 5 departments, and each dept employee strength.  \n",
    "\n"
   ]
  },
  {
   "cell_type": "code",
   "execution_count": 39,
   "metadata": {},
   "outputs": [],
   "source": [
    "def repeat_me(abc,x):\n",
    "    if x > 50:\n",
    "        print(\"abc\")\n",
    "    else:\n",
    "        print(\"Not enough power\")"
   ]
  },
  {
   "cell_type": "code",
   "execution_count": 3,
   "metadata": {},
   "outputs": [
    {
     "name": "stdout",
     "output_type": "stream",
     "text": [
      "Hello There\n"
     ]
    }
   ],
   "source": [
    "def only_print():\n",
    "    print(\"Hello There\")\n",
    "only_print()"
   ]
  },
  {
   "cell_type": "code",
   "execution_count": 5,
   "metadata": {},
   "outputs": [
    {
     "data": {
      "text/plain": [
       "3"
      ]
     },
     "execution_count": 5,
     "metadata": {},
     "output_type": "execute_result"
    }
   ],
   "source": [
    "def math_solver(x,y,z):\n",
    "    return 5*(x**3)-7*(y**2)+8*z-25\n",
    "math_solver(2,2,2)"
   ]
  },
  {
   "cell_type": "code",
   "execution_count": null,
   "metadata": {},
   "outputs": [],
   "source": [
    "dir(int)\n",
    " 'as_integer_ratio',\n",
    " 'bit_count',\n",
    " 'bit_length',\n",
    " 'conjugate',\n",
    " 'denominator',\n",
    " 'from_bytes',\n",
    " 'imag',\n",
    " 'numerator',\n",
    " 'real',\n",
    " 'to_bytes'"
   ]
  },
  {
   "cell_type": "code",
   "execution_count": 36,
   "metadata": {},
   "outputs": [],
   "source": [
    "def int_method(x):\n",
    "    print(x.as_integer_ratio())\n",
    "    # print(x.bit_count())\n",
    "    # print(x.bit_length())\n",
    "    # print(x.from_bytes(1))\n",
    "    # print(x.to_bytes())\n",
    "    # print(x.real())\n",
    "    # print(x.imag())\n",
    "    print(x.numerator())\n",
    "    print(x.denominator())\n",
    "    print(x.conjugate())"
   ]
  },
  {
   "cell_type": "code",
   "execution_count": null,
   "metadata": {},
   "outputs": [],
   "source": [
    "int_method(6.1)"
   ]
  },
  {
   "cell_type": "code",
   "execution_count": 38,
   "metadata": {},
   "outputs": [
    {
     "data": {
      "text/plain": [
       "['__add__',\n",
       " '__class__',\n",
       " '__contains__',\n",
       " '__delattr__',\n",
       " '__dir__',\n",
       " '__doc__',\n",
       " '__eq__',\n",
       " '__format__',\n",
       " '__ge__',\n",
       " '__getattribute__',\n",
       " '__getitem__',\n",
       " '__getnewargs__',\n",
       " '__getstate__',\n",
       " '__gt__',\n",
       " '__hash__',\n",
       " '__init__',\n",
       " '__init_subclass__',\n",
       " '__iter__',\n",
       " '__le__',\n",
       " '__len__',\n",
       " '__lt__',\n",
       " '__mod__',\n",
       " '__mul__',\n",
       " '__ne__',\n",
       " '__new__',\n",
       " '__reduce__',\n",
       " '__reduce_ex__',\n",
       " '__repr__',\n",
       " '__rmod__',\n",
       " '__rmul__',\n",
       " '__setattr__',\n",
       " '__sizeof__',\n",
       " '__str__',\n",
       " '__subclasshook__',\n",
       " 'capitalize',\n",
       " 'casefold',\n",
       " 'center',\n",
       " 'count',\n",
       " 'encode',\n",
       " 'endswith',\n",
       " 'expandtabs',\n",
       " 'find',\n",
       " 'format',\n",
       " 'format_map',\n",
       " 'index',\n",
       " 'isalnum',\n",
       " 'isalpha',\n",
       " 'isascii',\n",
       " 'isdecimal',\n",
       " 'isdigit',\n",
       " 'isidentifier',\n",
       " 'islower',\n",
       " 'isnumeric',\n",
       " 'isprintable',\n",
       " 'isspace',\n",
       " 'istitle',\n",
       " 'isupper',\n",
       " 'join',\n",
       " 'ljust',\n",
       " 'lower',\n",
       " 'lstrip',\n",
       " 'maketrans',\n",
       " 'partition',\n",
       " 'removeprefix',\n",
       " 'removesuffix',\n",
       " 'replace',\n",
       " 'rfind',\n",
       " 'rindex',\n",
       " 'rjust',\n",
       " 'rpartition',\n",
       " 'rsplit',\n",
       " 'rstrip',\n",
       " 'split',\n",
       " 'splitlines',\n",
       " 'startswith',\n",
       " 'strip',\n",
       " 'swapcase',\n",
       " 'title',\n",
       " 'translate',\n",
       " 'upper',\n",
       " 'zfill']"
      ]
     },
     "execution_count": 38,
     "metadata": {},
     "output_type": "execute_result"
    }
   ],
   "source": [
    "dir(str)"
   ]
  },
  {
   "cell_type": "code",
   "execution_count": null,
   "metadata": {},
   "outputs": [],
   "source": []
  },
  {
   "cell_type": "code",
   "execution_count": null,
   "metadata": {},
   "outputs": [],
   "source": [
    "# Functions --->"
   ]
  },
  {
   "cell_type": "code",
   "execution_count": null,
   "metadata": {},
   "outputs": [],
   "source": []
  }
 ],
 "metadata": {
  "kernelspec": {
   "display_name": "base",
   "language": "python",
   "name": "python3"
  },
  "language_info": {
   "codemirror_mode": {
    "name": "ipython",
    "version": 3
   },
   "file_extension": ".py",
   "mimetype": "text/x-python",
   "name": "python",
   "nbconvert_exporter": "python",
   "pygments_lexer": "ipython3",
   "version": "3.11.5"
  }
 },
 "nbformat": 4,
 "nbformat_minor": 2
}
