{
 "cells": [
  {
   "cell_type": "markdown",
   "metadata": {},
   "source": [
    "Following activities to be completed for the warmup\n",
    "\n",
    "Target time : 30 min"
   ]
  },
  {
   "cell_type": "markdown",
   "metadata": {},
   "source": [
    "1) Define a only_print that prints a fixed string \"Hello There\"\n",
    "\n",
    "2) Define a math_solver that takes 3 arguments, and use them in the equation 5x^3 - 7y^2 + 8z -25 and return the value\n",
    "\n",
    "3) List out the methods of int type variable and define int_methods that uses the int type methods inside the function. (Each warmup, the methods explored has to be different)\n",
    "\n",
    "4) List out the methods of str type variable and define str_methods that uses the str type methods inside the function.  (Each warmup, the methods explored has to be different)\n",
    "\n",
    "5) Define repeat_me, that takes in a string and integer and prints out the string if the integer is above 50, else print 'not enough power' once and return\n",
    "\n",
    "6) Define word_play that takes three words as arguments \n",
    "and return only those words that have length greater than 5 chars. Call the word_play function with tuple ('age', 'ultranus', 'mischief') and unpack it\n",
    "\n",
    "7) Define many_args with *tupleargs as argument which prints the content of argument, only if there are 10 or more args\n",
    "\n",
    "8) Re-define the word_play function and include *args in arguments, then call it with more args, and try to print the additional args sent \n",
    "\n",
    "9) Create a list called dept and fill it with 5 departments. Print this list using *list syntax.\n",
    "\n",
    "10) Create a dictionary called org and fill it with 5 departments, and each dept employee strength.  \n",
    "\n"
   ]
  },
  {
   "cell_type": "code",
   "execution_count": null,
   "metadata": {
    "vscode": {
     "languageId": "plaintext"
    }
   },
   "outputs": [],
   "source": []
  },
  {
   "cell_type": "code",
   "execution_count": null,
   "metadata": {
    "vscode": {
     "languageId": "plaintext"
    }
   },
   "outputs": [],
   "source": []
  }
 ],
 "metadata": {
  "language_info": {
   "name": "python"
  }
 },
 "nbformat": 4,
 "nbformat_minor": 2
}
