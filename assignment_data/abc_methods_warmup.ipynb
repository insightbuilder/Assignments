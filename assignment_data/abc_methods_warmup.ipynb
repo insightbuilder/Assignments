{
 "cells": [
  {
   "cell_type": "code",
   "execution_count": 2,
   "metadata": {},
   "outputs": [],
   "source": [
    "# contents of the warmup: \n",
    "\n",
    "# Abstract base classes\n",
    "# static methods \n",
    "# class methods\n",
    "# abstract methods"
   ]
  },
  {
   "cell_type": "code",
   "execution_count": null,
   "metadata": {},
   "outputs": [],
   "source": [
    "# For warmup exercise\n",
    "# 1 Define a New ABC Class with name Peripherals\n",
    "# 1a Define atleast 2 abstract methods, 1 staticmethod and 1 classmethod \n",
    "# 1b Think about how the methods can be tested\n",
    "# 2 Define Printer Class which inherits Peripherals\n",
    "# 2a Define the necessary methods and test them"
   ]
  },
  {
   "cell_type": "code",
   "execution_count": 3,
   "metadata": {},
   "outputs": [],
   "source": [
    "# ABC are blue print for sub-classes\n",
    "# classes are blue print for the instances\n",
    "from abc import ABC, abstractmethod\n",
    "\n",
    "# write a class Item, that needs to have get_qty, get_cost and get_total method\n",
    "class Item(ABC):\n",
    "    @abstractmethod\n",
    "    def get_qty(self):\n",
    "        pass\n",
    "\n",
    "    @abstractmethod\n",
    "    def get_cost(self):\n",
    "        pass\n",
    "    \n",
    "    @abstractmethod\n",
    "    def get_total(self):\n",
    "        pass"
   ]
  },
  {
   "cell_type": "code",
   "execution_count": 4,
   "metadata": {},
   "outputs": [],
   "source": [
    "class Table(Item):\n",
    "    def __init__(self, height, weight, cost, qty) -> None:\n",
    "        self.height = height \n",
    "        self.weight = weight\n",
    "        self.cost = cost\n",
    "        self.qty = qty"
   ]
  },
  {
   "cell_type": "code",
   "execution_count": 5,
   "metadata": {},
   "outputs": [
    {
     "ename": "TypeError",
     "evalue": "Can't instantiate abstract class Table with abstract methods get_cost, get_qty, get_total",
     "output_type": "error",
     "traceback": [
      "\u001b[1;31m---------------------------------------------------------------------------\u001b[0m",
      "\u001b[1;31mTypeError\u001b[0m                                 Traceback (most recent call last)",
      "\u001b[1;32md:\\gitFolders\\Assignments\\assignment_data\\abc_methods_warmup.ipynb Cell 4\u001b[0m line \u001b[0;36m1\n\u001b[1;32m----> <a href='vscode-notebook-cell:/d%3A/gitFolders/Assignments/assignment_data/abc_methods_warmup.ipynb#W3sZmlsZQ%3D%3D?line=0'>1</a>\u001b[0m t1 \u001b[39m=\u001b[39m Table(height\u001b[39m=\u001b[39;49m\u001b[39m5\u001b[39;49m, weight\u001b[39m=\u001b[39;49m\u001b[39m7\u001b[39;49m, cost\u001b[39m=\u001b[39;49m\u001b[39m75\u001b[39;49m, qty\u001b[39m=\u001b[39;49m\u001b[39m6\u001b[39;49m)\n",
      "\u001b[1;31mTypeError\u001b[0m: Can't instantiate abstract class Table with abstract methods get_cost, get_qty, get_total"
     ]
    }
   ],
   "source": [
    "t1 = Table(height=5, weight=7, cost=75, qty=6)"
   ]
  },
  {
   "cell_type": "code",
   "execution_count": 19,
   "metadata": {},
   "outputs": [],
   "source": [
    "class Table(Item):\n",
    "    def __init__(self, height, weight, cost, qty) -> None:\n",
    "        self.height = height \n",
    "        self.weight = weight\n",
    "        self.cost = cost\n",
    "        self.qty = qty\n",
    "\n",
    "    def get_qty(self):\n",
    "        return self.qty\n",
    "\n",
    "    def get_total(self):\n",
    "        return self.qty * self.cost\n",
    "\n",
    "    def get_cost(self):\n",
    "        return self.cost\n",
    "    \n",
    "    def __repr__(self) -> str:\n",
    "        return f'{self.__class__.__name__}'\n",
    "\n",
    "    @classmethod\n",
    "    def from_dict(cls, new_dict):\n",
    "        return cls(**new_dict)\n",
    "\n",
    "    @staticmethod\n",
    "    def add_qty(table_obj, qty):\n",
    "        table_obj.qty += qty"
   ]
  },
  {
   "cell_type": "code",
   "execution_count": 22,
   "metadata": {},
   "outputs": [],
   "source": [
    "t1 = Table(height=5, weight=7, cost=75, qty=6)"
   ]
  },
  {
   "cell_type": "code",
   "execution_count": 9,
   "metadata": {},
   "outputs": [
    {
     "data": {
      "text/plain": [
       "{'height': 5, 'weight': 7, 'cost': 75, 'qty': 6}"
      ]
     },
     "execution_count": 9,
     "metadata": {},
     "output_type": "execute_result"
    }
   ],
   "source": [
    "tbl_dict1 = dict(height=5, weight=7, cost=75, qty=6)\n",
    "tbl_dict1"
   ]
  },
  {
   "cell_type": "code",
   "execution_count": 18,
   "metadata": {},
   "outputs": [
    {
     "data": {
      "text/plain": [
       "Table"
      ]
     },
     "execution_count": 18,
     "metadata": {},
     "output_type": "execute_result"
    }
   ],
   "source": [
    "t2 = Table.from_dict(tbl_dict1)\n",
    "t2"
   ]
  },
  {
   "cell_type": "code",
   "execution_count": 23,
   "metadata": {},
   "outputs": [
    {
     "data": {
      "text/plain": [
       "6"
      ]
     },
     "execution_count": 23,
     "metadata": {},
     "output_type": "execute_result"
    }
   ],
   "source": [
    "t1.get_qty()"
   ]
  },
  {
   "cell_type": "code",
   "execution_count": 24,
   "metadata": {},
   "outputs": [
    {
     "data": {
      "text/plain": [
       "62"
      ]
     },
     "execution_count": 24,
     "metadata": {},
     "output_type": "execute_result"
    }
   ],
   "source": [
    "Table.add_qty(table_obj=t1, qty=56)\n",
    "t1.get_qty()"
   ]
  }
 ],
 "metadata": {
  "kernelspec": {
   "display_name": "Python 3",
   "language": "python",
   "name": "python3"
  },
  "language_info": {
   "codemirror_mode": {
    "name": "ipython",
    "version": 3
   },
   "file_extension": ".py",
   "mimetype": "text/x-python",
   "name": "python",
   "nbconvert_exporter": "python",
   "pygments_lexer": "ipython3",
   "version": "3.11.4"
  }
 },
 "nbformat": 4,
 "nbformat_minor": 2
}
