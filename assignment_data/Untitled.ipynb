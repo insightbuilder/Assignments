{
 "cells": [
  {
   "cell_type": "code",
   "execution_count": 4,
   "id": "54a74f48",
   "metadata": {},
   "outputs": [
    {
     "name": "stdout",
     "output_type": "stream",
     "text": [
      "What is your Age?32\n",
      "What age do you want to retire?55\n",
      "You have 23 years until you retire. its 2024, you can retire in 2079\n"
     ]
    }
   ],
   "source": [
    "Age = input(\"What is your Age? \")\n",
    "Ret_Age = input(\"What age do you want to retire? \")\n",
    "\n",
    "print(f\"You have {int(Ret_Age) - int(Age)} years until you retire. its 2024, you can retire in {2024+int(Ret_Age)}\")"
   ]
  },
  {
   "cell_type": "code",
   "execution_count": 5,
   "id": "bfae3bcb",
   "metadata": {},
   "outputs": [
    {
     "ename": "ValueError",
     "evalue": "invalid literal for int() with base 10: 'fmvo'",
     "output_type": "error",
     "traceback": [
      "\u001b[0;31m---------------------------------------------------------------------------\u001b[0m",
      "\u001b[0;31mValueError\u001b[0m                                Traceback (most recent call last)",
      "Cell \u001b[0;32mIn[5], line 1\u001b[0m\n\u001b[0;32m----> 1\u001b[0m \u001b[38;5;28mint\u001b[39m(\u001b[38;5;124m\"\u001b[39m\u001b[38;5;124mfmvo\u001b[39m\u001b[38;5;124m\"\u001b[39m)\n",
      "\u001b[0;31mValueError\u001b[0m: invalid literal for int() with base 10: 'fmvo'"
     ]
    }
   ],
   "source": [
    "int(\"fmvo\")"
   ]
  },
  {
   "cell_type": "code",
   "execution_count": null,
   "id": "df494d4b",
   "metadata": {},
   "outputs": [],
   "source": []
  }
 ],
 "metadata": {
  "kernelspec": {
   "display_name": "Python 3 (ipykernel)",
   "language": "python",
   "name": "python3"
  },
  "language_info": {
   "codemirror_mode": {
    "name": "ipython",
    "version": 3
   },
   "file_extension": ".py",
   "mimetype": "text/x-python",
   "name": "python",
   "nbconvert_exporter": "python",
   "pygments_lexer": "ipython3",
   "version": "3.11.5"
  }
 },
 "nbformat": 4,
 "nbformat_minor": 5
}
