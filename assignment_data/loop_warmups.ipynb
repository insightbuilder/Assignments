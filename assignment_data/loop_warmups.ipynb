{
 "cells": [
  {
   "cell_type": "code",
   "execution_count": null,
   "metadata": {},
   "outputs": [],
   "source": [
    "# loops and logic\n",
    "\n",
    "# enumerate a list\n",
    "numbers = [1, 2, 5, 6, 7, 10]\n",
    "\n",
    "for num in numbers:\n",
    "    print(num)\n",
    "    if num > 2:\n",
    "        break"
   ]
  },
  {
   "cell_type": "code",
   "execution_count": null,
   "metadata": {},
   "outputs": [],
   "source": [
    "# enumerate a list with while\n",
    "numbers = [1, 2, 5, 6, 7, 10]\n",
    "x = 0\n",
    "\n",
    "while x < len(numbers):\n",
    "    print(numbers[x])\n",
    "    x += 1"
   ]
  },
  {
   "cell_type": "code",
   "execution_count": null,
   "metadata": {},
   "outputs": [],
   "source": [
    "# enumerate a list with while in reverse\n",
    "numbers = [1, 2, 5, 6, 7, 10]\n",
    "x = len(numbers) - 1\n",
    "\n",
    "while x > 0:\n",
    "    x -= 1\n",
    "    # < where you place the index is important\n",
    "    print(numbers[x])"
   ]
  },
  {
   "cell_type": "code",
   "execution_count": null,
   "metadata": {},
   "outputs": [],
   "source": [
    "# Use the range \n",
    "for i in range(5):\n",
    "    print(i)"
   ]
  },
  {
   "cell_type": "code",
   "execution_count": null,
   "metadata": {},
   "outputs": [],
   "source": [
    "# Use the range in reverse \n",
    "for i in range(5, 0, -1):\n",
    "    print(i)"
   ]
  },
  {
   "cell_type": "code",
   "execution_count": null,
   "metadata": {},
   "outputs": [],
   "source": [
    "# create range with while\n",
    "x = 0\n",
    "print(x)  # we can still print outside while also\n",
    "while x < 5:\n",
    "    x += 1\n",
    "    print(x)"
   ]
  },
  {
   "cell_type": "code",
   "execution_count": null,
   "metadata": {},
   "outputs": [],
   "source": [
    "# create reverse range with while\n",
    "x = 5\n",
    "while x > 0:\n",
    "    print(x)\n",
    "    x -= 1"
   ]
  },
  {
   "cell_type": "code",
   "execution_count": null,
   "metadata": {},
   "outputs": [],
   "source": [
    "# enumerate dictionaries\n",
    "person = {\"name\":\"John\",\n",
    "          \"age\":67,\n",
    "          \"city\":\"\"}\n",
    "\n",
    "for k, v in person.items():\n",
    "    print(f\"{k} : {v}\")"
   ]
  },
  {
   "cell_type": "code",
   "execution_count": null,
   "metadata": {},
   "outputs": [],
   "source": [
    "# enumerate chars in string\n",
    "char = 'Astronome'\n",
    "for i, c in enumerate(char):\n",
    "    print(c)\n",
    "    if i > 1:\n",
    "        break"
   ]
  },
  {
   "cell_type": "code",
   "execution_count": null,
   "metadata": {},
   "outputs": [],
   "source": [
    "# Nested loop\n",
    "n_loop = [[5, 6, 7], [2, 3, 8], [9, 5, 6]]\n",
    "for x in n_loop:\n",
    "    [print(y) for y in x]"
   ]
  },
  {
   "cell_type": "code",
   "execution_count": null,
   "metadata": {},
   "outputs": [],
   "source": [
    "# strings to list\n",
    "test_str = \"15, 68, 57, 23\".split(',')\n",
    "test_str"
   ]
  },
  {
   "cell_type": "code",
   "execution_count": null,
   "metadata": {},
   "outputs": [],
   "source": [
    "# strings to nested list\n",
    "test_nest = \"\"\"15, 26, 87, 98\n",
    "79, 86, 12, 57\n",
    "90, 62, 32, 12\"\"\"\n",
    "\n",
    "fina = []\n",
    "for line in test_nest.split('\\n'):\n",
    "    fina.append(line.split(','))\n",
    "\n",
    "fina"
   ]
  },
  {
   "cell_type": "code",
   "execution_count": null,
   "metadata": {},
   "outputs": [],
   "source": [
    "# strings to nested list\n",
    "test_nest = \"\"\"15, 26, 87, 98\n",
    "79, 86, 12, 57\n",
    "90, 62, 32, 12\"\"\"\n",
    "\n",
    "fina = []\n",
    "for line in test_nest.split('\\n'):\n",
    "    line = line.replace(\" \",\"\")\n",
    "    fina.append(line.split(','))\n",
    "\n",
    "fina"
   ]
  },
  {
   "cell_type": "code",
   "execution_count": null,
   "metadata": {},
   "outputs": [],
   "source": [
    "# accessing the data in the matrix\n",
    "fina[0][1]"
   ]
  },
  {
   "cell_type": "code",
   "execution_count": null,
   "metadata": {},
   "outputs": [],
   "source": [
    "# accessing row in nested list\n",
    "fina[0][:]"
   ]
  },
  {
   "cell_type": "code",
   "execution_count": null,
   "metadata": {},
   "outputs": [],
   "source": [
    "# extracting only columns in list\n",
    "\n",
    "[row[0] for row in fina]"
   ]
  },
  {
   "cell_type": "code",
   "execution_count": null,
   "metadata": {},
   "outputs": [],
   "source": [
    "# accessing col in nested list\n",
    "for row in fina:\n",
    "    print(row[0])"
   ]
  }
 ],
 "metadata": {
  "kernelspec": {
   "display_name": "Python 3",
   "language": "python",
   "name": "python3"
  },
  "language_info": {
   "codemirror_mode": {
    "name": "ipython",
    "version": 3
   },
   "file_extension": ".py",
   "mimetype": "text/x-python",
   "name": "python",
   "nbconvert_exporter": "python",
   "pygments_lexer": "ipython3",
   "version": "3.11.4"
  }
 },
 "nbformat": 4,
 "nbformat_minor": 2
}
