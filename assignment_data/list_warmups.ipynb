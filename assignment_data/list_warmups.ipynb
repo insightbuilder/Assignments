{
 "cells": [
  {
   "cell_type": "code",
   "execution_count": null,
   "metadata": {},
   "outputs": [],
   "source": [
    "# logging practice\n",
    "\n",
    "# Do forward movement on the list\n",
    "\n",
    "# Do the backward movement on the list\n",
    "\n",
    "# Use while loop to traverse the list\n",
    "\n",
    "# Make both the direction elements to be printed, one after the other using single pointer\n",
    "\n",
    "# Two Pointer option, used especially when a second set needs to be extracted.\n",
    "# Two pointers, where the 2nd pointer collects the rest of elements\n",
    "\n",
    "# second pointer has to move the rest of the list with for loop\n",
    "    # second pointer moves from the left of the list\n",
    "    # second pointer moves from the right of the list\n",
    "# second pointer has to move the rest of the list using while loop \n",
    "\n",
    "# print elements to the right and left of the current, excluding it\n",
    "\n",
    "# print elements to the right and left of the current, including it\n",
    "### Above completed..\n",
    "# Use the dictionary to store the elements in reverse and forward\n",
    "\n",
    "# Use the dictionary to store the complements \n",
    "\n",
    "# Implement the sliding window on list, and extract moving lists with pop and append\n",
    "\n",
    "# shifting to the next pair \n",
    "\n",
    "# making the right point to move ahead, and then pull the left\n",
    "# to a particular distance or to right's location \n",
    "\n",
    "# Practice to use continue and break\n",
    "\n",
    "# counter technique that enumerates over elems of the array and \n",
    "# checks if meets a condition, makes it 1. After all elems \n",
    "# enumerated it sum"
   ]
  }
 ],
 "metadata": {
  "language_info": {
   "name": "python"
  }
 },
 "nbformat": 4,
 "nbformat_minor": 2
}
