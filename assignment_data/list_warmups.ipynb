{
 "cells": [
  {
   "cell_type": "code",
   "execution_count": null,
   "metadata": {},
   "outputs": [],
   "source": [
    "# methods and function application of list\n",
    "\n",
    "# Create a list 5 to 8 numbers describing sales, and Get the sum, average, sd and var \n",
    "# (answer in below cell.. open it after trying out)\n",
    "\n",
    "# get the max and min of the list\n",
    "\n",
    "# get the count of a particular element in a list, which can contain both \n",
    "# int and str \n",
    "\n",
    "# Sort a list of numbers using python inbuilt function, observe the order\n",
    "# of sorting \n",
    "\n",
    "# Reverse the sorting order using the inbuilt function \n",
    "\n",
    "# Extract the unique vals for a list\n",
    "\n",
    "# create a list of ints and strings, and check if an element is in the list \n",
    "\n",
    "# merge two list with using append and extend, observe the difference\n",
    "\n",
    "# Eject the first , 3rd and last element in a list of 8 elements. Store \n",
    "# these elements in seperate var like t1, t2, t3\n",
    "\n",
    "# re-insert the ejected elements in the same location from where they came"
   ]
  },
  {
   "cell_type": "code",
   "execution_count": 3,
   "metadata": {},
   "outputs": [
    {
     "data": {
      "text/plain": [
       "336.84462293467"
      ]
     },
     "execution_count": 3,
     "metadata": {},
     "output_type": "execute_result"
    }
   ],
   "source": [
    "# std calculation\n",
    "\n",
    "testlist = [757, 26, 862, 321, 512]\n",
    "addsum = sum(testlist)\n",
    "avg = sum(testlist) / len(testlist)\n",
    "avg_diff = [(x - avg)**2 for x in testlist]\n",
    "avg_diff\n",
    "varianance = sum(avg_diff) / (len(testlist) - 1)\n",
    "sd = varianance ** 0.5\n",
    "sd"
   ]
  },
  {
   "cell_type": "code",
   "execution_count": 26,
   "metadata": {},
   "outputs": [
    {
     "data": {
      "text/plain": [
       "26"
      ]
     },
     "execution_count": 26,
     "metadata": {},
     "output_type": "execute_result"
    }
   ],
   "source": [
    "# pop exercise\n",
    "t1 = testlist.pop(1)\n",
    "t1"
   ]
  },
  {
   "cell_type": "code",
   "execution_count": 21,
   "metadata": {},
   "outputs": [
    {
     "data": {
      "text/plain": [
       "5"
      ]
     },
     "execution_count": 21,
     "metadata": {},
     "output_type": "execute_result"
    }
   ],
   "source": [
    "# pop exercise\n",
    "t2 = testlist.pop(3)\n",
    "t2"
   ]
  },
  {
   "cell_type": "code",
   "execution_count": 24,
   "metadata": {},
   "outputs": [
    {
     "data": {
      "text/plain": [
       "[757, 26, 862, 321, -5, 512, 62, 5, 1]"
      ]
     },
     "execution_count": 24,
     "metadata": {},
     "output_type": "execute_result"
    }
   ],
   "source": [
    "# insert exercise\n",
    "testlist.insert(1,t1)\n",
    "testlist"
   ]
  },
  {
   "cell_type": "code",
   "execution_count": 25,
   "metadata": {},
   "outputs": [
    {
     "data": {
      "text/plain": [
       "[757, 26, 862, 321, 5, -5, 512, 62, 5, 1]"
      ]
     },
     "execution_count": 25,
     "metadata": {},
     "output_type": "execute_result"
    }
   ],
   "source": [
    "# insert exercise\n",
    "testlist.insert(4,t2)\n",
    "testlist"
   ]
  },
  {
   "cell_type": "code",
   "execution_count": 4,
   "metadata": {},
   "outputs": [
    {
     "data": {
      "text/plain": [
       "[26, 321, 512, 757, 862]"
      ]
     },
     "execution_count": 4,
     "metadata": {},
     "output_type": "execute_result"
    }
   ],
   "source": [
    "# sort exercies\n",
    "testort = sorted(testlist)\n",
    "testort"
   ]
  },
  {
   "cell_type": "code",
   "execution_count": 7,
   "metadata": {},
   "outputs": [
    {
     "data": {
      "text/plain": [
       "[862, 757, 512, 321, 26]"
      ]
     },
     "execution_count": 7,
     "metadata": {},
     "output_type": "execute_result"
    }
   ],
   "source": [
    "# sort exercise\n",
    "testort = sorted(testlist, reverse=True)\n",
    "testort"
   ]
  },
  {
   "cell_type": "code",
   "execution_count": 27,
   "metadata": {},
   "outputs": [
    {
     "data": {
      "text/plain": [
       "[1, 2, 3, 5, 6, 7, 8, 9]"
      ]
     },
     "execution_count": 27,
     "metadata": {},
     "output_type": "execute_result"
    }
   ],
   "source": [
    "# unique list exercises\n",
    "qjlist = [5, 2, 3, 1, 5, 2, 6, 7, 8, 9]\n",
    "qjset = set(qjlist)\n",
    "setlist = list(qjset)\n",
    "setlist"
   ]
  },
  {
   "cell_type": "code",
   "execution_count": null,
   "metadata": {},
   "outputs": [],
   "source": [
    "# logging practice\n",
    "\n",
    "# Do forward movement on the list\n",
    "\n",
    "# Do the backward movement on the list\n",
    "\n",
    "# Use while loop to traverse the list\n",
    "\n",
    "# Make both the direction elements to be printed, one after the other using single pointer\n",
    "\n",
    "# Two Pointer option, used especially when a second set needs to be extracted.\n",
    "# Two pointers, where the 2nd pointer collects the rest of elements\n",
    "\n",
    "# second pointer has to move the rest of the list with for loop\n",
    "    # second pointer moves from the left of the list\n",
    "    # second pointer moves from the right of the list\n",
    "# second pointer has to move the rest of the list using while loop \n",
    "\n",
    "# print elements to the right and left of the current, excluding it\n",
    "\n",
    "# print elements to the right and left of the current, including it\n",
    "### Above completed..\n",
    "# Use the dictionary to store the elements in reverse and forward\n",
    "\n",
    "# Use the dictionary to store the complements \n",
    "\n",
    "# Implement the sliding window on list, and extract moving lists with pop and append\n",
    "\n",
    "# shifting to the next pair \n",
    "\n",
    "# making the right point to move ahead, and then pull the left\n",
    "# to a particular distance or to right's location \n",
    "\n",
    "# Practice to use continue and break\n",
    "\n",
    "# counter technique that enumerates over elems of the array and \n",
    "# checks if meets a condition, makes it 1. After all elems \n",
    "# enumerated it sum"
   ]
  }
 ],
 "metadata": {
  "kernelspec": {
   "display_name": "Python 3",
   "language": "python",
   "name": "python3"
  },
  "language_info": {
   "codemirror_mode": {
    "name": "ipython",
    "version": 3
   },
   "file_extension": ".py",
   "mimetype": "text/x-python",
   "name": "python",
   "nbconvert_exporter": "python",
   "pygments_lexer": "ipython3",
   "version": "3.11.4"
  }
 },
 "nbformat": 4,
 "nbformat_minor": 2
}
