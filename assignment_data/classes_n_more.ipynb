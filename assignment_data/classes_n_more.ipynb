{
 "cells": [
  {
   "cell_type": "markdown",
   "metadata": {},
   "source": [
    "Discuss on abstraction:\n",
    "    - Abstraction does some activity that is not visible to the controller\n",
    "    Build a class that takes a csv file, and implements the following methods\n",
    "\n",
    "    - number of rows\n",
    "\n",
    "    - number of cols \n",
    "\n",
    "    - column names\n",
    "\n",
    "    - unique values in the column\n",
    "\n",
    "    - returns a particular row using inst[x] syntax\n",
    "\n",
    "\n",
    "Some more dunders:\n",
    "\n",
    "    - __repr__ method\n",
    "    \n",
    "    - __get_item__ method\n",
    "    \n",
    "    - __name__ method\n",
    "    \n",
    "    - __len__ method\n",
    "\n",
    "Three ways of doing activity with an instance.\n",
    "    - Instance, Abstract and StaticMethods\n",
    "\n",
    "Writing DataClasses\n",
    "\n",
    "Abstract Base Classes & abstractmethods"
   ]
  },
  {
   "cell_type": "code",
   "execution_count": 1,
   "metadata": {},
   "outputs": [],
   "source": [
    "import json\n",
    "import pickle\n",
    "\n",
    "class Person:\n",
    "    def __init__(self, name, age, heart_rates):\n",
    "        self.name = name\n",
    "        self.age = age\n",
    "        self.heart_rates = heart_rates\n",
    "    \n",
    "    def __repr__(self) -> str:\n",
    "        return f\"{type(self).__name__} : {self.name} : {self.age}\"\n",
    "\n",
    "    def __getitem__(self, idx):\n",
    "        return f\"Heart Rate at {idx} is {self.heart_rates[idx]}\"\n",
    "\n",
    "    def __len__(self):\n",
    "        return len(self.heart_rates)\n",
    "\n",
    "class SerializerMixin:\n",
    "    def to_json(self):\n",
    "        return json.dumps(self.__dict__)\n",
    "\n",
    "    def to_pickle(self):\n",
    "        return pickle.dumps(self.__dict__)\n",
    "\n",
    "class Employee(SerializerMixin, Person):\n",
    "    \"\"\"Due to MRO,placing your mixin classes before the base classes on\n",
    "      the list of parents is often necessary.\"\"\"\n",
    "    def __init__(self, name, age, salary):\n",
    "        super().__init__(name, age)\n",
    "        self.salary = salary"
   ]
  },
  {
   "cell_type": "code",
   "execution_count": 2,
   "metadata": {},
   "outputs": [],
   "source": [
    "t_sub = Person(name='test_sub',\n",
    "               age=62,\n",
    "               heart_rates=[62, 72, 75, 85, 65, 58, 71, 75, 58])"
   ]
  },
  {
   "cell_type": "code",
   "execution_count": 3,
   "metadata": {},
   "outputs": [
    {
     "data": {
      "text/plain": [
       "9"
      ]
     },
     "execution_count": 3,
     "metadata": {},
     "output_type": "execute_result"
    }
   ],
   "source": [
    "len(t_sub)"
   ]
  },
  {
   "cell_type": "code",
   "execution_count": 5,
   "metadata": {},
   "outputs": [
    {
     "data": {
      "text/plain": [
       "'Heart Rate at 2 is 75'"
      ]
     },
     "execution_count": 5,
     "metadata": {},
     "output_type": "execute_result"
    }
   ],
   "source": [
    "t_sub[2]"
   ]
  },
  {
   "cell_type": "code",
   "execution_count": null,
   "metadata": {},
   "outputs": [],
   "source": [
    "# create industrial robot that has body and arm\n",
    "\n",
    "# incorporate rotate_body_left, rotate_body_right, move_arm_up and move_arm_down\n",
    "\n",
    "# once change signal is recieved by the respective instance, there has to be \n",
    "# text output stating the activity\n",
    "\n",
    "# The control is sent to the arm and body from the industrial robot instance only"
   ]
  },
  {
   "cell_type": "code",
   "execution_count": null,
   "metadata": {},
   "outputs": [],
   "source": [
    "class IndustrialRobot:\n",
    "    def __init__(self):\n",
    "        self.body = Body()\n",
    "        self.arm = Arm()\n",
    "\n",
    "    def rotate_body_left(self, degrees=10):\n",
    "        self.body.rotate_left(degrees)\n",
    "\n",
    "    def rotate_body_right(self, degrees=10):\n",
    "        self.body.rotate_right(degrees)\n",
    "\n",
    "    def move_arm_up(self, distance=10):\n",
    "        self.arm.move_up(distance)\n",
    "\n",
    "    def move_arm_down(self, distance=10):\n",
    "        self.arm.move_down(distance)\n",
    "\n",
    "    def weld(self):\n",
    "        self.arm.weld()\n",
    "\n",
    "class Body:\n",
    "    def __init__(self):\n",
    "        self.rotation = 0\n",
    "\n",
    "    def rotate_left(self, degrees=10):\n",
    "        self.rotation -= degrees\n",
    "        print(f\"Rotating body {degrees} degrees to the left...\")\n",
    "\n",
    "    def rotate_right(self, degrees=10):\n",
    "        self.rotation += degrees\n",
    "        print(f\"Rotating body {degrees} degrees to the right...\")\n",
    "\n",
    "class Arm:\n",
    "    def __init__(self):\n",
    "        self.position = 0\n",
    "\n",
    "    def move_up(self, distance=1):\n",
    "        self.position += 1\n",
    "        print(f\"Moving arm {distance} cm up...\")\n",
    "\n",
    "    def move_down(self, distance=1):\n",
    "        self.position -= 1\n",
    "        print(f\"Moving arm {distance} cm down...\")\n",
    "\n",
    "    def weld(self):\n",
    "        print(\"Welding...\")"
   ]
  },
  {
   "cell_type": "markdown",
   "metadata": {},
   "source": [
    "If you want to define the specific set of public methods and attributes that all the classes in the hierarchy must implement. In Python, you can do this using what’s known as an abstract base class (ABC).\n",
    "\n",
    "**You can’t instantiate ABCs directly.** You must subclass them. In a sense, ABCs work as templates for other classes to inherit from."
   ]
  },
  {
   "cell_type": "code",
   "execution_count": null,
   "metadata": {},
   "outputs": [],
   "source": [
    "from abc import ABC, abstractmethod\n",
    "from math import pi\n",
    "\n",
    "class Shape(ABC):\n",
    "    @abstractmethod\n",
    "    def get_area(self):\n",
    "        pass\n",
    "\n",
    "    @abstractmethod\n",
    "    def get_perimeter(self):\n",
    "        pass\n",
    "\n",
    "class Circle(Shape):\n",
    "    def __init__(self, radius):\n",
    "        self.radius = radius\n",
    "\n",
    "    def get_area(self):\n",
    "        return pi * self.radius ** 2"
   ]
  },
  {
   "cell_type": "code",
   "execution_count": null,
   "metadata": {},
   "outputs": [],
   "source": []
  }
 ],
 "metadata": {
  "kernelspec": {
   "display_name": "Python 3",
   "language": "python",
   "name": "python3"
  },
  "language_info": {
   "codemirror_mode": {
    "name": "ipython",
    "version": 3
   },
   "file_extension": ".py",
   "mimetype": "text/x-python",
   "name": "python",
   "nbconvert_exporter": "python",
   "pygments_lexer": "ipython3",
   "version": "3.11.5"
  }
 },
 "nbformat": 4,
 "nbformat_minor": 2
}
