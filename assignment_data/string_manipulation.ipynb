{
 "cells": [
  {
   "cell_type": "markdown",
   "metadata": {},
   "source": [
    "##### Warm up geared towards work with strings and its various methods. \n",
    "\n",
    "Each cell one activity will be written as comment. Fill up the corresponding code in that cell"
   ]
  },
  {
   "cell_type": "code",
   "execution_count": null,
   "metadata": {},
   "outputs": [],
   "source": [
    "# Come up with 5 to 6 variable names that in some ways signifies the strings, string operations"
   ]
  },
  {
   "cell_type": "code",
   "execution_count": null,
   "metadata": {},
   "outputs": [],
   "source": [
    "# Create a single line string with 10 words, assign it to variable str1. Preferably type out the string, can be anything"
   ]
  },
  {
   "cell_type": "code",
   "execution_count": null,
   "metadata": {},
   "outputs": [],
   "source": [
    "# Create a Multi-line string with 30 words and assign it to a variable str2. (Content can be copy pasted)"
   ]
  },
  {
   "cell_type": "code",
   "execution_count": null,
   "metadata": {},
   "outputs": [],
   "source": [
    "# Open a file named 'string_store.txt' and write out the above variable data into the file. Ensure there is space between each datapoint"
   ]
  },
  {
   "cell_type": "code",
   "execution_count": null,
   "metadata": {},
   "outputs": [],
   "source": [
    "# Print the str1 5 times with for-loop, each time the sentence has to be in the new-line. Example show below\n",
    "\"\"\"\n",
    "This is a test\n",
    "This is a test\n",
    "This is a test\n",
    "This is a test\n",
    "This is a test\n",
    "\"\"\"\n"
   ]
  },
  {
   "cell_type": "code",
   "execution_count": 3,
   "metadata": {},
   "outputs": [
    {
     "name": "stdout",
     "output_type": "stream",
     "text": [
      "This is a test\n",
      "This is a test\n",
      "This is a test\n",
      "This is a test\n",
      "This is a test\n",
      "\n"
     ]
    }
   ],
   "source": [
    "# Print the str2 5 times *without* using for-loop. Each time string should be in new-line\n"
   ]
  },
  {
   "cell_type": "code",
   "execution_count": null,
   "metadata": {},
   "outputs": [],
   "source": [
    "# Split the str1 and str2 into words and assign them to individual variables "
   ]
  },
  {
   "cell_type": "code",
   "execution_count": null,
   "metadata": {},
   "outputs": [],
   "source": [
    "# Make every next word in the above list into upper-case, starting with the first word and assign it to new variable\n",
    "# Try with list + for loop, list comprehension, only for-loop and modify data in-place"
   ]
  },
  {
   "cell_type": "code",
   "execution_count": null,
   "metadata": {},
   "outputs": [],
   "source": [
    "# Check if the words in above variables are alphabets, numeric and store the boolean results in individual lists  "
   ]
  },
  {
   "cell_type": "code",
   "execution_count": null,
   "metadata": {},
   "outputs": [],
   "source": [
    "# Join the contents of the new variable created in the above cell into a single string with single space & assign it to new variable"
   ]
  },
  {
   "cell_type": "code",
   "execution_count": null,
   "metadata": {},
   "outputs": [],
   "source": [
    "# Join the contents of the new variable created in the above cell into a single string with two spaces between each words & assign it to new variable"
   ]
  },
  {
   "cell_type": "code",
   "execution_count": null,
   "metadata": {},
   "outputs": [],
   "source": [
    "# Extract all the locations of letter \"f\" in str1 and str2\n",
    "# use for-loop, list-comprehension "
   ]
  },
  {
   "cell_type": "code",
   "execution_count": null,
   "metadata": {},
   "outputs": [],
   "source": [
    "# Replace all the occurences of letter 'e' and 'i' with 'j' and 'p' respectively, and assign the result to new variable"
   ]
  },
  {
   "cell_type": "code",
   "execution_count": null,
   "metadata": {},
   "outputs": [],
   "source": []
  }
 ],
 "metadata": {
  "kernelspec": {
   "display_name": "Python 3",
   "language": "python",
   "name": "python3"
  },
  "language_info": {
   "codemirror_mode": {
    "name": "ipython",
    "version": 3
   },
   "file_extension": ".py",
   "mimetype": "text/x-python",
   "name": "python",
   "nbconvert_exporter": "python",
   "pygments_lexer": "ipython3",
   "version": "3.11.4"
  }
 },
 "nbformat": 4,
 "nbformat_minor": 2
}
