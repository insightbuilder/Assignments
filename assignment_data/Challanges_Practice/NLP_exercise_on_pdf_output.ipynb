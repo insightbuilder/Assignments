{
 "cells": [
  {
   "cell_type": "code",
   "execution_count": 1,
   "metadata": {},
   "outputs": [],
   "source": [
    "from transformers import AutoTokenizer"
   ]
  },
  {
   "cell_type": "code",
   "execution_count": null,
   "metadata": {},
   "outputs": [],
   "source": [
    "# Take in the pdf output as text and filter constraints and save in a file, and then classify 1) sentiments 2) tokens "
   ]
  },
  {
   "cell_type": "code",
   "execution_count": 2,
   "metadata": {},
   "outputs": [
    {
     "name": "stdout",
     "output_type": "stream",
     "text": [
      "Chapter: 1\n",
      "Saying Hello\n",
      "The “Hello, World” program\n"
     ]
    }
   ],
   "source": [
    "filename = 'pdf_output.txt'\n",
    "with open(filename) as f1:\n",
    "    text = f1.read()\n",
    "    print(text[:50])"
   ]
  },
  {
   "cell_type": "code",
   "execution_count": 26,
   "metadata": {},
   "outputs": [
    {
     "name": "stdout",
     "output_type": "stream",
     "text": [
      "61627\n",
      "8881\n",
      "57\n",
      "54\n",
      "38\n",
      "52\n",
      "45\n",
      "55\n"
     ]
    }
   ],
   "source": [
    "print(len(text))\n",
    "print(len(text.split(\" \")))\n",
    "print(len(text.split(\"Chapter:\")))\n",
    "print(len(text.split(\"Constraint\")))\n",
    "print(len(text.split(\"Constraints\")))\n",
    "print(len(text.split(\"Challenge\")))\n",
    "print(len(text.split(\"Challenges\")))\n",
    "print(len(text.split(\"Output\")))\n"
   ]
  },
  {
   "cell_type": "code",
   "execution_count": 20,
   "metadata": {},
   "outputs": [
    {
     "data": {
      "text/plain": [
       "6"
      ]
     },
     "execution_count": 20,
     "metadata": {},
     "output_type": "execute_result"
    }
   ],
   "source": [
    "\"Chapter\".index(\"r\")"
   ]
  },
  {
   "cell_type": "code",
   "execution_count": 27,
   "metadata": {},
   "outputs": [
    {
     "name": "stdout",
     "output_type": "stream",
     "text": [
      " 13\n",
      "Determining Compound Interest\n",
      "Simple interest is something you use only when making a\n",
      "quick guess. Most investments use a compound interest\n",
      "formula, which will be much more accurate. And this formu-\n",
      "la requires you to incorporate exponents into your programs.\n",
      "Write a program to compute the value of an investment\n",
      "compounded over time. The program should ask for the\n",
      "starting amount, the number of years to invest, the interest\n",
      "rate, and the number of periods per year to compound.\n",
      "The formula you’ll use for this is\n",
      "A = P\n",
      "r\n",
      "n\n",
      "nt\n",
      "where\n",
      "•\n",
      "•\n",
      "•\n",
      "•\n",
      "year.\n",
      "•\n",
      "\n",
      "Example Output\n",
      "What is the principal amount? 1500\n",
      "What is the rate? 4.3\n",
      "What is the number of years? 6\n",
      "What is the number of times the interest\n",
      "is compounded per year? 4\n",
      "$1500 invested at 4.3% for 6 years\n",
      "compounded 4 times per year is $1938.84.\n",
      "\n",
      "Constraints\n",
      "• Prompt for the rate as a percentage (like\n",
      "Divide the input by 100 in your program.\n",
      "• Ensure that fractions of a cent are rounded up to the\n",
      "next penny.\n",
      "• Ensure that the output is formatted as money.\n",
      "report erratum  •  discuss\n",
      "\n",
      "\n",
      "\n"
     ]
    }
   ],
   "source": [
    "for i in l1[13:16]:\n",
    "    if \"Challenge\" not in i:\n",
    "        print(i)"
   ]
  },
  {
   "cell_type": "code",
   "execution_count": 36,
   "metadata": {},
   "outputs": [
    {
     "data": {
      "text/plain": [
       "53"
      ]
     },
     "execution_count": 36,
     "metadata": {},
     "output_type": "execute_result"
    }
   ],
   "source": [
    "constraints = []\n",
    "chapters = text.split(\"Chapter:\")\n",
    "for chap in chapters:\n",
    "    if \"Constraint\" in chap:\n",
    "        idx_cons = chap.index(\"Constraint\")\n",
    "        if \"Challenge\" not in chap:\n",
    "            idx_chal = len(chap)\n",
    "        else:\n",
    "            idx_chal = chap.index(\"Challenge\")\n",
    "        # logging.Info(f\"{chap[(idx_cons):(idx_chal)]}\")\n",
    "        constraints.append(chap[(idx_cons):(idx_chal)])\n",
    "        # print(\"===========\")\n",
    "len(constraints)"
   ]
  },
  {
   "cell_type": "code",
   "execution_count": 37,
   "metadata": {},
   "outputs": [
    {
     "data": {
      "text/plain": [
       "['Constraint\\n• Keep the input, string concatenation, and output sepa-\\nrate.\\n\\n',\n",
       " 'Constraints\\n• Be sure the output contains the original string.\\n• Use a single output statement to construct the output.\\n• Use a built-in function of the programming language to\\ndetermine the length of the string.\\n\\n',\n",
       " 'Constraints\\n• Use a single output statement to produce this output,\\nusing appropriate string-escaping techniques for quotes.\\n• If your language supports string interpolation or string\\nsubstitution, don’t use it for this exercise. Use string\\nconcatenation instead.\\n\\n',\n",
       " 'Constraints\\n• Use a single output statement for this program.\\n• If your language supports string interpolation or string\\nsubstitution, use it to build up the output.\\n\\n',\n",
       " 'Constraints\\n• Values coming from users will be strings. Ensure that\\nyou convert these values to numbers before doing the\\nmath.\\n• Keep the inputs and outputs separate from the numerical\\nconversions and other processing.\\n• Generate a single output statement with line breaks in\\nthe appropriate spots.\\n\\n',\n",
       " 'Constraints\\n• Again, be sure to convert the input to numerical data\\nbefore doing any math.\\n• Don’t hard-code the current year into your program.\\nGet it from the system time via your programming lan-\\nguage.\\n\\n',\n",
       " 'Constraints\\n• Keep the calculations separate from the output.\\n• Use a constant to hold the conversion factor.\\n\\n',\n",
       " 'Constraints\\n• Use a constant to hold the conversion rate.\\n• Ensure that you round\\n\\n',\n",
       " 'Constraints\\n• Keep the input, processing, and output parts of your\\nprogram separate. Collect the input, then do the math\\noperations and string building, and then print out the\\noutput.\\n• Be sure you explicitly convert input to numerical data\\nbefore doing any calculations.\\n\\n',\n",
       " 'Constraints\\n• Ensure that fractions of a cent are rounded up to the\\nnext penny.\\n• Use a single output statement.\\n\\n',\n",
       " 'Constraints\\n• Prompt for the rate as a percentage (like\\nDivide the input by 100 in your program.\\n• Ensure that fractions of a cent are rounded up to the\\nnext penny.\\n• Ensure that the output is formatted as money.\\n\\n',\n",
       " 'Constraints\\n• Prompt for the rate as a percentage (like\\nDivide the input by 100 in your program.\\n• Ensure that fractions of a cent are rounded up to the\\nnext penny.\\n• Ensure that the output is formatted as money.\\nreport erratum  •  discuss\\n\\n\\n',\n",
       " 'Constraints\\n• Implement this program using only a simple\\nment—don’t use an\\n• Ensure that all money is rounded up to the nearest cent.\\n• Use a single output statement at the end of the program\\nto display the program results.\\n\\n',\n",
       " 'Constraints\\n• Use an\\n• Make sure the program is case sensitive.\\n\\n',\n",
       " 'Constraints\\n• Use a single output statement.\\n• Use a ternary operator to write this program. If your\\nlanguage doesn’t support a ternary operator, use a reg-\\nular\\nment to display the message.\\n\\n',\n",
       " 'Constraint\\n• Prevent the user from entering non-numeric values.\\n\\n',\n",
       " 'Constraints\\n• Ensure that you allow upper or lowercase values for\\nand\\n• Use as few output statements as possible and avoid\\nrepeating output strings.\\n\\n',\n",
       " 'Constraint\\n• Ensure your program takes only numeric data. Don’t\\nlet the user continue unless the data is valid.\\n\\n',\n",
       " 'Constraints\\n• Ensure that all money is rounded up to the nearest cent.\\n• Use a single output statement at the end of the program\\nto display the program results.\\n\\n',\n",
       " 'Constraints\\n• Use a\\n• Use a single output statement for this program.\\n\\n',\n",
       " 'Constraint\\n• Write the algorithm manually. Don’t use a built-in\\nfunction for finding the largest number in a list.\\n\\n',\n",
       " 'Constraints\\n• Implement the program using a function called\\ngram\\nreturns\\nprogram.\\n• Check that both words are the same length.\\n\\n',\n",
       " 'Constraints\\n• Create a\\npassword as its argument and returns a value you can\\nevaluate to determine the password strength. Do not\\nhave the function return a string—you may need to\\nsupport multiple languages in the future.\\n• Use a single output statement.\\n\\n',\n",
       " 'Constraints\\n• Prompt for the card’s APR. Do the division internally.\\n• Prompt for the APR as a percentage, not a decimal.\\n• Use a function called\\naccepts the balance, the APR, and the monthly payment\\nas its arguments and returns the number of months.\\nDon’t access any of these values outside the function.\\n• Round fractions of a cent up to the next cent.\\nreport erratum  •  discuss\\n\\n\\n',\n",
       " 'Constraints\\n• Create a function for each type of validation you need\\nto write. Then create a\\nin all of the input data and invokes the specific valida-\\ntion functions.\\n• Use a single output statement to display the outputs.\\nreport erratum  •  discuss\\n\\n\\n',\n",
       " 'Constraints\\n• The prompting must use repetition, such as a counted\\nloop, not three separate prompts.\\n• Create a flowchart before writing the program.\\n\\n',\n",
       " 'Constraints\\n• Don’t allow the user to enter 0.\\n• Don’t allow non-numeric values.\\n• Use a loop to trap bad input, so you can ensure that the\\nuser enters valid values.\\n\\n',\n",
       " 'Constraint\\n• Use a nested loop to complete this program.\\n\\n',\n",
       " 'Constraints\\n• Don’t hard-code the percentages. Use a loop to incre-\\nment the percentages from 55 to 95.\\n• Ensure that the heart rate and age are entered as num-\\nbers. Don’t allow the user to continue without entering\\nvalid inputs.\\n• Display the results in a tabular format.\\n\\n',\n",
       " 'Constraints\\n• Don’t allow any non-numeric data entry.\\n• During the game, count non-numeric entries as wrong\\nguesses.\\n\\n',\n",
       " 'Constraint\\n• The value should be chosen randomly using a pseudo\\nrandom number generator. Store the possible choices\\nin a list and select one at random.\\n\\n',\n",
       " 'Constraint\\n• Use an array or list to store the names.\\n\\n',\n",
       " 'Constraints\\n• Use a loop to capture user input into an array.\\n• Use a random number generator to pluck a value from\\nthe array.\\n• Don’t include a blank entry in the array.\\n• Some languages require that you define the length of\\nthe array ahead of time. You may need to find another\\ndata structure, like an\\n\\n',\n",
       " 'Constraints\\n• Use loops and arrays to perform the input and mathe-\\nmatical operations.\\nChapter 7. Data Structures\\n\\n\\n',\n",
       " 'Constraints\\n• Use lists to store the characters you’ll use to generate\\nthe passwords.\\n• Add some randomness to the password generation.\\n\\n',\n",
       " 'Constraints\\n• Convert the input to an array. Many languages can\\neasily convert strings to arrays with a built-in function\\nthat splits apart a string based on a specified delimiter.\\n• Write your own algorithm—don’t rely on the language’s\\nbuilt-in\\n• Use a function called\\nlogic for this. The function takes in the old array and\\nreturns the new array.\\n\\n',\n",
       " 'Constraint\\n• Implement the data using a list of maps.\\n\\n',\n",
       " 'Constraint\\n• Implement the data using an array of maps or an asso-\\nciative array.\\n\\n',\n",
       " 'Constraint\\n• Don’t hard-code the number of names.\\n\\n',\n",
       " 'Constraints\\n• Write your own code to parse the data. Don’t use a CSV\\nparser.\\n• Use spaces to align the columns.\\n• Make each column one space longer than the longest\\nvalue in the column.\\n\\n',\n",
       " 'Constraints\\n• The file is in the JSON format. Use a JSON parser to pull\\nthe values out of the file.\\n• If no record is found, prompt again.\\n\\n',\n",
       " 'Constraints\\n• Prompt for the name of the output file.\\n• Write the output to a new file.\\n\\n',\n",
       " 'Constraint\\n• Ensure that the most used word is at the top of the report\\nand the least used words are at the bottom.\\n\\n',\n",
       " 'Constraint\\n• Read the data directly from the API and parse the results\\neach time the program is run. Don’t download the data\\nas text and read it in.\\n\\n',\n",
       " 'Constraint\\n• Keep the processing of the weather feed separate from\\nthe part of your program that displays the results.\\n\\n',\n",
       " 'Constraint\\n• Use the Rotten Tomatoes API at\\ntoes.com/\\n\\n',\n",
       " 'Constraints\\n• Create a configuration file that stores the API key.\\n• Use the REST documentation at\\ndocs/rest/\\n\\n',\n",
       " 'Constraints\\n• In your server application, be sure to set the content\\ntype to\\n• Build the server app with as little code as possible.\\n\\n',\n",
       " 'Constraints\\n• Store the data in an external data source.\\n• If you’re using a server-side language, consider persist-\\ning the data to Redis.\\n• Consider persisting the database to a third-party service\\nlike Parse or Firebase.\\n\\n',\n",
       " 'Constraints\\n• This app must use a persistent data store that others can\\nuse. That means a local, in-memory system isn’t appro-\\npriate.\\n• Don’t allow an invalid URL to be entered into the form.\\n\\n',\n",
       " 'Constraint\\n• Use something other than a primary key for the URL,\\nsuch as a slug that you generate. Investigate SHA or\\nMD5 hashing.\\n\\n',\n",
       " 'Constraints\\n• Store the data in a persistent local data file in JSON,\\nXML, or YAML format.\\n• Require numeric data for the value of each item.\\n\\n',\n",
       " 'Constraint\\n• Write this file using a file database or local data file\\nrather than a key-value store or a relational database.\\n\\n']"
      ]
     },
     "execution_count": 37,
     "metadata": {},
     "output_type": "execute_result"
    }
   ],
   "source": [
    "constraints"
   ]
  },
  {
   "cell_type": "code",
   "execution_count": null,
   "metadata": {},
   "outputs": [],
   "source": [
    "# extract output, Challenge create a dataset with constraints, output and challenges and push to HF and keep it private\n"
   ]
  }
 ],
 "metadata": {
  "kernelspec": {
   "display_name": ".venv",
   "language": "python",
   "name": "python3"
  },
  "language_info": {
   "codemirror_mode": {
    "name": "ipython",
    "version": 3
   },
   "file_extension": ".py",
   "mimetype": "text/x-python",
   "name": "python",
   "nbconvert_exporter": "python",
   "pygments_lexer": "ipython3",
   "version": "3.9.2"
  },
  "orig_nbformat": 4
 },
 "nbformat": 4,
 "nbformat_minor": 2
}
