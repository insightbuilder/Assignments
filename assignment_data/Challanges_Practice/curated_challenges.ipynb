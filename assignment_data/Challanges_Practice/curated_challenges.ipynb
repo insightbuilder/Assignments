{
 "cells": [
  {
   "cell_type": "markdown",
   "metadata": {},
   "source": [
    "#### Practice for IO\n",
    "pbid: dmopc14c5p1\n",
    "\n",
    "Input:\n",
    "\n",
    "The input consists of two lines of text. The first line contains integer r, the\n",
    "radius of the cone. The second line contains integer h, the height of the\n",
    "cone. Both r and h are between 1 and 100. (That is, the minimum value for r\n",
    "and h is 1, and the maximum value is 100.)\n",
    "\n",
    "Output:\n",
    "\n",
    "Output the volume of the right circular cone with radius r and height h. The\n",
    "formula to calculate the volume is (πr2h)/3"
   ]
  },
  {
   "cell_type": "markdown",
   "metadata": {},
   "source": [
    "#### Practice for String  \n",
    "\n",
    "pbid: wc15c2j1\n",
    "\n",
    "Input:\n",
    "\n",
    "A long time ago in a galaxy far, far away...\n",
    "In the above example, the word far is repeated twice. However, we'd instead like to repeat it exactly N times without changing the rest of the sentence at all. There should be a comma right after each occurrence except for the last one.\n",
    "\n",
    "Given N, can you produce the correct sentence?\n",
    "\n",
    "Output:\n",
    "\n",
    "Output on a single line the appropriate sentence with far repeated N times. It must match the correct answer exactly!"
   ]
  },
  {
   "cell_type": "markdown",
   "metadata": {},
   "source": [
    "#### Practice for Logic \n",
    "pbid: ccc13j1\n",
    "\n",
    "Input:\n",
    "\n",
    "You know a family with three children. Their ages form an arithmetic sequence: the difference in ages between the middle child and youngest child is the same as the difference in ages between the oldest child and the middle child. For example, their ages could be 5, 10 and 15, since both adjacent pairs have a difference of 5 years.\n",
    "\n",
    "Given the ages of the youngest and middle children, what is the age of the oldest child?\n",
    "\n",
    "The input consists of two integers, each on a separate line. The first line is the age Y of the youngest child . The second line is the age M of the middle child \n",
    "\n",
    "Output:\n",
    "\n",
    "The output will be the age of the oldest child."
   ]
  },
  {
   "cell_type": "markdown",
   "metadata": {},
   "source": [
    "#### Practice for IO\n",
    "\n",
    "pbid : wc18c3j1\n",
    "\n",
    "Input\n",
    "\n",
    "James has a can of leftover paint, containing P litres of the stuff. When combined with his boundless collection of bottlecaps, this can result in some high-quality wares. \n",
    "When a bottlecap is artfully covered with B litres of paint, it turns into a completely legitimate, Pokémon league-certified gym badge!\n",
    "James will produce as many badges as he can using the paint, using exactly B litres each. \n",
    "Pokémon trainers love their gym badges, so each such badge is sure to sell for D Pokédollars.\n",
    "\n",
    "There might still be some extra paint left over, once there's not enough for another complete badge. \n",
    "However, there's no need for it to go to waste - James will sell any remaining paint at a rate of 1 Pokédollar per litre.\n",
    "\n",
    "How much money will James make for Team Rocket in total, from his sales of badges and leftover paint?\n",
    "\n",
    "Output: How much will James earn where P=13, B=3, and D=10?"
   ]
  },
  {
   "cell_type": "markdown",
   "metadata": {},
   "source": [
    "##### Practice for Logic\n",
    "pbid: ccc19j1\n",
    "\n",
    "You record all of the scoring activity at a basketball game. Points are scored by a 3-point shot, a 2-point field goal, or a 1-point free throw.\n",
    "\n",
    "You know the number of each of these types of scoring for the two teams: the Apples and the Bananas. Your job is to determine which team won, or if the game ended in a tie\n",
    "\n",
    "The first three lines of input describe the scoring of the Apples, and the next three lines of input describe the scoring of the Bananas. For each team, the first line contains the number of successful 3-point shots, the second line contains the number of successful 2-point field goals, and the third line contains the number of successful 1-point free throws. Each number will be an integer between 0 and 100, inclusive.\n",
    "\n",
    "Sample Input:\n",
    "\n",
    "10\n",
    "\n",
    "3\n",
    "\n",
    "7\n",
    "\n",
    "8\n",
    "\n",
    "9\n",
    "\n",
    "6\n",
    "\n",
    "Output: A single char A representing Apples and B representing Bananas. \n"
   ]
  },
  {
   "cell_type": "markdown",
   "metadata": {},
   "source": [
    "#### Problem For Logic\n",
    "pbid: ccc18j1\n",
    "\n",
    "Input:\n",
    "\n",
    "In this problem, we’ll assume that phone numbers are four digits. A phone\n",
    "number belongs to a telemarketer if its four digits satisfy all three of the following properties:\n",
    "• The first digit is 8 or 9.\n",
    "• The fourth digit is 8 or 9.\n",
    "• The second and third digits are the same.\n",
    "For example, a phone number whose four digits are 8119 belongs to a\n",
    "telemarketer.\n",
    "Determine whether a phone number belongs to a telemarketer, and indicate whether we should answer the phone or ignore it.\n",
    "\n",
    "Output:\n",
    "\n",
    "Given a below return if it is Telemarketer or Not\n",
    "\n",
    "9\n",
    "\n",
    "6\n",
    "\n",
    "6\n",
    "\n",
    "8"
   ]
  },
  {
   "cell_type": "markdown",
   "metadata": {},
   "source": [
    "##### Problem for Logic\n",
    "\n",
    "pbid: dmopc16c1p0\n",
    "\n",
    "Input:\n",
    "\n",
    "One summer evening, while curled up with her beloved Cheese-kun plushie, C.C. begins craving pizza. Although she would really like a large, extra-cheesy pizza, her stomach is willing to settle for anything. Without hesitation, she snatches up Lelouch's credit card and makes a very important phone call…\n",
    "\n",
    "C.C. will be **absolutely** satisfied if the pizza she gets has a width of 3 units and an extra-cheesiness of at least \n",
    "\n",
    "C.C. will be **fairly** satisfied if the pizza she gets has a width of 1 unit and an extra-cheesiness of at most \n",
    "\n",
    "C.C. will be **very** satisfied with any other pizza she receives.\n",
    "\n",
    "Output:\n",
    "\n",
    "A single line containing C.C.'s satisfaction with her order in the form: C.C. is M satisfied with her pizza."
   ]
  },
  {
   "cell_type": "markdown",
   "metadata": {},
   "source": [
    "Problem For Logic\n",
    "\n",
    "pbid : ccc15j1\n",
    "\n",
    "Input:\n",
    "\n",
    "Write a program that asks the user for a numerical month and numerical day of the month and then determines whether that date occurs before, after, or on February 18.\n",
    "\n",
    "If the date occurs before February 18, output the word Before.\n",
    "If the date occurs after February 18, output the word After.\n",
    "If the date is February 18, output the word Special.\n",
    "\n",
    "Output:\n",
    "\n",
    "Exactly one of Before, After, or Special will be printed on one line."
   ]
  },
  {
   "attachments": {
    "image.png": {
     "image/png": "[encoded data removed]"
    }
   },
   "cell_type": "markdown",
   "metadata": {},
   "source": [
    "##### Problem for Logic / Dictionary\n",
    "\n",
    "pbid: ccc06j1\n",
    "\n",
    "![](attachment:image.png)\n",
    "\n",
    "Write a Function that will compute the total Calories of a meal.\n",
    "\n",
    "Input:\n",
    "\n",
    "The program should input a number for each type of item then calculate and display the Calorie total. The first line will be the customer's choice of burger, the second will be the choice of side, then drink, then dessert. You may assume that each input will be a number from 1 to 4. That is, each customer has to pick exactly one number from each of the four options out of each of the four categories.\n",
    "\n",
    "Output:\n",
    "\n",
    "Returns total calorie"
   ]
  },
  {
   "cell_type": "markdown",
   "metadata": {},
   "source": [
    "##### Problem for Loops\n",
    "\n",
    "pbid: coci06c5p1  \n",
    "\n",
    "Input:\n",
    "\n",
    "Borko has a row of three opaque cups: one at the left (location 1), one at\n",
    "the middle (location 2), and one at the right (location 3). There is a ball under the cup at the left. It’s our job to keep track of the location of the ball as\n",
    "\n",
    "Borko swaps the locations of the cups.\n",
    "\n",
    "Borko can make three types of swap:\n",
    "\n",
    "A Swap the left and middle cups\n",
    "\n",
    "B Swap the middle and right cups\n",
    "\n",
    "C Swap the left and right cups\n",
    "\n",
    "For example, if Borko’s first swap is type A, then he swaps the left and middle cups; because the ball starts at the left, this swap moves it to the middle. If instead his first swap is type B, then he swaps the middle and right cups; the left cup stays where it is, so the ball doesn’t change locations.\n",
    "\n",
    "Output the final location of the ball:\n",
    "\n",
    "• 1 if the ball is at the left\n",
    "\n",
    "• 2 if the ball is at the middle\n",
    "\n",
    "• 3 if the ball is at the right"
   ]
  },
  {
   "cell_type": "markdown",
   "metadata": {},
   "source": [
    "#### Problem for Loop\n",
    "\n",
    "pbid : ccc18j2\n",
    "\n",
    "Input: \n",
    "\n",
    "You supervise a small parking lot which has N parking spaces. Yesterday, you recorded which parking spaces were occupied by cars and which were empty.\n",
    "Today, you recorded the same information. How many of the parking spaces were occupied both yesterday and today?\n",
    "\n",
    "5\n",
    "\n",
    "CC..C\n",
    "\n",
    ".CC..\n",
    "\n",
    "Output the number of parking spaces which were occupied yesterday and today."
   ]
  },
  {
   "cell_type": "code",
   "execution_count": null,
   "metadata": {
    "vscode": {
     "languageId": "plaintext"
    }
   },
   "outputs": [],
   "source": []
  }
 ],
 "metadata": {
  "language_info": {
   "name": "python"
  }
 },
 "nbformat": 4,
 "nbformat_minor": 2
}
