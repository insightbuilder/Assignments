{
 "cells": [
  {
   "cell_type": "code",
   "execution_count": null,
   "metadata": {},
   "outputs": [],
   "source": [
    "# start with pip install unstructured[docx,pptx]\n",
    "# the above lead uninstall of following from \n",
    "# main python installation. \n",
    "# pip uninstall weaviate-client torchtext torchaudio open-interpreter moderngl-window datasets -y \n",
    "\n",
    "# ABOVE PROCESS IS MORE LABORIOUS... Falling back to pymupdf\n",
    "\n",
    "# pip install -U pymupdf   Inside pdf_reader venv\n",
    "\n"
   ]
  },
  {
   "cell_type": "code",
   "execution_count": 3,
   "metadata": {},
   "outputs": [],
   "source": [
    "pdf_file = \"D:\\\\gitFolders\\\\Assignments\\\\assignment_data\\\\ExercisesforProgrammers57Challenges.pdf\"\n",
    "# read all pages using unstructured first"
   ]
  },
  {
   "cell_type": "code",
   "execution_count": null,
   "metadata": {},
   "outputs": [],
   "source": [
    "from unstructured.partition.pdf import partition_pdf\n",
    "\n",
    "elements = partition_pdf(pdf_file)"
   ]
  },
  {
   "cell_type": "code",
   "execution_count": null,
   "metadata": {},
   "outputs": [],
   "source": [
    "from unstructured.cleaners.extract import extract_text_after\n",
    "\n",
    "example_out = r'Example Output'\n",
    "for ele in elements:\n",
    "    if example_out in ele:\n",
    "        out = extract_text_after(ele, example_out)\n"
   ]
  },
  {
   "cell_type": "code",
   "execution_count": 4,
   "metadata": {},
   "outputs": [],
   "source": [
    "import fitz\n",
    "\n",
    "doc = fitz.open(pdf_file) # open a document"
   ]
  },
  {
   "cell_type": "code",
   "execution_count": 4,
   "metadata": {},
   "outputs": [],
   "source": [
    "out_text = open('pdf_output.txt', 'wb')"
   ]
  },
  {
   "cell_type": "code",
   "execution_count": null,
   "metadata": {},
   "outputs": [],
   "source": [
    "# How a block looks, usually a paragraph with a linebreak\n",
    "{\n",
    "    'number': 3,\n",
    "    'type': 0,\n",
    "    'bbox': (90.0, 153.93099975585938, 174.70802307128906, 168.59500122070312),\n",
    "    'lines': [\n",
    "        {\n",
    "            'spans': [\n",
    "                {\n",
    "                    'size': 12.0,\n",
    "                    'flags': 20,\n",
    "                    'font': 'MyriadPro-Semibold',\n",
    "                    'color': 2631819,\n",
    "                    'ascender': 0.972000002861023,\n",
    "                    'descender': -0.25,\n",
    "                    'text': 'Example Output',\n",
    "                    'origin': (90.0, 165.59500122070312),\n",
    "                    'bbox': (90.0, 153.93099975585938, 174.70802307128906, 168.59500122070312)\n",
    "                }\n",
    "            ],\n",
    "            'wmode': 0,\n",
    "            'dir': (1.0, 0.0),\n",
    "            'bbox': (90.0, 153.93099975585938, 174.70802307128906, 168.59500122070312)\n",
    "        }\n",
    "    ]\n",
    "},"
   ]
  },
  {
   "cell_type": "code",
   "execution_count": 32,
   "metadata": {},
   "outputs": [
    {
     "data": {
      "text/plain": [
       "[7, 9, 8]"
      ]
     },
     "execution_count": 32,
     "metadata": {},
     "output_type": "execute_result"
    }
   ],
   "source": [
    "z = [1, 5, 7, 9, 8]\n",
    "z[2:]"
   ]
  },
  {
   "cell_type": "code",
   "execution_count": 1,
   "metadata": {},
   "outputs": [],
   "source": [
    "def extract_spans(blocks):\n",
    "    texts = []\n",
    "    for pk, blk in enumerate(blocks):\n",
    "        lines = blk['lines']\n",
    "        for part in lines:\n",
    "            span_text = part['spans'][0]['text']\n",
    "            texts.append(span_text)\n",
    "    return texts"
   ]
  },
  {
   "cell_type": "code",
   "execution_count": 12,
   "metadata": {},
   "outputs": [
    {
     "data": {
      "text/html": [
       "<pre style=\"white-space:pre;overflow-x:auto;line-height:normal;font-family:Menlo,'DejaVu Sans Mono',consolas,'Courier New',monospace\"><span style=\"font-weight: bold\">[</span>\n",
       "    <span style=\"font-weight: bold\">{</span>\n",
       "        <span style=\"color: #008000; text-decoration-color: #008000\">'number'</span>: <span style=\"color: #008080; text-decoration-color: #008080; font-weight: bold\">0</span>,\n",
       "        <span style=\"color: #008000; text-decoration-color: #008000\">'type'</span>: <span style=\"color: #008080; text-decoration-color: #008080; font-weight: bold\">0</span>,\n",
       "        <span style=\"color: #008000; text-decoration-color: #008000\">'bbox'</span>: <span style=\"font-weight: bold\">(</span><span style=\"color: #008080; text-decoration-color: #008080; font-weight: bold\">10.0</span>, <span style=\"color: #008080; text-decoration-color: #008080; font-weight: bold\">635.4749755859375</span>, <span style=\"color: #008080; text-decoration-color: #008080; font-weight: bold\">106.09600067138672</span>, <span style=\"color: #008080; text-decoration-color: #008080; font-weight: bold\">645.093017578125</span><span style=\"font-weight: bold\">)</span>,\n",
       "        <span style=\"color: #008000; text-decoration-color: #008000\">'lines'</span>: <span style=\"font-weight: bold\">[</span>\n",
       "            <span style=\"font-weight: bold\">{</span>\n",
       "                <span style=\"color: #008000; text-decoration-color: #008000\">'spans'</span>: <span style=\"font-weight: bold\">[</span>\n",
       "                    <span style=\"font-weight: bold\">{</span>\n",
       "                        <span style=\"color: #008000; text-decoration-color: #008000\">'size'</span>: <span style=\"color: #008080; text-decoration-color: #008080; font-weight: bold\">7.0</span>,\n",
       "                        <span style=\"color: #008000; text-decoration-color: #008000\">'flags'</span>: <span style=\"color: #008080; text-decoration-color: #008080; font-weight: bold\">0</span>,\n",
       "                        <span style=\"color: #008000; text-decoration-color: #008000\">'font'</span>: <span style=\"color: #008000; text-decoration-color: #008000\">'Helvetica'</span>,\n",
       "                        <span style=\"color: #008000; text-decoration-color: #008000\">'color'</span>: <span style=\"color: #008080; text-decoration-color: #008080; font-weight: bold\">13282476</span>,\n",
       "                        <span style=\"color: #008000; text-decoration-color: #008000\">'ascender'</span>: <span style=\"color: #008080; text-decoration-color: #008080; font-weight: bold\">1.0750000476837158</span>,\n",
       "                        <span style=\"color: #008000; text-decoration-color: #008000\">'descender'</span>: <span style=\"color: #008080; text-decoration-color: #008080; font-weight: bold\">-0.29899999499320984</span>,\n",
       "                        <span style=\"color: #008000; text-decoration-color: #008000\">'text'</span>: <span style=\"color: #008000; text-decoration-color: #008000\">'More books at 1Bookcase.com'</span>,\n",
       "                        <span style=\"color: #008000; text-decoration-color: #008000\">'origin'</span>: <span style=\"font-weight: bold\">(</span><span style=\"color: #008080; text-decoration-color: #008080; font-weight: bold\">10.0</span>, <span style=\"color: #008080; text-decoration-color: #008080; font-weight: bold\">643.0</span><span style=\"font-weight: bold\">)</span>,\n",
       "                        <span style=\"color: #008000; text-decoration-color: #008000\">'bbox'</span>: <span style=\"font-weight: bold\">(</span><span style=\"color: #008080; text-decoration-color: #008080; font-weight: bold\">10.0</span>, <span style=\"color: #008080; text-decoration-color: #008080; font-weight: bold\">635.4749755859375</span>, <span style=\"color: #008080; text-decoration-color: #008080; font-weight: bold\">106.09600067138672</span>, <span style=\"color: #008080; text-decoration-color: #008080; font-weight: bold\">645.093017578125</span><span style=\"font-weight: bold\">)</span>\n",
       "                    <span style=\"font-weight: bold\">}</span>\n",
       "                <span style=\"font-weight: bold\">]</span>,\n",
       "                <span style=\"color: #008000; text-decoration-color: #008000\">'wmode'</span>: <span style=\"color: #008080; text-decoration-color: #008080; font-weight: bold\">0</span>,\n",
       "                <span style=\"color: #008000; text-decoration-color: #008000\">'dir'</span>: <span style=\"font-weight: bold\">(</span><span style=\"color: #008080; text-decoration-color: #008080; font-weight: bold\">1.0</span>, <span style=\"color: #008080; text-decoration-color: #008080; font-weight: bold\">0.0</span><span style=\"font-weight: bold\">)</span>,\n",
       "                <span style=\"color: #008000; text-decoration-color: #008000\">'bbox'</span>: <span style=\"font-weight: bold\">(</span><span style=\"color: #008080; text-decoration-color: #008080; font-weight: bold\">10.0</span>, <span style=\"color: #008080; text-decoration-color: #008080; font-weight: bold\">635.4749755859375</span>, <span style=\"color: #008080; text-decoration-color: #008080; font-weight: bold\">106.09600067138672</span>, <span style=\"color: #008080; text-decoration-color: #008080; font-weight: bold\">645.093017578125</span><span style=\"font-weight: bold\">)</span>\n",
       "            <span style=\"font-weight: bold\">}</span>\n",
       "        <span style=\"font-weight: bold\">]</span>\n",
       "    <span style=\"font-weight: bold\">}</span>\n",
       "<span style=\"font-weight: bold\">]</span>\n",
       "</pre>\n"
      ],
      "text/plain": [
       "\u001b[1m[\u001b[0m\n",
       "    \u001b[1m{\u001b[0m\n",
       "        \u001b[32m'number'\u001b[0m: \u001b[1;36m0\u001b[0m,\n",
       "        \u001b[32m'type'\u001b[0m: \u001b[1;36m0\u001b[0m,\n",
       "        \u001b[32m'bbox'\u001b[0m: \u001b[1m(\u001b[0m\u001b[1;36m10.0\u001b[0m, \u001b[1;36m635.4749755859375\u001b[0m, \u001b[1;36m106.09600067138672\u001b[0m, \u001b[1;36m645.093017578125\u001b[0m\u001b[1m)\u001b[0m,\n",
       "        \u001b[32m'lines'\u001b[0m: \u001b[1m[\u001b[0m\n",
       "            \u001b[1m{\u001b[0m\n",
       "                \u001b[32m'spans'\u001b[0m: \u001b[1m[\u001b[0m\n",
       "                    \u001b[1m{\u001b[0m\n",
       "                        \u001b[32m'size'\u001b[0m: \u001b[1;36m7.0\u001b[0m,\n",
       "                        \u001b[32m'flags'\u001b[0m: \u001b[1;36m0\u001b[0m,\n",
       "                        \u001b[32m'font'\u001b[0m: \u001b[32m'Helvetica'\u001b[0m,\n",
       "                        \u001b[32m'color'\u001b[0m: \u001b[1;36m13282476\u001b[0m,\n",
       "                        \u001b[32m'ascender'\u001b[0m: \u001b[1;36m1.0750000476837158\u001b[0m,\n",
       "                        \u001b[32m'descender'\u001b[0m: \u001b[1;36m-0.29899999499320984\u001b[0m,\n",
       "                        \u001b[32m'text'\u001b[0m: \u001b[32m'More books at 1Bookcase.com'\u001b[0m,\n",
       "                        \u001b[32m'origin'\u001b[0m: \u001b[1m(\u001b[0m\u001b[1;36m10.0\u001b[0m, \u001b[1;36m643.0\u001b[0m\u001b[1m)\u001b[0m,\n",
       "                        \u001b[32m'bbox'\u001b[0m: \u001b[1m(\u001b[0m\u001b[1;36m10.0\u001b[0m, \u001b[1;36m635.4749755859375\u001b[0m, \u001b[1;36m106.09600067138672\u001b[0m, \u001b[1;36m645.093017578125\u001b[0m\u001b[1m)\u001b[0m\n",
       "                    \u001b[1m}\u001b[0m\n",
       "                \u001b[1m]\u001b[0m,\n",
       "                \u001b[32m'wmode'\u001b[0m: \u001b[1;36m0\u001b[0m,\n",
       "                \u001b[32m'dir'\u001b[0m: \u001b[1m(\u001b[0m\u001b[1;36m1.0\u001b[0m, \u001b[1;36m0.0\u001b[0m\u001b[1m)\u001b[0m,\n",
       "                \u001b[32m'bbox'\u001b[0m: \u001b[1m(\u001b[0m\u001b[1;36m10.0\u001b[0m, \u001b[1;36m635.4749755859375\u001b[0m, \u001b[1;36m106.09600067138672\u001b[0m, \u001b[1;36m645.093017578125\u001b[0m\u001b[1m)\u001b[0m\n",
       "            \u001b[1m}\u001b[0m\n",
       "        \u001b[1m]\u001b[0m\n",
       "    \u001b[1m}\u001b[0m\n",
       "\u001b[1m]\u001b[0m\n"
      ]
     },
     "metadata": {},
     "output_type": "display_data"
    }
   ],
   "source": [
    "from rich import print\n",
    "print(doc[1].get_text(option='dict')['blocks'])"
   ]
  },
  {
   "cell_type": "code",
   "execution_count": 16,
   "metadata": {},
   "outputs": [
    {
     "data": {
      "text/plain": [
       "['1',\n",
       " 'Saying Hello',\n",
       " 'The “Hello, World” program is the first program you learn',\n",
       " 'to write in many languages, but it doesn’t involve any input.',\n",
       " 'So create a program that prompts for your name and prints',\n",
       " 'a greeting using your name.',\n",
       " 'Example Output',\n",
       " 'What is your name? Brian',\n",
       " 'Hello, Brian, nice to meet you!',\n",
       " 'Constraint',\n",
       " '• Keep the input, string concatenation, and output sepa-',\n",
       " 'rate.',\n",
       " 'Challenges',\n",
       " '• Write a new version of the program without using any',\n",
       " 'variables.',\n",
       " '• Write a version of the program that displays different',\n",
       " 'greetings for different people. This would be a good',\n",
       " 'challenge to try after you’ve completed the exercises in',\n",
       " 'Chapter 4,',\n",
       " 'Data Structures',\n",
       " 'Chapter 2. Input, Processing, and Output',\n",
       " 'report erratum  •  discuss',\n",
       " 'More books at 1Bookcase.com']"
      ]
     },
     "execution_count": 16,
     "metadata": {},
     "output_type": "execute_result"
    }
   ],
   "source": [
    "extract_spans(doc[26].get_text(option='dict')['blocks'])"
   ]
  },
  {
   "cell_type": "code",
   "execution_count": 22,
   "metadata": {},
   "outputs": [
    {
     "data": {
      "text/html": [
       "<pre style=\"white-space:pre;overflow-x:auto;line-height:normal;font-family:Menlo,'DejaVu Sans Mono',consolas,'Courier New',monospace\"><span style=\"color: #008000; text-decoration-color: #008000\">'lines'</span> <span style=\"color: #008080; text-decoration-color: #008080; font-weight: bold\">99</span>\n",
       "</pre>\n"
      ],
      "text/plain": [
       "\u001b[32m'lines'\u001b[0m \u001b[1;36m99\u001b[0m\n"
      ]
     },
     "metadata": {},
     "output_type": "display_data"
    },
    {
     "data": {
      "text/html": [
       "<pre style=\"white-space:pre;overflow-x:auto;line-height:normal;font-family:Menlo,'DejaVu Sans Mono',consolas,'Courier New',monospace\"><span style=\"color: #008000; text-decoration-color: #008000\">'lines'</span> <span style=\"color: #008080; text-decoration-color: #008080; font-weight: bold\">110</span>\n",
       "</pre>\n"
      ],
      "text/plain": [
       "\u001b[32m'lines'\u001b[0m \u001b[1;36m110\u001b[0m\n"
      ]
     },
     "metadata": {},
     "output_type": "display_data"
    },
    {
     "data": {
      "text/html": [
       "<pre style=\"white-space:pre;overflow-x:auto;line-height:normal;font-family:Menlo,'DejaVu Sans Mono',consolas,'Courier New',monospace\"><span style=\"color: #008000; text-decoration-color: #008000\">'lines'</span> <span style=\"color: #008080; text-decoration-color: #008080; font-weight: bold\">111</span>\n",
       "</pre>\n"
      ],
      "text/plain": [
       "\u001b[32m'lines'\u001b[0m \u001b[1;36m111\u001b[0m\n"
      ]
     },
     "metadata": {},
     "output_type": "display_data"
    },
    {
     "data": {
      "text/html": [
       "<pre style=\"white-space:pre;overflow-x:auto;line-height:normal;font-family:Menlo,'DejaVu Sans Mono',consolas,'Courier New',monospace\"><span style=\"color: #008000; text-decoration-color: #008000\">'lines'</span> <span style=\"color: #008080; text-decoration-color: #008080; font-weight: bold\">112</span>\n",
       "</pre>\n"
      ],
      "text/plain": [
       "\u001b[32m'lines'\u001b[0m \u001b[1;36m112\u001b[0m\n"
      ]
     },
     "metadata": {},
     "output_type": "display_data"
    }
   ],
   "source": [
    "import json\n",
    "from rich import print\n",
    "extracted_text = []\n",
    "for ind, page in enumerate(doc):\n",
    "    if ind >= 26:\n",
    "        text = page.get_text(option=\"dict\")\n",
    "        blocks = text['blocks']\n",
    "        # print(blocks)\n",
    "        try:\n",
    "            extracted_text.append(extract_spans(blocks))\n",
    "        except Exception as e:\n",
    "            print(e, ind)"
   ]
  },
  {
   "cell_type": "code",
   "execution_count": 23,
   "metadata": {},
   "outputs": [
    {
     "data": {
      "text/plain": [
       "84"
      ]
     },
     "execution_count": 23,
     "metadata": {},
     "output_type": "execute_result"
    }
   ],
   "source": [
    "len(extracted_text)"
   ]
  },
  {
   "cell_type": "code",
   "execution_count": 38,
   "metadata": {},
   "outputs": [
    {
     "data": {
      "text/html": [
       "<pre style=\"white-space:pre;overflow-x:auto;line-height:normal;font-family:Menlo,'DejaVu Sans Mono',consolas,'Courier New',monospace\">invalid literal for <span style=\"color: #800080; text-decoration-color: #800080; font-weight: bold\">int</span><span style=\"font-weight: bold\">()</span> with base <span style=\"color: #008080; text-decoration-color: #008080; font-weight: bold\">10</span>: <span style=\"color: #008000; text-decoration-color: #008000\">'CHAPTER '</span>\n",
       "</pre>\n"
      ],
      "text/plain": [
       "invalid literal for \u001b[1;35mint\u001b[0m\u001b[1m(\u001b[0m\u001b[1m)\u001b[0m with base \u001b[1;36m10\u001b[0m: \u001b[32m'CHAPTER '\u001b[0m\n"
      ]
     },
     "metadata": {},
     "output_type": "display_data"
    },
    {
     "data": {
      "text/html": [
       "<pre style=\"white-space:pre;overflow-x:auto;line-height:normal;font-family:Menlo,'DejaVu Sans Mono',consolas,'Courier New',monospace\">invalid literal for <span style=\"color: #800080; text-decoration-color: #800080; font-weight: bold\">int</span><span style=\"font-weight: bold\">()</span> with base <span style=\"color: #008080; text-decoration-color: #008080; font-weight: bold\">10</span>: <span style=\"color: #008000; text-decoration-color: #008000\">'This happens in JavaScript too. And multiplication can make'</span>\n",
       "</pre>\n"
      ],
      "text/plain": [
       "invalid literal for \u001b[1;35mint\u001b[0m\u001b[1m(\u001b[0m\u001b[1m)\u001b[0m with base \u001b[1;36m10\u001b[0m: \u001b[32m'This happens in JavaScript too. And multiplication can make'\u001b[0m\n"
      ]
     },
     "metadata": {},
     "output_type": "display_data"
    },
    {
     "data": {
      "text/html": [
       "<pre style=\"white-space:pre;overflow-x:auto;line-height:normal;font-family:Menlo,'DejaVu Sans Mono',consolas,'Courier New',monospace\">invalid literal for <span style=\"color: #800080; text-decoration-color: #800080; font-weight: bold\">int</span><span style=\"font-weight: bold\">()</span> with base <span style=\"color: #008080; text-decoration-color: #008080; font-weight: bold\">10</span>: <span style=\"color: #008000; text-decoration-color: #008000\">'Challenges'</span>\n",
       "</pre>\n"
      ],
      "text/plain": [
       "invalid literal for \u001b[1;35mint\u001b[0m\u001b[1m(\u001b[0m\u001b[1m)\u001b[0m with base \u001b[1;36m10\u001b[0m: \u001b[32m'Challenges'\u001b[0m\n"
      ]
     },
     "metadata": {},
     "output_type": "display_data"
    },
    {
     "data": {
      "text/html": [
       "<pre style=\"white-space:pre;overflow-x:auto;line-height:normal;font-family:Menlo,'DejaVu Sans Mono',consolas,'Courier New',monospace\">invalid literal for <span style=\"color: #800080; text-decoration-color: #800080; font-weight: bold\">int</span><span style=\"font-weight: bold\">()</span> with base <span style=\"color: #008080; text-decoration-color: #008080; font-weight: bold\">10</span>: <span style=\"color: #008000; text-decoration-color: #008000\">'CHAPTER '</span>\n",
       "</pre>\n"
      ],
      "text/plain": [
       "invalid literal for \u001b[1;35mint\u001b[0m\u001b[1m(\u001b[0m\u001b[1m)\u001b[0m with base \u001b[1;36m10\u001b[0m: \u001b[32m'CHAPTER '\u001b[0m\n"
      ]
     },
     "metadata": {},
     "output_type": "display_data"
    },
    {
     "data": {
      "text/html": [
       "<pre style=\"white-space:pre;overflow-x:auto;line-height:normal;font-family:Menlo,'DejaVu Sans Mono',consolas,'Courier New',monospace\">invalid literal for <span style=\"color: #800080; text-decoration-color: #800080; font-weight: bold\">int</span><span style=\"font-weight: bold\">()</span> with base <span style=\"color: #008080; text-decoration-color: #008080; font-weight: bold\">10</span>: <span style=\"color: #008000; text-decoration-color: #008000\">'And sometimes you may have more than an either-or situa-'</span>\n",
       "</pre>\n"
      ],
      "text/plain": [
       "invalid literal for \u001b[1;35mint\u001b[0m\u001b[1m(\u001b[0m\u001b[1m)\u001b[0m with base \u001b[1;36m10\u001b[0m: \u001b[32m'And sometimes you may have more than an either-or situa-'\u001b[0m\n"
      ]
     },
     "metadata": {},
     "output_type": "display_data"
    },
    {
     "data": {
      "text/html": [
       "<pre style=\"white-space:pre;overflow-x:auto;line-height:normal;font-family:Menlo,'DejaVu Sans Mono',consolas,'Courier New',monospace\">invalid literal for <span style=\"color: #800080; text-decoration-color: #800080; font-weight: bold\">int</span><span style=\"font-weight: bold\">()</span> with base <span style=\"color: #008080; text-decoration-color: #008080; font-weight: bold\">10</span>: <span style=\"color: #008000; text-decoration-color: #008000\">'End'</span>\n",
       "</pre>\n"
      ],
      "text/plain": [
       "invalid literal for \u001b[1;35mint\u001b[0m\u001b[1m(\u001b[0m\u001b[1m)\u001b[0m with base \u001b[1;36m10\u001b[0m: \u001b[32m'End'\u001b[0m\n"
      ]
     },
     "metadata": {},
     "output_type": "display_data"
    },
    {
     "data": {
      "text/html": [
       "<pre style=\"white-space:pre;overflow-x:auto;line-height:normal;font-family:Menlo,'DejaVu Sans Mono',consolas,'Courier New',monospace\">invalid literal for <span style=\"color: #800080; text-decoration-color: #800080; font-weight: bold\">int</span><span style=\"font-weight: bold\">()</span> with base <span style=\"color: #008080; text-decoration-color: #008080; font-weight: bold\">10</span>: <span style=\"color: #008000; text-decoration-color: #008000\">'You’ll start out solving problems by making simple deci-'</span>\n",
       "</pre>\n"
      ],
      "text/plain": [
       "invalid literal for \u001b[1;35mint\u001b[0m\u001b[1m(\u001b[0m\u001b[1m)\u001b[0m with base \u001b[1;36m10\u001b[0m: \u001b[32m'You’ll start out solving problems by making simple deci-'\u001b[0m\n"
      ]
     },
     "metadata": {},
     "output_type": "display_data"
    },
    {
     "data": {
      "text/html": [
       "<pre style=\"white-space:pre;overflow-x:auto;line-height:normal;font-family:Menlo,'DejaVu Sans Mono',consolas,'Courier New',monospace\">invalid literal for <span style=\"color: #800080; text-decoration-color: #800080; font-weight: bold\">int</span><span style=\"font-weight: bold\">()</span> with base <span style=\"color: #008080; text-decoration-color: #008080; font-weight: bold\">10</span>: <span style=\"color: #008000; text-decoration-color: #008000\">'Constraint'</span>\n",
       "</pre>\n"
      ],
      "text/plain": [
       "invalid literal for \u001b[1;35mint\u001b[0m\u001b[1m(\u001b[0m\u001b[1m)\u001b[0m with base \u001b[1;36m10\u001b[0m: \u001b[32m'Constraint'\u001b[0m\n"
      ]
     },
     "metadata": {},
     "output_type": "display_data"
    },
    {
     "data": {
      "text/html": [
       "<pre style=\"white-space:pre;overflow-x:auto;line-height:normal;font-family:Menlo,'DejaVu Sans Mono',consolas,'Courier New',monospace\">invalid literal for <span style=\"color: #800080; text-decoration-color: #800080; font-weight: bold\">int</span><span style=\"font-weight: bold\">()</span> with base <span style=\"color: #008080; text-decoration-color: #008080; font-weight: bold\">10</span>: <span style=\"color: #008000; text-decoration-color: #008000\">'CHAPTER '</span>\n",
       "</pre>\n"
      ],
      "text/plain": [
       "invalid literal for \u001b[1;35mint\u001b[0m\u001b[1m(\u001b[0m\u001b[1m)\u001b[0m with base \u001b[1;36m10\u001b[0m: \u001b[32m'CHAPTER '\u001b[0m\n"
      ]
     },
     "metadata": {},
     "output_type": "display_data"
    },
    {
     "data": {
      "text/html": [
       "<pre style=\"white-space:pre;overflow-x:auto;line-height:normal;font-family:Menlo,'DejaVu Sans Mono',consolas,'Courier New',monospace\">invalid literal for <span style=\"color: #800080; text-decoration-color: #800080; font-weight: bold\">int</span><span style=\"font-weight: bold\">()</span> with base <span style=\"color: #008080; text-decoration-color: #008080; font-weight: bold\">10</span>: <span style=\"color: #008000; text-decoration-color: #008000\">'vert the input to numbers automatically so the function will'</span>\n",
       "</pre>\n"
      ],
      "text/plain": [
       "invalid literal for \u001b[1;35mint\u001b[0m\u001b[1m(\u001b[0m\u001b[1m)\u001b[0m with base \u001b[1;36m10\u001b[0m: \u001b[32m'vert the input to numbers automatically so the function will'\u001b[0m\n"
      ]
     },
     "metadata": {},
     "output_type": "display_data"
    },
    {
     "data": {
      "text/html": [
       "<pre style=\"white-space:pre;overflow-x:auto;line-height:normal;font-family:Menlo,'DejaVu Sans Mono',consolas,'Courier New',monospace\">invalid literal for <span style=\"color: #800080; text-decoration-color: #800080; font-weight: bold\">int</span><span style=\"font-weight: bold\">()</span> with base <span style=\"color: #008080; text-decoration-color: #008080; font-weight: bold\">10</span>: <span style=\"color: #008000; text-decoration-color: #008000\">'Challenge'</span>\n",
       "</pre>\n"
      ],
      "text/plain": [
       "invalid literal for \u001b[1;35mint\u001b[0m\u001b[1m(\u001b[0m\u001b[1m)\u001b[0m with base \u001b[1;36m10\u001b[0m: \u001b[32m'Challenge'\u001b[0m\n"
      ]
     },
     "metadata": {},
     "output_type": "display_data"
    },
    {
     "data": {
      "text/html": [
       "<pre style=\"white-space:pre;overflow-x:auto;line-height:normal;font-family:Menlo,'DejaVu Sans Mono',consolas,'Courier New',monospace\">invalid literal for <span style=\"color: #800080; text-decoration-color: #800080; font-weight: bold\">int</span><span style=\"font-weight: bold\">()</span> with base <span style=\"color: #008080; text-decoration-color: #008080; font-weight: bold\">10</span>: <span style=\"color: #008000; text-decoration-color: #008000\">'Challenges'</span>\n",
       "</pre>\n"
      ],
      "text/plain": [
       "invalid literal for \u001b[1;35mint\u001b[0m\u001b[1m(\u001b[0m\u001b[1m)\u001b[0m with base \u001b[1;36m10\u001b[0m: \u001b[32m'Challenges'\u001b[0m\n"
      ]
     },
     "metadata": {},
     "output_type": "display_data"
    },
    {
     "data": {
      "text/html": [
       "<pre style=\"white-space:pre;overflow-x:auto;line-height:normal;font-family:Menlo,'DejaVu Sans Mono',consolas,'Courier New',monospace\">invalid literal for <span style=\"color: #800080; text-decoration-color: #800080; font-weight: bold\">int</span><span style=\"font-weight: bold\">()</span> with base <span style=\"color: #008080; text-decoration-color: #008080; font-weight: bold\">10</span>: <span style=\"color: #008000; text-decoration-color: #008000\">'CHAPTER '</span>\n",
       "</pre>\n"
      ],
      "text/plain": [
       "invalid literal for \u001b[1;35mint\u001b[0m\u001b[1m(\u001b[0m\u001b[1m)\u001b[0m with base \u001b[1;36m10\u001b[0m: \u001b[32m'CHAPTER '\u001b[0m\n"
      ]
     },
     "metadata": {},
     "output_type": "display_data"
    },
    {
     "data": {
      "text/html": [
       "<pre style=\"white-space:pre;overflow-x:auto;line-height:normal;font-family:Menlo,'DejaVu Sans Mono',consolas,'Courier New',monospace\">invalid literal for <span style=\"color: #800080; text-decoration-color: #800080; font-weight: bold\">int</span><span style=\"font-weight: bold\">()</span> with base <span style=\"color: #008080; text-decoration-color: #008080; font-weight: bold\">10</span>: <span style=\"color: #008000; text-decoration-color: #008000\">'counter := 5'</span>\n",
       "</pre>\n"
      ],
      "text/plain": [
       "invalid literal for \u001b[1;35mint\u001b[0m\u001b[1m(\u001b[0m\u001b[1m)\u001b[0m with base \u001b[1;36m10\u001b[0m: \u001b[32m'counter := 5'\u001b[0m\n"
      ]
     },
     "metadata": {},
     "output_type": "display_data"
    },
    {
     "data": {
      "text/html": [
       "<pre style=\"white-space:pre;overflow-x:auto;line-height:normal;font-family:Menlo,'DejaVu Sans Mono',consolas,'Courier New',monospace\">invalid literal for <span style=\"color: #800080; text-decoration-color: #800080; font-weight: bold\">int</span><span style=\"font-weight: bold\">()</span> with base <span style=\"color: #008080; text-decoration-color: #008080; font-weight: bold\">10</span>: <span style=\"color: #008000; text-decoration-color: #008000\">'different reason to stop. You might stop when a certain value'</span>\n",
       "</pre>\n"
      ],
      "text/plain": [
       "invalid literal for \u001b[1;35mint\u001b[0m\u001b[1m(\u001b[0m\u001b[1m)\u001b[0m with base \u001b[1;36m10\u001b[0m: \u001b[32m'different reason to stop. You might stop when a certain value'\u001b[0m\n"
      ]
     },
     "metadata": {},
     "output_type": "display_data"
    },
    {
     "data": {
      "text/html": [
       "<pre style=\"white-space:pre;overflow-x:auto;line-height:normal;font-family:Menlo,'DejaVu Sans Mono',consolas,'Courier New',monospace\">invalid literal for <span style=\"color: #800080; text-decoration-color: #800080; font-weight: bold\">int</span><span style=\"font-weight: bold\">()</span> with base <span style=\"color: #008080; text-decoration-color: #008080; font-weight: bold\">10</span>: <span style=\"color: #008000; text-decoration-color: #008000\">'This flowchart helps clarify that the program contains a'</span>\n",
       "</pre>\n"
      ],
      "text/plain": [
       "invalid literal for \u001b[1;35mint\u001b[0m\u001b[1m(\u001b[0m\u001b[1m)\u001b[0m with base \u001b[1;36m10\u001b[0m: \u001b[32m'This flowchart helps clarify that the program contains a'\u001b[0m\n"
      ]
     },
     "metadata": {},
     "output_type": "display_data"
    },
    {
     "data": {
      "text/html": [
       "<pre style=\"white-space:pre;overflow-x:auto;line-height:normal;font-family:Menlo,'DejaVu Sans Mono',consolas,'Courier New',monospace\">invalid literal for <span style=\"color: #800080; text-decoration-color: #800080; font-weight: bold\">int</span><span style=\"font-weight: bold\">()</span> with base <span style=\"color: #008080; text-decoration-color: #008080; font-weight: bold\">10</span>: <span style=\"color: #008000; text-decoration-color: #008000\">'• Keep track of previous guesses and issue an alert that'</span>\n",
       "</pre>\n"
      ],
      "text/plain": [
       "invalid literal for \u001b[1;35mint\u001b[0m\u001b[1m(\u001b[0m\u001b[1m)\u001b[0m with base \u001b[1;36m10\u001b[0m: \u001b[32m'• Keep track of previous guesses and issue an alert that'\u001b[0m\n"
      ]
     },
     "metadata": {},
     "output_type": "display_data"
    },
    {
     "data": {
      "text/html": [
       "<pre style=\"white-space:pre;overflow-x:auto;line-height:normal;font-family:Menlo,'DejaVu Sans Mono',consolas,'Courier New',monospace\">invalid literal for <span style=\"color: #800080; text-decoration-color: #800080; font-weight: bold\">int</span><span style=\"font-weight: bold\">()</span> with base <span style=\"color: #008080; text-decoration-color: #008080; font-weight: bold\">10</span>: <span style=\"color: #008000; text-decoration-color: #008000\">'CHAPTER '</span>\n",
       "</pre>\n"
      ],
      "text/plain": [
       "invalid literal for \u001b[1;35mint\u001b[0m\u001b[1m(\u001b[0m\u001b[1m)\u001b[0m with base \u001b[1;36m10\u001b[0m: \u001b[32m'CHAPTER '\u001b[0m\n"
      ]
     },
     "metadata": {},
     "output_type": "display_data"
    },
    {
     "data": {
      "text/html": [
       "<pre style=\"white-space:pre;overflow-x:auto;line-height:normal;font-family:Menlo,'DejaVu Sans Mono',consolas,'Courier New',monospace\">invalid literal for <span style=\"color: #800080; text-decoration-color: #800080; font-weight: bold\">int</span><span style=\"font-weight: bold\">()</span> with base <span style=\"color: #008080; text-decoration-color: #008080; font-weight: bold\">10</span>: <span style=\"color: #008000; text-decoration-color: #008000\">'pair within the map. The collection of records is represented'</span>\n",
       "</pre>\n"
      ],
      "text/plain": [
       "invalid literal for \u001b[1;35mint\u001b[0m\u001b[1m(\u001b[0m\u001b[1m)\u001b[0m with base \u001b[1;36m10\u001b[0m: \u001b[32m'pair within the map. The collection of records is represented'\u001b[0m\n"
      ]
     },
     "metadata": {},
     "output_type": "display_data"
    },
    {
     "data": {
      "text/html": [
       "<pre style=\"white-space:pre;overflow-x:auto;line-height:normal;font-family:Menlo,'DejaVu Sans Mono',consolas,'Courier New',monospace\">invalid literal for <span style=\"color: #800080; text-decoration-color: #800080; font-weight: bold\">int</span><span style=\"font-weight: bold\">()</span> with base <span style=\"color: #008080; text-decoration-color: #008080; font-weight: bold\">10</span>: <span style=\"color: #008000; text-decoration-color: #008000\">'• Be sure to exclude the “done” entry from the array of'</span>\n",
       "</pre>\n"
      ],
      "text/plain": [
       "invalid literal for \u001b[1;35mint\u001b[0m\u001b[1m(\u001b[0m\u001b[1m)\u001b[0m with base \u001b[1;36m10\u001b[0m: \u001b[32m'• Be sure to exclude the “done” entry from the array of'\u001b[0m\n"
      ]
     },
     "metadata": {},
     "output_type": "display_data"
    },
    {
     "data": {
      "text/html": [
       "<pre style=\"white-space:pre;overflow-x:auto;line-height:normal;font-family:Menlo,'DejaVu Sans Mono',consolas,'Courier New',monospace\">invalid literal for <span style=\"color: #800080; text-decoration-color: #800080; font-weight: bold\">int</span><span style=\"font-weight: bold\">()</span> with base <span style=\"color: #008080; text-decoration-color: #008080; font-weight: bold\">10</span>: <span style=\"color: #008000; text-decoration-color: #008000\">'What You Learned'</span>\n",
       "</pre>\n"
      ],
      "text/plain": [
       "invalid literal for \u001b[1;35mint\u001b[0m\u001b[1m(\u001b[0m\u001b[1m)\u001b[0m with base \u001b[1;36m10\u001b[0m: \u001b[32m'What You Learned'\u001b[0m\n"
      ]
     },
     "metadata": {},
     "output_type": "display_data"
    },
    {
     "data": {
      "text/html": [
       "<pre style=\"white-space:pre;overflow-x:auto;line-height:normal;font-family:Menlo,'DejaVu Sans Mono',consolas,'Courier New',monospace\">invalid literal for <span style=\"color: #800080; text-decoration-color: #800080; font-weight: bold\">int</span><span style=\"font-weight: bold\">()</span> with base <span style=\"color: #008080; text-decoration-color: #008080; font-weight: bold\">10</span>: <span style=\"color: #008000; text-decoration-color: #008000\">'CHAPTER '</span>\n",
       "</pre>\n"
      ],
      "text/plain": [
       "invalid literal for \u001b[1;35mint\u001b[0m\u001b[1m(\u001b[0m\u001b[1m)\u001b[0m with base \u001b[1;36m10\u001b[0m: \u001b[32m'CHAPTER '\u001b[0m\n"
      ]
     },
     "metadata": {},
     "output_type": "display_data"
    },
    {
     "data": {
      "text/html": [
       "<pre style=\"white-space:pre;overflow-x:auto;line-height:normal;font-family:Menlo,'DejaVu Sans Mono',consolas,'Courier New',monospace\">invalid literal for <span style=\"color: #800080; text-decoration-color: #800080; font-weight: bold\">int</span><span style=\"font-weight: bold\">()</span> with base <span style=\"color: #008080; text-decoration-color: #008080; font-weight: bold\">10</span>: <span style=\"color: #008000; text-decoration-color: #008000\">'What You Learned'</span>\n",
       "</pre>\n"
      ],
      "text/plain": [
       "invalid literal for \u001b[1;35mint\u001b[0m\u001b[1m(\u001b[0m\u001b[1m)\u001b[0m with base \u001b[1;36m10\u001b[0m: \u001b[32m'What You Learned'\u001b[0m\n"
      ]
     },
     "metadata": {},
     "output_type": "display_data"
    },
    {
     "data": {
      "text/html": [
       "<pre style=\"white-space:pre;overflow-x:auto;line-height:normal;font-family:Menlo,'DejaVu Sans Mono',consolas,'Courier New',monospace\">invalid literal for <span style=\"color: #800080; text-decoration-color: #800080; font-weight: bold\">int</span><span style=\"font-weight: bold\">()</span> with base <span style=\"color: #008080; text-decoration-color: #008080; font-weight: bold\">10</span>: <span style=\"color: #008000; text-decoration-color: #008000\">'CHAPTER '</span>\n",
       "</pre>\n"
      ],
      "text/plain": [
       "invalid literal for \u001b[1;35mint\u001b[0m\u001b[1m(\u001b[0m\u001b[1m)\u001b[0m with base \u001b[1;36m10\u001b[0m: \u001b[32m'CHAPTER '\u001b[0m\n"
      ]
     },
     "metadata": {},
     "output_type": "display_data"
    },
    {
     "data": {
      "text/html": [
       "<pre style=\"white-space:pre;overflow-x:auto;line-height:normal;font-family:Menlo,'DejaVu Sans Mono',consolas,'Courier New',monospace\">invalid literal for <span style=\"color: #800080; text-decoration-color: #800080; font-weight: bold\">int</span><span style=\"font-weight: bold\">()</span> with base <span style=\"color: #008080; text-decoration-color: #008080; font-weight: bold\">10</span>: <span style=\"color: #008000; text-decoration-color: #008000\">'To complete the exercises in this chapter, you’ll need to fig-'</span>\n",
       "</pre>\n"
      ],
      "text/plain": [
       "invalid literal for \u001b[1;35mint\u001b[0m\u001b[1m(\u001b[0m\u001b[1m)\u001b[0m with base \u001b[1;36m10\u001b[0m: \u001b[32m'To complete the exercises in this chapter, you’ll need to fig-'\u001b[0m\n"
      ]
     },
     "metadata": {},
     "output_type": "display_data"
    },
    {
     "data": {
      "text/html": [
       "<pre style=\"white-space:pre;overflow-x:auto;line-height:normal;font-family:Menlo,'DejaVu Sans Mono',consolas,'Courier New',monospace\">invalid literal for <span style=\"color: #800080; text-decoration-color: #800080; font-weight: bold\">int</span><span style=\"font-weight: bold\">()</span> with base <span style=\"color: #008080; text-decoration-color: #008080; font-weight: bold\">10</span>: <span style=\"color: #008000; text-decoration-color: #008000\">'CHAPTER '</span>\n",
       "</pre>\n"
      ],
      "text/plain": [
       "invalid literal for \u001b[1;35mint\u001b[0m\u001b[1m(\u001b[0m\u001b[1m)\u001b[0m with base \u001b[1;36m10\u001b[0m: \u001b[32m'CHAPTER '\u001b[0m\n"
      ]
     },
     "metadata": {},
     "output_type": "display_data"
    }
   ],
   "source": [
    "# there intermediate explanatory chapters, which needs to be removed.\n",
    "chapters  = list(range(1, 58))\n",
    "# filter_chapters = [chapter for chapter in extracted_text[0:-2] if int(chapter[0]) in chapters]\n",
    "# the comprehension will fail as there are text in chapter[0]\n",
    "filter_chapters = []\n",
    "for chap in extracted_text[:-2]:\n",
    "    try:\n",
    "        int_ch = int(chap[0])\n",
    "        # print(int_ch, 'is chapter number')\n",
    "        if int_ch in chapters:\n",
    "            filter_chapters.append(chap)\n",
    "    except Exception as e:\n",
    "        print(e)\n",
    "\n",
    "# len(filter_chapters)"
   ]
  },
  {
   "cell_type": "code",
   "execution_count": null,
   "metadata": {},
   "outputs": [],
   "source": [
    "output_file = \"D:\\\\gitFolders\\\\Assignments\\\\assignment_data\\\\pdf_output.txt\"\n",
    "\n",
    "with open(output_file, 'w', encoding='utf-8') as cdx:\n",
    "    for pages in filter_chapters:\n",
    "        # print(f'Writing {pages[0]} chapter')\n",
    "        for ind, sent in enumerate(pages[:-2]):\n",
    "            if ind == 0:\n",
    "                cdx.write(f\"Chapter: {sent}\")\n",
    "                cdx.write('\\n')\n",
    "            else:\n",
    "                if pages[ind + 1] == 'Example Output' or pages[ind + 1] == 'Constraints' or pages[ind + 1] == 'Challenges' or pages[ind + 1] == 'Challenge':\n",
    "                    cdx.write(sent)\n",
    "                    cdx.write('\\n\\n')\n",
    "                else:\n",
    "                    cdx.write(sent)\n",
    "                    cdx.write('\\n')\n",
    "        cdx.write(f'\\n\\n')\n"
   ]
  },
  {
   "cell_type": "code",
   "execution_count": 52,
   "metadata": {},
   "outputs": [],
   "source": [
    "output_file = \"D:\\\\gitFolders\\\\Assignments\\\\assignment_data\\\\prob_statements.txt\"\n",
    "\n",
    "with open(output_file, 'w', encoding='utf-8') as cdx:\n",
    "    for pages in filter_chapters:\n",
    "        # print(f'Writing {pages[0]} chapter')\n",
    "        for ind, sent in enumerate(pages[:-2]):\n",
    "            if ind == 0:\n",
    "                cdx.write(f\"Chapter: {sent}\")\n",
    "                cdx.write('\\n')\n",
    "            else:\n",
    "                if pages[ind + 1] == 'Challenges' or pages[ind + 1] == 'Challenge':\n",
    "                    break\n",
    "                if pages[ind + 1] == 'Example Output' or pages[ind + 1] == 'Constraints':\n",
    "                    cdx.write(sent)\n",
    "                    cdx.write('\\n\\n')\n",
    "                else:\n",
    "                    cdx.write(sent)\n",
    "                    cdx.write('\\n')\n",
    "        cdx.write(f'\\n\\n')\n"
   ]
  }
 ],
 "metadata": {
  "kernelspec": {
   "display_name": "Python 3",
   "language": "python",
   "name": "python3"
  },
  "language_info": {
   "codemirror_mode": {
    "name": "ipython",
    "version": 3
   },
   "file_extension": ".py",
   "mimetype": "text/x-python",
   "name": "python",
   "nbconvert_exporter": "python",
   "pygments_lexer": "ipython3",
   "version": "3.11.4"
  }
 },
 "nbformat": 4,
 "nbformat_minor": 2
}
