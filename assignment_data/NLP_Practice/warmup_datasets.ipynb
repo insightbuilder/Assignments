{
 "cells": [
  {
   "cell_type": "code",
   "execution_count": 7,
   "metadata": {},
   "outputs": [],
   "source": [
    "# Kindly review the Generators, List, Dictionary warmups\n",
    "\n",
    "# Preprocessing involves visualising how the data transforms, \n",
    "# followed by remembering and choosing correct methods & then implementing.\n",
    "\n",
    "# Practicing writing functions that takes different types of args, and \n",
    "# managing the processing inside the function. "
   ]
  },
  {
   "cell_type": "code",
   "execution_count": 2,
   "metadata": {},
   "outputs": [
    {
     "name": "stdout",
     "output_type": "stream",
     "text": [
      "Collecting rich\n",
      "  Downloading rich-13.7.1-py3-none-any.whl.metadata (18 kB)\n",
      "Collecting markdown-it-py>=2.2.0 (from rich)\n",
      "  Downloading markdown_it_py-3.0.0-py3-none-any.whl.metadata (6.9 kB)\n",
      "Requirement already satisfied: pygments<3.0.0,>=2.13.0 in /Users/apple/Desktop/KamalRaj/Assignments/.venv/lib/python3.9/site-packages (from rich) (2.17.2)\n",
      "Collecting mdurl~=0.1 (from markdown-it-py>=2.2.0->rich)\n",
      "  Downloading mdurl-0.1.2-py3-none-any.whl.metadata (1.6 kB)\n",
      "Downloading rich-13.7.1-py3-none-any.whl (240 kB)\n",
      "\u001b[2K   \u001b[90m━━━━━━━━━━━━━━━━━━━━━━━━━━━━━━━━━━━━━━━━\u001b[0m \u001b[32m240.7/240.7 kB\u001b[0m \u001b[31m1.1 MB/s\u001b[0m eta \u001b[36m0:00:00\u001b[0mta \u001b[36m0:00:01\u001b[0m\n",
      "\u001b[?25hDownloading markdown_it_py-3.0.0-py3-none-any.whl (87 kB)\n",
      "\u001b[2K   \u001b[90m━━━━━━━━━━━━━━━━━━━━━━━━━━━━━━━━━━━━━━━━\u001b[0m \u001b[32m87.5/87.5 kB\u001b[0m \u001b[31m1.0 MB/s\u001b[0m eta \u001b[36m0:00:00\u001b[0ma \u001b[36m0:00:01\u001b[0m\n",
      "\u001b[?25hDownloading mdurl-0.1.2-py3-none-any.whl (10.0 kB)\n",
      "Installing collected packages: mdurl, markdown-it-py, rich\n",
      "Successfully installed markdown-it-py-3.0.0 mdurl-0.1.2 rich-13.7.1\n"
     ]
    }
   ],
   "source": [
    "# !pip install rich"
   ]
  },
  {
   "cell_type": "code",
   "execution_count": 17,
   "metadata": {},
   "outputs": [],
   "source": [
    "from datasets import (\n",
    "    load_dataset,\n",
    "    list_datasets,\n",
    "    load_dataset_builder,\n",
    "    get_dataset_split_names,\n",
    "    get_dataset_infos,\n",
    "    get_dataset_config_info,\n",
    "    get_dataset_config_names,\n",
    "    load_from_disk,\n",
    "    list_metrics,\n",
    "    load_metric\n",
    ")\n",
    "import warnings\n",
    "warnings.filterwarnings(\"ignore\")\n",
    "from rich import print"
   ]
  },
  {
   "cell_type": "code",
   "execution_count": 18,
   "metadata": {},
   "outputs": [],
   "source": [
    "ds_list = list_datasets()\n",
    "\n",
    "# Choose 2 different datasets and do the below warmups for 2 weeks"
   ]
  },
  {
   "cell_type": "code",
   "execution_count": 19,
   "metadata": {},
   "outputs": [],
   "source": [
    "metrics_list = list_metrics()"
   ]
  },
  {
   "cell_type": "code",
   "execution_count": 20,
   "metadata": {},
   "outputs": [
    {
     "data": {
      "text/plain": [
       "127246"
      ]
     },
     "execution_count": 20,
     "metadata": {},
     "output_type": "execute_result"
    }
   ],
   "source": [
    "len(ds_list)#2Apr 24, --> 126903, 3Apr --> 127246"
   ]
  },
  {
   "cell_type": "code",
   "execution_count": 7,
   "metadata": {},
   "outputs": [
    {
     "data": {
      "text/html": [
       "<pre style=\"white-space:pre;overflow-x:auto;line-height:normal;font-family:Menlo,'DejaVu Sans Mono',consolas,'Courier New',monospace\">acronym_identification\n",
       "</pre>\n"
      ],
      "text/plain": [
       "acronym_identification\n"
      ]
     },
     "metadata": {},
     "output_type": "display_data"
    },
    {
     "data": {
      "text/html": [
       "<pre style=\"white-space:pre;overflow-x:auto;line-height:normal;font-family:Menlo,'DejaVu Sans Mono',consolas,'Courier New',monospace\">ade_corpus_v2\n",
       "</pre>\n"
      ],
      "text/plain": [
       "ade_corpus_v2\n"
      ]
     },
     "metadata": {},
     "output_type": "display_data"
    },
    {
     "data": {
      "text/html": [
       "<pre style=\"white-space:pre;overflow-x:auto;line-height:normal;font-family:Menlo,'DejaVu Sans Mono',consolas,'Courier New',monospace\">UCLNLP/adversarial_qa\n",
       "</pre>\n"
      ],
      "text/plain": [
       "UCLNLP/adversarial_qa\n"
      ]
     },
     "metadata": {},
     "output_type": "display_data"
    },
    {
     "data": {
      "text/html": [
       "<pre style=\"white-space:pre;overflow-x:auto;line-height:normal;font-family:Menlo,'DejaVu Sans Mono',consolas,'Courier New',monospace\">aeslc\n",
       "</pre>\n"
      ],
      "text/plain": [
       "aeslc\n"
      ]
     },
     "metadata": {},
     "output_type": "display_data"
    },
    {
     "data": {
      "text/html": [
       "<pre style=\"white-space:pre;overflow-x:auto;line-height:normal;font-family:Menlo,'DejaVu Sans Mono',consolas,'Courier New',monospace\">afrikaans_ner_corpus\n",
       "</pre>\n"
      ],
      "text/plain": [
       "afrikaans_ner_corpus\n"
      ]
     },
     "metadata": {},
     "output_type": "display_data"
    }
   ],
   "source": [
    "for ind, x in enumerate(ds_list):\n",
    "    print(x)\n",
    "    if ind > 3:\n",
    "        break"
   ]
  },
  {
   "cell_type": "code",
   "execution_count": 21,
   "metadata": {},
   "outputs": [
    {
     "data": {
      "text/plain": [
       "234"
      ]
     },
     "execution_count": 21,
     "metadata": {},
     "output_type": "execute_result"
    }
   ],
   "source": [
    "len(metrics_list)  #2# Apr 24 ---> 233,  3Apr ==> 234"
   ]
  },
  {
   "cell_type": "code",
   "execution_count": 22,
   "metadata": {},
   "outputs": [
    {
     "data": {
      "text/html": [
       "<pre style=\"white-space:pre;overflow-x:auto;line-height:normal;font-family:Menlo,'DejaVu Sans Mono',consolas,'Courier New',monospace\">accuracy\n",
       "</pre>\n"
      ],
      "text/plain": [
       "accuracy\n"
      ]
     },
     "metadata": {},
     "output_type": "display_data"
    },
    {
     "data": {
      "text/html": [
       "<pre style=\"white-space:pre;overflow-x:auto;line-height:normal;font-family:Menlo,'DejaVu Sans Mono',consolas,'Courier New',monospace\">bertscore\n",
       "</pre>\n"
      ],
      "text/plain": [
       "bertscore\n"
      ]
     },
     "metadata": {},
     "output_type": "display_data"
    },
    {
     "data": {
      "text/html": [
       "<pre style=\"white-space:pre;overflow-x:auto;line-height:normal;font-family:Menlo,'DejaVu Sans Mono',consolas,'Courier New',monospace\">bleu\n",
       "</pre>\n"
      ],
      "text/plain": [
       "bleu\n"
      ]
     },
     "metadata": {},
     "output_type": "display_data"
    },
    {
     "data": {
      "text/html": [
       "<pre style=\"white-space:pre;overflow-x:auto;line-height:normal;font-family:Menlo,'DejaVu Sans Mono',consolas,'Courier New',monospace\">bleurt\n",
       "</pre>\n"
      ],
      "text/plain": [
       "bleurt\n"
      ]
     },
     "metadata": {},
     "output_type": "display_data"
    },
    {
     "data": {
      "text/html": [
       "<pre style=\"white-space:pre;overflow-x:auto;line-height:normal;font-family:Menlo,'DejaVu Sans Mono',consolas,'Courier New',monospace\">brier_score\n",
       "</pre>\n"
      ],
      "text/plain": [
       "brier_score\n"
      ]
     },
     "metadata": {},
     "output_type": "display_data"
    }
   ],
   "source": [
    "for ind, x in enumerate(metrics_list):\n",
    "    print(x)\n",
    "    if ind > 3:\n",
    "        break"
   ]
  },
  {
   "cell_type": "code",
   "execution_count": 10,
   "metadata": {},
   "outputs": [
    {
     "name": "stderr",
     "output_type": "stream",
     "text": [
      "Downloading readme: 100%|██████████| 7.46k/7.46k [00:00<00:00, 1.18MB/s]\n"
     ]
    },
    {
     "data": {
      "text/html": [
       "<pre style=\"white-space:pre;overflow-x:auto;line-height:normal;font-family:Menlo,'DejaVu Sans Mono',consolas,'Courier New',monospace\"><span style=\"font-weight: bold\">{</span>\n",
       "    <span style=\"color: #008000; text-decoration-color: #008000\">'default'</span>: <span style=\"color: #800080; text-decoration-color: #800080; font-weight: bold\">DatasetInfo</span><span style=\"font-weight: bold\">(</span>\n",
       "        <span style=\"color: #808000; text-decoration-color: #808000\">description</span>=<span style=\"color: #008000; text-decoration-color: #008000\">''</span>,\n",
       "        <span style=\"color: #808000; text-decoration-color: #808000\">citation</span>=<span style=\"color: #008000; text-decoration-color: #008000\">''</span>,\n",
       "        <span style=\"color: #808000; text-decoration-color: #808000\">homepage</span>=<span style=\"color: #008000; text-decoration-color: #008000\">''</span>,\n",
       "        <span style=\"color: #808000; text-decoration-color: #808000\">license</span>=<span style=\"color: #008000; text-decoration-color: #008000\">''</span>,\n",
       "        <span style=\"color: #808000; text-decoration-color: #808000\">features</span>=<span style=\"font-weight: bold\">{</span><span style=\"color: #008000; text-decoration-color: #008000\">'text'</span>: <span style=\"color: #800080; text-decoration-color: #800080; font-weight: bold\">Value</span><span style=\"font-weight: bold\">(</span><span style=\"color: #808000; text-decoration-color: #808000\">dtype</span>=<span style=\"color: #008000; text-decoration-color: #008000\">'string'</span>, <span style=\"color: #808000; text-decoration-color: #808000\">id</span>=<span style=\"color: #800080; text-decoration-color: #800080; font-style: italic\">None</span><span style=\"font-weight: bold\">)</span>, <span style=\"color: #008000; text-decoration-color: #008000\">'label'</span>: <span style=\"color: #800080; text-decoration-color: #800080; font-weight: bold\">ClassLabel</span><span style=\"font-weight: bold\">(</span><span style=\"color: #808000; text-decoration-color: #808000\">names</span>=<span style=\"font-weight: bold\">[</span><span style=\"color: #008000; text-decoration-color: #008000\">'neg'</span>, <span style=\"color: #008000; text-decoration-color: #008000\">'pos'</span><span style=\"font-weight: bold\">]</span>, <span style=\"color: #808000; text-decoration-color: #808000\">id</span>=<span style=\"color: #800080; text-decoration-color: #800080; font-style: italic\">None</span><span style=\"font-weight: bold\">)}</span>,\n",
       "        <span style=\"color: #808000; text-decoration-color: #808000\">post_processed</span>=<span style=\"color: #800080; text-decoration-color: #800080; font-style: italic\">None</span>,\n",
       "        <span style=\"color: #808000; text-decoration-color: #808000\">supervised_keys</span>=<span style=\"color: #800080; text-decoration-color: #800080; font-style: italic\">None</span>,\n",
       "        <span style=\"color: #808000; text-decoration-color: #808000\">task_templates</span>=<span style=\"color: #800080; text-decoration-color: #800080; font-style: italic\">None</span>,\n",
       "        <span style=\"color: #808000; text-decoration-color: #808000\">builder_name</span>=<span style=\"color: #008000; text-decoration-color: #008000\">'parquet'</span>,\n",
       "        <span style=\"color: #808000; text-decoration-color: #808000\">dataset_name</span>=<span style=\"color: #008000; text-decoration-color: #008000\">'rotten_tomatoes'</span>,\n",
       "        <span style=\"color: #808000; text-decoration-color: #808000\">config_name</span>=<span style=\"color: #008000; text-decoration-color: #008000\">'default'</span>,\n",
       "        <span style=\"color: #808000; text-decoration-color: #808000\">version</span>=<span style=\"color: #008080; text-decoration-color: #008080; font-weight: bold\">0.0</span>.<span style=\"color: #008080; text-decoration-color: #008080; font-weight: bold\">0</span>,\n",
       "        <span style=\"color: #808000; text-decoration-color: #808000\">splits</span>=<span style=\"font-weight: bold\">{</span>\n",
       "            <span style=\"color: #008000; text-decoration-color: #008000\">'train'</span>: <span style=\"color: #800080; text-decoration-color: #800080; font-weight: bold\">SplitInfo</span><span style=\"font-weight: bold\">(</span>\n",
       "                <span style=\"color: #808000; text-decoration-color: #808000\">name</span>=<span style=\"color: #008000; text-decoration-color: #008000\">'train'</span>,\n",
       "                <span style=\"color: #808000; text-decoration-color: #808000\">num_bytes</span>=<span style=\"color: #008080; text-decoration-color: #008080; font-weight: bold\">1074810</span>,\n",
       "                <span style=\"color: #808000; text-decoration-color: #808000\">num_examples</span>=<span style=\"color: #008080; text-decoration-color: #008080; font-weight: bold\">8530</span>,\n",
       "                <span style=\"color: #808000; text-decoration-color: #808000\">shard_lengths</span>=<span style=\"color: #800080; text-decoration-color: #800080; font-style: italic\">None</span>,\n",
       "                <span style=\"color: #808000; text-decoration-color: #808000\">dataset_name</span>=<span style=\"color: #800080; text-decoration-color: #800080; font-style: italic\">None</span>\n",
       "            <span style=\"font-weight: bold\">)</span>,\n",
       "            <span style=\"color: #008000; text-decoration-color: #008000\">'validation'</span>: <span style=\"color: #800080; text-decoration-color: #800080; font-weight: bold\">SplitInfo</span><span style=\"font-weight: bold\">(</span>\n",
       "                <span style=\"color: #808000; text-decoration-color: #808000\">name</span>=<span style=\"color: #008000; text-decoration-color: #008000\">'validation'</span>,\n",
       "                <span style=\"color: #808000; text-decoration-color: #808000\">num_bytes</span>=<span style=\"color: #008080; text-decoration-color: #008080; font-weight: bold\">134679</span>,\n",
       "                <span style=\"color: #808000; text-decoration-color: #808000\">num_examples</span>=<span style=\"color: #008080; text-decoration-color: #008080; font-weight: bold\">1066</span>,\n",
       "                <span style=\"color: #808000; text-decoration-color: #808000\">shard_lengths</span>=<span style=\"color: #800080; text-decoration-color: #800080; font-style: italic\">None</span>,\n",
       "                <span style=\"color: #808000; text-decoration-color: #808000\">dataset_name</span>=<span style=\"color: #800080; text-decoration-color: #800080; font-style: italic\">None</span>\n",
       "            <span style=\"font-weight: bold\">)</span>,\n",
       "            <span style=\"color: #008000; text-decoration-color: #008000\">'test'</span>: <span style=\"color: #800080; text-decoration-color: #800080; font-weight: bold\">SplitInfo</span><span style=\"font-weight: bold\">(</span>\n",
       "                <span style=\"color: #808000; text-decoration-color: #808000\">name</span>=<span style=\"color: #008000; text-decoration-color: #008000\">'test'</span>,\n",
       "                <span style=\"color: #808000; text-decoration-color: #808000\">num_bytes</span>=<span style=\"color: #008080; text-decoration-color: #008080; font-weight: bold\">135972</span>,\n",
       "                <span style=\"color: #808000; text-decoration-color: #808000\">num_examples</span>=<span style=\"color: #008080; text-decoration-color: #008080; font-weight: bold\">1066</span>,\n",
       "                <span style=\"color: #808000; text-decoration-color: #808000\">shard_lengths</span>=<span style=\"color: #800080; text-decoration-color: #800080; font-style: italic\">None</span>,\n",
       "                <span style=\"color: #808000; text-decoration-color: #808000\">dataset_name</span>=<span style=\"color: #800080; text-decoration-color: #800080; font-style: italic\">None</span>\n",
       "            <span style=\"font-weight: bold\">)</span>\n",
       "        <span style=\"font-weight: bold\">}</span>,\n",
       "        <span style=\"color: #808000; text-decoration-color: #808000\">download_checksums</span>=<span style=\"color: #800080; text-decoration-color: #800080; font-style: italic\">None</span>,\n",
       "        <span style=\"color: #808000; text-decoration-color: #808000\">download_size</span>=<span style=\"color: #008080; text-decoration-color: #008080; font-weight: bold\">487770</span>,\n",
       "        <span style=\"color: #808000; text-decoration-color: #808000\">post_processing_size</span>=<span style=\"color: #800080; text-decoration-color: #800080; font-style: italic\">None</span>,\n",
       "        <span style=\"color: #808000; text-decoration-color: #808000\">dataset_size</span>=<span style=\"color: #008080; text-decoration-color: #008080; font-weight: bold\">1345461</span>,\n",
       "        <span style=\"color: #808000; text-decoration-color: #808000\">size_in_bytes</span>=<span style=\"color: #800080; text-decoration-color: #800080; font-style: italic\">None</span>\n",
       "    <span style=\"font-weight: bold\">)</span>\n",
       "<span style=\"font-weight: bold\">}</span>\n",
       "</pre>\n"
      ],
      "text/plain": [
       "\u001b[1m{\u001b[0m\n",
       "    \u001b[32m'default'\u001b[0m: \u001b[1;35mDatasetInfo\u001b[0m\u001b[1m(\u001b[0m\n",
       "        \u001b[33mdescription\u001b[0m=\u001b[32m''\u001b[0m,\n",
       "        \u001b[33mcitation\u001b[0m=\u001b[32m''\u001b[0m,\n",
       "        \u001b[33mhomepage\u001b[0m=\u001b[32m''\u001b[0m,\n",
       "        \u001b[33mlicense\u001b[0m=\u001b[32m''\u001b[0m,\n",
       "        \u001b[33mfeatures\u001b[0m=\u001b[1m{\u001b[0m\u001b[32m'text'\u001b[0m: \u001b[1;35mValue\u001b[0m\u001b[1m(\u001b[0m\u001b[33mdtype\u001b[0m=\u001b[32m'string'\u001b[0m, \u001b[33mid\u001b[0m=\u001b[3;35mNone\u001b[0m\u001b[1m)\u001b[0m, \u001b[32m'label'\u001b[0m: \u001b[1;35mClassLabel\u001b[0m\u001b[1m(\u001b[0m\u001b[33mnames\u001b[0m=\u001b[1m[\u001b[0m\u001b[32m'neg'\u001b[0m, \u001b[32m'pos'\u001b[0m\u001b[1m]\u001b[0m, \u001b[33mid\u001b[0m=\u001b[3;35mNone\u001b[0m\u001b[1m)\u001b[0m\u001b[1m}\u001b[0m,\n",
       "        \u001b[33mpost_processed\u001b[0m=\u001b[3;35mNone\u001b[0m,\n",
       "        \u001b[33msupervised_keys\u001b[0m=\u001b[3;35mNone\u001b[0m,\n",
       "        \u001b[33mtask_templates\u001b[0m=\u001b[3;35mNone\u001b[0m,\n",
       "        \u001b[33mbuilder_name\u001b[0m=\u001b[32m'parquet'\u001b[0m,\n",
       "        \u001b[33mdataset_name\u001b[0m=\u001b[32m'rotten_tomatoes'\u001b[0m,\n",
       "        \u001b[33mconfig_name\u001b[0m=\u001b[32m'default'\u001b[0m,\n",
       "        \u001b[33mversion\u001b[0m=\u001b[1;36m0\u001b[0m\u001b[1;36m.0\u001b[0m.\u001b[1;36m0\u001b[0m,\n",
       "        \u001b[33msplits\u001b[0m=\u001b[1m{\u001b[0m\n",
       "            \u001b[32m'train'\u001b[0m: \u001b[1;35mSplitInfo\u001b[0m\u001b[1m(\u001b[0m\n",
       "                \u001b[33mname\u001b[0m=\u001b[32m'train'\u001b[0m,\n",
       "                \u001b[33mnum_bytes\u001b[0m=\u001b[1;36m1074810\u001b[0m,\n",
       "                \u001b[33mnum_examples\u001b[0m=\u001b[1;36m8530\u001b[0m,\n",
       "                \u001b[33mshard_lengths\u001b[0m=\u001b[3;35mNone\u001b[0m,\n",
       "                \u001b[33mdataset_name\u001b[0m=\u001b[3;35mNone\u001b[0m\n",
       "            \u001b[1m)\u001b[0m,\n",
       "            \u001b[32m'validation'\u001b[0m: \u001b[1;35mSplitInfo\u001b[0m\u001b[1m(\u001b[0m\n",
       "                \u001b[33mname\u001b[0m=\u001b[32m'validation'\u001b[0m,\n",
       "                \u001b[33mnum_bytes\u001b[0m=\u001b[1;36m134679\u001b[0m,\n",
       "                \u001b[33mnum_examples\u001b[0m=\u001b[1;36m1066\u001b[0m,\n",
       "                \u001b[33mshard_lengths\u001b[0m=\u001b[3;35mNone\u001b[0m,\n",
       "                \u001b[33mdataset_name\u001b[0m=\u001b[3;35mNone\u001b[0m\n",
       "            \u001b[1m)\u001b[0m,\n",
       "            \u001b[32m'test'\u001b[0m: \u001b[1;35mSplitInfo\u001b[0m\u001b[1m(\u001b[0m\n",
       "                \u001b[33mname\u001b[0m=\u001b[32m'test'\u001b[0m,\n",
       "                \u001b[33mnum_bytes\u001b[0m=\u001b[1;36m135972\u001b[0m,\n",
       "                \u001b[33mnum_examples\u001b[0m=\u001b[1;36m1066\u001b[0m,\n",
       "                \u001b[33mshard_lengths\u001b[0m=\u001b[3;35mNone\u001b[0m,\n",
       "                \u001b[33mdataset_name\u001b[0m=\u001b[3;35mNone\u001b[0m\n",
       "            \u001b[1m)\u001b[0m\n",
       "        \u001b[1m}\u001b[0m,\n",
       "        \u001b[33mdownload_checksums\u001b[0m=\u001b[3;35mNone\u001b[0m,\n",
       "        \u001b[33mdownload_size\u001b[0m=\u001b[1;36m487770\u001b[0m,\n",
       "        \u001b[33mpost_processing_size\u001b[0m=\u001b[3;35mNone\u001b[0m,\n",
       "        \u001b[33mdataset_size\u001b[0m=\u001b[1;36m1345461\u001b[0m,\n",
       "        \u001b[33msize_in_bytes\u001b[0m=\u001b[3;35mNone\u001b[0m\n",
       "    \u001b[1m)\u001b[0m\n",
       "\u001b[1m}\u001b[0m\n"
      ]
     },
     "metadata": {},
     "output_type": "display_data"
    }
   ],
   "source": [
    "# we might want the info on dataset before pulling it to locally\n",
    "ds_info = get_dataset_infos('rotten_tomatoes')\n",
    "print(ds_info)"
   ]
  },
  {
   "cell_type": "code",
   "execution_count": 11,
   "metadata": {},
   "outputs": [
    {
     "data": {
      "text/plain": [
       "['train', 'validation', 'test']"
      ]
     },
     "execution_count": 11,
     "metadata": {},
     "output_type": "execute_result"
    }
   ],
   "source": [
    "# get the split names\n",
    "ds_splits = get_dataset_split_names('rotten_tomatoes')\n",
    "ds_splits"
   ]
  },
  {
   "cell_type": "code",
   "execution_count": 23,
   "metadata": {},
   "outputs": [
    {
     "name": "stderr",
     "output_type": "stream",
     "text": [
      "Downloading builder script: 100%|██████████| 5.90k/5.90k [00:00<00:00, 4.96MB/s]\n",
      "Downloading readme: 100%|██████████| 5.29k/5.29k [00:00<00:00, 5.68MB/s]\n"
     ]
    },
    {
     "data": {
      "text/plain": [
       "['cs-CZ',\n",
       " 'de-DE',\n",
       " 'en-AU',\n",
       " 'en-GB',\n",
       " 'en-US',\n",
       " 'es-ES',\n",
       " 'fr-FR',\n",
       " 'it-IT',\n",
       " 'ko-KR',\n",
       " 'nl-NL',\n",
       " 'pl-PL',\n",
       " 'pt-PT',\n",
       " 'ru-RU',\n",
       " 'zh-CN',\n",
       " 'all']"
      ]
     },
     "execution_count": 23,
     "metadata": {},
     "output_type": "execute_result"
    }
   ],
   "source": [
    "minds_config_names = get_dataset_config_names(\"PolyAI/minds14\")\n",
    "minds_config_names"
   ]
  },
  {
   "cell_type": "code",
   "execution_count": 57,
   "metadata": {},
   "outputs": [
    {
     "data": {
      "text/html": [
       "<pre style=\"white-space:pre;overflow-x:auto;line-height:normal;font-family:Menlo,'DejaVu Sans Mono',consolas,'Courier New',monospace\"><span style=\"font-weight: bold\">[</span><span style=\"color: #008000; text-decoration-color: #008000\">'ax'</span>, <span style=\"color: #008000; text-decoration-color: #008000\">'cola'</span>, <span style=\"color: #008000; text-decoration-color: #008000\">'mnli'</span>, <span style=\"color: #008000; text-decoration-color: #008000\">'mnli_matched'</span>, <span style=\"color: #008000; text-decoration-color: #008000\">'mnli_mismatched'</span>, <span style=\"color: #008000; text-decoration-color: #008000\">'mrpc'</span>, <span style=\"color: #008000; text-decoration-color: #008000\">'qnli'</span>, <span style=\"color: #008000; text-decoration-color: #008000\">'qqp'</span>, <span style=\"color: #008000; text-decoration-color: #008000\">'rte'</span>, <span style=\"color: #008000; text-decoration-color: #008000\">'sst2'</span>, <span style=\"color: #008000; text-decoration-color: #008000\">'stsb'</span>, <span style=\"color: #008000; text-decoration-color: #008000\">'wnli'</span><span style=\"font-weight: bold\">]</span>\n",
       "</pre>\n"
      ],
      "text/plain": [
       "\u001b[1m[\u001b[0m\u001b[32m'ax'\u001b[0m, \u001b[32m'cola'\u001b[0m, \u001b[32m'mnli'\u001b[0m, \u001b[32m'mnli_matched'\u001b[0m, \u001b[32m'mnli_mismatched'\u001b[0m, \u001b[32m'mrpc'\u001b[0m, \u001b[32m'qnli'\u001b[0m, \u001b[32m'qqp'\u001b[0m, \u001b[32m'rte'\u001b[0m, \u001b[32m'sst2'\u001b[0m, \u001b[32m'stsb'\u001b[0m, \u001b[32m'wnli'\u001b[0m\u001b[1m]\u001b[0m\n"
      ]
     },
     "metadata": {},
     "output_type": "display_data"
    }
   ],
   "source": [
    "glue_config_names = get_dataset_config_names(\"glue\")\n",
    "print(glue_config_names)\n",
    "\n",
    "# Try the above with \"PolyAI/minds14\"\n",
    "# Try to locate more datasets with such configs\n",
    "# https://huggingface.co/datasets/PolyAI/minds14\n",
    "# https://huggingface.co/datasets/nyu-mll/glue/viewer/\n",
    "# https://gluebenchmark.com/"
   ]
  },
  {
   "cell_type": "code",
   "execution_count": 13,
   "metadata": {},
   "outputs": [],
   "source": [
    "glue = load_dataset_builder(\"glue\", 'cola')\n",
    "# Please pick one among the available configs: ['ax', 'cola', 'mnli', 'mnli_matched', 'mnli_mismatched', 'mrpc', 'qnli', 'qqp', 'rte', 'sst2', 'stsb', 'wnli']"
   ]
  },
  {
   "cell_type": "code",
   "execution_count": 15,
   "metadata": {},
   "outputs": [
    {
     "data": {
      "text/html": [
       "<pre style=\"white-space:pre;overflow-x:auto;line-height:normal;font-family:Menlo,'DejaVu Sans Mono',consolas,'Courier New',monospace\"><span style=\"font-weight: bold\">&lt;</span><span style=\"color: #ff00ff; text-decoration-color: #ff00ff; font-weight: bold\">datasets.packaged_modules.parquet.parquet.ParquetGlue</span><span style=\"color: #000000; text-decoration-color: #000000\"> object at </span><span style=\"color: #008080; text-decoration-color: #008080; font-weight: bold\">0x7fe0be20fb50</span><span style=\"font-weight: bold\">&gt;</span>\n",
       "</pre>\n"
      ],
      "text/plain": [
       "\u001b[1m<\u001b[0m\u001b[1;95mdatasets.packaged_modules.parquet.parquet.ParquetGlue\u001b[0m\u001b[39m object at \u001b[0m\u001b[1;36m0x7fe0be20fb50\u001b[0m\u001b[1m>\u001b[0m\n"
      ]
     },
     "metadata": {},
     "output_type": "display_data"
    }
   ],
   "source": [
    "print(glue)  # speaks about the parquet / arrow file at disk level details"
   ]
  },
  {
   "cell_type": "code",
   "execution_count": 14,
   "metadata": {},
   "outputs": [
    {
     "data": {
      "text/html": [
       "<pre style=\"white-space:pre;overflow-x:auto;line-height:normal;font-family:Menlo,'DejaVu Sans Mono',consolas,'Courier New',monospace\"><span style=\"font-weight: bold\">{</span>\n",
       "    <span style=\"color: #008000; text-decoration-color: #008000\">'ax'</span>: <span style=\"color: #800080; text-decoration-color: #800080; font-weight: bold\">ParquetConfig</span><span style=\"font-weight: bold\">(</span>\n",
       "        <span style=\"color: #808000; text-decoration-color: #808000\">name</span>=<span style=\"color: #008000; text-decoration-color: #008000\">'ax'</span>,\n",
       "        <span style=\"color: #808000; text-decoration-color: #808000\">version</span>=<span style=\"color: #008080; text-decoration-color: #008080; font-weight: bold\">0.0</span>.<span style=\"color: #008080; text-decoration-color: #008080; font-weight: bold\">0</span>,\n",
       "        <span style=\"color: #808000; text-decoration-color: #808000\">data_dir</span>=<span style=\"color: #800080; text-decoration-color: #800080; font-style: italic\">None</span>,\n",
       "        <span style=\"color: #808000; text-decoration-color: #808000\">data_files</span>=<span style=\"font-weight: bold\">{</span><span style=\"color: #008000; text-decoration-color: #008000\">'test'</span>: <span style=\"font-weight: bold\">[</span><span style=\"color: #008000; text-decoration-color: #008000\">'ax/test-*'</span><span style=\"font-weight: bold\">]}</span>,\n",
       "        <span style=\"color: #808000; text-decoration-color: #808000\">description</span>=<span style=\"color: #800080; text-decoration-color: #800080; font-style: italic\">None</span>,\n",
       "        <span style=\"color: #808000; text-decoration-color: #808000\">batch_size</span>=<span style=\"color: #800080; text-decoration-color: #800080; font-style: italic\">None</span>,\n",
       "        <span style=\"color: #808000; text-decoration-color: #808000\">columns</span>=<span style=\"color: #800080; text-decoration-color: #800080; font-style: italic\">None</span>,\n",
       "        <span style=\"color: #808000; text-decoration-color: #808000\">features</span>=<span style=\"color: #800080; text-decoration-color: #800080; font-style: italic\">None</span>\n",
       "    <span style=\"font-weight: bold\">)</span>,\n",
       "    <span style=\"color: #008000; text-decoration-color: #008000\">'cola'</span>: <span style=\"color: #800080; text-decoration-color: #800080; font-weight: bold\">ParquetConfig</span><span style=\"font-weight: bold\">(</span>\n",
       "        <span style=\"color: #808000; text-decoration-color: #808000\">name</span>=<span style=\"color: #008000; text-decoration-color: #008000\">'cola'</span>,\n",
       "        <span style=\"color: #808000; text-decoration-color: #808000\">version</span>=<span style=\"color: #008080; text-decoration-color: #008080; font-weight: bold\">0.0</span>.<span style=\"color: #008080; text-decoration-color: #008080; font-weight: bold\">0</span>,\n",
       "        <span style=\"color: #808000; text-decoration-color: #808000\">data_dir</span>=<span style=\"color: #800080; text-decoration-color: #800080; font-style: italic\">None</span>,\n",
       "        <span style=\"color: #808000; text-decoration-color: #808000\">data_files</span>=<span style=\"font-weight: bold\">{</span>\n",
       "            <span style=\"color: #008000; text-decoration-color: #008000\">'train'</span>: <span style=\"font-weight: bold\">[</span>\n",
       "                <span style=\"color: #008000; text-decoration-color: #008000\">'hf://datasets/glue@bcdcba79d07bc864c1c254ccfcedcce55bcc9a8c/cola/train-00000-of-00001.parquet'</span>\n",
       "            <span style=\"font-weight: bold\">]</span>,\n",
       "            <span style=\"color: #008000; text-decoration-color: #008000\">'validation'</span>: <span style=\"font-weight: bold\">[</span>\n",
       "                <span style=\"color: #008000; text-decoration-color: #008000\">'hf://datasets/glue@bcdcba79d07bc864c1c254ccfcedcce55bcc9a8c/cola/validation-00000-of-00001.parquet</span>\n",
       "<span style=\"color: #008000; text-decoration-color: #008000\">'</span>\n",
       "            <span style=\"font-weight: bold\">]</span>,\n",
       "            <span style=\"color: #008000; text-decoration-color: #008000\">'test'</span>: <span style=\"font-weight: bold\">[</span>\n",
       "                <span style=\"color: #008000; text-decoration-color: #008000\">'hf://datasets/glue@bcdcba79d07bc864c1c254ccfcedcce55bcc9a8c/cola/test-00000-of-00001.parquet'</span>\n",
       "            <span style=\"font-weight: bold\">]</span>\n",
       "        <span style=\"font-weight: bold\">}</span>,\n",
       "        <span style=\"color: #808000; text-decoration-color: #808000\">description</span>=<span style=\"color: #800080; text-decoration-color: #800080; font-style: italic\">None</span>,\n",
       "        <span style=\"color: #808000; text-decoration-color: #808000\">batch_size</span>=<span style=\"color: #800080; text-decoration-color: #800080; font-style: italic\">None</span>,\n",
       "        <span style=\"color: #808000; text-decoration-color: #808000\">columns</span>=<span style=\"color: #800080; text-decoration-color: #800080; font-style: italic\">None</span>,\n",
       "        <span style=\"color: #808000; text-decoration-color: #808000\">features</span>=<span style=\"color: #800080; text-decoration-color: #800080; font-style: italic\">None</span>\n",
       "    <span style=\"font-weight: bold\">)</span>,\n",
       "    <span style=\"color: #008000; text-decoration-color: #008000\">'mnli'</span>: <span style=\"color: #800080; text-decoration-color: #800080; font-weight: bold\">ParquetConfig</span><span style=\"font-weight: bold\">(</span>\n",
       "        <span style=\"color: #808000; text-decoration-color: #808000\">name</span>=<span style=\"color: #008000; text-decoration-color: #008000\">'mnli'</span>,\n",
       "        <span style=\"color: #808000; text-decoration-color: #808000\">version</span>=<span style=\"color: #008080; text-decoration-color: #008080; font-weight: bold\">0.0</span>.<span style=\"color: #008080; text-decoration-color: #008080; font-weight: bold\">0</span>,\n",
       "        <span style=\"color: #808000; text-decoration-color: #808000\">data_dir</span>=<span style=\"color: #800080; text-decoration-color: #800080; font-style: italic\">None</span>,\n",
       "        <span style=\"color: #808000; text-decoration-color: #808000\">data_files</span>=<span style=\"font-weight: bold\">{</span>\n",
       "            <span style=\"color: #008000; text-decoration-color: #008000\">'train'</span>: <span style=\"font-weight: bold\">[</span><span style=\"color: #008000; text-decoration-color: #008000\">'mnli/train-*'</span><span style=\"font-weight: bold\">]</span>,\n",
       "            <span style=\"color: #008000; text-decoration-color: #008000\">'validation_matched'</span>: <span style=\"font-weight: bold\">[</span><span style=\"color: #008000; text-decoration-color: #008000\">'mnli/validation_matched-*'</span><span style=\"font-weight: bold\">]</span>,\n",
       "            <span style=\"color: #008000; text-decoration-color: #008000\">'validation_mismatched'</span>: <span style=\"font-weight: bold\">[</span><span style=\"color: #008000; text-decoration-color: #008000\">'mnli/validation_mismatched-*'</span><span style=\"font-weight: bold\">]</span>,\n",
       "            <span style=\"color: #008000; text-decoration-color: #008000\">'test_matched'</span>: <span style=\"font-weight: bold\">[</span><span style=\"color: #008000; text-decoration-color: #008000\">'mnli/test_matched-*'</span><span style=\"font-weight: bold\">]</span>,\n",
       "            <span style=\"color: #008000; text-decoration-color: #008000\">'test_mismatched'</span>: <span style=\"font-weight: bold\">[</span><span style=\"color: #008000; text-decoration-color: #008000\">'mnli/test_mismatched-*'</span><span style=\"font-weight: bold\">]</span>\n",
       "        <span style=\"font-weight: bold\">}</span>,\n",
       "        <span style=\"color: #808000; text-decoration-color: #808000\">description</span>=<span style=\"color: #800080; text-decoration-color: #800080; font-style: italic\">None</span>,\n",
       "        <span style=\"color: #808000; text-decoration-color: #808000\">batch_size</span>=<span style=\"color: #800080; text-decoration-color: #800080; font-style: italic\">None</span>,\n",
       "        <span style=\"color: #808000; text-decoration-color: #808000\">columns</span>=<span style=\"color: #800080; text-decoration-color: #800080; font-style: italic\">None</span>,\n",
       "        <span style=\"color: #808000; text-decoration-color: #808000\">features</span>=<span style=\"color: #800080; text-decoration-color: #800080; font-style: italic\">None</span>\n",
       "    <span style=\"font-weight: bold\">)</span>,\n",
       "    <span style=\"color: #008000; text-decoration-color: #008000\">'mnli_matched'</span>: <span style=\"color: #800080; text-decoration-color: #800080; font-weight: bold\">ParquetConfig</span><span style=\"font-weight: bold\">(</span>\n",
       "        <span style=\"color: #808000; text-decoration-color: #808000\">name</span>=<span style=\"color: #008000; text-decoration-color: #008000\">'mnli_matched'</span>,\n",
       "        <span style=\"color: #808000; text-decoration-color: #808000\">version</span>=<span style=\"color: #008080; text-decoration-color: #008080; font-weight: bold\">0.0</span>.<span style=\"color: #008080; text-decoration-color: #008080; font-weight: bold\">0</span>,\n",
       "        <span style=\"color: #808000; text-decoration-color: #808000\">data_dir</span>=<span style=\"color: #800080; text-decoration-color: #800080; font-style: italic\">None</span>,\n",
       "        <span style=\"color: #808000; text-decoration-color: #808000\">data_files</span>=<span style=\"font-weight: bold\">{</span><span style=\"color: #008000; text-decoration-color: #008000\">'validation'</span>: <span style=\"font-weight: bold\">[</span><span style=\"color: #008000; text-decoration-color: #008000\">'mnli_matched/validation-*'</span><span style=\"font-weight: bold\">]</span>, <span style=\"color: #008000; text-decoration-color: #008000\">'test'</span>: <span style=\"font-weight: bold\">[</span><span style=\"color: #008000; text-decoration-color: #008000\">'mnli_matched/test-*'</span><span style=\"font-weight: bold\">]}</span>,\n",
       "        <span style=\"color: #808000; text-decoration-color: #808000\">description</span>=<span style=\"color: #800080; text-decoration-color: #800080; font-style: italic\">None</span>,\n",
       "        <span style=\"color: #808000; text-decoration-color: #808000\">batch_size</span>=<span style=\"color: #800080; text-decoration-color: #800080; font-style: italic\">None</span>,\n",
       "        <span style=\"color: #808000; text-decoration-color: #808000\">columns</span>=<span style=\"color: #800080; text-decoration-color: #800080; font-style: italic\">None</span>,\n",
       "        <span style=\"color: #808000; text-decoration-color: #808000\">features</span>=<span style=\"color: #800080; text-decoration-color: #800080; font-style: italic\">None</span>\n",
       "    <span style=\"font-weight: bold\">)</span>,\n",
       "    <span style=\"color: #008000; text-decoration-color: #008000\">'mnli_mismatched'</span>: <span style=\"color: #800080; text-decoration-color: #800080; font-weight: bold\">ParquetConfig</span><span style=\"font-weight: bold\">(</span>\n",
       "        <span style=\"color: #808000; text-decoration-color: #808000\">name</span>=<span style=\"color: #008000; text-decoration-color: #008000\">'mnli_mismatched'</span>,\n",
       "        <span style=\"color: #808000; text-decoration-color: #808000\">version</span>=<span style=\"color: #008080; text-decoration-color: #008080; font-weight: bold\">0.0</span>.<span style=\"color: #008080; text-decoration-color: #008080; font-weight: bold\">0</span>,\n",
       "        <span style=\"color: #808000; text-decoration-color: #808000\">data_dir</span>=<span style=\"color: #800080; text-decoration-color: #800080; font-style: italic\">None</span>,\n",
       "        <span style=\"color: #808000; text-decoration-color: #808000\">data_files</span>=<span style=\"font-weight: bold\">{</span><span style=\"color: #008000; text-decoration-color: #008000\">'validation'</span>: <span style=\"font-weight: bold\">[</span><span style=\"color: #008000; text-decoration-color: #008000\">'mnli_mismatched/validation-*'</span><span style=\"font-weight: bold\">]</span>, <span style=\"color: #008000; text-decoration-color: #008000\">'test'</span>: <span style=\"font-weight: bold\">[</span><span style=\"color: #008000; text-decoration-color: #008000\">'mnli_mismatched/test-*'</span><span style=\"font-weight: bold\">]}</span>,\n",
       "        <span style=\"color: #808000; text-decoration-color: #808000\">description</span>=<span style=\"color: #800080; text-decoration-color: #800080; font-style: italic\">None</span>,\n",
       "        <span style=\"color: #808000; text-decoration-color: #808000\">batch_size</span>=<span style=\"color: #800080; text-decoration-color: #800080; font-style: italic\">None</span>,\n",
       "        <span style=\"color: #808000; text-decoration-color: #808000\">columns</span>=<span style=\"color: #800080; text-decoration-color: #800080; font-style: italic\">None</span>,\n",
       "        <span style=\"color: #808000; text-decoration-color: #808000\">features</span>=<span style=\"color: #800080; text-decoration-color: #800080; font-style: italic\">None</span>\n",
       "    <span style=\"font-weight: bold\">)</span>,\n",
       "    <span style=\"color: #008000; text-decoration-color: #008000\">'mrpc'</span>: <span style=\"color: #800080; text-decoration-color: #800080; font-weight: bold\">ParquetConfig</span><span style=\"font-weight: bold\">(</span>\n",
       "        <span style=\"color: #808000; text-decoration-color: #808000\">name</span>=<span style=\"color: #008000; text-decoration-color: #008000\">'mrpc'</span>,\n",
       "        <span style=\"color: #808000; text-decoration-color: #808000\">version</span>=<span style=\"color: #008080; text-decoration-color: #008080; font-weight: bold\">0.0</span>.<span style=\"color: #008080; text-decoration-color: #008080; font-weight: bold\">0</span>,\n",
       "        <span style=\"color: #808000; text-decoration-color: #808000\">data_dir</span>=<span style=\"color: #800080; text-decoration-color: #800080; font-style: italic\">None</span>,\n",
       "        <span style=\"color: #808000; text-decoration-color: #808000\">data_files</span>=<span style=\"font-weight: bold\">{</span><span style=\"color: #008000; text-decoration-color: #008000\">'train'</span>: <span style=\"font-weight: bold\">[</span><span style=\"color: #008000; text-decoration-color: #008000\">'mrpc/train-*'</span><span style=\"font-weight: bold\">]</span>, <span style=\"color: #008000; text-decoration-color: #008000\">'validation'</span>: <span style=\"font-weight: bold\">[</span><span style=\"color: #008000; text-decoration-color: #008000\">'mrpc/validation-*'</span><span style=\"font-weight: bold\">]</span>, <span style=\"color: #008000; text-decoration-color: #008000\">'test'</span>: <span style=\"font-weight: bold\">[</span><span style=\"color: #008000; text-decoration-color: #008000\">'mrpc/test-*'</span><span style=\"font-weight: bold\">]}</span>,\n",
       "        <span style=\"color: #808000; text-decoration-color: #808000\">description</span>=<span style=\"color: #800080; text-decoration-color: #800080; font-style: italic\">None</span>,\n",
       "        <span style=\"color: #808000; text-decoration-color: #808000\">batch_size</span>=<span style=\"color: #800080; text-decoration-color: #800080; font-style: italic\">None</span>,\n",
       "        <span style=\"color: #808000; text-decoration-color: #808000\">columns</span>=<span style=\"color: #800080; text-decoration-color: #800080; font-style: italic\">None</span>,\n",
       "        <span style=\"color: #808000; text-decoration-color: #808000\">features</span>=<span style=\"color: #800080; text-decoration-color: #800080; font-style: italic\">None</span>\n",
       "    <span style=\"font-weight: bold\">)</span>,\n",
       "    <span style=\"color: #008000; text-decoration-color: #008000\">'qnli'</span>: <span style=\"color: #800080; text-decoration-color: #800080; font-weight: bold\">ParquetConfig</span><span style=\"font-weight: bold\">(</span>\n",
       "        <span style=\"color: #808000; text-decoration-color: #808000\">name</span>=<span style=\"color: #008000; text-decoration-color: #008000\">'qnli'</span>,\n",
       "        <span style=\"color: #808000; text-decoration-color: #808000\">version</span>=<span style=\"color: #008080; text-decoration-color: #008080; font-weight: bold\">0.0</span>.<span style=\"color: #008080; text-decoration-color: #008080; font-weight: bold\">0</span>,\n",
       "        <span style=\"color: #808000; text-decoration-color: #808000\">data_dir</span>=<span style=\"color: #800080; text-decoration-color: #800080; font-style: italic\">None</span>,\n",
       "        <span style=\"color: #808000; text-decoration-color: #808000\">data_files</span>=<span style=\"font-weight: bold\">{</span><span style=\"color: #008000; text-decoration-color: #008000\">'train'</span>: <span style=\"font-weight: bold\">[</span><span style=\"color: #008000; text-decoration-color: #008000\">'qnli/train-*'</span><span style=\"font-weight: bold\">]</span>, <span style=\"color: #008000; text-decoration-color: #008000\">'validation'</span>: <span style=\"font-weight: bold\">[</span><span style=\"color: #008000; text-decoration-color: #008000\">'qnli/validation-*'</span><span style=\"font-weight: bold\">]</span>, <span style=\"color: #008000; text-decoration-color: #008000\">'test'</span>: <span style=\"font-weight: bold\">[</span><span style=\"color: #008000; text-decoration-color: #008000\">'qnli/test-*'</span><span style=\"font-weight: bold\">]}</span>,\n",
       "        <span style=\"color: #808000; text-decoration-color: #808000\">description</span>=<span style=\"color: #800080; text-decoration-color: #800080; font-style: italic\">None</span>,\n",
       "        <span style=\"color: #808000; text-decoration-color: #808000\">batch_size</span>=<span style=\"color: #800080; text-decoration-color: #800080; font-style: italic\">None</span>,\n",
       "        <span style=\"color: #808000; text-decoration-color: #808000\">columns</span>=<span style=\"color: #800080; text-decoration-color: #800080; font-style: italic\">None</span>,\n",
       "        <span style=\"color: #808000; text-decoration-color: #808000\">features</span>=<span style=\"color: #800080; text-decoration-color: #800080; font-style: italic\">None</span>\n",
       "    <span style=\"font-weight: bold\">)</span>,\n",
       "    <span style=\"color: #008000; text-decoration-color: #008000\">'qqp'</span>: <span style=\"color: #800080; text-decoration-color: #800080; font-weight: bold\">ParquetConfig</span><span style=\"font-weight: bold\">(</span>\n",
       "        <span style=\"color: #808000; text-decoration-color: #808000\">name</span>=<span style=\"color: #008000; text-decoration-color: #008000\">'qqp'</span>,\n",
       "        <span style=\"color: #808000; text-decoration-color: #808000\">version</span>=<span style=\"color: #008080; text-decoration-color: #008080; font-weight: bold\">0.0</span>.<span style=\"color: #008080; text-decoration-color: #008080; font-weight: bold\">0</span>,\n",
       "        <span style=\"color: #808000; text-decoration-color: #808000\">data_dir</span>=<span style=\"color: #800080; text-decoration-color: #800080; font-style: italic\">None</span>,\n",
       "        <span style=\"color: #808000; text-decoration-color: #808000\">data_files</span>=<span style=\"font-weight: bold\">{</span><span style=\"color: #008000; text-decoration-color: #008000\">'train'</span>: <span style=\"font-weight: bold\">[</span><span style=\"color: #008000; text-decoration-color: #008000\">'qqp/train-*'</span><span style=\"font-weight: bold\">]</span>, <span style=\"color: #008000; text-decoration-color: #008000\">'validation'</span>: <span style=\"font-weight: bold\">[</span><span style=\"color: #008000; text-decoration-color: #008000\">'qqp/validation-*'</span><span style=\"font-weight: bold\">]</span>, <span style=\"color: #008000; text-decoration-color: #008000\">'test'</span>: <span style=\"font-weight: bold\">[</span><span style=\"color: #008000; text-decoration-color: #008000\">'qqp/test-*'</span><span style=\"font-weight: bold\">]}</span>,\n",
       "        <span style=\"color: #808000; text-decoration-color: #808000\">description</span>=<span style=\"color: #800080; text-decoration-color: #800080; font-style: italic\">None</span>,\n",
       "        <span style=\"color: #808000; text-decoration-color: #808000\">batch_size</span>=<span style=\"color: #800080; text-decoration-color: #800080; font-style: italic\">None</span>,\n",
       "        <span style=\"color: #808000; text-decoration-color: #808000\">columns</span>=<span style=\"color: #800080; text-decoration-color: #800080; font-style: italic\">None</span>,\n",
       "        <span style=\"color: #808000; text-decoration-color: #808000\">features</span>=<span style=\"color: #800080; text-decoration-color: #800080; font-style: italic\">None</span>\n",
       "    <span style=\"font-weight: bold\">)</span>,\n",
       "    <span style=\"color: #008000; text-decoration-color: #008000\">'rte'</span>: <span style=\"color: #800080; text-decoration-color: #800080; font-weight: bold\">ParquetConfig</span><span style=\"font-weight: bold\">(</span>\n",
       "        <span style=\"color: #808000; text-decoration-color: #808000\">name</span>=<span style=\"color: #008000; text-decoration-color: #008000\">'rte'</span>,\n",
       "        <span style=\"color: #808000; text-decoration-color: #808000\">version</span>=<span style=\"color: #008080; text-decoration-color: #008080; font-weight: bold\">0.0</span>.<span style=\"color: #008080; text-decoration-color: #008080; font-weight: bold\">0</span>,\n",
       "        <span style=\"color: #808000; text-decoration-color: #808000\">data_dir</span>=<span style=\"color: #800080; text-decoration-color: #800080; font-style: italic\">None</span>,\n",
       "        <span style=\"color: #808000; text-decoration-color: #808000\">data_files</span>=<span style=\"font-weight: bold\">{</span><span style=\"color: #008000; text-decoration-color: #008000\">'train'</span>: <span style=\"font-weight: bold\">[</span><span style=\"color: #008000; text-decoration-color: #008000\">'rte/train-*'</span><span style=\"font-weight: bold\">]</span>, <span style=\"color: #008000; text-decoration-color: #008000\">'validation'</span>: <span style=\"font-weight: bold\">[</span><span style=\"color: #008000; text-decoration-color: #008000\">'rte/validation-*'</span><span style=\"font-weight: bold\">]</span>, <span style=\"color: #008000; text-decoration-color: #008000\">'test'</span>: <span style=\"font-weight: bold\">[</span><span style=\"color: #008000; text-decoration-color: #008000\">'rte/test-*'</span><span style=\"font-weight: bold\">]}</span>,\n",
       "        <span style=\"color: #808000; text-decoration-color: #808000\">description</span>=<span style=\"color: #800080; text-decoration-color: #800080; font-style: italic\">None</span>,\n",
       "        <span style=\"color: #808000; text-decoration-color: #808000\">batch_size</span>=<span style=\"color: #800080; text-decoration-color: #800080; font-style: italic\">None</span>,\n",
       "        <span style=\"color: #808000; text-decoration-color: #808000\">columns</span>=<span style=\"color: #800080; text-decoration-color: #800080; font-style: italic\">None</span>,\n",
       "        <span style=\"color: #808000; text-decoration-color: #808000\">features</span>=<span style=\"color: #800080; text-decoration-color: #800080; font-style: italic\">None</span>\n",
       "    <span style=\"font-weight: bold\">)</span>,\n",
       "    <span style=\"color: #008000; text-decoration-color: #008000\">'sst2'</span>: <span style=\"color: #800080; text-decoration-color: #800080; font-weight: bold\">ParquetConfig</span><span style=\"font-weight: bold\">(</span>\n",
       "        <span style=\"color: #808000; text-decoration-color: #808000\">name</span>=<span style=\"color: #008000; text-decoration-color: #008000\">'sst2'</span>,\n",
       "        <span style=\"color: #808000; text-decoration-color: #808000\">version</span>=<span style=\"color: #008080; text-decoration-color: #008080; font-weight: bold\">0.0</span>.<span style=\"color: #008080; text-decoration-color: #008080; font-weight: bold\">0</span>,\n",
       "        <span style=\"color: #808000; text-decoration-color: #808000\">data_dir</span>=<span style=\"color: #800080; text-decoration-color: #800080; font-style: italic\">None</span>,\n",
       "        <span style=\"color: #808000; text-decoration-color: #808000\">data_files</span>=<span style=\"font-weight: bold\">{</span><span style=\"color: #008000; text-decoration-color: #008000\">'train'</span>: <span style=\"font-weight: bold\">[</span><span style=\"color: #008000; text-decoration-color: #008000\">'sst2/train-*'</span><span style=\"font-weight: bold\">]</span>, <span style=\"color: #008000; text-decoration-color: #008000\">'validation'</span>: <span style=\"font-weight: bold\">[</span><span style=\"color: #008000; text-decoration-color: #008000\">'sst2/validation-*'</span><span style=\"font-weight: bold\">]</span>, <span style=\"color: #008000; text-decoration-color: #008000\">'test'</span>: <span style=\"font-weight: bold\">[</span><span style=\"color: #008000; text-decoration-color: #008000\">'sst2/test-*'</span><span style=\"font-weight: bold\">]}</span>,\n",
       "        <span style=\"color: #808000; text-decoration-color: #808000\">description</span>=<span style=\"color: #800080; text-decoration-color: #800080; font-style: italic\">None</span>,\n",
       "        <span style=\"color: #808000; text-decoration-color: #808000\">batch_size</span>=<span style=\"color: #800080; text-decoration-color: #800080; font-style: italic\">None</span>,\n",
       "        <span style=\"color: #808000; text-decoration-color: #808000\">columns</span>=<span style=\"color: #800080; text-decoration-color: #800080; font-style: italic\">None</span>,\n",
       "        <span style=\"color: #808000; text-decoration-color: #808000\">features</span>=<span style=\"color: #800080; text-decoration-color: #800080; font-style: italic\">None</span>\n",
       "    <span style=\"font-weight: bold\">)</span>,\n",
       "    <span style=\"color: #008000; text-decoration-color: #008000\">'stsb'</span>: <span style=\"color: #800080; text-decoration-color: #800080; font-weight: bold\">ParquetConfig</span><span style=\"font-weight: bold\">(</span>\n",
       "        <span style=\"color: #808000; text-decoration-color: #808000\">name</span>=<span style=\"color: #008000; text-decoration-color: #008000\">'stsb'</span>,\n",
       "        <span style=\"color: #808000; text-decoration-color: #808000\">version</span>=<span style=\"color: #008080; text-decoration-color: #008080; font-weight: bold\">0.0</span>.<span style=\"color: #008080; text-decoration-color: #008080; font-weight: bold\">0</span>,\n",
       "        <span style=\"color: #808000; text-decoration-color: #808000\">data_dir</span>=<span style=\"color: #800080; text-decoration-color: #800080; font-style: italic\">None</span>,\n",
       "        <span style=\"color: #808000; text-decoration-color: #808000\">data_files</span>=<span style=\"font-weight: bold\">{</span><span style=\"color: #008000; text-decoration-color: #008000\">'train'</span>: <span style=\"font-weight: bold\">[</span><span style=\"color: #008000; text-decoration-color: #008000\">'stsb/train-*'</span><span style=\"font-weight: bold\">]</span>, <span style=\"color: #008000; text-decoration-color: #008000\">'validation'</span>: <span style=\"font-weight: bold\">[</span><span style=\"color: #008000; text-decoration-color: #008000\">'stsb/validation-*'</span><span style=\"font-weight: bold\">]</span>, <span style=\"color: #008000; text-decoration-color: #008000\">'test'</span>: <span style=\"font-weight: bold\">[</span><span style=\"color: #008000; text-decoration-color: #008000\">'stsb/test-*'</span><span style=\"font-weight: bold\">]}</span>,\n",
       "        <span style=\"color: #808000; text-decoration-color: #808000\">description</span>=<span style=\"color: #800080; text-decoration-color: #800080; font-style: italic\">None</span>,\n",
       "        <span style=\"color: #808000; text-decoration-color: #808000\">batch_size</span>=<span style=\"color: #800080; text-decoration-color: #800080; font-style: italic\">None</span>,\n",
       "        <span style=\"color: #808000; text-decoration-color: #808000\">columns</span>=<span style=\"color: #800080; text-decoration-color: #800080; font-style: italic\">None</span>,\n",
       "        <span style=\"color: #808000; text-decoration-color: #808000\">features</span>=<span style=\"color: #800080; text-decoration-color: #800080; font-style: italic\">None</span>\n",
       "    <span style=\"font-weight: bold\">)</span>,\n",
       "    <span style=\"color: #008000; text-decoration-color: #008000\">'wnli'</span>: <span style=\"color: #800080; text-decoration-color: #800080; font-weight: bold\">ParquetConfig</span><span style=\"font-weight: bold\">(</span>\n",
       "        <span style=\"color: #808000; text-decoration-color: #808000\">name</span>=<span style=\"color: #008000; text-decoration-color: #008000\">'wnli'</span>,\n",
       "        <span style=\"color: #808000; text-decoration-color: #808000\">version</span>=<span style=\"color: #008080; text-decoration-color: #008080; font-weight: bold\">0.0</span>.<span style=\"color: #008080; text-decoration-color: #008080; font-weight: bold\">0</span>,\n",
       "        <span style=\"color: #808000; text-decoration-color: #808000\">data_dir</span>=<span style=\"color: #800080; text-decoration-color: #800080; font-style: italic\">None</span>,\n",
       "        <span style=\"color: #808000; text-decoration-color: #808000\">data_files</span>=<span style=\"font-weight: bold\">{</span><span style=\"color: #008000; text-decoration-color: #008000\">'train'</span>: <span style=\"font-weight: bold\">[</span><span style=\"color: #008000; text-decoration-color: #008000\">'wnli/train-*'</span><span style=\"font-weight: bold\">]</span>, <span style=\"color: #008000; text-decoration-color: #008000\">'validation'</span>: <span style=\"font-weight: bold\">[</span><span style=\"color: #008000; text-decoration-color: #008000\">'wnli/validation-*'</span><span style=\"font-weight: bold\">]</span>, <span style=\"color: #008000; text-decoration-color: #008000\">'test'</span>: <span style=\"font-weight: bold\">[</span><span style=\"color: #008000; text-decoration-color: #008000\">'wnli/test-*'</span><span style=\"font-weight: bold\">]}</span>,\n",
       "        <span style=\"color: #808000; text-decoration-color: #808000\">description</span>=<span style=\"color: #800080; text-decoration-color: #800080; font-style: italic\">None</span>,\n",
       "        <span style=\"color: #808000; text-decoration-color: #808000\">batch_size</span>=<span style=\"color: #800080; text-decoration-color: #800080; font-style: italic\">None</span>,\n",
       "        <span style=\"color: #808000; text-decoration-color: #808000\">columns</span>=<span style=\"color: #800080; text-decoration-color: #800080; font-style: italic\">None</span>,\n",
       "        <span style=\"color: #808000; text-decoration-color: #808000\">features</span>=<span style=\"color: #800080; text-decoration-color: #800080; font-style: italic\">None</span>\n",
       "    <span style=\"font-weight: bold\">)</span>\n",
       "<span style=\"font-weight: bold\">}</span>\n",
       "</pre>\n"
      ],
      "text/plain": [
       "\u001b[1m{\u001b[0m\n",
       "    \u001b[32m'ax'\u001b[0m: \u001b[1;35mParquetConfig\u001b[0m\u001b[1m(\u001b[0m\n",
       "        \u001b[33mname\u001b[0m=\u001b[32m'ax'\u001b[0m,\n",
       "        \u001b[33mversion\u001b[0m=\u001b[1;36m0\u001b[0m\u001b[1;36m.0\u001b[0m.\u001b[1;36m0\u001b[0m,\n",
       "        \u001b[33mdata_dir\u001b[0m=\u001b[3;35mNone\u001b[0m,\n",
       "        \u001b[33mdata_files\u001b[0m=\u001b[1m{\u001b[0m\u001b[32m'test'\u001b[0m: \u001b[1m[\u001b[0m\u001b[32m'ax/test-*'\u001b[0m\u001b[1m]\u001b[0m\u001b[1m}\u001b[0m,\n",
       "        \u001b[33mdescription\u001b[0m=\u001b[3;35mNone\u001b[0m,\n",
       "        \u001b[33mbatch_size\u001b[0m=\u001b[3;35mNone\u001b[0m,\n",
       "        \u001b[33mcolumns\u001b[0m=\u001b[3;35mNone\u001b[0m,\n",
       "        \u001b[33mfeatures\u001b[0m=\u001b[3;35mNone\u001b[0m\n",
       "    \u001b[1m)\u001b[0m,\n",
       "    \u001b[32m'cola'\u001b[0m: \u001b[1;35mParquetConfig\u001b[0m\u001b[1m(\u001b[0m\n",
       "        \u001b[33mname\u001b[0m=\u001b[32m'cola'\u001b[0m,\n",
       "        \u001b[33mversion\u001b[0m=\u001b[1;36m0\u001b[0m\u001b[1;36m.0\u001b[0m.\u001b[1;36m0\u001b[0m,\n",
       "        \u001b[33mdata_dir\u001b[0m=\u001b[3;35mNone\u001b[0m,\n",
       "        \u001b[33mdata_files\u001b[0m=\u001b[1m{\u001b[0m\n",
       "            \u001b[32m'train'\u001b[0m: \u001b[1m[\u001b[0m\n",
       "                \u001b[32m'hf://datasets/glue@bcdcba79d07bc864c1c254ccfcedcce55bcc9a8c/cola/train-00000-of-00001.parquet'\u001b[0m\n",
       "            \u001b[1m]\u001b[0m,\n",
       "            \u001b[32m'validation'\u001b[0m: \u001b[1m[\u001b[0m\n",
       "                \u001b[32m'hf://datasets/glue@bcdcba79d07bc864c1c254ccfcedcce55bcc9a8c/cola/validation-00000-of-00001.parquet\u001b[0m\n",
       "\u001b[32m'\u001b[0m\n",
       "            \u001b[1m]\u001b[0m,\n",
       "            \u001b[32m'test'\u001b[0m: \u001b[1m[\u001b[0m\n",
       "                \u001b[32m'hf://datasets/glue@bcdcba79d07bc864c1c254ccfcedcce55bcc9a8c/cola/test-00000-of-00001.parquet'\u001b[0m\n",
       "            \u001b[1m]\u001b[0m\n",
       "        \u001b[1m}\u001b[0m,\n",
       "        \u001b[33mdescription\u001b[0m=\u001b[3;35mNone\u001b[0m,\n",
       "        \u001b[33mbatch_size\u001b[0m=\u001b[3;35mNone\u001b[0m,\n",
       "        \u001b[33mcolumns\u001b[0m=\u001b[3;35mNone\u001b[0m,\n",
       "        \u001b[33mfeatures\u001b[0m=\u001b[3;35mNone\u001b[0m\n",
       "    \u001b[1m)\u001b[0m,\n",
       "    \u001b[32m'mnli'\u001b[0m: \u001b[1;35mParquetConfig\u001b[0m\u001b[1m(\u001b[0m\n",
       "        \u001b[33mname\u001b[0m=\u001b[32m'mnli'\u001b[0m,\n",
       "        \u001b[33mversion\u001b[0m=\u001b[1;36m0\u001b[0m\u001b[1;36m.0\u001b[0m.\u001b[1;36m0\u001b[0m,\n",
       "        \u001b[33mdata_dir\u001b[0m=\u001b[3;35mNone\u001b[0m,\n",
       "        \u001b[33mdata_files\u001b[0m=\u001b[1m{\u001b[0m\n",
       "            \u001b[32m'train'\u001b[0m: \u001b[1m[\u001b[0m\u001b[32m'mnli/train-*'\u001b[0m\u001b[1m]\u001b[0m,\n",
       "            \u001b[32m'validation_matched'\u001b[0m: \u001b[1m[\u001b[0m\u001b[32m'mnli/validation_matched-*'\u001b[0m\u001b[1m]\u001b[0m,\n",
       "            \u001b[32m'validation_mismatched'\u001b[0m: \u001b[1m[\u001b[0m\u001b[32m'mnli/validation_mismatched-*'\u001b[0m\u001b[1m]\u001b[0m,\n",
       "            \u001b[32m'test_matched'\u001b[0m: \u001b[1m[\u001b[0m\u001b[32m'mnli/test_matched-*'\u001b[0m\u001b[1m]\u001b[0m,\n",
       "            \u001b[32m'test_mismatched'\u001b[0m: \u001b[1m[\u001b[0m\u001b[32m'mnli/test_mismatched-*'\u001b[0m\u001b[1m]\u001b[0m\n",
       "        \u001b[1m}\u001b[0m,\n",
       "        \u001b[33mdescription\u001b[0m=\u001b[3;35mNone\u001b[0m,\n",
       "        \u001b[33mbatch_size\u001b[0m=\u001b[3;35mNone\u001b[0m,\n",
       "        \u001b[33mcolumns\u001b[0m=\u001b[3;35mNone\u001b[0m,\n",
       "        \u001b[33mfeatures\u001b[0m=\u001b[3;35mNone\u001b[0m\n",
       "    \u001b[1m)\u001b[0m,\n",
       "    \u001b[32m'mnli_matched'\u001b[0m: \u001b[1;35mParquetConfig\u001b[0m\u001b[1m(\u001b[0m\n",
       "        \u001b[33mname\u001b[0m=\u001b[32m'mnli_matched'\u001b[0m,\n",
       "        \u001b[33mversion\u001b[0m=\u001b[1;36m0\u001b[0m\u001b[1;36m.0\u001b[0m.\u001b[1;36m0\u001b[0m,\n",
       "        \u001b[33mdata_dir\u001b[0m=\u001b[3;35mNone\u001b[0m,\n",
       "        \u001b[33mdata_files\u001b[0m=\u001b[1m{\u001b[0m\u001b[32m'validation'\u001b[0m: \u001b[1m[\u001b[0m\u001b[32m'mnli_matched/validation-*'\u001b[0m\u001b[1m]\u001b[0m, \u001b[32m'test'\u001b[0m: \u001b[1m[\u001b[0m\u001b[32m'mnli_matched/test-*'\u001b[0m\u001b[1m]\u001b[0m\u001b[1m}\u001b[0m,\n",
       "        \u001b[33mdescription\u001b[0m=\u001b[3;35mNone\u001b[0m,\n",
       "        \u001b[33mbatch_size\u001b[0m=\u001b[3;35mNone\u001b[0m,\n",
       "        \u001b[33mcolumns\u001b[0m=\u001b[3;35mNone\u001b[0m,\n",
       "        \u001b[33mfeatures\u001b[0m=\u001b[3;35mNone\u001b[0m\n",
       "    \u001b[1m)\u001b[0m,\n",
       "    \u001b[32m'mnli_mismatched'\u001b[0m: \u001b[1;35mParquetConfig\u001b[0m\u001b[1m(\u001b[0m\n",
       "        \u001b[33mname\u001b[0m=\u001b[32m'mnli_mismatched'\u001b[0m,\n",
       "        \u001b[33mversion\u001b[0m=\u001b[1;36m0\u001b[0m\u001b[1;36m.0\u001b[0m.\u001b[1;36m0\u001b[0m,\n",
       "        \u001b[33mdata_dir\u001b[0m=\u001b[3;35mNone\u001b[0m,\n",
       "        \u001b[33mdata_files\u001b[0m=\u001b[1m{\u001b[0m\u001b[32m'validation'\u001b[0m: \u001b[1m[\u001b[0m\u001b[32m'mnli_mismatched/validation-*'\u001b[0m\u001b[1m]\u001b[0m, \u001b[32m'test'\u001b[0m: \u001b[1m[\u001b[0m\u001b[32m'mnli_mismatched/test-*'\u001b[0m\u001b[1m]\u001b[0m\u001b[1m}\u001b[0m,\n",
       "        \u001b[33mdescription\u001b[0m=\u001b[3;35mNone\u001b[0m,\n",
       "        \u001b[33mbatch_size\u001b[0m=\u001b[3;35mNone\u001b[0m,\n",
       "        \u001b[33mcolumns\u001b[0m=\u001b[3;35mNone\u001b[0m,\n",
       "        \u001b[33mfeatures\u001b[0m=\u001b[3;35mNone\u001b[0m\n",
       "    \u001b[1m)\u001b[0m,\n",
       "    \u001b[32m'mrpc'\u001b[0m: \u001b[1;35mParquetConfig\u001b[0m\u001b[1m(\u001b[0m\n",
       "        \u001b[33mname\u001b[0m=\u001b[32m'mrpc'\u001b[0m,\n",
       "        \u001b[33mversion\u001b[0m=\u001b[1;36m0\u001b[0m\u001b[1;36m.0\u001b[0m.\u001b[1;36m0\u001b[0m,\n",
       "        \u001b[33mdata_dir\u001b[0m=\u001b[3;35mNone\u001b[0m,\n",
       "        \u001b[33mdata_files\u001b[0m=\u001b[1m{\u001b[0m\u001b[32m'train'\u001b[0m: \u001b[1m[\u001b[0m\u001b[32m'mrpc/train-*'\u001b[0m\u001b[1m]\u001b[0m, \u001b[32m'validation'\u001b[0m: \u001b[1m[\u001b[0m\u001b[32m'mrpc/validation-*'\u001b[0m\u001b[1m]\u001b[0m, \u001b[32m'test'\u001b[0m: \u001b[1m[\u001b[0m\u001b[32m'mrpc/test-*'\u001b[0m\u001b[1m]\u001b[0m\u001b[1m}\u001b[0m,\n",
       "        \u001b[33mdescription\u001b[0m=\u001b[3;35mNone\u001b[0m,\n",
       "        \u001b[33mbatch_size\u001b[0m=\u001b[3;35mNone\u001b[0m,\n",
       "        \u001b[33mcolumns\u001b[0m=\u001b[3;35mNone\u001b[0m,\n",
       "        \u001b[33mfeatures\u001b[0m=\u001b[3;35mNone\u001b[0m\n",
       "    \u001b[1m)\u001b[0m,\n",
       "    \u001b[32m'qnli'\u001b[0m: \u001b[1;35mParquetConfig\u001b[0m\u001b[1m(\u001b[0m\n",
       "        \u001b[33mname\u001b[0m=\u001b[32m'qnli'\u001b[0m,\n",
       "        \u001b[33mversion\u001b[0m=\u001b[1;36m0\u001b[0m\u001b[1;36m.0\u001b[0m.\u001b[1;36m0\u001b[0m,\n",
       "        \u001b[33mdata_dir\u001b[0m=\u001b[3;35mNone\u001b[0m,\n",
       "        \u001b[33mdata_files\u001b[0m=\u001b[1m{\u001b[0m\u001b[32m'train'\u001b[0m: \u001b[1m[\u001b[0m\u001b[32m'qnli/train-*'\u001b[0m\u001b[1m]\u001b[0m, \u001b[32m'validation'\u001b[0m: \u001b[1m[\u001b[0m\u001b[32m'qnli/validation-*'\u001b[0m\u001b[1m]\u001b[0m, \u001b[32m'test'\u001b[0m: \u001b[1m[\u001b[0m\u001b[32m'qnli/test-*'\u001b[0m\u001b[1m]\u001b[0m\u001b[1m}\u001b[0m,\n",
       "        \u001b[33mdescription\u001b[0m=\u001b[3;35mNone\u001b[0m,\n",
       "        \u001b[33mbatch_size\u001b[0m=\u001b[3;35mNone\u001b[0m,\n",
       "        \u001b[33mcolumns\u001b[0m=\u001b[3;35mNone\u001b[0m,\n",
       "        \u001b[33mfeatures\u001b[0m=\u001b[3;35mNone\u001b[0m\n",
       "    \u001b[1m)\u001b[0m,\n",
       "    \u001b[32m'qqp'\u001b[0m: \u001b[1;35mParquetConfig\u001b[0m\u001b[1m(\u001b[0m\n",
       "        \u001b[33mname\u001b[0m=\u001b[32m'qqp'\u001b[0m,\n",
       "        \u001b[33mversion\u001b[0m=\u001b[1;36m0\u001b[0m\u001b[1;36m.0\u001b[0m.\u001b[1;36m0\u001b[0m,\n",
       "        \u001b[33mdata_dir\u001b[0m=\u001b[3;35mNone\u001b[0m,\n",
       "        \u001b[33mdata_files\u001b[0m=\u001b[1m{\u001b[0m\u001b[32m'train'\u001b[0m: \u001b[1m[\u001b[0m\u001b[32m'qqp/train-*'\u001b[0m\u001b[1m]\u001b[0m, \u001b[32m'validation'\u001b[0m: \u001b[1m[\u001b[0m\u001b[32m'qqp/validation-*'\u001b[0m\u001b[1m]\u001b[0m, \u001b[32m'test'\u001b[0m: \u001b[1m[\u001b[0m\u001b[32m'qqp/test-*'\u001b[0m\u001b[1m]\u001b[0m\u001b[1m}\u001b[0m,\n",
       "        \u001b[33mdescription\u001b[0m=\u001b[3;35mNone\u001b[0m,\n",
       "        \u001b[33mbatch_size\u001b[0m=\u001b[3;35mNone\u001b[0m,\n",
       "        \u001b[33mcolumns\u001b[0m=\u001b[3;35mNone\u001b[0m,\n",
       "        \u001b[33mfeatures\u001b[0m=\u001b[3;35mNone\u001b[0m\n",
       "    \u001b[1m)\u001b[0m,\n",
       "    \u001b[32m'rte'\u001b[0m: \u001b[1;35mParquetConfig\u001b[0m\u001b[1m(\u001b[0m\n",
       "        \u001b[33mname\u001b[0m=\u001b[32m'rte'\u001b[0m,\n",
       "        \u001b[33mversion\u001b[0m=\u001b[1;36m0\u001b[0m\u001b[1;36m.0\u001b[0m.\u001b[1;36m0\u001b[0m,\n",
       "        \u001b[33mdata_dir\u001b[0m=\u001b[3;35mNone\u001b[0m,\n",
       "        \u001b[33mdata_files\u001b[0m=\u001b[1m{\u001b[0m\u001b[32m'train'\u001b[0m: \u001b[1m[\u001b[0m\u001b[32m'rte/train-*'\u001b[0m\u001b[1m]\u001b[0m, \u001b[32m'validation'\u001b[0m: \u001b[1m[\u001b[0m\u001b[32m'rte/validation-*'\u001b[0m\u001b[1m]\u001b[0m, \u001b[32m'test'\u001b[0m: \u001b[1m[\u001b[0m\u001b[32m'rte/test-*'\u001b[0m\u001b[1m]\u001b[0m\u001b[1m}\u001b[0m,\n",
       "        \u001b[33mdescription\u001b[0m=\u001b[3;35mNone\u001b[0m,\n",
       "        \u001b[33mbatch_size\u001b[0m=\u001b[3;35mNone\u001b[0m,\n",
       "        \u001b[33mcolumns\u001b[0m=\u001b[3;35mNone\u001b[0m,\n",
       "        \u001b[33mfeatures\u001b[0m=\u001b[3;35mNone\u001b[0m\n",
       "    \u001b[1m)\u001b[0m,\n",
       "    \u001b[32m'sst2'\u001b[0m: \u001b[1;35mParquetConfig\u001b[0m\u001b[1m(\u001b[0m\n",
       "        \u001b[33mname\u001b[0m=\u001b[32m'sst2'\u001b[0m,\n",
       "        \u001b[33mversion\u001b[0m=\u001b[1;36m0\u001b[0m\u001b[1;36m.0\u001b[0m.\u001b[1;36m0\u001b[0m,\n",
       "        \u001b[33mdata_dir\u001b[0m=\u001b[3;35mNone\u001b[0m,\n",
       "        \u001b[33mdata_files\u001b[0m=\u001b[1m{\u001b[0m\u001b[32m'train'\u001b[0m: \u001b[1m[\u001b[0m\u001b[32m'sst2/train-*'\u001b[0m\u001b[1m]\u001b[0m, \u001b[32m'validation'\u001b[0m: \u001b[1m[\u001b[0m\u001b[32m'sst2/validation-*'\u001b[0m\u001b[1m]\u001b[0m, \u001b[32m'test'\u001b[0m: \u001b[1m[\u001b[0m\u001b[32m'sst2/test-*'\u001b[0m\u001b[1m]\u001b[0m\u001b[1m}\u001b[0m,\n",
       "        \u001b[33mdescription\u001b[0m=\u001b[3;35mNone\u001b[0m,\n",
       "        \u001b[33mbatch_size\u001b[0m=\u001b[3;35mNone\u001b[0m,\n",
       "        \u001b[33mcolumns\u001b[0m=\u001b[3;35mNone\u001b[0m,\n",
       "        \u001b[33mfeatures\u001b[0m=\u001b[3;35mNone\u001b[0m\n",
       "    \u001b[1m)\u001b[0m,\n",
       "    \u001b[32m'stsb'\u001b[0m: \u001b[1;35mParquetConfig\u001b[0m\u001b[1m(\u001b[0m\n",
       "        \u001b[33mname\u001b[0m=\u001b[32m'stsb'\u001b[0m,\n",
       "        \u001b[33mversion\u001b[0m=\u001b[1;36m0\u001b[0m\u001b[1;36m.0\u001b[0m.\u001b[1;36m0\u001b[0m,\n",
       "        \u001b[33mdata_dir\u001b[0m=\u001b[3;35mNone\u001b[0m,\n",
       "        \u001b[33mdata_files\u001b[0m=\u001b[1m{\u001b[0m\u001b[32m'train'\u001b[0m: \u001b[1m[\u001b[0m\u001b[32m'stsb/train-*'\u001b[0m\u001b[1m]\u001b[0m, \u001b[32m'validation'\u001b[0m: \u001b[1m[\u001b[0m\u001b[32m'stsb/validation-*'\u001b[0m\u001b[1m]\u001b[0m, \u001b[32m'test'\u001b[0m: \u001b[1m[\u001b[0m\u001b[32m'stsb/test-*'\u001b[0m\u001b[1m]\u001b[0m\u001b[1m}\u001b[0m,\n",
       "        \u001b[33mdescription\u001b[0m=\u001b[3;35mNone\u001b[0m,\n",
       "        \u001b[33mbatch_size\u001b[0m=\u001b[3;35mNone\u001b[0m,\n",
       "        \u001b[33mcolumns\u001b[0m=\u001b[3;35mNone\u001b[0m,\n",
       "        \u001b[33mfeatures\u001b[0m=\u001b[3;35mNone\u001b[0m\n",
       "    \u001b[1m)\u001b[0m,\n",
       "    \u001b[32m'wnli'\u001b[0m: \u001b[1;35mParquetConfig\u001b[0m\u001b[1m(\u001b[0m\n",
       "        \u001b[33mname\u001b[0m=\u001b[32m'wnli'\u001b[0m,\n",
       "        \u001b[33mversion\u001b[0m=\u001b[1;36m0\u001b[0m\u001b[1;36m.0\u001b[0m.\u001b[1;36m0\u001b[0m,\n",
       "        \u001b[33mdata_dir\u001b[0m=\u001b[3;35mNone\u001b[0m,\n",
       "        \u001b[33mdata_files\u001b[0m=\u001b[1m{\u001b[0m\u001b[32m'train'\u001b[0m: \u001b[1m[\u001b[0m\u001b[32m'wnli/train-*'\u001b[0m\u001b[1m]\u001b[0m, \u001b[32m'validation'\u001b[0m: \u001b[1m[\u001b[0m\u001b[32m'wnli/validation-*'\u001b[0m\u001b[1m]\u001b[0m, \u001b[32m'test'\u001b[0m: \u001b[1m[\u001b[0m\u001b[32m'wnli/test-*'\u001b[0m\u001b[1m]\u001b[0m\u001b[1m}\u001b[0m,\n",
       "        \u001b[33mdescription\u001b[0m=\u001b[3;35mNone\u001b[0m,\n",
       "        \u001b[33mbatch_size\u001b[0m=\u001b[3;35mNone\u001b[0m,\n",
       "        \u001b[33mcolumns\u001b[0m=\u001b[3;35mNone\u001b[0m,\n",
       "        \u001b[33mfeatures\u001b[0m=\u001b[3;35mNone\u001b[0m\n",
       "    \u001b[1m)\u001b[0m\n",
       "\u001b[1m}\u001b[0m\n"
      ]
     },
     "metadata": {},
     "output_type": "display_data"
    }
   ],
   "source": [
    "print(glue.builder_configs)  # speaks about the parquet / arrow file at disk level details"
   ]
  },
  {
   "cell_type": "code",
   "execution_count": 16,
   "metadata": {},
   "outputs": [
    {
     "data": {
      "text/html": [
       "<pre style=\"white-space:pre;overflow-x:auto;line-height:normal;font-family:Menlo,'DejaVu Sans Mono',consolas,'Courier New',monospace\"><span style=\"color: #800080; text-decoration-color: #800080; font-weight: bold\">DatasetInfo</span><span style=\"font-weight: bold\">(</span>\n",
       "    <span style=\"color: #808000; text-decoration-color: #808000\">description</span>=<span style=\"color: #008000; text-decoration-color: #008000\">''</span>,\n",
       "    <span style=\"color: #808000; text-decoration-color: #808000\">citation</span>=<span style=\"color: #008000; text-decoration-color: #008000\">''</span>,\n",
       "    <span style=\"color: #808000; text-decoration-color: #808000\">homepage</span>=<span style=\"color: #008000; text-decoration-color: #008000\">''</span>,\n",
       "    <span style=\"color: #808000; text-decoration-color: #808000\">license</span>=<span style=\"color: #008000; text-decoration-color: #008000\">''</span>,\n",
       "    <span style=\"color: #808000; text-decoration-color: #808000\">features</span>=<span style=\"font-weight: bold\">{</span>\n",
       "        <span style=\"color: #008000; text-decoration-color: #008000\">'sentence'</span>: <span style=\"color: #800080; text-decoration-color: #800080; font-weight: bold\">Value</span><span style=\"font-weight: bold\">(</span><span style=\"color: #808000; text-decoration-color: #808000\">dtype</span>=<span style=\"color: #008000; text-decoration-color: #008000\">'string'</span>, <span style=\"color: #808000; text-decoration-color: #808000\">id</span>=<span style=\"color: #800080; text-decoration-color: #800080; font-style: italic\">None</span><span style=\"font-weight: bold\">)</span>,\n",
       "        <span style=\"color: #008000; text-decoration-color: #008000\">'label'</span>: <span style=\"color: #800080; text-decoration-color: #800080; font-weight: bold\">ClassLabel</span><span style=\"font-weight: bold\">(</span><span style=\"color: #808000; text-decoration-color: #808000\">names</span>=<span style=\"font-weight: bold\">[</span><span style=\"color: #008000; text-decoration-color: #008000\">'unacceptable'</span>, <span style=\"color: #008000; text-decoration-color: #008000\">'acceptable'</span><span style=\"font-weight: bold\">]</span>, <span style=\"color: #808000; text-decoration-color: #808000\">id</span>=<span style=\"color: #800080; text-decoration-color: #800080; font-style: italic\">None</span><span style=\"font-weight: bold\">)</span>,\n",
       "        <span style=\"color: #008000; text-decoration-color: #008000\">'idx'</span>: <span style=\"color: #800080; text-decoration-color: #800080; font-weight: bold\">Value</span><span style=\"font-weight: bold\">(</span><span style=\"color: #808000; text-decoration-color: #808000\">dtype</span>=<span style=\"color: #008000; text-decoration-color: #008000\">'int32'</span>, <span style=\"color: #808000; text-decoration-color: #808000\">id</span>=<span style=\"color: #800080; text-decoration-color: #800080; font-style: italic\">None</span><span style=\"font-weight: bold\">)</span>\n",
       "    <span style=\"font-weight: bold\">}</span>,\n",
       "    <span style=\"color: #808000; text-decoration-color: #808000\">post_processed</span>=<span style=\"color: #800080; text-decoration-color: #800080; font-style: italic\">None</span>,\n",
       "    <span style=\"color: #808000; text-decoration-color: #808000\">supervised_keys</span>=<span style=\"color: #800080; text-decoration-color: #800080; font-style: italic\">None</span>,\n",
       "    <span style=\"color: #808000; text-decoration-color: #808000\">task_templates</span>=<span style=\"color: #800080; text-decoration-color: #800080; font-style: italic\">None</span>,\n",
       "    <span style=\"color: #808000; text-decoration-color: #808000\">builder_name</span>=<span style=\"color: #008000; text-decoration-color: #008000\">'parquet'</span>,\n",
       "    <span style=\"color: #808000; text-decoration-color: #808000\">dataset_name</span>=<span style=\"color: #008000; text-decoration-color: #008000\">'glue'</span>,\n",
       "    <span style=\"color: #808000; text-decoration-color: #808000\">config_name</span>=<span style=\"color: #008000; text-decoration-color: #008000\">'cola'</span>,\n",
       "    <span style=\"color: #808000; text-decoration-color: #808000\">version</span>=<span style=\"color: #008080; text-decoration-color: #008080; font-weight: bold\">0.0</span>.<span style=\"color: #008080; text-decoration-color: #008080; font-weight: bold\">0</span>,\n",
       "    <span style=\"color: #808000; text-decoration-color: #808000\">splits</span>=<span style=\"font-weight: bold\">{</span>\n",
       "        <span style=\"color: #008000; text-decoration-color: #008000\">'train'</span>: <span style=\"color: #800080; text-decoration-color: #800080; font-weight: bold\">SplitInfo</span><span style=\"font-weight: bold\">(</span>\n",
       "            <span style=\"color: #808000; text-decoration-color: #808000\">name</span>=<span style=\"color: #008000; text-decoration-color: #008000\">'train'</span>,\n",
       "            <span style=\"color: #808000; text-decoration-color: #808000\">num_bytes</span>=<span style=\"color: #008080; text-decoration-color: #008080; font-weight: bold\">484869</span>,\n",
       "            <span style=\"color: #808000; text-decoration-color: #808000\">num_examples</span>=<span style=\"color: #008080; text-decoration-color: #008080; font-weight: bold\">8551</span>,\n",
       "            <span style=\"color: #808000; text-decoration-color: #808000\">shard_lengths</span>=<span style=\"color: #800080; text-decoration-color: #800080; font-style: italic\">None</span>,\n",
       "            <span style=\"color: #808000; text-decoration-color: #808000\">dataset_name</span>=<span style=\"color: #800080; text-decoration-color: #800080; font-style: italic\">None</span>\n",
       "        <span style=\"font-weight: bold\">)</span>,\n",
       "        <span style=\"color: #008000; text-decoration-color: #008000\">'validation'</span>: <span style=\"color: #800080; text-decoration-color: #800080; font-weight: bold\">SplitInfo</span><span style=\"font-weight: bold\">(</span>\n",
       "            <span style=\"color: #808000; text-decoration-color: #808000\">name</span>=<span style=\"color: #008000; text-decoration-color: #008000\">'validation'</span>,\n",
       "            <span style=\"color: #808000; text-decoration-color: #808000\">num_bytes</span>=<span style=\"color: #008080; text-decoration-color: #008080; font-weight: bold\">60322</span>,\n",
       "            <span style=\"color: #808000; text-decoration-color: #808000\">num_examples</span>=<span style=\"color: #008080; text-decoration-color: #008080; font-weight: bold\">1043</span>,\n",
       "            <span style=\"color: #808000; text-decoration-color: #808000\">shard_lengths</span>=<span style=\"color: #800080; text-decoration-color: #800080; font-style: italic\">None</span>,\n",
       "            <span style=\"color: #808000; text-decoration-color: #808000\">dataset_name</span>=<span style=\"color: #800080; text-decoration-color: #800080; font-style: italic\">None</span>\n",
       "        <span style=\"font-weight: bold\">)</span>,\n",
       "        <span style=\"color: #008000; text-decoration-color: #008000\">'test'</span>: <span style=\"color: #800080; text-decoration-color: #800080; font-weight: bold\">SplitInfo</span><span style=\"font-weight: bold\">(</span><span style=\"color: #808000; text-decoration-color: #808000\">name</span>=<span style=\"color: #008000; text-decoration-color: #008000\">'test'</span>, <span style=\"color: #808000; text-decoration-color: #808000\">num_bytes</span>=<span style=\"color: #008080; text-decoration-color: #008080; font-weight: bold\">60513</span>, <span style=\"color: #808000; text-decoration-color: #808000\">num_examples</span>=<span style=\"color: #008080; text-decoration-color: #008080; font-weight: bold\">1063</span>, <span style=\"color: #808000; text-decoration-color: #808000\">shard_lengths</span>=<span style=\"color: #800080; text-decoration-color: #800080; font-style: italic\">None</span>, <span style=\"color: #808000; text-decoration-color: #808000\">dataset_name</span>=<span style=\"color: #800080; text-decoration-color: #800080; font-style: italic\">None</span><span style=\"font-weight: bold\">)</span>\n",
       "    <span style=\"font-weight: bold\">}</span>,\n",
       "    <span style=\"color: #808000; text-decoration-color: #808000\">download_checksums</span>=<span style=\"color: #800080; text-decoration-color: #800080; font-style: italic\">None</span>,\n",
       "    <span style=\"color: #808000; text-decoration-color: #808000\">download_size</span>=<span style=\"color: #008080; text-decoration-color: #008080; font-weight: bold\">326394</span>,\n",
       "    <span style=\"color: #808000; text-decoration-color: #808000\">post_processing_size</span>=<span style=\"color: #800080; text-decoration-color: #800080; font-style: italic\">None</span>,\n",
       "    <span style=\"color: #808000; text-decoration-color: #808000\">dataset_size</span>=<span style=\"color: #008080; text-decoration-color: #008080; font-weight: bold\">605704</span>,\n",
       "    <span style=\"color: #808000; text-decoration-color: #808000\">size_in_bytes</span>=<span style=\"color: #800080; text-decoration-color: #800080; font-style: italic\">None</span>\n",
       "<span style=\"font-weight: bold\">)</span>\n",
       "</pre>\n"
      ],
      "text/plain": [
       "\u001b[1;35mDatasetInfo\u001b[0m\u001b[1m(\u001b[0m\n",
       "    \u001b[33mdescription\u001b[0m=\u001b[32m''\u001b[0m,\n",
       "    \u001b[33mcitation\u001b[0m=\u001b[32m''\u001b[0m,\n",
       "    \u001b[33mhomepage\u001b[0m=\u001b[32m''\u001b[0m,\n",
       "    \u001b[33mlicense\u001b[0m=\u001b[32m''\u001b[0m,\n",
       "    \u001b[33mfeatures\u001b[0m=\u001b[1m{\u001b[0m\n",
       "        \u001b[32m'sentence'\u001b[0m: \u001b[1;35mValue\u001b[0m\u001b[1m(\u001b[0m\u001b[33mdtype\u001b[0m=\u001b[32m'string'\u001b[0m, \u001b[33mid\u001b[0m=\u001b[3;35mNone\u001b[0m\u001b[1m)\u001b[0m,\n",
       "        \u001b[32m'label'\u001b[0m: \u001b[1;35mClassLabel\u001b[0m\u001b[1m(\u001b[0m\u001b[33mnames\u001b[0m=\u001b[1m[\u001b[0m\u001b[32m'unacceptable'\u001b[0m, \u001b[32m'acceptable'\u001b[0m\u001b[1m]\u001b[0m, \u001b[33mid\u001b[0m=\u001b[3;35mNone\u001b[0m\u001b[1m)\u001b[0m,\n",
       "        \u001b[32m'idx'\u001b[0m: \u001b[1;35mValue\u001b[0m\u001b[1m(\u001b[0m\u001b[33mdtype\u001b[0m=\u001b[32m'int32'\u001b[0m, \u001b[33mid\u001b[0m=\u001b[3;35mNone\u001b[0m\u001b[1m)\u001b[0m\n",
       "    \u001b[1m}\u001b[0m,\n",
       "    \u001b[33mpost_processed\u001b[0m=\u001b[3;35mNone\u001b[0m,\n",
       "    \u001b[33msupervised_keys\u001b[0m=\u001b[3;35mNone\u001b[0m,\n",
       "    \u001b[33mtask_templates\u001b[0m=\u001b[3;35mNone\u001b[0m,\n",
       "    \u001b[33mbuilder_name\u001b[0m=\u001b[32m'parquet'\u001b[0m,\n",
       "    \u001b[33mdataset_name\u001b[0m=\u001b[32m'glue'\u001b[0m,\n",
       "    \u001b[33mconfig_name\u001b[0m=\u001b[32m'cola'\u001b[0m,\n",
       "    \u001b[33mversion\u001b[0m=\u001b[1;36m0\u001b[0m\u001b[1;36m.0\u001b[0m.\u001b[1;36m0\u001b[0m,\n",
       "    \u001b[33msplits\u001b[0m=\u001b[1m{\u001b[0m\n",
       "        \u001b[32m'train'\u001b[0m: \u001b[1;35mSplitInfo\u001b[0m\u001b[1m(\u001b[0m\n",
       "            \u001b[33mname\u001b[0m=\u001b[32m'train'\u001b[0m,\n",
       "            \u001b[33mnum_bytes\u001b[0m=\u001b[1;36m484869\u001b[0m,\n",
       "            \u001b[33mnum_examples\u001b[0m=\u001b[1;36m8551\u001b[0m,\n",
       "            \u001b[33mshard_lengths\u001b[0m=\u001b[3;35mNone\u001b[0m,\n",
       "            \u001b[33mdataset_name\u001b[0m=\u001b[3;35mNone\u001b[0m\n",
       "        \u001b[1m)\u001b[0m,\n",
       "        \u001b[32m'validation'\u001b[0m: \u001b[1;35mSplitInfo\u001b[0m\u001b[1m(\u001b[0m\n",
       "            \u001b[33mname\u001b[0m=\u001b[32m'validation'\u001b[0m,\n",
       "            \u001b[33mnum_bytes\u001b[0m=\u001b[1;36m60322\u001b[0m,\n",
       "            \u001b[33mnum_examples\u001b[0m=\u001b[1;36m1043\u001b[0m,\n",
       "            \u001b[33mshard_lengths\u001b[0m=\u001b[3;35mNone\u001b[0m,\n",
       "            \u001b[33mdataset_name\u001b[0m=\u001b[3;35mNone\u001b[0m\n",
       "        \u001b[1m)\u001b[0m,\n",
       "        \u001b[32m'test'\u001b[0m: \u001b[1;35mSplitInfo\u001b[0m\u001b[1m(\u001b[0m\u001b[33mname\u001b[0m=\u001b[32m'test'\u001b[0m, \u001b[33mnum_bytes\u001b[0m=\u001b[1;36m60513\u001b[0m, \u001b[33mnum_examples\u001b[0m=\u001b[1;36m1063\u001b[0m, \u001b[33mshard_lengths\u001b[0m=\u001b[3;35mNone\u001b[0m, \u001b[33mdataset_name\u001b[0m=\u001b[3;35mNone\u001b[0m\u001b[1m)\u001b[0m\n",
       "    \u001b[1m}\u001b[0m,\n",
       "    \u001b[33mdownload_checksums\u001b[0m=\u001b[3;35mNone\u001b[0m,\n",
       "    \u001b[33mdownload_size\u001b[0m=\u001b[1;36m326394\u001b[0m,\n",
       "    \u001b[33mpost_processing_size\u001b[0m=\u001b[3;35mNone\u001b[0m,\n",
       "    \u001b[33mdataset_size\u001b[0m=\u001b[1;36m605704\u001b[0m,\n",
       "    \u001b[33msize_in_bytes\u001b[0m=\u001b[3;35mNone\u001b[0m\n",
       "\u001b[1m)\u001b[0m\n"
      ]
     },
     "metadata": {},
     "output_type": "display_data"
    }
   ],
   "source": [
    "print(glue.info)  # discusses the parts of the Dataset at datalevel"
   ]
  },
  {
   "cell_type": "code",
   "execution_count": 24,
   "metadata": {},
   "outputs": [
    {
     "data": {
      "text/plain": [
       "'/Users/apple/.cache/huggingface/datasets/glue/cola/0.0.0/bcdcba79d07bc864c1c254ccfcedcce55bcc9a8c'"
      ]
     },
     "execution_count": 24,
     "metadata": {},
     "output_type": "execute_result"
    }
   ],
   "source": [
    "glue.cache_dir"
   ]
  },
  {
   "cell_type": "code",
   "execution_count": 25,
   "metadata": {},
   "outputs": [
    {
     "name": "stderr",
     "output_type": "stream",
     "text": [
      "Downloading data: 100%|██████████| 699k/699k [00:02<00:00, 241kB/s]\n",
      "Downloading data: 100%|██████████| 90.0k/90.0k [00:01<00:00, 53.4kB/s]\n",
      "Downloading data: 100%|██████████| 92.2k/92.2k [00:01<00:00, 51.8kB/s]\n",
      "Generating train split: 100%|██████████| 8530/8530 [00:00<00:00, 91148.00 examples/s]\n",
      "Generating validation split: 100%|██████████| 1066/1066 [00:00<00:00, 180251.08 examples/s]\n",
      "Generating test split: 100%|██████████| 1066/1066 [00:00<00:00, 166727.38 examples/s]\n"
     ]
    }
   ],
   "source": [
    "tomatoes_ds = load_dataset(\"rotten_tomatoes\")"
   ]
  },
  {
   "cell_type": "code",
   "execution_count": 26,
   "metadata": {},
   "outputs": [
    {
     "name": "stderr",
     "output_type": "stream",
     "text": [
      "Downloading builder script: 100%|██████████| 3.46k/3.46k [00:00<00:00, 5.41MB/s]\n",
      "Downloading readme: 100%|██████████| 8.21k/8.21k [00:00<00:00, 5.60MB/s]\n"
     ]
    },
    {
     "data": {
      "text/plain": [
       "['en', 'realnewslike', 'en.noblocklist', 'en.noclean']"
      ]
     },
     "execution_count": 26,
     "metadata": {},
     "output_type": "execute_result"
    }
   ],
   "source": [
    "# working with repo with remote code\n",
    "c4_config_names = get_dataset_config_names(\"c4\", trust_remote_code=True)\n",
    "c4_config_names"
   ]
  },
  {
   "cell_type": "code",
   "execution_count": 27,
   "metadata": {},
   "outputs": [
    {
     "data": {
      "text/plain": [
       "['train', 'validation']"
      ]
     },
     "execution_count": 27,
     "metadata": {},
     "output_type": "execute_result"
    }
   ],
   "source": [
    "c4_splits = get_dataset_split_names(\"c4\", \"realnewslike\", trust_remote_code=True)\n",
    "c4_splits"
   ]
  },
  {
   "cell_type": "code",
   "execution_count": 58,
   "metadata": {},
   "outputs": [
    {
     "data": {
      "text/html": [
       "<pre style=\"white-space:pre;overflow-x:auto;line-height:normal;font-family:Menlo,'DejaVu Sans Mono',consolas,'Courier New',monospace\"><span style=\"color: #800080; text-decoration-color: #800080; font-weight: bold\">DatasetDict</span><span style=\"font-weight: bold\">({</span>\n",
       "    train: <span style=\"color: #800080; text-decoration-color: #800080; font-weight: bold\">Dataset</span><span style=\"font-weight: bold\">({</span>\n",
       "        features: <span style=\"font-weight: bold\">[</span><span style=\"color: #008000; text-decoration-color: #008000\">'text'</span>, <span style=\"color: #008000; text-decoration-color: #008000\">'label'</span><span style=\"font-weight: bold\">]</span>,\n",
       "        num_rows: <span style=\"color: #008080; text-decoration-color: #008080; font-weight: bold\">8530</span>\n",
       "    <span style=\"font-weight: bold\">})</span>\n",
       "    validation: <span style=\"color: #800080; text-decoration-color: #800080; font-weight: bold\">Dataset</span><span style=\"font-weight: bold\">({</span>\n",
       "        features: <span style=\"font-weight: bold\">[</span><span style=\"color: #008000; text-decoration-color: #008000\">'text'</span>, <span style=\"color: #008000; text-decoration-color: #008000\">'label'</span><span style=\"font-weight: bold\">]</span>,\n",
       "        num_rows: <span style=\"color: #008080; text-decoration-color: #008080; font-weight: bold\">1066</span>\n",
       "    <span style=\"font-weight: bold\">})</span>\n",
       "    test: <span style=\"color: #800080; text-decoration-color: #800080; font-weight: bold\">Dataset</span><span style=\"font-weight: bold\">({</span>\n",
       "        features: <span style=\"font-weight: bold\">[</span><span style=\"color: #008000; text-decoration-color: #008000\">'text'</span>, <span style=\"color: #008000; text-decoration-color: #008000\">'label'</span><span style=\"font-weight: bold\">]</span>,\n",
       "        num_rows: <span style=\"color: #008080; text-decoration-color: #008080; font-weight: bold\">1066</span>\n",
       "    <span style=\"font-weight: bold\">})</span>\n",
       "<span style=\"font-weight: bold\">})</span>\n",
       "</pre>\n"
      ],
      "text/plain": [
       "\u001b[1;35mDatasetDict\u001b[0m\u001b[1m(\u001b[0m\u001b[1m{\u001b[0m\n",
       "    train: \u001b[1;35mDataset\u001b[0m\u001b[1m(\u001b[0m\u001b[1m{\u001b[0m\n",
       "        features: \u001b[1m[\u001b[0m\u001b[32m'text'\u001b[0m, \u001b[32m'label'\u001b[0m\u001b[1m]\u001b[0m,\n",
       "        num_rows: \u001b[1;36m8530\u001b[0m\n",
       "    \u001b[1m}\u001b[0m\u001b[1m)\u001b[0m\n",
       "    validation: \u001b[1;35mDataset\u001b[0m\u001b[1m(\u001b[0m\u001b[1m{\u001b[0m\n",
       "        features: \u001b[1m[\u001b[0m\u001b[32m'text'\u001b[0m, \u001b[32m'label'\u001b[0m\u001b[1m]\u001b[0m,\n",
       "        num_rows: \u001b[1;36m1066\u001b[0m\n",
       "    \u001b[1m}\u001b[0m\u001b[1m)\u001b[0m\n",
       "    test: \u001b[1;35mDataset\u001b[0m\u001b[1m(\u001b[0m\u001b[1m{\u001b[0m\n",
       "        features: \u001b[1m[\u001b[0m\u001b[32m'text'\u001b[0m, \u001b[32m'label'\u001b[0m\u001b[1m]\u001b[0m,\n",
       "        num_rows: \u001b[1;36m1066\u001b[0m\n",
       "    \u001b[1m}\u001b[0m\u001b[1m)\u001b[0m\n",
       "\u001b[1m}\u001b[0m\u001b[1m)\u001b[0m\n"
      ]
     },
     "metadata": {},
     "output_type": "display_data"
    }
   ],
   "source": [
    "# Diving into the data part of the dataset, working with rotten_tomatoes\n",
    "\n",
    "print(tomatoes_ds)"
   ]
  },
  {
   "cell_type": "code",
   "execution_count": 29,
   "metadata": {},
   "outputs": [
    {
     "data": {
      "text/plain": [
       "Dataset({\n",
       "    features: ['text', 'label'],\n",
       "    num_rows: 8530\n",
       "})"
      ]
     },
     "execution_count": 29,
     "metadata": {},
     "output_type": "execute_result"
    }
   ],
   "source": [
    "# observe the ds_obj is DatasetDict, so need to access the Dataset object inside using the splits\n",
    "toma_train_ds = tomatoes_ds['train']\n",
    "toma_train_ds"
   ]
  },
  {
   "cell_type": "code",
   "execution_count": 39,
   "metadata": {},
   "outputs": [
    {
     "data": {
      "text/plain": [
       "'the rock is destined to be the 21st century\\'s new \" conan \" and that he\\'s going to make a splash even greater than arnold schwarzenegger , jean-claud van damme or steven segal .'"
      ]
     },
     "execution_count": 39,
     "metadata": {},
     "output_type": "execute_result"
    }
   ],
   "source": [
    "tomatoes_ds['train'][0]['text']"
   ]
  },
  {
   "cell_type": "code",
   "execution_count": 30,
   "metadata": {},
   "outputs": [
    {
     "data": {
      "text/plain": [
       "{'text': 'the rock is destined to be the 21st century\\'s new \" conan \" and that he\\'s going to make a splash even greater than arnold schwarzenegger , jean-claud van damme or steven segal .',\n",
       " 'label': 1}"
      ]
     },
     "execution_count": 30,
     "metadata": {},
     "output_type": "execute_result"
    }
   ],
   "source": [
    "# try exploring the above Dataset, DatasetDict, DatasetInfo, DatasetConfig objects with dir function  # Homework\n",
    "toma_train_ds[0]"
   ]
  },
  {
   "cell_type": "code",
   "execution_count": 31,
   "metadata": {},
   "outputs": [
    {
     "data": {
      "text/plain": [
       "'the rock is destined to be the 21st century\\'s new \" conan \" and that he\\'s going to make a splash even greater than arnold schwarzenegger , jean-claud van damme or steven segal .'"
      ]
     },
     "execution_count": 31,
     "metadata": {},
     "output_type": "execute_result"
    }
   ],
   "source": [
    "toma_train_ds['text'][0]"
   ]
  },
  {
   "cell_type": "code",
   "execution_count": 40,
   "metadata": {},
   "outputs": [
    {
     "data": {
      "text/html": [
       "<pre style=\"white-space:pre;overflow-x:auto;line-height:normal;font-family:Menlo,'DejaVu Sans Mono',consolas,'Courier New',monospace\"><span style=\"color: #008080; text-decoration-color: #008080; font-weight: bold\">0.00033473968505859375</span>\n",
       "</pre>\n"
      ],
      "text/plain": [
       "\u001b[1;36m0.00033473968505859375\u001b[0m\n"
      ]
     },
     "metadata": {},
     "output_type": "display_data"
    },
    {
     "data": {
      "text/html": [
       "<pre style=\"white-space:pre;overflow-x:auto;line-height:normal;font-family:Menlo,'DejaVu Sans Mono',consolas,'Courier New',monospace\"><span style=\"color: #008080; text-decoration-color: #008080; font-weight: bold\">0.031055212020874023</span>\n",
       "</pre>\n"
      ],
      "text/plain": [
       "\u001b[1;36m0.031055212020874023\u001b[0m\n"
      ]
     },
     "metadata": {},
     "output_type": "display_data"
    }
   ],
   "source": [
    "# Timing operations. Whats the difference?  ### Home Work\n",
    "\n",
    "import time\n",
    "\n",
    "start_time = time.time()\n",
    "d = toma_train_ds[0]['text']  # accessing the rows is faster\n",
    "print(time.time() - start_time)\n",
    "\n",
    "start_time = time.time()\n",
    "d = toma_train_ds['text'][0]   # accessing the columns will take time\n",
    "print(time.time() - start_time)"
   ]
  },
  {
   "cell_type": "code",
   "execution_count": 50,
   "metadata": {},
   "outputs": [
    {
     "data": {
      "text/html": [
       "<pre style=\"white-space:pre;overflow-x:auto;line-height:normal;font-family:Menlo,'DejaVu Sans Mono',consolas,'Courier New',monospace\"><span style=\"font-weight: bold\">{</span>\n",
       "    <span style=\"color: #008000; text-decoration-color: #008000\">'text'</span>: <span style=\"color: #008000; text-decoration-color: #008000\">'the rock is destined to be the 21st century\\'s new \" conan \" and that he\\'s going to make a splash </span>\n",
       "<span style=\"color: #008000; text-decoration-color: #008000\">even greater than arnold schwarzenegger , jean-claud van damme or steven segal .'</span>,\n",
       "    <span style=\"color: #008000; text-decoration-color: #008000\">'label'</span>: <span style=\"color: #008080; text-decoration-color: #008080; font-weight: bold\">1</span>\n",
       "<span style=\"font-weight: bold\">}</span>\n",
       "</pre>\n"
      ],
      "text/plain": [
       "\u001b[1m{\u001b[0m\n",
       "    \u001b[32m'text'\u001b[0m: \u001b[32m'the rock is destined to be the 21st century\\'s new \" conan \" and that he\\'s going to make a splash \u001b[0m\n",
       "\u001b[32meven greater than arnold schwarzenegger , jean-claud van damme or steven segal .'\u001b[0m,\n",
       "    \u001b[32m'label'\u001b[0m: \u001b[1;36m1\u001b[0m\n",
       "\u001b[1m}\u001b[0m\n"
      ]
     },
     "metadata": {},
     "output_type": "display_data"
    }
   ],
   "source": [
    "# creating a iterator from dataset\n",
    "toma_train_iter = load_dataset(\"rotten_tomatoes\", split='train', streaming=True)\n",
    "# streaming is getting data when required\n",
    "for ex in toma_train_iter:\n",
    "    print(ex)\n",
    "    break\n",
    "# The iter will have data still... check below \n",
    "# this is different from the iter object that we create \n",
    "# by iter() function"
   ]
  },
  {
   "cell_type": "code",
   "execution_count": 46,
   "metadata": {},
   "outputs": [
    {
     "data": {
      "text/plain": [
       "datasets.iterable_dataset.IterableDataset"
      ]
     },
     "execution_count": 46,
     "metadata": {},
     "output_type": "execute_result"
    }
   ],
   "source": [
    "type(toma_train_iter) "
   ]
  },
  {
   "cell_type": "code",
   "execution_count": 52,
   "metadata": {},
   "outputs": [
    {
     "data": {
      "text/plain": [
       "{'text': 'the rock is destined to be the 21st century\\'s new \" conan \" and that he\\'s going to make a splash even greater than arnold schwarzenegger , jean-claud van damme or steven segal .',\n",
       " 'label': 1}"
      ]
     },
     "execution_count": 52,
     "metadata": {},
     "output_type": "execute_result"
    }
   ],
   "source": [
    "next(iter(toma_train_iter))"
   ]
  },
  {
   "cell_type": "code",
   "execution_count": 53,
   "metadata": {},
   "outputs": [
    {
     "data": {
      "text/plain": [
       "[{'text': 'the rock is destined to be the 21st century\\'s new \" conan \" and that he\\'s going to make a splash even greater than arnold schwarzenegger , jean-claud van damme or steven segal .',\n",
       "  'label': 1},\n",
       " {'text': 'the gorgeously elaborate continuation of \" the lord of the rings \" trilogy is so huge that a column of words cannot adequately describe co-writer/director peter jackson\\'s expanded vision of j . r . r . tolkien\\'s middle-earth .',\n",
       "  'label': 1},\n",
       " {'text': 'effective but too-tepid biopic', 'label': 1}]"
      ]
     },
     "execution_count": 53,
     "metadata": {},
     "output_type": "execute_result"
    }
   ],
   "source": [
    "list(toma_train_iter.take(3))"
   ]
  },
  {
   "cell_type": "code",
   "execution_count": 54,
   "metadata": {},
   "outputs": [
    {
     "data": {
      "text/plain": [
       "{'text': ['the rock is destined to be the 21st century\\'s new \" conan \" and that he\\'s going to make a splash even greater than arnold schwarzenegger , jean-claud van damme or steven segal .',\n",
       "  'the gorgeously elaborate continuation of \" the lord of the rings \" trilogy is so huge that a column of words cannot adequately describe co-writer/director peter jackson\\'s expanded vision of j . r . r . tolkien\\'s middle-earth .',\n",
       "  'effective but too-tepid biopic'],\n",
       " 'label': [1, 1, 1]}"
      ]
     },
     "execution_count": 54,
     "metadata": {},
     "output_type": "execute_result"
    }
   ],
   "source": [
    "toma_train_ds[:3]"
   ]
  },
  {
   "cell_type": "code",
   "execution_count": 56,
   "metadata": {},
   "outputs": [
    {
     "name": "stderr",
     "output_type": "stream",
     "text": [
      "Downloading readme: 100%|██████████| 7.27k/7.27k [00:00<00:00, 9.56MB/s]\n",
      "Downloading data: 100%|██████████| 91.8M/91.8M [00:25<00:00, 3.59MB/s]\n",
      "Downloading data: 100%|██████████| 15.8M/15.8M [00:10<00:00, 1.51MB/s]\n",
      "Downloading data: 100%|██████████| 6.12M/6.12M [00:03<00:00, 2.01MB/s]\n",
      "Generating train split: 100%|██████████| 18949/18949 [00:03<00:00, 5226.10 examples/s]\n",
      "Generating test split: 100%|██████████| 3269/3269 [00:00<00:00, 6063.71 examples/s]\n",
      "Generating ca_test split: 100%|██████████| 1237/1237 [00:00<00:00, 9442.11 examples/s] \n"
     ]
    }
   ],
   "source": [
    "billsum = load_dataset(path=\"billsum\",\n",
    "                       split=\"train\",\n",
    "                       keep_in_memory=True)## Doubt - How to know all the parameters while calling load_dataset\n",
    "                                            # like this one keep_in_memory, streaming"
   ]
  },
  {
   "cell_type": "code",
   "execution_count": null,
   "metadata": {},
   "outputs": [],
   "source": [
    "glue = load_dataset(\"glue\", \"mrpc\",\n",
    "                    cache_dir=\"C:\\\\Users\\\\kamal\\\\.cache\\\\huggingface\\\\\",  #update path\n",
    "                    download_mode='reuse_dataset_if_exists')"
   ]
  },
  {
   "cell_type": "code",
   "execution_count": null,
   "metadata": {},
   "outputs": [],
   "source": [
    "twitter_list = [\"emoji\", \"emotion\", \"hate\", \"irony\", \n",
    "\"offensive\", \"sentiment\", \"stance_abortion\", \"stance_atheism\", \n",
    "\"stance_climate\", \"stance_feminist\", \"stance_hillary\"]\n",
    "# Think how else can we get the above list!!!  --->  get_dataset_config_names(\"tweet_eval\")\n",
    "\n",
    "for task in twitter_list:\n",
    "    twitter = load_dataset(\"tweet_eval\", task)"
   ]
  },
  {
   "cell_type": "code",
   "execution_count": 59,
   "metadata": {},
   "outputs": [
    {
     "name": "stderr",
     "output_type": "stream",
     "text": [
      "Downloading readme: 100%|██████████| 23.9k/23.9k [00:00<00:00, 4.55MB/s]\n"
     ]
    },
    {
     "data": {
      "text/plain": [
       "['emoji',\n",
       " 'emotion',\n",
       " 'hate',\n",
       " 'irony',\n",
       " 'offensive',\n",
       " 'sentiment',\n",
       " 'stance_abortion',\n",
       " 'stance_atheism',\n",
       " 'stance_climate',\n",
       " 'stance_feminist',\n",
       " 'stance_hillary']"
      ]
     },
     "execution_count": 59,
     "metadata": {},
     "output_type": "execute_result"
    }
   ],
   "source": [
    "get_dataset_config_names(\"tweet_eval\")"
   ]
  },
  {
   "cell_type": "code",
   "execution_count": null,
   "metadata": {},
   "outputs": [],
   "source": [
    "# [Advanced] Write a wrapper Class that takes a dataset name, provides access to list of configs, splits, dataset info, \n",
    "# contains methods to load dataset into memory, and process it as required.  << Expect to spend atleast 60 to 90 mins\n",
    "ought_list = ['ade_corpus_v2', 'banking_77', 'terms_of_service', \n",
    "              'tai_safety_research', 'neurips_impact_statement_risks',\n",
    "              'overruling', 'systematic_review_inclusion', 'one_stop_english',\n",
    "              'tweet_eval_hate', 'twitter_complaints', 'semiconductor_org_types']\n",
    "for task in ought_list:\n",
    "    dataset = load_dataset(\"ought/raft\", task)"
   ]
  },
  {
   "cell_type": "code",
   "execution_count": 60,
   "metadata": {},
   "outputs": [],
   "source": [
    "class DS_wrap():\n",
    "    def __init__(self,dsname):\n",
    "        self.dsname = dsname\n",
    "        \n",
    "    def get_details(self):\n",
    "        # print(get_dataset_config_names(self.dsname))\n",
    "        d={}\n",
    "        d['config_names'] = get_dataset_config_names(self.dsname)\n",
    "        d['dataset_info'] = get_dataset_infos(self.dsname)\n",
    "        return d        \n",
    "    def ask_config():\n",
    "        if get_dataset_config_names(self.dsname) != ['default']:\n",
    "            self.config1= input(\"which config in this dataset do you want? \") # return self.config1\n",
    "        \n",
    "    def getconfig_details(self):\n",
    "        d={}\n",
    "        self.ask_config()\n",
    "        # config1= input(\"which config in this dataset do you want? \")\n",
    "        d['config_info'] = get_dataset_config_info(self.dsname, self.config1)         # ValueError: Config name is missing.\n",
    "        d['split_names'] = get_dataset_split_names(self.dsname, self.config1)         # after running for 4 min gave error ValueError: Config name is missing.\n",
    "        return d\n",
    "    def load_ds(self):\n",
    "        self.ask_config()\n",
    "        d1=load_dataset(self.dsname,self.config1)\n",
    "        return d1\n"
   ]
  },
  {
   "cell_type": "code",
   "execution_count": null,
   "metadata": {},
   "outputs": [],
   "source": []
  },
  {
   "cell_type": "code",
   "execution_count": 61,
   "metadata": {},
   "outputs": [],
   "source": [
    "d1=DS_wrap('glue')"
   ]
  },
  {
   "cell_type": "code",
   "execution_count": 62,
   "metadata": {},
   "outputs": [
    {
     "ename": "ValueError",
     "evalue": "Config name is missing.\nPlease pick one among the available configs: ['ax', 'cola', 'mnli', 'mnli_matched', 'mnli_mismatched', 'mrpc', 'qnli', 'qqp', 'rte', 'sst2', 'stsb', 'wnli']\nExample of usage:\n\t`load_dataset('glue', 'ax')`",
     "output_type": "error",
     "traceback": [
      "\u001b[0;31m---------------------------------------------------------------------------\u001b[0m",
      "\u001b[0;31mValueError\u001b[0m                                Traceback (most recent call last)",
      "Cell \u001b[0;32mIn[62], line 1\u001b[0m\n\u001b[0;32m----> 1\u001b[0m d1\u001b[39m.\u001b[39;49mget_details()\n",
      "Cell \u001b[0;32mIn[60], line 10\u001b[0m, in \u001b[0;36mDS_wrap.get_details\u001b[0;34m(self)\u001b[0m\n\u001b[1;32m      8\u001b[0m d[\u001b[39m'\u001b[39m\u001b[39mdataset_info\u001b[39m\u001b[39m'\u001b[39m] \u001b[39m=\u001b[39m get_dataset_infos(\u001b[39mself\u001b[39m\u001b[39m.\u001b[39mdsname)\n\u001b[1;32m      9\u001b[0m d[\u001b[39m'\u001b[39m\u001b[39mconfig_names\u001b[39m\u001b[39m'\u001b[39m] \u001b[39m=\u001b[39m get_dataset_config_names(\u001b[39mself\u001b[39m\u001b[39m.\u001b[39mdsname)\n\u001b[0;32m---> 10\u001b[0m d[\u001b[39m'\u001b[39m\u001b[39msplit_names\u001b[39m\u001b[39m'\u001b[39m] \u001b[39m=\u001b[39m get_dataset_split_names(\u001b[39mself\u001b[39;49m\u001b[39m.\u001b[39;49mdsname)\n\u001b[1;32m     11\u001b[0m d[\u001b[39m'\u001b[39m\u001b[39mconfig_info\u001b[39m\u001b[39m'\u001b[39m] \u001b[39m=\u001b[39m get_dataset_config_info(\u001b[39mself\u001b[39m\u001b[39m.\u001b[39mdsname)\n\u001b[1;32m     12\u001b[0m \u001b[39mreturn\u001b[39;00m d\n",
      "File \u001b[0;32m~/Desktop/KamalRaj/Assignments/.venv/lib/python3.9/site-packages/datasets/inspect.py:571\u001b[0m, in \u001b[0;36mget_dataset_split_names\u001b[0;34m(path, config_name, data_files, download_config, download_mode, revision, token, use_auth_token, **config_kwargs)\u001b[0m\n\u001b[1;32m    564\u001b[0m     warnings\u001b[39m.\u001b[39mwarn(\n\u001b[1;32m    565\u001b[0m         \u001b[39m\"\u001b[39m\u001b[39m'\u001b[39m\u001b[39muse_auth_token\u001b[39m\u001b[39m'\u001b[39m\u001b[39m was deprecated in favor of \u001b[39m\u001b[39m'\u001b[39m\u001b[39mtoken\u001b[39m\u001b[39m'\u001b[39m\u001b[39m in version 2.14.0 and will be removed in 3.0.0.\u001b[39m\u001b[39m\\n\u001b[39;00m\u001b[39m\"\u001b[39m\n\u001b[1;32m    566\u001b[0m         \u001b[39m\"\u001b[39m\u001b[39mYou can remove this warning by passing \u001b[39m\u001b[39m'\u001b[39m\u001b[39mtoken=<use_auth_token>\u001b[39m\u001b[39m'\u001b[39m\u001b[39m instead.\u001b[39m\u001b[39m\"\u001b[39m,\n\u001b[1;32m    567\u001b[0m         \u001b[39mFutureWarning\u001b[39;00m,\n\u001b[1;32m    568\u001b[0m     )\n\u001b[1;32m    569\u001b[0m     token \u001b[39m=\u001b[39m use_auth_token\n\u001b[0;32m--> 571\u001b[0m info \u001b[39m=\u001b[39m get_dataset_config_info(\n\u001b[1;32m    572\u001b[0m     path,\n\u001b[1;32m    573\u001b[0m     config_name\u001b[39m=\u001b[39;49mconfig_name,\n\u001b[1;32m    574\u001b[0m     data_files\u001b[39m=\u001b[39;49mdata_files,\n\u001b[1;32m    575\u001b[0m     download_config\u001b[39m=\u001b[39;49mdownload_config,\n\u001b[1;32m    576\u001b[0m     download_mode\u001b[39m=\u001b[39;49mdownload_mode,\n\u001b[1;32m    577\u001b[0m     revision\u001b[39m=\u001b[39;49mrevision,\n\u001b[1;32m    578\u001b[0m     token\u001b[39m=\u001b[39;49mtoken,\n\u001b[1;32m    579\u001b[0m     \u001b[39m*\u001b[39;49m\u001b[39m*\u001b[39;49mconfig_kwargs,\n\u001b[1;32m    580\u001b[0m )\n\u001b[1;32m    581\u001b[0m \u001b[39mreturn\u001b[39;00m \u001b[39mlist\u001b[39m(info\u001b[39m.\u001b[39msplits\u001b[39m.\u001b[39mkeys())\n",
      "File \u001b[0;32m~/Desktop/KamalRaj/Assignments/.venv/lib/python3.9/site-packages/datasets/inspect.py:477\u001b[0m, in \u001b[0;36mget_dataset_config_info\u001b[0;34m(path, config_name, data_files, download_config, download_mode, revision, token, use_auth_token, **config_kwargs)\u001b[0m\n\u001b[1;32m    470\u001b[0m     warnings\u001b[39m.\u001b[39mwarn(\n\u001b[1;32m    471\u001b[0m         \u001b[39m\"\u001b[39m\u001b[39m'\u001b[39m\u001b[39muse_auth_token\u001b[39m\u001b[39m'\u001b[39m\u001b[39m was deprecated in favor of \u001b[39m\u001b[39m'\u001b[39m\u001b[39mtoken\u001b[39m\u001b[39m'\u001b[39m\u001b[39m in version 2.14.0 and will be removed in 3.0.0.\u001b[39m\u001b[39m\\n\u001b[39;00m\u001b[39m\"\u001b[39m\n\u001b[1;32m    472\u001b[0m         \u001b[39m\"\u001b[39m\u001b[39mYou can remove this warning by passing \u001b[39m\u001b[39m'\u001b[39m\u001b[39mtoken=<use_auth_token>\u001b[39m\u001b[39m'\u001b[39m\u001b[39m instead.\u001b[39m\u001b[39m\"\u001b[39m,\n\u001b[1;32m    473\u001b[0m         \u001b[39mFutureWarning\u001b[39;00m,\n\u001b[1;32m    474\u001b[0m     )\n\u001b[1;32m    475\u001b[0m     token \u001b[39m=\u001b[39m use_auth_token\n\u001b[0;32m--> 477\u001b[0m builder \u001b[39m=\u001b[39m load_dataset_builder(\n\u001b[1;32m    478\u001b[0m     path,\n\u001b[1;32m    479\u001b[0m     name\u001b[39m=\u001b[39;49mconfig_name,\n\u001b[1;32m    480\u001b[0m     data_files\u001b[39m=\u001b[39;49mdata_files,\n\u001b[1;32m    481\u001b[0m     download_config\u001b[39m=\u001b[39;49mdownload_config,\n\u001b[1;32m    482\u001b[0m     download_mode\u001b[39m=\u001b[39;49mdownload_mode,\n\u001b[1;32m    483\u001b[0m     revision\u001b[39m=\u001b[39;49mrevision,\n\u001b[1;32m    484\u001b[0m     token\u001b[39m=\u001b[39;49mtoken,\n\u001b[1;32m    485\u001b[0m     \u001b[39m*\u001b[39;49m\u001b[39m*\u001b[39;49mconfig_kwargs,\n\u001b[1;32m    486\u001b[0m )\n\u001b[1;32m    487\u001b[0m info \u001b[39m=\u001b[39m builder\u001b[39m.\u001b[39minfo\n\u001b[1;32m    488\u001b[0m \u001b[39mif\u001b[39;00m info\u001b[39m.\u001b[39msplits \u001b[39mis\u001b[39;00m \u001b[39mNone\u001b[39;00m:\n",
      "File \u001b[0;32m~/Desktop/KamalRaj/Assignments/.venv/lib/python3.9/site-packages/datasets/load.py:2265\u001b[0m, in \u001b[0;36mload_dataset_builder\u001b[0;34m(path, name, data_dir, data_files, cache_dir, features, download_config, download_mode, revision, token, use_auth_token, storage_options, trust_remote_code, _require_default_config_name, **config_kwargs)\u001b[0m\n\u001b[1;32m   2263\u001b[0m builder_cls \u001b[39m=\u001b[39m get_dataset_builder_class(dataset_module, dataset_name\u001b[39m=\u001b[39mdataset_name)\n\u001b[1;32m   2264\u001b[0m \u001b[39m# Instantiate the dataset builder\u001b[39;00m\n\u001b[0;32m-> 2265\u001b[0m builder_instance: DatasetBuilder \u001b[39m=\u001b[39m builder_cls(\n\u001b[1;32m   2266\u001b[0m     cache_dir\u001b[39m=\u001b[39;49mcache_dir,\n\u001b[1;32m   2267\u001b[0m     dataset_name\u001b[39m=\u001b[39;49mdataset_name,\n\u001b[1;32m   2268\u001b[0m     config_name\u001b[39m=\u001b[39;49mconfig_name,\n\u001b[1;32m   2269\u001b[0m     data_dir\u001b[39m=\u001b[39;49mdata_dir,\n\u001b[1;32m   2270\u001b[0m     data_files\u001b[39m=\u001b[39;49mdata_files,\n\u001b[1;32m   2271\u001b[0m     \u001b[39mhash\u001b[39;49m\u001b[39m=\u001b[39;49mdataset_module\u001b[39m.\u001b[39;49mhash,\n\u001b[1;32m   2272\u001b[0m     info\u001b[39m=\u001b[39;49minfo,\n\u001b[1;32m   2273\u001b[0m     features\u001b[39m=\u001b[39;49mfeatures,\n\u001b[1;32m   2274\u001b[0m     token\u001b[39m=\u001b[39;49mtoken,\n\u001b[1;32m   2275\u001b[0m     storage_options\u001b[39m=\u001b[39;49mstorage_options,\n\u001b[1;32m   2276\u001b[0m     \u001b[39m*\u001b[39;49m\u001b[39m*\u001b[39;49mbuilder_kwargs,\n\u001b[1;32m   2277\u001b[0m     \u001b[39m*\u001b[39;49m\u001b[39m*\u001b[39;49mconfig_kwargs,\n\u001b[1;32m   2278\u001b[0m )\n\u001b[1;32m   2279\u001b[0m builder_instance\u001b[39m.\u001b[39m_use_legacy_cache_dir_if_possible(dataset_module)\n\u001b[1;32m   2281\u001b[0m \u001b[39mreturn\u001b[39;00m builder_instance\n",
      "File \u001b[0;32m~/Desktop/KamalRaj/Assignments/.venv/lib/python3.9/site-packages/datasets/builder.py:371\u001b[0m, in \u001b[0;36mDatasetBuilder.__init__\u001b[0;34m(self, cache_dir, dataset_name, config_name, hash, base_path, info, features, token, use_auth_token, repo_id, data_files, data_dir, storage_options, writer_batch_size, name, **config_kwargs)\u001b[0m\n\u001b[1;32m    369\u001b[0m \u001b[39mif\u001b[39;00m data_dir \u001b[39mis\u001b[39;00m \u001b[39mnot\u001b[39;00m \u001b[39mNone\u001b[39;00m:\n\u001b[1;32m    370\u001b[0m     config_kwargs[\u001b[39m\"\u001b[39m\u001b[39mdata_dir\u001b[39m\u001b[39m\"\u001b[39m] \u001b[39m=\u001b[39m data_dir\n\u001b[0;32m--> 371\u001b[0m \u001b[39mself\u001b[39m\u001b[39m.\u001b[39mconfig, \u001b[39mself\u001b[39m\u001b[39m.\u001b[39mconfig_id \u001b[39m=\u001b[39m \u001b[39mself\u001b[39;49m\u001b[39m.\u001b[39;49m_create_builder_config(\n\u001b[1;32m    372\u001b[0m     config_name\u001b[39m=\u001b[39;49mconfig_name,\n\u001b[1;32m    373\u001b[0m     custom_features\u001b[39m=\u001b[39;49mfeatures,\n\u001b[1;32m    374\u001b[0m     \u001b[39m*\u001b[39;49m\u001b[39m*\u001b[39;49mconfig_kwargs,\n\u001b[1;32m    375\u001b[0m )\n\u001b[1;32m    377\u001b[0m \u001b[39m# prepare info: DatasetInfo are a standardized dataclass across all datasets\u001b[39;00m\n\u001b[1;32m    378\u001b[0m \u001b[39m# Prefill datasetinfo\u001b[39;00m\n\u001b[1;32m    379\u001b[0m \u001b[39mif\u001b[39;00m info \u001b[39mis\u001b[39;00m \u001b[39mNone\u001b[39;00m:\n\u001b[1;32m    380\u001b[0m     \u001b[39m# TODO FOR PACKAGED MODULES IT IMPORTS DATA FROM src/packaged_modules which doesn't make sense\u001b[39;00m\n",
      "File \u001b[0;32m~/Desktop/KamalRaj/Assignments/.venv/lib/python3.9/site-packages/datasets/builder.py:577\u001b[0m, in \u001b[0;36mDatasetBuilder._create_builder_config\u001b[0;34m(self, config_name, custom_features, **config_kwargs)\u001b[0m\n\u001b[1;32m    575\u001b[0m     \u001b[39mif\u001b[39;00m \u001b[39mnot\u001b[39;00m config_kwargs:\n\u001b[1;32m    576\u001b[0m         example_of_usage \u001b[39m=\u001b[39m \u001b[39mf\u001b[39m\u001b[39m\"\u001b[39m\u001b[39mload_dataset(\u001b[39m\u001b[39m'\u001b[39m\u001b[39m{\u001b[39;00m\u001b[39mself\u001b[39m\u001b[39m.\u001b[39mdataset_name\u001b[39m}\u001b[39;00m\u001b[39m'\u001b[39m\u001b[39m, \u001b[39m\u001b[39m'\u001b[39m\u001b[39m{\u001b[39;00m\u001b[39mself\u001b[39m\u001b[39m.\u001b[39mBUILDER_CONFIGS[\u001b[39m0\u001b[39m]\u001b[39m.\u001b[39mname\u001b[39m}\u001b[39;00m\u001b[39m'\u001b[39m\u001b[39m)\u001b[39m\u001b[39m\"\u001b[39m\n\u001b[0;32m--> 577\u001b[0m         \u001b[39mraise\u001b[39;00m \u001b[39mValueError\u001b[39;00m(\n\u001b[1;32m    578\u001b[0m             \u001b[39m\"\u001b[39m\u001b[39mConfig name is missing.\u001b[39m\u001b[39m\"\u001b[39m\n\u001b[1;32m    579\u001b[0m             \u001b[39mf\u001b[39m\u001b[39m\"\u001b[39m\u001b[39m\\n\u001b[39;00m\u001b[39mPlease pick one among the available configs: \u001b[39m\u001b[39m{\u001b[39;00m\u001b[39mlist\u001b[39m(\u001b[39mself\u001b[39m\u001b[39m.\u001b[39mbuilder_configs\u001b[39m.\u001b[39mkeys())\u001b[39m}\u001b[39;00m\u001b[39m\"\u001b[39m\n\u001b[1;32m    580\u001b[0m             \u001b[39m+\u001b[39m \u001b[39mf\u001b[39m\u001b[39m\"\u001b[39m\u001b[39m\\n\u001b[39;00m\u001b[39mExample of usage:\u001b[39m\u001b[39m\\n\u001b[39;00m\u001b[39m\\t\u001b[39;00m\u001b[39m`\u001b[39m\u001b[39m{\u001b[39;00mexample_of_usage\u001b[39m}\u001b[39;00m\u001b[39m`\u001b[39m\u001b[39m\"\u001b[39m\n\u001b[1;32m    581\u001b[0m         )\n\u001b[1;32m    582\u001b[0m \u001b[39melse\u001b[39;00m:\n\u001b[1;32m    583\u001b[0m     builder_config \u001b[39m=\u001b[39m \u001b[39mself\u001b[39m\u001b[39m.\u001b[39mBUILDER_CONFIGS[\u001b[39m0\u001b[39m]\n",
      "\u001b[0;31mValueError\u001b[0m: Config name is missing.\nPlease pick one among the available configs: ['ax', 'cola', 'mnli', 'mnli_matched', 'mnli_mismatched', 'mrpc', 'qnli', 'qqp', 'rte', 'sst2', 'stsb', 'wnli']\nExample of usage:\n\t`load_dataset('glue', 'ax')`"
     ]
    }
   ],
   "source": [
    "d1.get_details()"
   ]
  },
  {
   "cell_type": "code",
   "execution_count": null,
   "metadata": {},
   "outputs": [],
   "source": [
    "# another way to time the process\n",
    "import os; import psutil; import timeit\n",
    "\n",
    "mem_before = psutil.Process(os.getpid()).memory_info().rss / (1024 * 1024)\n",
    "ade_data = load_dataset(\"ade_corpus_v2\", 'Ade_corpus_v2_classification', split=\"train\")\n",
    "mem_after = psutil.Process(os.getpid()).memory_info().rss / (1024 * 1024)\n",
    "\n",
    "mem_after - mem_before"
   ]
  },
  {
   "cell_type": "code",
   "execution_count": null,
   "metadata": {},
   "outputs": [],
   "source": [
    "from datasets import load_dataset, Audio\n",
    "\n",
    "dataset = load_dataset(\"PolyAI/minds14\", \"en-US\", split=\"train\")"
   ]
  },
  {
   "cell_type": "code",
   "execution_count": null,
   "metadata": {},
   "outputs": [],
   "source": [
    "from transformers import AutoModelForAudioClassification, AutoFeatureExtractor\n",
    "\n",
    "model = AutoModelForAudioClassification.from_pretrained(\"facebook/wav2vec2-base\")\n",
    "feature_extractor = AutoFeatureExtractor.from_pretrained(\"facebook/wav2vec2-base\")"
   ]
  },
  {
   "cell_type": "code",
   "execution_count": null,
   "metadata": {},
   "outputs": [],
   "source": [
    "dataset = dataset.cast_column(\"audio\", Audio(sampling_rate=16000))\n",
    "dataset[0][\"audio\"]"
   ]
  },
  {
   "cell_type": "code",
   "execution_count": null,
   "metadata": {},
   "outputs": [],
   "source": [
    "def preprocess_function(examples):   # Home Work\n",
    "    audio_arrays = [x[\"array\"] for x in examples[\"audio\"]]\n",
    "    inputs = feature_extractor(\n",
    "        audio_arrays,\n",
    "        sampling_rate=16000,\n",
    "        padding=True,\n",
    "        max_length=100000,\n",
    "        truncation=True,\n",
    "    )\n",
    "    return inputs\n"
   ]
  },
  {
   "cell_type": "code",
   "execution_count": null,
   "metadata": {},
   "outputs": [],
   "source": [
    "dataset_10 = dataset.select(range(10)).map(preprocess_function, batched=True)"
   ]
  },
  {
   "cell_type": "code",
   "execution_count": null,
   "metadata": {},
   "outputs": [],
   "source": [
    "dataset_10"
   ]
  },
  {
   "cell_type": "code",
   "execution_count": null,
   "metadata": {},
   "outputs": [],
   "source": [
    "dataset_10[0]"
   ]
  },
  {
   "cell_type": "code",
   "execution_count": null,
   "metadata": {},
   "outputs": [],
   "source": [
    "dataset_10 = dataset_10.rename_column(\"intent_class\", \"labels\")"
   ]
  },
  {
   "cell_type": "code",
   "execution_count": null,
   "metadata": {},
   "outputs": [],
   "source": [
    "import librosa\n",
    "import IPython.display\n",
    "\n",
    "# Load the audio file\n",
    "audio_data, sample_rate = librosa.load('example_audio.wav')"
   ]
  },
  {
   "cell_type": "code",
   "execution_count": null,
   "metadata": {},
   "outputs": [],
   "source": [
    "# Play the audio file\n",
    "IPython.display.Audio(audio_data, rate=sample_rate)"
   ]
  },
  {
   "cell_type": "code",
   "execution_count": null,
   "metadata": {},
   "outputs": [],
   "source": [
    "# work on text processing\n",
    "from transformers import AutoTokenizer\n",
    "tokenizer = AutoTokenizer.from_pretrained(\"bert-base-uncased\")"
   ]
  },
  {
   "cell_type": "code",
   "execution_count": null,
   "metadata": {},
   "outputs": [],
   "source": [
    "print(tokenizer(toma_train_ds[0][\"text\"])) # explore with different tokenizers"
   ]
  },
  {
   "cell_type": "code",
   "execution_count": null,
   "metadata": {},
   "outputs": [],
   "source": [
    "def tokenization(example):\n",
    "    return tokenizer(example[\"text\"])\n",
    "\n",
    "toma_5_ds = toma_train_ds.shuffle(57).select(range(5)).map(tokenization, batched=True)\n",
    "toma_5_ds  # explore the output using know python commands << 5 mins"
   ]
  },
  {
   "cell_type": "code",
   "execution_count": null,
   "metadata": {},
   "outputs": [],
   "source": [
    "# feature extraction and au'umenting Images\n",
    "image_tokenizer = AutoFeatureExtractor.from_pretrained(\"google/vit-base-patch16-224-in21k\")"
   ]
  },
  {
   "cell_type": "code",
   "execution_count": null,
   "metadata": {},
   "outputs": [],
   "source": [
    "beans_ds = load_dataset(\"beans\", split=\"train\")"
   ]
  },
  {
   "cell_type": "code",
   "execution_count": null,
   "metadata": {},
   "outputs": [],
   "source": [
    "beans_ds['image'][0]"
   ]
  },
  {
   "cell_type": "code",
   "execution_count": null,
   "metadata": {},
   "outputs": [],
   "source": [
    "# !pip install torchvision torchaudio"
   ]
  },
  {
   "cell_type": "code",
   "execution_count": null,
   "metadata": {},
   "outputs": [],
   "source": [
    "from torchvision.transforms import RandomRotation\n",
    "\n",
    "rotate = RandomRotation(degrees=(0, 90))\n",
    "def transforms(examples):\n",
    "    examples[\"pixel_values\"] = [rotate(image.convert(\"RGB\")) for image in examples[\"image\"]]\n",
    "    return examples\n",
    "\n"
   ]
  },
  {
   "cell_type": "code",
   "execution_count": null,
   "metadata": {},
   "outputs": [],
   "source": [
    "beans_ds.set_transform(transforms)\n",
    "beans_ds[0][\"pixel_values\"]"
   ]
  },
  {
   "cell_type": "code",
   "execution_count": null,
   "metadata": {},
   "outputs": [],
   "source": [
    "# Diving into processing part. \n",
    "\n",
    "c4_subset = load_dataset(\"allenai/c4\", data_files=[\"en/c4-train.00000-of-01024.json.gz\",])"
   ]
  },
  {
   "cell_type": "code",
   "execution_count": null,
   "metadata": {},
   "outputs": [],
   "source": [
    "c4_subset"
   ]
  },
  {
   "cell_type": "code",
   "execution_count": null,
   "metadata": {},
   "outputs": [],
   "source": [
    "csv_dataset = load_dataset(\"csv\", data_files=\"winequality.csv\")"
   ]
  },
  {
   "cell_type": "code",
   "execution_count": null,
   "metadata": {},
   "outputs": [],
   "source": [
    "json_dataset = load_dataset(\"json\", data_files=\"ordvJNeMjPIcomments.json\")"
   ]
  },
  {
   "cell_type": "code",
   "execution_count": null,
   "metadata": {},
   "outputs": [],
   "source": [
    "json_dataset"
   ]
  },
  {
   "cell_type": "code",
   "execution_count": null,
   "metadata": {},
   "outputs": [],
   "source": [
    "base_url = \"https://rajpurkar.github.io/SQuAD-explorer/dataset/\"\n",
    "\n",
    "dataset = load_dataset(\"json\", data_files={\"train\": base_url + \"train-v1.1.json\", \"validation\": base_url + \"dev-v1.1.json\"}, field=\"data\")"
   ]
  },
  {
   "cell_type": "code",
   "execution_count": null,
   "metadata": {},
   "outputs": [],
   "source": [
    "base_url = \"https://storage.googleapis.com/huggingface-nlp/cache/datasets/wikipedia/20200501.en/1.0.0/\"\n",
    "data_files = {\"train\": base_url + \"wikipedia-train.parquet\"}\n",
    "wiki = load_dataset(\"parquet\", data_files=data_files, split=\"train\")\n",
    "# Downloading data:   5%|▌         | 977M/18.3G [04:36<1:21:58, 3.53MB/s]  "
   ]
  },
  {
   "cell_type": "code",
   "execution_count": null,
   "metadata": {},
   "outputs": [],
   "source": [
    "base_url = \"https://storage.googleapis.com/huggingface-nlp/cache/datasets/wikipedia/20200501.en/1.0.0/\"\n",
    "data_files = {\"train\": base_url + \"wikipedia-train.arrow\"}\n",
    "wiki = load_dataset(\"arrow\", data_files=data_files, split=\"train\")\n",
    "# Downloading data:   0%|          | 3.49M/18.3G [00:02<3:36:14, 1.41MB/s] "
   ]
  },
  {
   "cell_type": "code",
   "execution_count": null,
   "metadata": {},
   "outputs": [],
   "source": [
    "from datasets import Dataset\n",
    "my_dict = {\"a\": [1, 2, 3]}  # from dict\n",
    "dataset = Dataset.from_dict(my_dict)"
   ]
  },
  {
   "cell_type": "code",
   "execution_count": null,
   "metadata": {},
   "outputs": [],
   "source": [
    "my_list = [{\"a\": 1}, {\"a\": 2}, {\"a\": 3}]  # list of dicts\n",
    "dataset = Dataset.from_list(my_list)"
   ]
  },
  {
   "cell_type": "code",
   "execution_count": null,
   "metadata": {},
   "outputs": [],
   "source": [
    "def my_gen():\n",
    "    for i in range(1, 4):\n",
    "        yield {\"a\": i}\n",
    "dataset = Dataset.from_generator(my_gen)  # from generators"
   ]
  },
  {
   "cell_type": "code",
   "execution_count": null,
   "metadata": {},
   "outputs": [],
   "source": [
    "import pandas as pd\n",
    "df = pd.DataFrame({\"a\": [1, 2, 3]})\n",
    "dataset = Dataset.from_pandas(df)  # from dataframe"
   ]
  },
  {
   "cell_type": "markdown",
   "metadata": {},
   "source": [
    "#### Entering into Processing of Datasets\n",
    "\n",
    "- Reorder rows and split the dataset.\n",
    "\n",
    "- Rename and remove columns, and other common column operations.\n",
    "\n",
    "- Apply processing functions to each example in a dataset.\n",
    "\n",
    "- Concatenate datasets.\n",
    "\n",
    "- Apply a custom formatting transform.\n",
    "\n",
    "- Save and export processed datasets.\n",
    "\n",
    "    > Methods to master:\n",
    "\n",
    "    Sort, shuffle, select, split, and shard"
   ]
  },
  {
   "cell_type": "code",
   "execution_count": 2,
   "metadata": {},
   "outputs": [],
   "source": [
    "\n",
    "dataset = load_dataset(\"glue\", \"mrpc\", split=\"train\")"
   ]
  },
  {
   "cell_type": "code",
   "execution_count": null,
   "metadata": {},
   "outputs": [],
   "source": [
    "dataset['label'][:10]"
   ]
  },
  {
   "cell_type": "code",
   "execution_count": null,
   "metadata": {},
   "outputs": [],
   "source": [
    "sorted_ds = dataset.sort(\"label\")\n",
    "sorted_ds['label'][:10]"
   ]
  },
  {
   "cell_type": "code",
   "execution_count": null,
   "metadata": {},
   "outputs": [],
   "source": [
    "# selecting specific indices\n",
    "\n",
    "small_dataset = dataset.select([0, 10, 20, 30, 40, 50])\n",
    "\n",
    "small_dataset['label']"
   ]
  },
  {
   "cell_type": "code",
   "execution_count": null,
   "metadata": {},
   "outputs": [],
   "source": [
    "start_with_ar = dataset.filter(lambda example: example[\"sentence1\"].startswith(\"Ar\"))\n",
    "start_with_ar['sentence1'][:2]"
   ]
  },
  {
   "cell_type": "code",
   "execution_count": null,
   "metadata": {},
   "outputs": [],
   "source": [
    "split_ds = dataset.train_test_split(test_size=0.1)\n",
    "split_ds"
   ]
  },
  {
   "cell_type": "code",
   "execution_count": null,
   "metadata": {},
   "outputs": [],
   "source": [
    "shard_ds = dataset.shard(num_shards=4, index=0)"
   ]
  },
  {
   "cell_type": "code",
   "execution_count": null,
   "metadata": {},
   "outputs": [],
   "source": [
    "shard_ds"
   ]
  },
  {
   "cell_type": "code",
   "execution_count": null,
   "metadata": {},
   "outputs": [],
   "source": [
    "sorted_ds.shuffle(5).select(range(10))['label']"
   ]
  },
  {
   "cell_type": "code",
   "execution_count": 3,
   "metadata": {},
   "outputs": [
    {
     "data": {
      "text/plain": [
       "Dataset({\n",
       "    features: ['sentence1', 'sentence2', 'label', 'idx'],\n",
       "    num_rows: 3668\n",
       "})"
      ]
     },
     "execution_count": 3,
     "metadata": {},
     "output_type": "execute_result"
    }
   ],
   "source": [
    "# Remove, Rename\n",
    "dataset"
   ]
  },
  {
   "cell_type": "code",
   "execution_count": 4,
   "metadata": {},
   "outputs": [
    {
     "data": {
      "text/plain": [
       "Dataset({\n",
       "    features: ['sent1', 'sentence2', 'label', 'idx'],\n",
       "    num_rows: 3668\n",
       "})"
      ]
     },
     "execution_count": 4,
     "metadata": {},
     "output_type": "execute_result"
    }
   ],
   "source": [
    "dataset = dataset.rename_column('sentence1', 'sent1')\n",
    "dataset"
   ]
  },
  {
   "cell_type": "code",
   "execution_count": 6,
   "metadata": {},
   "outputs": [
    {
     "data": {
      "text/plain": [
       "Dataset({\n",
       "    features: ['sent1', 'sentence2', 'label'],\n",
       "    num_rows: 3668\n",
       "})"
      ]
     },
     "execution_count": 6,
     "metadata": {},
     "output_type": "execute_result"
    }
   ],
   "source": [
    "dataset = dataset.remove_columns(['idx'])\n",
    "dataset"
   ]
  },
  {
   "cell_type": "code",
   "execution_count": 8,
   "metadata": {},
   "outputs": [
    {
     "data": {
      "text/plain": [
       "{'sent1': Value(dtype='string', id=None),\n",
       " 'sentence2': Value(dtype='string', id=None),\n",
       " 'label': ClassLabel(names=['not_equivalent', 'equivalent'], id=None)}"
      ]
     },
     "execution_count": 8,
     "metadata": {},
     "output_type": "execute_result"
    }
   ],
   "source": [
    "dataset.features"
   ]
  },
  {
   "cell_type": "code",
   "execution_count": 10,
   "metadata": {},
   "outputs": [],
   "source": [
    "from datasets import ClassLabel, Value\n",
    "\n",
    "practice_cast = dataset.features.copy()"
   ]
  },
  {
   "cell_type": "code",
   "execution_count": 11,
   "metadata": {},
   "outputs": [
    {
     "name": "stderr",
     "output_type": "stream",
     "text": [
      "Casting the dataset: 100%|██████████| 3668/3668 [00:00<00:00, 11877.82 examples/s]\n"
     ]
    },
    {
     "data": {
      "text/plain": [
       "Dataset({\n",
       "    features: ['sent1', 'sentence2', 'label'],\n",
       "    num_rows: 3668\n",
       "})"
      ]
     },
     "execution_count": 11,
     "metadata": {},
     "output_type": "execute_result"
    }
   ],
   "source": [
    "practice_cast['label'] = ClassLabel(names=['Super', 'Dooper'])\n",
    "dataset = dataset.cast(practice_cast)\n",
    "dataset"
   ]
  },
  {
   "cell_type": "code",
   "execution_count": 14,
   "metadata": {},
   "outputs": [
    {
     "data": {
      "text/plain": [
       "{'sent1': Value(dtype='string', id=None),\n",
       " 'sentence2': Value(dtype='string', id=None),\n",
       " 'label': ClassLabel(names=['Super', 'Dooper'], id=None)}"
      ]
     },
     "execution_count": 14,
     "metadata": {},
     "output_type": "execute_result"
    }
   ],
   "source": [
    "dataset.features"
   ]
  },
  {
   "cell_type": "code",
   "execution_count": 28,
   "metadata": {},
   "outputs": [
    {
     "data": {
      "text/plain": [
       "{'id': Value(dtype='string', id=None),\n",
       " 'title': Value(dtype='string', id=None),\n",
       " 'context': Value(dtype='string', id=None),\n",
       " 'question': Value(dtype='string', id=None),\n",
       " 'answers': Sequence(feature={'text': Value(dtype='string', id=None), 'answer_start': Value(dtype='int32', id=None)}, length=-1, id=None)}"
      ]
     },
     "execution_count": 28,
     "metadata": {},
     "output_type": "execute_result"
    }
   ],
   "source": [
    "# flatten : nested Dicts can be flattened\n",
    "\n",
    "squad_ds = load_dataset(\"squad\", split=\"train\")\n",
    "squad_ds.features"
   ]
  },
  {
   "cell_type": "code",
   "execution_count": 29,
   "metadata": {},
   "outputs": [
    {
     "data": {
      "text/plain": [
       "Dataset({\n",
       "    features: ['id', 'title', 'context', 'question', 'answers.text', 'answers.answer_start'],\n",
       "    num_rows: 87599\n",
       "})"
      ]
     },
     "execution_count": 29,
     "metadata": {},
     "output_type": "execute_result"
    }
   ],
   "source": [
    "flat_squad = squad_ds.flatten()\n",
    "flat_squad"
   ]
  },
  {
   "cell_type": "code",
   "execution_count": 30,
   "metadata": {},
   "outputs": [],
   "source": [
    "def add_prefix(example):\n",
    "    example[\"answers.text\"] = 'My Answer: ' + example[\"answers.text\"][0]\n",
    "    return example"
   ]
  },
  {
   "cell_type": "code",
   "execution_count": 25,
   "metadata": {},
   "outputs": [
    {
     "name": "stderr",
     "output_type": "stream",
     "text": [
      "Map:   0%|          | 253/87599 [00:00<00:37, 2317.97 examples/s]"
     ]
    },
    {
     "name": "stderr",
     "output_type": "stream",
     "text": [
      "Map: 100%|██████████| 87599/87599 [00:19<00:00, 4580.93 examples/s]\n"
     ]
    },
    {
     "data": {
      "text/plain": [
       "['My Answer: Saint Bernadette Soubirous',\n",
       " 'My Answer: a copper statue of Christ',\n",
       " 'My Answer: the Main Building',\n",
       " 'My Answer: a Marian place of prayer and reflection',\n",
       " 'My Answer: a golden statue of the Virgin Mary']"
      ]
     },
     "execution_count": 25,
     "metadata": {},
     "output_type": "execute_result"
    }
   ],
   "source": [
    "updated_dataset = flat_squad.map(add_prefix)\n",
    "updated_dataset[\"answers.text\"][:5]"
   ]
  },
  {
   "cell_type": "code",
   "execution_count": 27,
   "metadata": {},
   "outputs": [
    {
     "name": "stderr",
     "output_type": "stream",
     "text": [
      "Map:   0%|          | 233/87599 [00:00<00:39, 2223.23 examples/s]"
     ]
    },
    {
     "name": "stderr",
     "output_type": "stream",
     "text": [
      "Map: 100%|██████████| 87599/87599 [00:20<00:00, 4352.45 examples/s]\n"
     ]
    },
    {
     "data": {
      "text/plain": [
       "['id',\n",
       " 'title',\n",
       " 'context',\n",
       " 'question',\n",
       " 'answers.answer_start',\n",
       " 'updated_answer']"
      ]
     },
     "execution_count": 27,
     "metadata": {},
     "output_type": "execute_result"
    }
   ],
   "source": [
    "# single process\n",
    "updated_dataset = flat_squad.map(lambda example: {\"updated_answer\": example[\"answers.text\"]}, remove_columns=[\"answers.text\"])\n",
    "updated_dataset.column_names"
   ]
  },
  {
   "cell_type": "code",
   "execution_count": 31,
   "metadata": {},
   "outputs": [
    {
     "name": "stderr",
     "output_type": "stream",
     "text": [
      "Map (num_proc=4): 100%|██████████| 87599/87599 [00:23<00:00, 3696.08 examples/s] \n"
     ]
    },
    {
     "data": {
      "text/plain": [
       "['id',\n",
       " 'title',\n",
       " 'context',\n",
       " 'question',\n",
       " 'answers.answer_start',\n",
       " 'updated_answer']"
      ]
     },
     "execution_count": 31,
     "metadata": {},
     "output_type": "execute_result"
    }
   ],
   "source": [
    "# multiprocess\n",
    "updated_dataset = flat_squad.map(lambda example: {\"updated_answer\": example[\"answers.text\"]},\n",
    "                                 remove_columns=[\"answers.text\"],\n",
    "                                 num_proc=4)\n",
    "updated_dataset.column_names"
   ]
  },
  {
   "cell_type": "code",
   "execution_count": 55,
   "metadata": {},
   "outputs": [
    {
     "data": {
      "text/plain": [
       "'To whom did the Virgin Mary allegedly appear in 1858 in Lourdes France?'"
      ]
     },
     "execution_count": 55,
     "metadata": {},
     "output_type": "execute_result"
    }
   ],
   "source": [
    "flat_squad[0]['question']"
   ]
  },
  {
   "cell_type": "code",
   "execution_count": 49,
   "metadata": {},
   "outputs": [],
   "source": [
    "def chunk_examples(examples):\n",
    "    # print(examples['question'])\n",
    "    chunks = []\n",
    "    for sentence in examples[\"question\"]:\n",
    "        print(sentence)\n",
    "        chunks += [sentence[i:i + 10] for i in range(0, len(sentence),10)]\n",
    "    return {\"chunked_questions\": chunks}"
   ]
  },
  {
   "cell_type": "code",
   "execution_count": 60,
   "metadata": {},
   "outputs": [],
   "source": [
    "def compute_question_length(examples):\n",
    "    return {\"question_length\": [len(example[0][\"question\"].split()) for example in examples]}"
   ]
  },
  {
   "cell_type": "code",
   "execution_count": 47,
   "metadata": {},
   "outputs": [
    {
     "data": {
      "text/html": [
       "<pre style=\"white-space:pre;overflow-x:auto;line-height:normal;font-family:Menlo,'DejaVu Sans Mono',consolas,'Courier New',monospace\">What is in\n",
       "</pre>\n"
      ],
      "text/plain": [
       "What is in\n"
      ]
     },
     "metadata": {},
     "output_type": "display_data"
    },
    {
     "data": {
      "text/html": [
       "<pre style=\"white-space:pre;overflow-x:auto;line-height:normal;font-family:Menlo,'DejaVu Sans Mono',consolas,'Courier New',monospace\"> front of \n",
       "</pre>\n"
      ],
      "text/plain": [
       " front of \n"
      ]
     },
     "metadata": {},
     "output_type": "display_data"
    },
    {
     "data": {
      "text/html": [
       "<pre style=\"white-space:pre;overflow-x:auto;line-height:normal;font-family:Menlo,'DejaVu Sans Mono',consolas,'Courier New',monospace\">the Notre \n",
       "</pre>\n"
      ],
      "text/plain": [
       "the Notre \n"
      ]
     },
     "metadata": {},
     "output_type": "display_data"
    },
    {
     "data": {
      "text/html": [
       "<pre style=\"white-space:pre;overflow-x:auto;line-height:normal;font-family:Menlo,'DejaVu Sans Mono',consolas,'Courier New',monospace\">Dame Main \n",
       "</pre>\n"
      ],
      "text/plain": [
       "Dame Main \n"
      ]
     },
     "metadata": {},
     "output_type": "display_data"
    },
    {
     "data": {
      "text/html": [
       "<pre style=\"white-space:pre;overflow-x:auto;line-height:normal;font-family:Menlo,'DejaVu Sans Mono',consolas,'Courier New',monospace\">Building?\n",
       "</pre>\n"
      ],
      "text/plain": [
       "Building?\n"
      ]
     },
     "metadata": {},
     "output_type": "display_data"
    }
   ],
   "source": [
    "sentence = \"What is in front of the Notre Dame Main Building?\"\n",
    "chunb = []\n",
    "for i in range(0, len(sentence), 10):\n",
    "    print(sentence[i: i + 10])\n",
    "    chunb.append(sentence[i: i + 10])"
   ]
  },
  {
   "cell_type": "code",
   "execution_count": 48,
   "metadata": {},
   "outputs": [
    {
     "data": {
      "text/plain": [
       "['What is in', ' front of ', 'the Notre ', 'Dame Main ', 'Building?']"
      ]
     },
     "execution_count": 48,
     "metadata": {},
     "output_type": "execute_result"
    }
   ],
   "source": [
    "chunb"
   ]
  },
  {
   "cell_type": "code",
   "execution_count": null,
   "metadata": {},
   "outputs": [],
   "source": [
    "chunkd_batches = squad_ds.map(chunk_examples, batched=True, batch_size=5,)"
   ]
  },
  {
   "cell_type": "code",
   "execution_count": 64,
   "metadata": {},
   "outputs": [],
   "source": [
    "from random import randint\n",
    "from transformers import pipeline\n",
    "\n",
    "fillmask = pipeline(\"fill-mask\", model=\"roberta-base\")\n",
    "\n",
    "mask_token = fillmask.tokenizer.mask_token\n",
    "\n",
    "smaller_dataset = dataset.filter(lambda e, i: i<100, with_indices=True)"
   ]
  },
  {
   "cell_type": "code",
   "execution_count": null,
   "metadata": {},
   "outputs": [],
   "source": [
    "def augment_data(examples):\n",
    "    outputs = []\n",
    "    for sentence in examples[\"sentence1\"]:\n",
    "        words = sentence.split(' ')\n",
    "        K = randint(1, len(words)-1)\n",
    "        masked_sentence = \" \".join(words[:K]  + [mask_token] + words[K+1:])\n",
    "        predictions = fillmask(masked_sentence)\n",
    "        augmented_sequences = [predictions[i][\"sequence\"] for i in range(3)]\n",
    "        outputs += [sentence] + augmented_sequences\n",
    "    return {\"data\": outputs}"
   ]
  },
  {
   "cell_type": "code",
   "execution_count": null,
   "metadata": {},
   "outputs": [],
   "source": [
    "augmented_dataset = smaller_dataset.map(augment_data,\n",
    "                                        batched=True,\n",
    "                                        remove_columns=dataset.column_names,\n",
    "                                        batch_size=8)\n",
    "augmented_dataset[:9][\"data\"]"
   ]
  },
  {
   "cell_type": "code",
   "execution_count": null,
   "metadata": {},
   "outputs": [],
   "source": [
    "from datasets import concatenate_datasets, load_dataset\n",
    "\n",
    "bookcorpus = load_dataset(\"bookcorpus\", split=\"train\")\n",
    "wiki = load_dataset(\"wikipedia\", \"20220301.en\", split=\"train\")\n",
    "\n",
    "wiki = wiki.remove_columns([col for col in wiki.column_names if col != \"text\"])  # only keep the 'text' column\n",
    "\n",
    "assert bookcorpus.features.type == wiki.features.type\n",
    "\n",
    "bert_dataset = concatenate_datasets([bookcorpus, wiki])"
   ]
  },
  {
   "cell_type": "code",
   "execution_count": null,
   "metadata": {},
   "outputs": [],
   "source": [
    "from datasets import interleave_datasets\n",
    "\n",
    "seed = 42\n",
    "probabilities = [0.3, 0.5, 0.2]\n",
    "d1 = Dataset.from_dict({\"a\": [0, 1, 2]})\n",
    "d2 = Dataset.from_dict({\"a\": [10, 11, 12, 13]})\n",
    "d3 = Dataset.from_dict({\"a\": [20, 21, 22]})\n",
    "dataset = interleave_datasets([d1, d2, d3], probabilities=probabilities, seed=seed)\n",
    "dataset[\"a\"]"
   ]
  },
  {
   "cell_type": "code",
   "execution_count": null,
   "metadata": {},
   "outputs": [],
   "source": [
    "import torch\n",
    "dataset.set_format(type=\"torch\", columns=[\"input_ids\", \"token_type_ids\", \"attention_mask\", \"label\"])"
   ]
  }
 ],
 "metadata": {
  "kernelspec": {
   "display_name": "reinforce",
   "language": "python",
   "name": "python3"
  },
  "language_info": {
   "codemirror_mode": {
    "name": "ipython",
    "version": 3
   },
   "file_extension": ".py",
   "mimetype": "text/x-python",
   "name": "python",
   "nbconvert_exporter": "python",
   "pygments_lexer": "ipython3",
   "version": "3.9.2"
  }
 },
 "nbformat": 4,
 "nbformat_minor": 2
}
