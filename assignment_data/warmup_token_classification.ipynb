{
 "cells": [
  {
   "cell_type": "code",
   "execution_count": 4,
   "metadata": {},
   "outputs": [],
   "source": [
    "from transformers import pipeline\n",
    "\n",
    "# Individual tokens inside the sentences are classified into different types.\n",
    "default_model = \"dbmdz/bert-large-cased-finetuned-conll03-english\"  # 1.4GB model\n",
    "# classifier = pipeline(\"ner\")"
   ]
  },
  {
   "cell_type": "code",
   "execution_count": 2,
   "metadata": {},
   "outputs": [],
   "source": [
    "from transformers import AutoTokenizer, AutoModelForTokenClassification"
   ]
  },
  {
   "cell_type": "code",
   "execution_count": 5,
   "metadata": {},
   "outputs": [],
   "source": [
    "ner_tokenizer = AutoTokenizer.from_pretrained(default_model,\n",
    "                                              resume_download=True)"
   ]
  },
  {
   "cell_type": "markdown",
   "metadata": {},
   "source": [
    "O means the word doesn’t correspond to any entity.\n",
    "\n",
    "B-PER/I-PER means the word corresponds to the beginning of/is inside a person entity.\n",
    "\n",
    "B-ORG/I-ORG means the word corresponds to the beginning of/is inside an organization entity.\n",
    "\n",
    "B-LOC/I-LOC means the word corresponds to the beginning of/is inside a location entity.\n",
    "\n",
    "B-MISC/I-MISC means the word corresponds to the beginning of/is inside a miscellaneous entity.\n",
    "\n",
    "O, Outside of a named entity\n",
    "\n",
    "B-MIS, Beginning of a miscellaneous entity right after another miscellaneous entity\n",
    "\n",
    "I-MIS, Miscellaneous entity\n",
    "\n",
    "B-PER, Beginning of a person’s name right after another person’s name\n",
    "\n",
    "I-PER, Person’s name\n",
    "\n",
    "B-ORG, Beginning of an organisation right after another organisation\n",
    "\n",
    "I-ORG, Organisation\n",
    "\n",
    "B-LOC, Beginning of a location right after another location\n",
    "\n",
    "I-LOC, Location"
   ]
  },
  {
   "cell_type": "code",
   "execution_count": null,
   "metadata": {},
   "outputs": [],
   "source": [
    "ner_model = AutoModelForTokenClassification.from_pretrained(default_model,\n",
    "                                                            resume_download=True)"
   ]
  },
  {
   "cell_type": "code",
   "execution_count": 9,
   "metadata": {},
   "outputs": [],
   "source": [
    "label_list = [\n",
    "\"O\",       # Outside of a named entity\n",
    "\"B-MISC\",  # Beginning of a miscellaneous entity right after another miscellaneous entity\n",
    "\"I-MISC\",  # Miscellaneous entity\n",
    "\"B-PER\",   # Beginning of a person's name right after another person's name\n",
    "\"I-PER\",   # Person's name\n",
    "\"B-ORG\",   # Beginning of an organisation right after another organisation\n",
    "\"I-ORG\",   # Organisation\n",
    "\"B-LOC\",   # Beginning of a location right after another location\n",
    "\"I-LOC\"    # Location \n",
    "]"
   ]
  },
  {
   "cell_type": "code",
   "execution_count": 11,
   "metadata": {},
   "outputs": [],
   "source": [
    "sentence = \"I am from india and I like playing with data\""
   ]
  },
  {
   "cell_type": "code",
   "execution_count": null,
   "metadata": {},
   "outputs": [],
   "source": [
    "sentence_tokenized = ner_tokenizer.tokenize(sentence)"
   ]
  },
  {
   "cell_type": "code",
   "execution_count": null,
   "metadata": {},
   "outputs": [],
   "source": [
    "sentence_input = ner_tokenizer.encode(sentence, return_tensors='pt')"
   ]
  },
  {
   "cell_type": "code",
   "execution_count": null,
   "metadata": {},
   "outputs": [],
   "source": [
    "outputs = ner_model(sentence_input)[0]"
   ]
  },
  {
   "cell_type": "code",
   "execution_count": null,
   "metadata": {},
   "outputs": [],
   "source": [
    "import torch\n",
    "predictions = torch.argmax(outputs, dim=2) "
   ]
  },
  {
   "cell_type": "code",
   "execution_count": null,
   "metadata": {},
   "outputs": [],
   "source": [
    "class_sentence = ner_model(sentence)"
   ]
  },
  {
   "cell_type": "code",
   "execution_count": 7,
   "metadata": {},
   "outputs": [],
   "source": [
    "pos_classifier_model = \"vblagoje/bert-english-uncased-finetuned-pos\"  # 470 MB model"
   ]
  },
  {
   "cell_type": "code",
   "execution_count": 8,
   "metadata": {},
   "outputs": [],
   "source": [
    "# Parts of Speech tagging is a Token classification sub-variant\n",
    "\n",
    "pos_classifier = pipeline(\"token-classification\",\n",
    "                          model=pos_classifier_model) "
   ]
  },
  {
   "cell_type": "code",
   "execution_count": 12,
   "metadata": {},
   "outputs": [
    {
     "data": {
      "text/plain": [
       "[{'entity': 'PRON',\n",
       "  'score': 0.99954295,\n",
       "  'index': 1,\n",
       "  'word': 'i',\n",
       "  'start': 0,\n",
       "  'end': 1},\n",
       " {'entity': 'AUX',\n",
       "  'score': 0.9976078,\n",
       "  'index': 2,\n",
       "  'word': 'am',\n",
       "  'start': 2,\n",
       "  'end': 4},\n",
       " {'entity': 'ADP',\n",
       "  'score': 0.99935,\n",
       "  'index': 3,\n",
       "  'word': 'from',\n",
       "  'start': 5,\n",
       "  'end': 9},\n",
       " {'entity': 'PROPN',\n",
       "  'score': 0.99864393,\n",
       "  'index': 4,\n",
       "  'word': 'india',\n",
       "  'start': 10,\n",
       "  'end': 15},\n",
       " {'entity': 'CCONJ',\n",
       "  'score': 0.9992494,\n",
       "  'index': 5,\n",
       "  'word': 'and',\n",
       "  'start': 16,\n",
       "  'end': 19},\n",
       " {'entity': 'PRON',\n",
       "  'score': 0.99945444,\n",
       "  'index': 6,\n",
       "  'word': 'i',\n",
       "  'start': 20,\n",
       "  'end': 21},\n",
       " {'entity': 'VERB',\n",
       "  'score': 0.99256027,\n",
       "  'index': 7,\n",
       "  'word': 'like',\n",
       "  'start': 22,\n",
       "  'end': 26},\n",
       " {'entity': 'VERB',\n",
       "  'score': 0.99910283,\n",
       "  'index': 8,\n",
       "  'word': 'playing',\n",
       "  'start': 27,\n",
       "  'end': 34},\n",
       " {'entity': 'ADP',\n",
       "  'score': 0.99935657,\n",
       "  'index': 9,\n",
       "  'word': 'with',\n",
       "  'start': 35,\n",
       "  'end': 39},\n",
       " {'entity': 'NOUN',\n",
       "  'score': 0.9962528,\n",
       "  'index': 10,\n",
       "  'word': 'data',\n",
       "  'start': 40,\n",
       "  'end': 44}]"
      ]
     },
     "execution_count": 12,
     "metadata": {},
     "output_type": "execute_result"
    }
   ],
   "source": [
    "pos_classifier(sentence)"
   ]
  },
  {
   "cell_type": "code",
   "execution_count": null,
   "metadata": {},
   "outputs": [],
   "source": []
  }
 ],
 "metadata": {
  "kernelspec": {
   "display_name": "tform",
   "language": "python",
   "name": "python3"
  },
  "language_info": {
   "codemirror_mode": {
    "name": "ipython",
    "version": 3
   },
   "file_extension": ".py",
   "mimetype": "text/x-python",
   "name": "python",
   "nbconvert_exporter": "python",
   "pygments_lexer": "ipython3",
   "version": "3.11.4"
  }
 },
 "nbformat": 4,
 "nbformat_minor": 2
}
