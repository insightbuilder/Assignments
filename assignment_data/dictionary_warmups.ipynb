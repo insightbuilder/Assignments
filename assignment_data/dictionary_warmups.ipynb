{
 "cells": [
  {
   "cell_type": "code",
   "execution_count": 1,
   "metadata": {},
   "outputs": [],
   "source": [
    "# Series of warmups involving dictionaries / are using them "
   ]
  },
  {
   "cell_type": "code",
   "execution_count": null,
   "metadata": {},
   "outputs": [],
   "source": [
    "# counting words using get method\n",
    "text = \"there is so much and there is very less space to sit there\"\n",
    "wf = dict()\n",
    "for x in text.split():\n",
    "    wf[x] = wf.get(x, 0) + 1  # use of get or return default\n",
    "print(wf)"
   ]
  },
  {
   "cell_type": "code",
   "execution_count": 3,
   "metadata": {},
   "outputs": [
    {
     "data": {
      "text/plain": [
       "0"
      ]
     },
     "execution_count": 3,
     "metadata": {},
     "output_type": "execute_result"
    }
   ],
   "source": [
    "# understanding get or use default method\n",
    "wf.get('super', 0)"
   ]
  },
  {
   "cell_type": "code",
   "execution_count": 5,
   "metadata": {},
   "outputs": [
    {
     "data": {
      "text/plain": [
       "[29224, 10432, 1599]"
      ]
     },
     "execution_count": 5,
     "metadata": {},
     "output_type": "execute_result"
    }
   ],
   "source": [
    "# calculate portfolio value\n",
    "stokk = {\"msft\":562, 'oggle': 326, 'appl': 123}\n",
    "qty = {\"msft\":52, 'oggle': 32, 'appl': 13}\n",
    "# can use for loop or list comprehension\n",
    "prd_val = []\n",
    "for a, x in stokk.items():\n",
    "    prd_val.append(x * qty[a])  # stk_price * qty\n",
    "prd_val"
   ]
  },
  {
   "cell_type": "code",
   "execution_count": 6,
   "metadata": {},
   "outputs": [
    {
     "data": {
      "text/plain": [
       "337.0"
      ]
     },
     "execution_count": 6,
     "metadata": {},
     "output_type": "execute_result"
    }
   ],
   "source": [
    "# extract the average cost of the stocks from earlier example\n",
    "sum(stokk.values()) / len(stokk.values())"
   ]
  },
  {
   "cell_type": "code",
   "execution_count": 7,
   "metadata": {},
   "outputs": [
    {
     "name": "stdout",
     "output_type": "stream",
     "text": [
      "Stock msft: qty: 52 : price: 562 : product: 29224\n",
      "Stock oggle: qty: 32 : price: 326 : product: 10432\n",
      "Stock appl: qty: 13 : price: 123 : product: 1599\n"
     ]
    }
   ],
   "source": [
    "# print the stock price, qty and the investment for each stock\n",
    "for c, v in stokk.items():\n",
    "    print(f\"Stock {c}: qty: {qty[c]} : price: {v} : product: {v * qty[c]}\")"
   ]
  },
  {
   "cell_type": "code",
   "execution_count": 8,
   "metadata": {},
   "outputs": [],
   "source": [
    "# Create nested dictionary of product name, its price and qty. \n",
    "# Need to use the product_name to get dict of price and qty. \n",
    "# then use key-word like price and qty to get the values "
   ]
  },
  {
   "cell_type": "code",
   "execution_count": 9,
   "metadata": {},
   "outputs": [],
   "source": [
    "test_dict = {\"pdt_1\":{'name':'super-bar', 'price': 57},\n",
    "             \"pdt_2\":{'name':'novatic', 'price':75},\n",
    "             \"pdt_3\":{\"name\": \"gleaner\", 'price': 62}\n",
    "}"
   ]
  }
 ],
 "metadata": {
  "kernelspec": {
   "display_name": "Python 3",
   "language": "python",
   "name": "python3"
  },
  "language_info": {
   "codemirror_mode": {
    "name": "ipython",
    "version": 3
   },
   "file_extension": ".py",
   "mimetype": "text/x-python",
   "name": "python",
   "nbconvert_exporter": "python",
   "pygments_lexer": "ipython3",
   "version": "3.11.4"
  }
 },
 "nbformat": 4,
 "nbformat_minor": 2
}
