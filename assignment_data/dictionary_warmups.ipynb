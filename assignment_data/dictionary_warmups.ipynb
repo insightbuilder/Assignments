{
 "cells": [
  {
   "cell_type": "code",
   "execution_count": 1,
   "metadata": {},
   "outputs": [],
   "source": [
    "# Series of warmups involving dictionaries / are using them \n",
    "# Dict is a hashmap\n",
    "# Keys should always be immutable datatype \n",
    "# create dict with various type of keys(string, int, list , tuple) - Home work"
   ]
  },
  {
   "cell_type": "code",
   "execution_count": 1,
   "metadata": {},
   "outputs": [
    {
     "data": {
      "text/plain": [
       "'nevjkve'"
      ]
     },
     "execution_count": 1,
     "metadata": {},
     "output_type": "execute_result"
    }
   ],
   "source": [
    "# string is immutable but here we are reassigning string variable\n",
    "s1='nevjk'\n",
    "s1=s1+'ve'\n",
    "s1"
   ]
  },
  {
   "cell_type": "code",
   "execution_count": 4,
   "metadata": {},
   "outputs": [
    {
     "data": {
      "text/plain": [
       "(4, 5, 6, 5, 6)"
      ]
     },
     "execution_count": 4,
     "metadata": {},
     "output_type": "execute_result"
    }
   ],
   "source": [
    "# tuple immutablity\n",
    "t1=(4,5,6)\n",
    "t1=t1+(5,6)\n",
    "t1"
   ]
  },
  {
   "cell_type": "code",
   "execution_count": 6,
   "metadata": {},
   "outputs": [
    {
     "ename": "TypeError",
     "evalue": "'tuple' object does not support item assignment",
     "output_type": "error",
     "traceback": [
      "\u001b[0;31m---------------------------------------------------------------------------\u001b[0m",
      "\u001b[0;31mTypeError\u001b[0m                                 Traceback (most recent call last)",
      "Cell \u001b[0;32mIn[6], line 1\u001b[0m\n\u001b[0;32m----> 1\u001b[0m t1[\u001b[39m4\u001b[39m]\u001b[39m=\u001b[39m\u001b[39m7\u001b[39m\n",
      "\u001b[0;31mTypeError\u001b[0m: 'tuple' object does not support item assignment"
     ]
    }
   ],
   "source": [
    "t1[4]=7"
   ]
  },
  {
   "cell_type": "code",
   "execution_count": null,
   "metadata": {},
   "outputs": [],
   "source": [
    "dir(dict)\n",
    "Method\tDescription\n",
    "dict.clear()\tRemove all the elements from the dictionary\n",
    "dict.copy()\tReturns a copy of the dictionary\n",
    "dict.get(key, default = “None”)\t Returns the value of specified key\n",
    "dict.items()\t Returns a list containing a tuple for each key value pair\n",
    "dict.keys()\t Returns a list containing dictionary’s keys\n",
    "dict.update(dict2)\tUpdates dictionary with specified key-value pairs\n",
    "dict.values()\t Returns a list of all the values of dictionary\n",
    "pop()\t Remove the element with specified key\n",
    "popItem()\tRemoves the last inserted key-value pair\n",
    " dict.setdefault(key,default= “None”)\tset the key to the default value if the key is not specified in the dictionary\n",
    "dict.has_key(key)\treturns true if the dictionary contains the specified key.\n",
    "['clear',\n",
    " 'copy',\n",
    " 'fromkeys',\n",
    " 'get',\n",
    " 'items',\n",
    " 'keys',\n",
    " 'pop',\n",
    " 'popitem',\n",
    " 'setdefault',\n",
    " 'update',\n",
    " 'values']"
   ]
  },
  {
   "cell_type": "code",
   "execution_count": 13,
   "metadata": {},
   "outputs": [
    {
     "name": "stdout",
     "output_type": "stream",
     "text": [
      "{'there': 3, 'is': 2, 'so': 1, 'much': 1, 'and': 1, 'very': 1, 'less': 1, 'space': 1, 'to': 1, 'sit': 1}\n"
     ]
    }
   ],
   "source": [
    "# counting words using get method\n",
    "text = \"there is so much and there is very less space to sit there\"\n",
    "wf = dict()\n",
    "for x in text.split():\n",
    "    wf[x] = wf.get(x, 0) + 1  # use of get or return default\n",
    "print(wf)"
   ]
  },
  {
   "cell_type": "code",
   "execution_count": 19,
   "metadata": {},
   "outputs": [
    {
     "data": {
      "text/plain": [
       "2"
      ]
     },
     "execution_count": 19,
     "metadata": {},
     "output_type": "execute_result"
    }
   ],
   "source": [
    "# understanding get or use default method\n",
    "wf.get('super', 0)"
   ]
  },
  {
   "cell_type": "code",
   "execution_count": 31,
   "metadata": {},
   "outputs": [
    {
     "name": "stdout",
     "output_type": "stream",
     "text": [
      "{'This': 1, 'ball': 1, 'is': 2, 'a': 1, 'red': 1, 'ball.': 1, 'My': 1, 'fav': 1, 'color': 1, 'red.': 1}\n"
     ]
    }
   ],
   "source": [
    "text = 'This ball is a red ball. My fav color is red.'\n",
    "d = dict()\n",
    "for x in text.split(\" \"):\n",
    "    d[x] = d.get(x,0) + 1\n",
    "print(d)"
   ]
  },
  {
   "cell_type": "code",
   "execution_count": 5,
   "metadata": {},
   "outputs": [
    {
     "data": {
      "text/plain": [
       "[29224, 10432, 1599]"
      ]
     },
     "execution_count": 5,
     "metadata": {},
     "output_type": "execute_result"
    }
   ],
   "source": [
    "# calculate portfolio value\n",
    "stokk = {\"msft\":562, 'oggle': 326, 'appl': 123}\n",
    "qty = {\"msft\":52, 'oggle': 32, 'appl': 13}\n",
    "# can use for loop or list comprehension\n",
    "prd_val = []\n",
    "for a, x in stokk.items():\n",
    "    prd_val.append(x * qty[a])  # stk_price * qty\n",
    "prd_val"
   ]
  },
  {
   "cell_type": "code",
   "execution_count": 36,
   "metadata": {},
   "outputs": [
    {
     "data": {
      "text/plain": [
       "[29224, 10432, 1599]"
      ]
     },
     "execution_count": 36,
     "metadata": {},
     "output_type": "execute_result"
    }
   ],
   "source": [
    "stokk = {\"msft\":562, 'oggle': 326, 'appl': 123}\n",
    "qty = {\"msft\":52, 'oggle': 32, 'appl': 13}\n",
    "\n",
    "pf = []\n",
    "for i,x in stokk.items():\n",
    "    pf.append(x*qty[i])\n",
    "    # print(x,qty[i])\n",
    "pf"
   ]
  },
  {
   "cell_type": "code",
   "execution_count": 6,
   "metadata": {},
   "outputs": [
    {
     "data": {
      "text/plain": [
       "337.0"
      ]
     },
     "execution_count": 6,
     "metadata": {},
     "output_type": "execute_result"
    }
   ],
   "source": [
    "# extract the average cost of the stocks from earlier example\n",
    "sum(stokk.values()) / len(stokk.values())"
   ]
  },
  {
   "cell_type": "code",
   "execution_count": 7,
   "metadata": {},
   "outputs": [
    {
     "name": "stdout",
     "output_type": "stream",
     "text": [
      "Stock msft: qty: 52 : price: 562 : product: 29224\n",
      "Stock oggle: qty: 32 : price: 326 : product: 10432\n",
      "Stock appl: qty: 13 : price: 123 : product: 1599\n"
     ]
    }
   ],
   "source": [
    "# print the stock price, qty and the investment for each stock\n",
    "for c, v in stokk.items():\n",
    "    print(f\"Stock {c}: qty: {qty[c]} : price: {v} : product: {v * qty[c]}\")"
   ]
  },
  {
   "cell_type": "code",
   "execution_count": 8,
   "metadata": {},
   "outputs": [],
   "source": [
    "# Create nested dictionary of product name, its price and qty. \n",
    "# Need to use the product_name to get dict of price and qty. \n",
    "# then use key-word like price and qty to get the values "
   ]
  },
  {
   "cell_type": "code",
   "execution_count": 42,
   "metadata": {},
   "outputs": [],
   "source": [
    "stokk_nest = {\"stk_1\":{'name':'msft','qty':52,'price':562},\n",
    "              \"stk_2\":{'name':'oogle','qty':32,'price':326},\n",
    "              \"stk_3\":{'name':'appl','qty':13, 'price':123}}"
   ]
  },
  {
   "cell_type": "code",
   "execution_count": 47,
   "metadata": {},
   "outputs": [
    {
     "name": "stdout",
     "output_type": "stream",
     "text": [
      "{'name': 'msft', 'qty': 52, 'price': 562}\n",
      "562\n"
     ]
    },
    {
     "ename": "KeyError",
     "evalue": "('price', 'qty')",
     "output_type": "error",
     "traceback": [
      "\u001b[0;31m---------------------------------------------------------------------------\u001b[0m",
      "\u001b[0;31mKeyError\u001b[0m                                  Traceback (most recent call last)",
      "Cell \u001b[0;32mIn[47], line 3\u001b[0m\n\u001b[1;32m      1\u001b[0m \u001b[39mprint\u001b[39m(stokk_nest[\u001b[39m'\u001b[39m\u001b[39mstk_1\u001b[39m\u001b[39m'\u001b[39m])\n\u001b[1;32m      2\u001b[0m \u001b[39mprint\u001b[39m(stokk_nest[\u001b[39m'\u001b[39m\u001b[39mstk_1\u001b[39m\u001b[39m'\u001b[39m][\u001b[39m'\u001b[39m\u001b[39mprice\u001b[39m\u001b[39m'\u001b[39m])\n\u001b[0;32m----> 3\u001b[0m \u001b[39mprint\u001b[39m(stokk_nest[\u001b[39m'\u001b[39m\u001b[39mstk_1\u001b[39m\u001b[39m'\u001b[39m][\u001b[39m'\u001b[39m\u001b[39mprice\u001b[39m\u001b[39m'\u001b[39m,\u001b[39m'\u001b[39m\u001b[39mqty\u001b[39m\u001b[39m'\u001b[39m])\n",
      "\u001b[0;31mKeyError\u001b[0m: ('price', 'qty')"
     ]
    }
   ],
   "source": [
    "print(stokk_nest['stk_1'])\n",
    "print(stokk_nest['stk_1']['price'])\n",
    "print(stokk_nest['stk_1']['price','qty'])"
   ]
  },
  {
   "cell_type": "code",
   "execution_count": 2,
   "metadata": {},
   "outputs": [],
   "source": [
    "test_dict = {\"pdt_1\":{'name':'super-bar', 'price': 57},\n",
    "             \"pdt_2\":{'name':'novatic', 'price':75},\n",
    "             \"pdt_3\":{\"name\": \"gleaner\", 'price': 62}\n",
    "}"
   ]
  },
  {
   "cell_type": "code",
   "execution_count": 3,
   "metadata": {},
   "outputs": [
    {
     "name": "stdout",
     "output_type": "stream",
     "text": [
      "{'name': 'super-bar', 'price': 57}\n"
     ]
    },
    {
     "ename": "KeyError",
     "evalue": "'price'",
     "output_type": "error",
     "traceback": [
      "\u001b[0;31m---------------------------------------------------------------------------\u001b[0m",
      "\u001b[0;31mKeyError\u001b[0m                                  Traceback (most recent call last)",
      "Cell \u001b[0;32mIn[3], line 2\u001b[0m\n\u001b[1;32m      1\u001b[0m \u001b[39mprint\u001b[39m(test_dict[\u001b[39m'\u001b[39m\u001b[39mpdt_1\u001b[39m\u001b[39m'\u001b[39m])\n\u001b[0;32m----> 2\u001b[0m \u001b[39mprint\u001b[39m(test_dict[\u001b[39m'\u001b[39m\u001b[39mprice\u001b[39m\u001b[39m'\u001b[39m])\n",
      "\u001b[0;31mKeyError\u001b[0m: 'price'"
     ]
    }
   ],
   "source": [
    "print(test_dict['pdt_1'])\n",
    "print(test_dict['price'])\n"
   ]
  },
  {
   "cell_type": "code",
   "execution_count": 39,
   "metadata": {},
   "outputs": [
    {
     "name": "stdout",
     "output_type": "stream",
     "text": [
      "super-bar\n",
      "57\n",
      "novatic\n",
      "75\n",
      "gleaner\n",
      "62\n"
     ]
    },
    {
     "data": {
      "text/plain": [
       "{'ptd_1': {'name': 'super-bar'},\n",
       " 'ptd_2': {'name': 'novatic'},\n",
       " 'ptd_3': {'name': 'gleaner'}}"
      ]
     },
     "execution_count": 39,
     "metadata": {},
     "output_type": "execute_result"
    }
   ],
   "source": [
    "# dict1 = {}\n",
    "l1=[]\n",
    "i=1\n",
    "for key,val in test_dict.items():\n",
    "    print(val['name'])\n",
    "    print(val['price'])\n",
    "    l1.append((f\"ptd_{i}\",{'name' : val['name']}))\n",
    "    i+=1\n",
    "dict(l1)"
   ]
  },
  {
   "cell_type": "code",
   "execution_count": 11,
   "metadata": {},
   "outputs": [
    {
     "name": "stdout",
     "output_type": "stream",
     "text": [
      "super-bar\n",
      "57\n",
      "novatic\n",
      "75\n",
      "gleaner\n",
      "62\n"
     ]
    },
    {
     "data": {
      "text/plain": [
       "[{'name': 'super-bar'}, {'name': 'novatic'}, {'name': 'gleaner'}]"
      ]
     },
     "execution_count": 11,
     "metadata": {},
     "output_type": "execute_result"
    }
   ],
   "source": [
    "# dict1 = {}\n",
    "l1=[]\n",
    "for key,val in test_dict.items():\n",
    "    print(val['name'])\n",
    "    print(val['price'])\n",
    "    l1.append({'name' : val['name']})\n",
    "    \n",
    "l1"
   ]
  },
  {
   "cell_type": "code",
   "execution_count": 14,
   "metadata": {},
   "outputs": [
    {
     "name": "stdout",
     "output_type": "stream",
     "text": [
      "super-bar\n",
      "57\n",
      "novatic\n",
      "75\n",
      "gleaner\n",
      "62\n"
     ]
    },
    {
     "data": {
      "text/plain": [
       "{'name': 'gleaner'}"
      ]
     },
     "execution_count": 14,
     "metadata": {},
     "output_type": "execute_result"
    }
   ],
   "source": [
    "dict1 = {}\n",
    "# l1=[]\n",
    "for key,val in test_dict.items():\n",
    "    print(val['name'])\n",
    "    print(val['price'])\n",
    "    dict1.update({'name' : val['name']})\n",
    "    \n",
    "dict1"
   ]
  },
  {
   "cell_type": "code",
   "execution_count": 5,
   "metadata": {},
   "outputs": [
    {
     "data": {
      "text/plain": [
       "[{'name': 'super-bar'}, {'name': 'novatic'}, {'name': 'gleaner'}]"
      ]
     },
     "execution_count": 5,
     "metadata": {},
     "output_type": "execute_result"
    }
   ],
   "source": [
    "l1"
   ]
  },
  {
   "cell_type": "code",
   "execution_count": 9,
   "metadata": {},
   "outputs": [
    {
     "data": {
      "text/plain": [
       "{'name': 'super-bar'}"
      ]
     },
     "execution_count": 9,
     "metadata": {},
     "output_type": "execute_result"
    }
   ],
   "source": [
    "l1[0]"
   ]
  },
  {
   "cell_type": "code",
   "execution_count": 13,
   "metadata": {},
   "outputs": [
    {
     "data": {
      "text/plain": [
       "{'ptd': {'name': 'gleaner'}}"
      ]
     },
     "execution_count": 13,
     "metadata": {},
     "output_type": "execute_result"
    }
   ],
   "source": [
    "dict(l1)"
   ]
  },
  {
   "cell_type": "code",
   "execution_count": 6,
   "metadata": {},
   "outputs": [
    {
     "ename": "TypeError",
     "evalue": "unhashable type: 'list'",
     "output_type": "error",
     "traceback": [
      "\u001b[0;31m---------------------------------------------------------------------------\u001b[0m",
      "\u001b[0;31mTypeError\u001b[0m                                 Traceback (most recent call last)",
      "Cell \u001b[0;32mIn[6], line 1\u001b[0m\n\u001b[0;32m----> 1\u001b[0m d1\u001b[39m=\u001b[39m{l1}\n\u001b[1;32m      2\u001b[0m d1\n",
      "\u001b[0;31mTypeError\u001b[0m: unhashable type: 'list'"
     ]
    }
   ],
   "source": [
    "d1={l1}\n",
    "d1"
   ]
  },
  {
   "cell_type": "code",
   "execution_count": null,
   "metadata": {},
   "outputs": [],
   "source": [
    "#append in dict"
   ]
  },
  {
   "cell_type": "code",
   "execution_count": null,
   "metadata": {},
   "outputs": [],
   "source": [
    "squad_ds = load_dataset(\"squad\", split=\"train\")\n",
    "sq_20 = squad_ds[0:20]\n",
    "sq_20#[range(5)]#['id']"
   ]
  },
  {
   "cell_type": "code",
   "execution_count": null,
   "metadata": {},
   "outputs": [],
   "source": [
    "# Indexing / Slicing in dictionary\n",
    "\n",
    "print(type(squad_ds))   # Doubt indexing or slicing a dataset dictionary is direct \n",
    "print(type(sq_20))      # How to slice a regular dictionary\n",
    "\n",
    "# found this online\n",
    "# first_two = dict(list(d.items())[:2])\n",
    "# import itertools\n",
    "# d = {1: 2, 3: 4, 5: 6}\n",
    "# dict(itertools.islice(d.items(), 2))\n",
    "# {1: 2, 3: 4}"
   ]
  },
  {
   "cell_type": "code",
   "execution_count": null,
   "metadata": {},
   "outputs": [],
   "source": [
    "# Manual way to slice a dict"
   ]
  },
  {
   "cell_type": "code",
   "execution_count": 15,
   "metadata": {},
   "outputs": [],
   "source": [
    "# https://www.dataquest.io/blog/python-dictionaries/\n",
    "\n",
    "# Go through this for more"
   ]
  },
  {
   "cell_type": "code",
   "execution_count": 16,
   "metadata": {},
   "outputs": [
    {
     "data": {
      "text/plain": [
       "[('ptd', {'name': 'super-bar'}),\n",
       " ('ptd', {'name': 'novatic'}),\n",
       " ('ptd', {'name': 'gleaner'})]"
      ]
     },
     "execution_count": 16,
     "metadata": {},
     "output_type": "execute_result"
    }
   ],
   "source": [
    "l1"
   ]
  },
  {
   "cell_type": "code",
   "execution_count": 42,
   "metadata": {},
   "outputs": [],
   "source": [
    "harry_potter_dict = {\n",
    "    \"Harry Potter\": \"Gryffindor\",\n",
    "    \"Ron Weasley\": \"Gryffindor\",\n",
    "    \"Hermione Granger\": \"Gryffindor\"\n",
    "}\n"
   ]
  },
  {
   "cell_type": "code",
   "execution_count": 43,
   "metadata": {},
   "outputs": [
    {
     "data": {
      "text/plain": [
       "{'Harry Potter': 'Gryffindor',\n",
       " 'Ron Weasley': 'Gryffindor',\n",
       " 'Hermione Granger': 'Gryffindor',\n",
       " 'Saul Goodman': 'Breaking Bad'}"
      ]
     },
     "execution_count": 43,
     "metadata": {},
     "output_type": "execute_result"
    }
   ],
   "source": [
    "harry_potter_dict[\"Saul Goodman\"]=\"Breaking Bad\"\n",
    "harry_potter_dict"
   ]
  },
  {
   "cell_type": "code",
   "execution_count": null,
   "metadata": {},
   "outputs": [],
   "source": []
  }
 ],
 "metadata": {
  "kernelspec": {
   "display_name": "Python 3",
   "language": "python",
   "name": "python3"
  },
  "language_info": {
   "codemirror_mode": {
    "name": "ipython",
    "version": 3
   },
   "file_extension": ".py",
   "mimetype": "text/x-python",
   "name": "python",
   "nbconvert_exporter": "python",
   "pygments_lexer": "ipython3",
   "version": "3.11.5"
  }
 },
 "nbformat": 4,
 "nbformat_minor": 2
}
