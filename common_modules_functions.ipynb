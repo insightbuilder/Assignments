{
 "cells": [
  {
   "cell_type": "code",
   "execution_count": null,
   "metadata": {},
   "outputs": [],
   "source": [
    "# 1. **`math` Module:** - `math.sqrt(x)` - `math.pow(x, y)` - `math.sin(x)` - `math.cos(x)` - `math.tan(x)` - `math.ceil(x)` - `math.floor(x)` - `math.log(x, base)` - `math.exp(x)` - `math.pi`"
   ]
  },
  {
   "cell_type": "code",
   "execution_count": null,
   "metadata": {},
   "outputs": [],
   "source": [
    "# 2. **`random` module:** - `random.randint(a, b)` - `random.choice(seq)` - `random.shuffle(lst)` - `random.random()` - `random.uniform(a, b)` - `random.gauss(mu, sigma)` - `random.sample(population, k)` - `random.randrange(start, stop, step)` - `random.seed(a=none, version=2)` - `random.getstate()`, `random.setstate(state)`"
   ]
  },
  {
   "cell_type": "code",
   "execution_count": null,
   "metadata": {},
   "outputs": [],
   "source": [
    "# 3. **`datetime` module:** - `datetime.datetime.now()` - `datetime.datetime.strptime(date_string, format)` - `datetime.datetime(year, month, day[, hour[, minute[, second[, microsecond[, tzinfo]]]]])` - `datetime.timedelta(days=x)` - `datetime.date.today()` - `datetime.date(year, month, day)` - `datetime.time(hour[, minute[, second[, microsecond[, tzinfo]]]])` - `datetime.timedelta.total_seconds()` - `datetime.datetime.isoformat()` - `datetime.datetime.fromtimestamp(timestamp[, tz])`"
   ]
  },
  {
   "cell_type": "code",
   "execution_count": null,
   "metadata": {},
   "outputs": [],
   "source": [
    "# 4. **`os` module:** - `os.getcwd()` - `os.listdir(path='.')` - `os.path.join(path, *paths)` - `os.path.exists(path)` - `os.path.isfile(path)` - `os.path.isdir(path)` - `os.mkdir(path)` - `os.makedirs(path)` - `os.remove(path)` - `os.rmdir(path)`"
   ]
  },
  {
   "cell_type": "code",
   "execution_count": null,
   "metadata": {},
   "outputs": [],
   "source": [
    "# 5. **`sys` Module:** - `sys.argv` - `sys.exit([arg])` - `sys.stdin` - `sys.stdout` - `sys.stderr` - `sys.platform` - `sys.version` - `sys.path` - `sys.modules` - `sys.getsizeof(object[, default])`"
   ]
  },
  {
   "cell_type": "code",
   "execution_count": null,
   "metadata": {},
   "outputs": [],
   "source": [
    "# 6. **`json` Module:** - `json.dumps(obj, indent=None)` - `json.loads(s)` - `json.dump(obj, fp)` - `json.load(fp)` - `json.JSONEncoder` - `json.JSONDecoder` - `json.JSONEncoder.default(o)` - `json.JSONDecoder.object_hook(dct)` - `json.JSONEncoder.encode(o)` - `json.JSONDecoder.decode(s)`"
   ]
  },
  {
   "cell_type": "code",
   "execution_count": null,
   "metadata": {},
   "outputs": [],
   "source": [
    "# 7. **`requests` Module:** - `requests.get(url, params=None, **kwargs)` - `requests.post(url, data=None, json=None, **kwargs)` - `requests.put(url, data=None, **kwargs)` - `requests.delete(url, **kwargs)` - `requests.request(method, url, **kwargs)` - `requests.Response` - `requests.Response.status_code` - `requests.Response.headers` - `requests.Response.json()` - `requests.Response.text`"
   ]
  },
  {
   "cell_type": "code",
   "execution_count": null,
   "metadata": {},
   "outputs": [],
   "source": [
    "# 8. **`re` Module:** - `re.match(pattern, string, flags=0)` - `re.search(pattern, string, flags=0)` - `re.findall(pattern, string, flags=0)` - `re.finditer(pattern, string, flags=0)` - `re.sub(pattern, repl, string, count=0, flags=0)` - `re.compile(pattern, flags=0)` - `re.split(pattern, string, maxsplit=0, flags=0)` - `re.escape(string)` - `re.fullmatch(pattern, string, flags=0)` - `re.IGNORECASE`, `re.MULTILINE`, `re.DOTALL`, etc."
   ]
  },
  {
   "cell_type": "code",
   "execution_count": null,
   "metadata": {},
   "outputs": [],
   "source": [
    "# 9. **`collections` Module:** - `collections.Counter(iterable)` - `collections.defaultdict(default_factory)` - `collections.namedtuple(typename, field_names, *, rename=False, defaults=None, module=None)` - `collections.OrderedDict([items])` - `collections.deque([iterable[, maxlen]])` - `collections.ChainMap(*maps)` - `collections.UserDict([dict])` - `collections.UserList([list])` - `collections.UserString([sequence])` - `collections.abc`"
   ]
  },
  {
   "cell_type": "code",
   "execution_count": 1,
   "metadata": {},
   "outputs": [],
   "source": [
    "\n",
    "# 10. **`csv` Module:** - `csv.reader(csvfile, dialect='excel', **fmtparams)` - `csv.writer(csvfile, dialect='excel', **fmtparams)` - `csv.DictReader(csvfile, fieldnames=None, restkey=None, restval=None, **fmtparams)` - `csv.DictWriter(csvfile, fieldnames, restval='', extrasaction='raise', **fmtparams)` - `csv.field_size_limit([new_limit])` - `csv.get_dialect(name)` - `csv.list_dialects()` - `csv.unregister_dialect(name)` - `csv.register_dialect(name[, dialect[, **fmtparams]])` - `csv.QUOTE_ALL`, `csv.QUOTE_MINIMAL`, `csv.QUOTE_NONNUMERIC`, `csv.QUOTE_NONE`"
   ]
  }
 ],
 "metadata": {
  "kernelspec": {
   "display_name": "Python 3",
   "language": "python",
   "name": "python3"
  },
  "language_info": {
   "codemirror_mode": {
    "name": "ipython",
    "version": 3
   },
   "file_extension": ".py",
   "mimetype": "text/x-python",
   "name": "python",
   "nbconvert_exporter": "python",
   "pygments_lexer": "ipython3",
   "version": "3.11.4"
  }
 },
 "nbformat": 4,
 "nbformat_minor": 2
}
