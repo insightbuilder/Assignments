{
 "cells": [
  {
   "cell_type": "markdown",
   "id": "f01b824f",
   "metadata": {},
   "source": [
    "# Abstraction"
   ]
  },
  {
   "cell_type": "markdown",
   "id": "3d5d2e8a",
   "metadata": {},
   "source": [
    "Discuss on abstraction:\n",
    "    - Abstraction does some activity that is not visible to the controller\n",
    "    Build a class that takes a csv file, and implements the following methods\n",
    "    - number of rows\n",
    "    - number of cols \n",
    "    - column names\n",
    "    - unique values in the column\n",
    "    - returns a particular row using inst[x] syntax\n",
    "Some more dunders:\n",
    "    - __repr__ method\n",
    "    - __get_item__ method\n",
    "    - __name__ method\n",
    "    - __len__ method\n",
    "Three ways of doing activity with an instance.\n",
    "    - Instance, Abstract and StaticMethods\n",
    "\n",
    "Writing DataClasses\n",
    "\n",
    "Abstract Base Classes & abstractmethods"
   ]
  },
  {
   "cell_type": "code",
   "execution_count": 26,
   "id": "beb6f100",
   "metadata": {},
   "outputs": [],
   "source": [
    "\n",
    "class File:\n",
    "    def __init__(self, filename):  # public attribute if listed here\n",
    "        self.filename = filename\n",
    "        self.temp_list = []        # private attribute here\n",
    "        # self.size=0\n",
    "        \n",
    "    def file_process(self):\n",
    "        with open(self.filename, mode='r', encoding='utf-8') as f:\n",
    "            f1=f.read()\n",
    "            f_list = f1.split(\"\\n\")\n",
    "            # new_list = []\n",
    "            for i in f_list:\n",
    "                # new_list.append(i.split(\",\"))\n",
    "                self.temp_list.append(i.split(\",\"))\n",
    "            # self.size = len(self.temp_list)\n",
    "#         print(self.temp_list)\n",
    "#         print(f\"{self}\")\n",
    "        # return new_list\n",
    "\n",
    "    def __repr__(self) -> str:\n",
    "        return f\"Data of file --> {self.filename}\"\n",
    "                \n",
    "    def file_shape(self):\n",
    "        return(len(self.temp_list),len(self.temp_list[0]))\n",
    "        # return len(file_process(self)),len(file_process(self)[0])\n",
    "        \n",
    "    def col_names(self):\n",
    "        return self.temp_list[0]\n",
    "    \n",
    "    def unq_vals(self, col_name):\n",
    "        a = self.temp_list[0].index(col_name)\n",
    "        # s = set()\n",
    "        l1 = set([i[a] for i in self.temp_list])\n",
    "        return l1\n",
    "    \n",
    "    def inst(self,row):\n",
    "        return self.temp_list[row]\n",
    "    \n",
    "    def __getitem__(self, row):\n",
    "        return self.temp_list[row]\n",
    "    def __len__(self):\n",
    "        return len(self.temp_list)"
   ]
  },
  {
   "cell_type": "code",
   "execution_count": 27,
   "id": "eb2b38e8",
   "metadata": {},
   "outputs": [
    {
     "name": "stdout",
     "output_type": "stream",
     "text": [
      "Data of file --> winequality.csv\n",
      "0\n"
     ]
    }
   ],
   "source": [
    "wine_file = \"winequality.csv\"\n",
    "wine_file_inst = File(wine_file)\n",
    "print(wine_file_inst)\n",
    "print(len(wine_file_inst))"
   ]
  },
  {
   "cell_type": "code",
   "execution_count": 28,
   "id": "2ae2e4a2",
   "metadata": {},
   "outputs": [
    {
     "name": "stdout",
     "output_type": "stream",
     "text": [
      "1601\n"
     ]
    }
   ],
   "source": [
    "wine_file_inst.file_process()\n",
    "print(len(wine_file_inst))"
   ]
  },
  {
   "cell_type": "code",
   "execution_count": 29,
   "id": "4d66c666",
   "metadata": {},
   "outputs": [
    {
     "name": "stdout",
     "output_type": "stream",
     "text": [
      "['7.3', '0.65', '0.0', '1.2', '0.065', '15.0', '21.0', '0.9946', '3.39', '0.47', '10.0', '7']\n",
      "['7.4', '0.7', '0.0', '1.9', '0.076', '11.0', '34.0', '0.9978', '3.51', '0.56', '9.4', '5']\n"
     ]
    }
   ],
   "source": [
    "print(wine_file_inst[8])  # works using get items\n",
    "print(wine_file_inst.inst(5)) # using inst method"
   ]
  },
  {
   "cell_type": "code",
   "execution_count": 30,
   "id": "58a8c7d2",
   "metadata": {},
   "outputs": [
    {
     "name": "stdout",
     "output_type": "stream",
     "text": [
      "{'', '5.7', '10.9', '6.5', '8.2', '8.3', '13.5', '13.2', '9.8', '5.9', '8.5', '9.6', '4.6', '10.6', '10.5', '5.5', '6.2', '12.9', '6.3', 'fixed acidity', '8.0', '10.2', '5.3', '14.3', '6.9', '4.9', '6.6', '7.5', '15.9', '12.2', '11.3', '5.1', '9.4', '7.8', '8.9', '15.5', '9.2', '11.4', '5.4', '7.4', '6.7', '12.6', '8.6', '11.2', '5.0', '11.5', '11.7', '7.1', '8.4', '6.4', '12.1', '9.3', '8.8', '10.8', '7.0', '7.6', '6.8', '13.4', '11.9', '8.7', '15.6', '5.8', '5.2', '12.0', '12.7', '12.8', '11.6', '9.5', '9.1', '13.8', '7.7', '11.0', '8.1', '11.1', '5.6', '12.5', '10.4', '6.0', '12.4', '7.9', '6.1', '9.9', '14.0', '11.8', '10.1', '13.3', '9.7', '12.3', '7.2', '9.0', '15.0', '13.0', '4.7', '7.3', '13.7', '10.3', '10.7', '10.0'}\n"
     ]
    }
   ],
   "source": [
    "print(wine_file_inst.unq_vals('fixed acidity'))"
   ]
  },
  {
   "cell_type": "markdown",
   "id": "12113fdf",
   "metadata": {},
   "source": [
    "# Serialization"
   ]
  },
  {
   "cell_type": "code",
   "execution_count": 32,
   "id": "062649b2",
   "metadata": {},
   "outputs": [],
   "source": [
    "import json\n",
    "import pickle\n",
    "\n",
    "class Person:\n",
    "    def __init__(self, name, age, heart_rates):\n",
    "        self.name = name\n",
    "        self.age = age\n",
    "        self.heart_rates = heart_rates\n",
    "    \n",
    "    def __repr__(self) -> str:\n",
    "        return f\"{type(self).__name__} : {self.name} : {self.age}\"\n",
    "\n",
    "    def __getitem__(self, idx):\n",
    "        return f\"Heart Rate at {idx} is {self.heart_rates[idx]}\"\n",
    "\n",
    "    def __len__(self):\n",
    "        return len(self.heart_rates)\n",
    "    \n",
    "# Serialization ---> convert python class to string, similarly Deserialization is converting string to python class\n",
    "# pkl file is not safe to transfer over internet, better alternatives are joblib and safetensors\n",
    "\n",
    "class SerializerMixin:\n",
    "    def to_json(self):\n",
    "        return json.dumps(self.__dict__)\n",
    "\n",
    "    def to_pickle(self):\n",
    "        return pickle.dumps(self.__dict__)\n",
    "\n",
    "    def to_file(self, filename):\n",
    "        with open(filename, mode='w') as f1:\n",
    "            f1.write(f\"{type(self).__name__} : {self.name} : {self.age}\")\n",
    "# Mixin -its a helper Class that can be inherited without attributes\n",
    "    \n",
    "class Employee(SerializerMixin, Person):\n",
    "    \"\"\"Due to MRO,placing your mixin classes before the base classes on\n",
    "      the list of parents is often necessary.\"\"\"\n",
    "    def __init__(self, name, age, heart_rates, salary):\n",
    "        super().__init__(name, age, heart_rates)\n",
    "        self.salary = salary"
   ]
  },
  {
   "cell_type": "code",
   "execution_count": 33,
   "id": "ff6d1bdf",
   "metadata": {},
   "outputs": [
    {
     "data": {
      "text/plain": [
       "'{\"name\": \"Prakhar J\", \"age\": \"20\", \"heart_rates\": \"44\", \"salary\": \"100\"}'"
      ]
     },
     "execution_count": 33,
     "metadata": {},
     "output_type": "execute_result"
    }
   ],
   "source": [
    "e1 = Employee(\"Prakhar J\", '20','44', '100')\n",
    "e1.to_json()"
   ]
  },
  {
   "cell_type": "code",
   "execution_count": 34,
   "id": "c010e25e",
   "metadata": {},
   "outputs": [],
   "source": [
    "t_sub = Person(name='test_sub',\n",
    "               age=62,\n",
    "               heart_rates=[62, 72, 75, 85, 65, 58, 71, 75, 58])"
   ]
  },
  {
   "cell_type": "code",
   "execution_count": 35,
   "id": "86a0b9b5",
   "metadata": {},
   "outputs": [
    {
     "data": {
      "text/plain": [
       "Person : test_sub : 62"
      ]
     },
     "execution_count": 35,
     "metadata": {},
     "output_type": "execute_result"
    }
   ],
   "source": [
    "t_sub"
   ]
  },
  {
   "cell_type": "code",
   "execution_count": 36,
   "id": "cec24098",
   "metadata": {},
   "outputs": [
    {
     "data": {
      "text/plain": [
       "9"
      ]
     },
     "execution_count": 36,
     "metadata": {},
     "output_type": "execute_result"
    }
   ],
   "source": [
    "len(t_sub)"
   ]
  },
  {
   "cell_type": "code",
   "execution_count": 37,
   "id": "7ac3e78f",
   "metadata": {},
   "outputs": [
    {
     "data": {
      "text/plain": [
       "'Heart Rate at 2 is 75'"
      ]
     },
     "execution_count": 37,
     "metadata": {},
     "output_type": "execute_result"
    }
   ],
   "source": [
    "t_sub[2]"
   ]
  },
  {
   "cell_type": "code",
   "execution_count": 38,
   "id": "a899cf19",
   "metadata": {},
   "outputs": [],
   "source": [
    "# create industrial robot that has body and arm\n",
    "\n",
    "# incorporate rotate_body_left, rotate_body_right, move_arm_up and move_arm_down\n",
    "\n",
    "# once change signal is recieved by the respective instance, there has to be \n",
    "# text output stating the activity\n",
    "\n",
    "# The control is sent to the arm and body from the industrial robot instance only"
   ]
  },
  {
   "cell_type": "code",
   "execution_count": null,
   "id": "28cd5411",
   "metadata": {},
   "outputs": [],
   "source": []
  },
  {
   "cell_type": "code",
   "execution_count": null,
   "id": "df572368",
   "metadata": {},
   "outputs": [],
   "source": [
    "class Body:\n",
    "    def __init__(self, direction):\n",
    "        self.direction = direction\n",
    "\n",
    "    def rotate_left(self):\n",
    "        self.direction = self.direction - 1\n",
    "        \n",
    "    def rotate_right(self):\n",
    "        self.direction = self.direction + 1\n",
    "        \n",
    "        \n",
    "#Assuming direction as N,E,W,S, ---> 2 ways to iterate\n",
    "\n",
    "class Robot:\n",
    "    def __init__(self):\n",
    "        self."
   ]
  }
 ],
 "metadata": {
  "kernelspec": {
   "display_name": "Python 3 (ipykernel)",
   "language": "python",
   "name": "python3"
  },
  "language_info": {
   "codemirror_mode": {
    "name": "ipython",
    "version": 3
   },
   "file_extension": ".py",
   "mimetype": "text/x-python",
   "name": "python",
   "nbconvert_exporter": "python",
   "pygments_lexer": "ipython3",
   "version": "3.11.5"
  }
 },
 "nbformat": 4,
 "nbformat_minor": 5
}
