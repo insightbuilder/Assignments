{
 "cells": [
  {
   "cell_type": "code",
   "execution_count": 11,
   "metadata": {},
   "outputs": [],
   "source": [
    "# create a class gadget with 3 attributes - name, price, quantity and a list names. Create a dunder method which prints name. \n",
    "# Create a method to calculate total spend. \n",
    "\n",
    "class Gadget:\n",
    "    def __init__(self, name, price, quantity, names=[]):\n",
    "        self.name = name\n",
    "        self.price = price\n",
    "        self.quantity = quantity\n",
    "        self.names = names\n",
    "        \n",
    "    def __str__(self):\n",
    "        return f\"Gadget name is {self.name}, and price is ${self.price}\"\n",
    "        \n",
    "    def total_spend(self):\n",
    "        return self.price * self.quantity\n",
    "    \n",
    "    def show_names(self):\n",
    "        if len(self.names) == 0:\n",
    "            print(\"List is empty\")\n",
    "        else:\n",
    "            print(self.names)"
   ]
  },
  {
   "cell_type": "code",
   "execution_count": 12,
   "metadata": {},
   "outputs": [],
   "source": [
    "g1 = Gadget(\"asus\", 4000, 3)\n"
   ]
  },
  {
   "cell_type": "code",
   "execution_count": 14,
   "metadata": {},
   "outputs": [
    {
     "name": "stdout",
     "output_type": "stream",
     "text": [
      "Gadget name is asus, and price is $4000\n"
     ]
    }
   ],
   "source": [
    "print(g1)"
   ]
  },
  {
   "cell_type": "code",
   "execution_count": 15,
   "metadata": {},
   "outputs": [],
   "source": [
    "class Laptop(Gadget):\n",
    "    def __init__(self, name, screen_size, price, quantity, names=[]):\n",
    "        super().__init__(name, price, quantity, names)\n",
    "        self.screen_size = screen_size\n",
    "        \n",
    "    def is_compact(self):\n",
    "        if screen_size < 13:\n",
    "            print(\"It's a compact laptop\")"
   ]
  },
  {
   "cell_type": "code",
   "execution_count": 17,
   "metadata": {},
   "outputs": [],
   "source": [
    "l1 = Laptop(\"Asus\", 12, 13000, 5)"
   ]
  },
  {
   "cell_type": "code",
   "execution_count": 18,
   "metadata": {},
   "outputs": [
    {
     "name": "stdout",
     "output_type": "stream",
     "text": [
      "Gadget name is Asus, and price is $13000\n"
     ]
    }
   ],
   "source": [
    "print(l1)"
   ]
  },
  {
   "cell_type": "code",
   "execution_count": null,
   "metadata": {},
   "outputs": [],
   "source": [
    "class Room(object):\n",
    "    def __init__(self, num_walls, num_doors, items):\n",
    "        self.num_walls = num_walls\n",
    "        self.num_doors = num_doors\n",
    "        self.items = items\n",
    "    \n",
    "    def __str__(self):\n",
    "        # to print each element in the variable items\n",
    "        # enumerate/traverse the self.items\n",
    "        # error handling for nonetype error and print empty room \n",
    "        # think of other kind of error\n",
    "        output = ''\n",
    "        try:\n",
    "            for i in self.items:\n",
    "                output += f\"Items present- {i} \\n\"\n",
    "            return output\n",
    "        except Exception as e:\n",
    "            print(e)\n",
    "            return 'Empty room'"
   ]
  },
  {
   "cell_type": "code",
   "execution_count": 25,
   "metadata": {},
   "outputs": [],
   "source": [
    "class Room(object):\n",
    "    def __init__(self, wall, doors, items):\n",
    "        self.walls = wall\n",
    "        self.doors = doors\n",
    "        self.items = items\n",
    "        \n",
    "    def __repr__(self):\n",
    "        output = ''\n",
    "        for i in self.items:\n",
    "            output += f\"Items present - {i} \\n\"\n",
    "        return output"
   ]
  },
  {
   "cell_type": "code",
   "execution_count": 26,
   "metadata": {},
   "outputs": [],
   "source": [
    "r1 = Room(3,4, [\"chairs\",'Table'])"
   ]
  },
  {
   "cell_type": "code",
   "execution_count": 27,
   "metadata": {},
   "outputs": [
    {
     "name": "stdout",
     "output_type": "stream",
     "text": [
      "Items present - chairs \n",
      "Items present - Table \n",
      "\n"
     ]
    }
   ],
   "source": [
    "print(r1)"
   ]
  },
  {
   "cell_type": "code",
   "execution_count": 31,
   "metadata": {},
   "outputs": [],
   "source": [
    "class Table:\n",
    "    def __init__(self, length, width):\n",
    "        self.length = length\n",
    "        self.width = width\n",
    "        \n",
    "    def __str__(self):\n",
    "        return f'Table with lenth - {self.length} and width - {self.width}'\n",
    "    \n",
    "class Chair:\n",
    "    def __init__(self, length, width):\n",
    "        self.length = length\n",
    "        self.width = width\n",
    "    \n",
    "    def __str__(self):\n",
    "        return f'Chair with length - {self.length} and width - {self.width}'"
   ]
  },
  {
   "cell_type": "code",
   "execution_count": 32,
   "metadata": {},
   "outputs": [],
   "source": [
    "t1 = Table(3,4)\n",
    "c1 = Chair(2,3)\n",
    "\n",
    "r1 = Room(4,5,[t1,c1])"
   ]
  },
  {
   "cell_type": "code",
   "execution_count": 33,
   "metadata": {},
   "outputs": [
    {
     "name": "stdout",
     "output_type": "stream",
     "text": [
      "Items present - Table with lenth - 3 and width - 4 \n",
      "Items present - Chair with length - f2 and width - 3 \n",
      "\n"
     ]
    }
   ],
   "source": [
    "print(r1)"
   ]
  },
  {
   "cell_type": "code",
   "execution_count": 41,
   "metadata": {},
   "outputs": [],
   "source": [
    "class Room(Table, Chair):\n",
    "    def __init__(self, length, width):\n",
    "        super().__init__(length, width)\n",
    "        \n",
    "    # def __str__(self):\n",
    "    #     return 'Room'"
   ]
  },
  {
   "cell_type": "code",
   "execution_count": 42,
   "metadata": {},
   "outputs": [],
   "source": [
    "r1 = Room(4,5)"
   ]
  },
  {
   "cell_type": "code",
   "execution_count": 43,
   "metadata": {},
   "outputs": [
    {
     "name": "stdout",
     "output_type": "stream",
     "text": [
      "Table with lenth - 4 and width - 5\n"
     ]
    }
   ],
   "source": [
    "print(r1)"
   ]
  },
  {
   "cell_type": "code",
   "execution_count": 9,
   "metadata": {},
   "outputs": [],
   "source": [
    "class Document():\n",
    "    \"\"\"Class for storing a piece of text and associated metadata.\"\"\"\n",
    "\n",
    "    page_content: str =\"Class attribute page_content\"\n",
    "    \"\"\"String text.\"\"\"\n",
    "    metadata: str # = Field(default_factory=dict)\n",
    "    \"\"\"Arbitrary metadata about the page content (e.g., source, relationships to other\n",
    "        documents, etc.).\n",
    "    \"\"\"\n",
    "    # type: Literal[\"Document\"] = \"Document\"\n",
    "\n",
    "    def __init__(self, page_content: str) -> None:\n",
    "        self.page_content = page_content\n",
    "        \"\"\"Pass page_content in as positional or named arg.\"\"\"\n",
    "        # super().__init__(page_content=page_content, **kwargs)\n",
    "\n",
    "    # @classmethod\n",
    "    # def is_lc_serializable(cls) -> bool:\n",
    "    #     \"\"\"Return whether this class is serializable.\"\"\"\n",
    "    #     return True\n",
    "\n",
    "    # @classmethod\n",
    "    # def get_lc_namespace(cls) -> List[str]:\n",
    "    #     \"\"\"Get the namespace of the langchain object.\"\"\"\n",
    "    #     return [\"langchain\", \"schema\", \"document\"]\n"
   ]
  },
  {
   "cell_type": "code",
   "execution_count": 8,
   "metadata": {},
   "outputs": [
    {
     "ename": "TypeError",
     "evalue": "Document.__init__() missing 1 required positional argument: 'page_content'",
     "output_type": "error",
     "traceback": [
      "\u001b[0;31m---------------------------------------------------------------------------\u001b[0m",
      "\u001b[0;31mTypeError\u001b[0m                                 Traceback (most recent call last)",
      "Cell \u001b[0;32mIn[8], line 1\u001b[0m\n\u001b[0;32m----> 1\u001b[0m Document()\u001b[39m.\u001b[39mpage_content\n",
      "\u001b[0;31mTypeError\u001b[0m: Document.__init__() missing 1 required positional argument: 'page_content'"
     ]
    }
   ],
   "source": [
    "d1 = Document().page_content"
   ]
  },
  {
   "cell_type": "code",
   "execution_count": 10,
   "metadata": {},
   "outputs": [],
   "source": [
    "d1 = Document(\"jn kadf dfnjk djnf klfnjdv\")"
   ]
  },
  {
   "cell_type": "code",
   "execution_count": 6,
   "metadata": {},
   "outputs": [],
   "source": [
    "d1.page_content = \"hvgjb\""
   ]
  },
  {
   "cell_type": "code",
   "execution_count": 11,
   "metadata": {},
   "outputs": [
    {
     "data": {
      "text/plain": [
       "'jn kadf dfnjk djnf klfnjdv'"
      ]
     },
     "execution_count": 11,
     "metadata": {},
     "output_type": "execute_result"
    }
   ],
   "source": [
    "d1.page_content"
   ]
  },
  {
   "cell_type": "code",
   "execution_count": 14,
   "metadata": {},
   "outputs": [
    {
     "data": {
      "text/plain": [
       "'Class attribute page_content'"
      ]
     },
     "execution_count": 14,
     "metadata": {},
     "output_type": "execute_result"
    }
   ],
   "source": [
    "Document.page_content"
   ]
  },
  {
   "cell_type": "code",
   "execution_count": null,
   "metadata": {},
   "outputs": [],
   "source": []
  }
 ],
 "metadata": {
  "kernelspec": {
   "display_name": "base",
   "language": "python",
   "name": "python3"
  },
  "language_info": {
   "codemirror_mode": {
    "name": "ipython",
    "version": 3
   },
   "file_extension": ".py",
   "mimetype": "text/x-python",
   "name": "python",
   "nbconvert_exporter": "python",
   "pygments_lexer": "ipython3",
   "version": "3.11.5"
  },
  "orig_nbformat": 4
 },
 "nbformat": 4,
 "nbformat_minor": 2
}
