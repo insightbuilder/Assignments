{
 "cells": [
  {
   "cell_type": "code",
   "execution_count": 1,
   "metadata": {},
   "outputs": [],
   "source": [
    "from dataclasses import dataclass\n",
    "@dataclass\n",
    "class Book:\n",
    "    author : str\n",
    "    pages : int\n",
    "    "
   ]
  },
  {
   "cell_type": "code",
   "execution_count": 2,
   "metadata": {},
   "outputs": [],
   "source": [
    "sapiens = Book('Yuval', 90)"
   ]
  },
  {
   "cell_type": "code",
   "execution_count": 3,
   "metadata": {},
   "outputs": [
    {
     "name": "stdout",
     "output_type": "stream",
     "text": [
      "Book(author='Yuval', pages=90)\n"
     ]
    }
   ],
   "source": [
    "print(sapiens)"
   ]
  },
  {
   "cell_type": "code",
   "execution_count": 1,
   "metadata": {},
   "outputs": [],
   "source": [
    "class RawBook:\n",
    "    def __init__(self, author, pages) -> None:\n",
    "        self.author = author\n",
    "        self.pages = pages\n",
    "        \n",
    "    def __str__(self) -> str:\n",
    "        return f\"This book is written by {self.author} and has {self.pages} pages\"\n",
    "    \n",
    "    def __eq__(self, other):\n",
    "        if self.__class__ != other.__class__:\n",
    "            return NotImplemented\n",
    "        print(self.author)\n",
    "        print(other.author)\n",
    "        print(self.pages)\n",
    "        print(other.pages)\n",
    "        return self.author == other.author and self.pages == other.pages\n",
    "        "
   ]
  },
  {
   "cell_type": "code",
   "execution_count": 4,
   "metadata": {},
   "outputs": [],
   "source": [
    "a2states = RawBook('Chetan Bhagat', 123)\n"
   ]
  },
  {
   "cell_type": "code",
   "execution_count": 5,
   "metadata": {},
   "outputs": [
    {
     "name": "stdout",
     "output_type": "stream",
     "text": [
      "This book is written by Chetan Bhagat and has 123 pages\n"
     ]
    }
   ],
   "source": [
    "print(a2states)"
   ]
  },
  {
   "cell_type": "code",
   "execution_count": 6,
   "metadata": {},
   "outputs": [],
   "source": [
    "a3states = RawBook('Chetan Bhagat', 123)\n",
    "a4states = RawBook('Alia Bhatt', 321)"
   ]
  },
  {
   "cell_type": "code",
   "execution_count": 8,
   "metadata": {},
   "outputs": [
    {
     "data": {
      "text/plain": [
       "<__main__.RawBook at 0x10d670610>"
      ]
     },
     "execution_count": 8,
     "metadata": {},
     "output_type": "execute_result"
    }
   ],
   "source": [
    "a3states"
   ]
  },
  {
   "cell_type": "code",
   "execution_count": 9,
   "metadata": {},
   "outputs": [
    {
     "name": "stdout",
     "output_type": "stream",
     "text": [
      "Chetan Bhagat\n",
      "Chetan Bhagat\n",
      "123\n",
      "123\n",
      "True\n",
      "Chetan Bhagat\n",
      "Alia Bhatt\n",
      "123\n",
      "321\n",
      "False\n"
     ]
    }
   ],
   "source": [
    "print(a2states == a3states)\n",
    "print(a2states == a4states)"
   ]
  },
  {
   "cell_type": "code",
   "execution_count": null,
   "metadata": {},
   "outputs": [],
   "source": [
    "# ^^^^^^^^why not true for 2states and 3 states"
   ]
  },
  {
   "cell_type": "code",
   "execution_count": 24,
   "metadata": {},
   "outputs": [
    {
     "data": {
      "text/plain": [
       "{'author': 'Chetan Bhagat', 'pages': 123}"
      ]
     },
     "execution_count": 24,
     "metadata": {},
     "output_type": "execute_result"
    }
   ],
   "source": [
    "_2states.__dict__"
   ]
  },
  {
   "cell_type": "code",
   "execution_count": null,
   "metadata": {},
   "outputs": [],
   "source": [
    "### Implement make_dataclass and inheritance with dataclass"
   ]
  }
 ],
 "metadata": {
  "kernelspec": {
   "display_name": "Python 3 (ipykernel)",
   "language": "python",
   "name": "python3"
  },
  "language_info": {
   "codemirror_mode": {
    "name": "ipython",
    "version": 3
   },
   "file_extension": ".py",
   "mimetype": "text/x-python",
   "name": "python",
   "nbconvert_exporter": "python",
   "pygments_lexer": "ipython3",
   "version": "3.11.5"
  }
 },
 "nbformat": 4,
 "nbformat_minor": 2
}
