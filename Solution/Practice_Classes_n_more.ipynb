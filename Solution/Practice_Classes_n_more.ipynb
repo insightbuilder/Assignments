{
 "cells": [
  {
   "cell_type": "markdown",
   "id": "369bb915",
   "metadata": {},
   "source": [
    "# Abstraction"
   ]
  },
  {
   "cell_type": "markdown",
   "id": "2c5c9a9c",
   "metadata": {},
   "source": [
    "Discuss on abstraction:\n",
    "    - Abstraction does some activity that is not visible to the controller\n",
    "    Build a class that takes a csv file, and implements the following methods\n",
    "    - number of rows\n",
    "    - number of cols \n",
    "    - column names\n",
    "    - unique values in the column\n",
    "    - returns a particular row using inst[x] syntax\n",
    "Some more dunders:\n",
    "    - __repr__ method\n",
    "    - __get_item__ method\n",
    "    - __name__ method\n",
    "    - __len__ method\n",
    "Three ways of doing activity with an instance.\n",
    "    - Instance, Abstract and StaticMethods\n",
    "\n",
    "Writing DataClasses\n",
    "\n",
    "Abstract Base Classes & abstractmethods"
   ]
  },
  {
   "cell_type": "code",
   "execution_count": 26,
   "id": "77ec1691",
   "metadata": {},
   "outputs": [],
   "source": [
    "\n",
    "class File:\n",
    "    def __init__(self, filename):  # public attribute if listed here\n",
    "        self.filename = filename\n",
    "        self.temp_list = []        # private attribute here\n",
    "        # self.size=0\n",
    "        \n",
    "    def file_process(self):\n",
    "        with open(self.filename, mode='r', encoding='utf-8') as f:\n",
    "            f1=f.read()\n",
    "            f_list = f1.split(\"\\n\")\n",
    "            # new_list = []\n",
    "            for i in f_list:\n",
    "                # new_list.append(i.split(\",\"))\n",
    "                self.temp_list.append(i.split(\",\"))\n",
    "            # self.size = len(self.temp_list)\n",
    "#         print(self.temp_list)\n",
    "#         print(f\"{self}\")\n",
    "        # return new_list\n",
    "\n",
    "    def __repr__(self) -> str:\n",
    "        return f\"Data of file --> {self.filename}\"\n",
    "                \n",
    "    def file_shape(self):\n",
    "        return(len(self.temp_list),len(self.temp_list[0]))\n",
    "        # return len(file_process(self)),len(file_process(self)[0])\n",
    "        \n",
    "    def col_names(self):\n",
    "        return self.temp_list[0]\n",
    "    \n",
    "    def unq_vals(self, col_name):\n",
    "        a = self.temp_list[0].index(col_name)\n",
    "        # s = set()\n",
    "        l1 = set([i[a] for i in self.temp_list])\n",
    "        return l1\n",
    "    \n",
    "    def inst(self,row):\n",
    "        return self.temp_list[row]\n",
    "    \n",
    "    def __getitem__(self, row):\n",
    "        return self.temp_list[row]\n",
    "    def __len__(self):\n",
    "        return len(self.temp_list)"
   ]
  },
  {
   "cell_type": "code",
   "execution_count": 27,
   "id": "a9f066a6",
   "metadata": {},
   "outputs": [
    {
     "name": "stdout",
     "output_type": "stream",
     "text": [
      "Data of file --> winequality.csv\n",
      "0\n"
     ]
    }
   ],
   "source": [
    "wine_file = \"winequality.csv\"\n",
    "wine_file_inst = File(wine_file)\n",
    "print(wine_file_inst)\n",
    "print(len(wine_file_inst))"
   ]
  },
  {
   "cell_type": "code",
   "execution_count": 28,
   "id": "bb82e3a2",
   "metadata": {},
   "outputs": [
    {
     "name": "stdout",
     "output_type": "stream",
     "text": [
      "1601\n"
     ]
    }
   ],
   "source": [
    "wine_file_inst.file_process()\n",
    "print(len(wine_file_inst))"
   ]
  },
  {
   "cell_type": "code",
   "execution_count": 29,
   "id": "0d111e08",
   "metadata": {},
   "outputs": [
    {
     "name": "stdout",
     "output_type": "stream",
     "text": [
      "['7.3', '0.65', '0.0', '1.2', '0.065', '15.0', '21.0', '0.9946', '3.39', '0.47', '10.0', '7']\n",
      "['7.4', '0.7', '0.0', '1.9', '0.076', '11.0', '34.0', '0.9978', '3.51', '0.56', '9.4', '5']\n"
     ]
    }
   ],
   "source": [
    "print(wine_file_inst[8])  # works using get items\n",
    "print(wine_file_inst.inst(5)) # using inst method"
   ]
  },
  {
   "cell_type": "code",
   "execution_count": 30,
   "id": "0c891c5b",
   "metadata": {},
   "outputs": [
    {
     "name": "stdout",
     "output_type": "stream",
     "text": [
      "{'', '5.7', '10.9', '6.5', '8.2', '8.3', '13.5', '13.2', '9.8', '5.9', '8.5', '9.6', '4.6', '10.6', '10.5', '5.5', '6.2', '12.9', '6.3', 'fixed acidity', '8.0', '10.2', '5.3', '14.3', '6.9', '4.9', '6.6', '7.5', '15.9', '12.2', '11.3', '5.1', '9.4', '7.8', '8.9', '15.5', '9.2', '11.4', '5.4', '7.4', '6.7', '12.6', '8.6', '11.2', '5.0', '11.5', '11.7', '7.1', '8.4', '6.4', '12.1', '9.3', '8.8', '10.8', '7.0', '7.6', '6.8', '13.4', '11.9', '8.7', '15.6', '5.8', '5.2', '12.0', '12.7', '12.8', '11.6', '9.5', '9.1', '13.8', '7.7', '11.0', '8.1', '11.1', '5.6', '12.5', '10.4', '6.0', '12.4', '7.9', '6.1', '9.9', '14.0', '11.8', '10.1', '13.3', '9.7', '12.3', '7.2', '9.0', '15.0', '13.0', '4.7', '7.3', '13.7', '10.3', '10.7', '10.0'}\n"
     ]
    }
   ],
   "source": [
    "print(wine_file_inst.unq_vals('fixed acidity'))"
   ]
  },
  {
   "cell_type": "markdown",
   "id": "e1869a97",
   "metadata": {},
   "source": [
    "# Serialization"
   ]
  },
  {
   "cell_type": "code",
   "execution_count": 32,
   "id": "89e251e4",
   "metadata": {},
   "outputs": [],
   "source": [
    "import json\n",
    "import pickle\n",
    "\n",
    "class Person:\n",
    "    def __init__(self, name, age, heart_rates):\n",
    "        self.name = name\n",
    "        self.age = age\n",
    "        self.heart_rates = heart_rates\n",
    "    \n",
    "    def __repr__(self) -> str:\n",
    "        return f\"{type(self).__name__} : {self.name} : {self.age}\"\n",
    "\n",
    "    def __getitem__(self, idx):\n",
    "        return f\"Heart Rate at {idx} is {self.heart_rates[idx]}\"\n",
    "\n",
    "    def __len__(self):\n",
    "        return len(self.heart_rates)\n",
    "    \n",
    "# Serialization ---> convert python class to string, similarly Deserialization is converting string to python class\n",
    "# pkl file is not safe to transfer over internet, better alternatives are joblib and safetensors\n",
    "\n",
    "class SerializerMixin:\n",
    "    def to_json(self):\n",
    "        return json.dumps(self.__dict__)\n",
    "\n",
    "    def to_pickle(self):\n",
    "        return pickle.dumps(self.__dict__)\n",
    "\n",
    "    def to_file(self, filename):\n",
    "        with open(filename, mode='w') as f1:\n",
    "            f1.write(f\"{type(self).__name__} : {self.name} : {self.age}\")\n",
    "# Mixin -its a helper Class that can be inherited without attributes\n",
    "    \n",
    "class Employee(SerializerMixin, Person):\n",
    "    \"\"\"Due to MRO,placing your mixin classes before the base classes on\n",
    "      the list of parents is often necessary.\"\"\"\n",
    "    def __init__(self, name, age, heart_rates, salary):\n",
    "        super().__init__(name, age, heart_rates)\n",
    "        self.salary = salary"
   ]
  },
  {
   "cell_type": "code",
   "execution_count": 33,
   "id": "f498f5e3",
   "metadata": {},
   "outputs": [
    {
     "data": {
      "text/plain": [
       "'{\"name\": \"Prakhar J\", \"age\": \"20\", \"heart_rates\": \"44\", \"salary\": \"100\"}'"
      ]
     },
     "execution_count": 33,
     "metadata": {},
     "output_type": "execute_result"
    }
   ],
   "source": [
    "e1 = Employee(\"Prakhar J\", '20','44', '100')\n",
    "e1.to_json()"
   ]
  },
  {
   "cell_type": "code",
   "execution_count": 34,
   "id": "46e205c9",
   "metadata": {},
   "outputs": [],
   "source": [
    "t_sub = Person(name='test_sub',\n",
    "               age=62,\n",
    "               heart_rates=[62, 72, 75, 85, 65, 58, 71, 75, 58])"
   ]
  },
  {
   "cell_type": "code",
   "execution_count": 35,
   "id": "e26305bf",
   "metadata": {},
   "outputs": [
    {
     "data": {
      "text/plain": [
       "Person : test_sub : 62"
      ]
     },
     "execution_count": 35,
     "metadata": {},
     "output_type": "execute_result"
    }
   ],
   "source": [
    "t_sub"
   ]
  },
  {
   "cell_type": "code",
   "execution_count": 36,
   "id": "d6b2832e",
   "metadata": {},
   "outputs": [
    {
     "data": {
      "text/plain": [
       "9"
      ]
     },
     "execution_count": 36,
     "metadata": {},
     "output_type": "execute_result"
    }
   ],
   "source": [
    "len(t_sub)"
   ]
  },
  {
   "cell_type": "code",
   "execution_count": 37,
   "id": "146dfafd",
   "metadata": {},
   "outputs": [
    {
     "data": {
      "text/plain": [
       "'Heart Rate at 2 is 75'"
      ]
     },
     "execution_count": 37,
     "metadata": {},
     "output_type": "execute_result"
    }
   ],
   "source": [
    "t_sub[2]"
   ]
  },
  {
   "cell_type": "code",
   "execution_count": 38,
   "id": "cd2c7cb5",
   "metadata": {},
   "outputs": [],
   "source": [
    "# create industrial robot that has body and arm\n",
    "\n",
    "# incorporate rotate_body_left, rotate_body_right, move_arm_up and move_arm_down\n",
    "\n",
    "# once change signal is recieved by the respective instance, there has to be \n",
    "# text output stating the activity\n",
    "\n",
    "# The control is sent to the arm and body from the industrial robot instance only"
   ]
  },
  {
   "cell_type": "code",
   "execution_count": null,
   "id": "0bf2e344",
   "metadata": {},
   "outputs": [],
   "source": [
    "class Body:\n",
    "    def __init__(self, direction):\n",
    "        self.direction = direction\n",
    "\n",
    "    def rotate_left(self):\n",
    "        self.direction = self.direction - 1\n",
    "        \n",
    "    def rotate_right(self):\n",
    "        self.direction = self.direction + 1\n",
    "        \n",
    "        \n",
    "#Assuming direction as N,E,W,S, ---> 2 ways to iterate\n",
    "\n",
    "class Robot:\n",
    "    def __init__(self):\n",
    "        self."
   ]
  },
  {
   "cell_type": "code",
   "execution_count": 128,
   "id": "a98eb136",
   "metadata": {},
   "outputs": [],
   "source": [
    "\n",
    "class IndustrialRobot:\n",
    "    def __init__(self):\n",
    "        self.body = Body()\n",
    "        self.arm = Arm()\n",
    "        \n",
    "    def rotate_body_left(self, degrees=10):\n",
    "        self.body.rotate_left(degrees)\n",
    "    \n",
    "    def rotate_body_right(self, degrees=10):\n",
    "        self.body.rotate_right(degrees)\n",
    "    \n",
    "    def move_arm_up(self, distance=10):\n",
    "        self.arm.move_up(distance)\n",
    "    \n",
    "    def move_arm_down(self, distance=10):\n",
    "        self.arm.move_down(distance)\n",
    "        \n",
    "    def weld(self):\n",
    "        self.arm.weld()\n",
    "        \n",
    "class Arm:\n",
    "    def __init__(self):\n",
    "        self.position = 0\n",
    "        \n",
    "    def move_up(self, distance):\n",
    "        self.position += distance\n",
    "        print(f\"Moving arm {distance} cm up. New position is {self.position}\")\n",
    "        \n",
    "    def move_down(self, distance):\n",
    "        self.position -= distance\n",
    "        print(f\"Moving arm {distance} cm down. New position is {self.position}\")\n",
    "        \n",
    "        \n",
    "    def weld(self):\n",
    "        print(\"Welding...\")\n",
    "\n",
    "class Body:\n",
    "    def __init(self):\n",
    "        self.rotation = 0\n",
    "        \n",
    "    def rotate_left(self, degrees=10):\n",
    "        self.rotation -= degrees\n",
    "        print(f\"Rotating body {degrees} degrees to the left. New angle is {self.rotation}\")\n",
    "        \n",
    "    def rotate_right(self, degrees=10):\n",
    "        self.rotation += degrees\n",
    "        print(f\"Rotating body {degrees} degrees to the right. New angle is {self.rotation}\")\n",
    "    \n",
    "# class Body:\n",
    "#     def __init__(self):\n",
    "#         self.rotation = 0\n",
    "\n",
    "#     def rotate_left(self, degrees=10):\n",
    "#         self.rotation -= degrees\n",
    "#         print(f\"Rotating body {degrees} degrees to the left. New angle is {self.rotation}\")\n",
    "\n",
    "#     def rotate_right(self, degrees=10):\n",
    "#         self.rotation += degrees\n",
    "#         print(f\"Rotating body {degrees} degrees to the right. New angle is {self.rotation}\")"
   ]
  },
  {
   "cell_type": "code",
   "execution_count": 129,
   "id": "0b014211",
   "metadata": {},
   "outputs": [],
   "source": [
    "r1 = IndustrialRobot()"
   ]
  },
  {
   "cell_type": "code",
   "execution_count": 130,
   "id": "93c5af30",
   "metadata": {},
   "outputs": [
    {
     "name": "stdout",
     "output_type": "stream",
     "text": [
      "Moving arm 28 cm up. New position is 28\n"
     ]
    }
   ],
   "source": [
    "r1.move_arm_up(28)"
   ]
  },
  {
   "cell_type": "code",
   "execution_count": 131,
   "id": "216420de",
   "metadata": {},
   "outputs": [
    {
     "ename": "AttributeError",
     "evalue": "'Body' object has no attribute 'rotation'",
     "output_type": "error",
     "traceback": [
      "\u001b[0;31m---------------------------------------------------------------------------\u001b[0m",
      "\u001b[0;31mAttributeError\u001b[0m                            Traceback (most recent call last)",
      "Cell \u001b[0;32mIn[131], line 1\u001b[0m\n\u001b[0;32m----> 1\u001b[0m r1\u001b[38;5;241m.\u001b[39mrotate_body_left(\u001b[38;5;241m67\u001b[39m)\n",
      "Cell \u001b[0;32mIn[128], line 7\u001b[0m, in \u001b[0;36mIndustrialRobot.rotate_body_left\u001b[0;34m(self, degrees)\u001b[0m\n\u001b[1;32m      6\u001b[0m \u001b[38;5;28;01mdef\u001b[39;00m \u001b[38;5;21mrotate_body_left\u001b[39m(\u001b[38;5;28mself\u001b[39m, degrees\u001b[38;5;241m=\u001b[39m\u001b[38;5;241m10\u001b[39m):\n\u001b[0;32m----> 7\u001b[0m     \u001b[38;5;28mself\u001b[39m\u001b[38;5;241m.\u001b[39mbody\u001b[38;5;241m.\u001b[39mrotate_left(degrees)\n",
      "Cell \u001b[0;32mIn[128], line 42\u001b[0m, in \u001b[0;36mBody.rotate_left\u001b[0;34m(self, degrees)\u001b[0m\n\u001b[1;32m     41\u001b[0m \u001b[38;5;28;01mdef\u001b[39;00m \u001b[38;5;21mrotate_left\u001b[39m(\u001b[38;5;28mself\u001b[39m, degrees\u001b[38;5;241m=\u001b[39m\u001b[38;5;241m10\u001b[39m):\n\u001b[0;32m---> 42\u001b[0m     \u001b[38;5;28mself\u001b[39m\u001b[38;5;241m.\u001b[39mrotation \u001b[38;5;241m-\u001b[39m\u001b[38;5;241m=\u001b[39m degrees\n\u001b[1;32m     43\u001b[0m     \u001b[38;5;28mprint\u001b[39m(\u001b[38;5;124mf\u001b[39m\u001b[38;5;124m\"\u001b[39m\u001b[38;5;124mRotating body \u001b[39m\u001b[38;5;132;01m{\u001b[39;00mdegrees\u001b[38;5;132;01m}\u001b[39;00m\u001b[38;5;124m degrees to the left. New angle is \u001b[39m\u001b[38;5;132;01m{\u001b[39;00m\u001b[38;5;28mself\u001b[39m\u001b[38;5;241m.\u001b[39mrotation\u001b[38;5;132;01m}\u001b[39;00m\u001b[38;5;124m\"\u001b[39m)\n",
      "\u001b[0;31mAttributeError\u001b[0m: 'Body' object has no attribute 'rotation'"
     ]
    }
   ],
   "source": [
    "r1.rotate_body_left(67)"
   ]
  },
  {
   "cell_type": "code",
   "execution_count": 91,
   "id": "8ef000db",
   "metadata": {},
   "outputs": [],
   "source": [
    "#Why this error^^^^^^^^^\n",
    "#Complete below ABC\n",
    "#complete data class warmup"
   ]
  },
  {
   "cell_type": "markdown",
   "id": "a32af472",
   "metadata": {},
   "source": [
    "## ABC"
   ]
  },
  {
   "cell_type": "markdown",
   "id": "a083b0ed",
   "metadata": {},
   "source": [
    "If you want to define the specific set of public methods and attributes that all the classes in the hierarchy must implement. In Python, you can do this using what’s known as an abstract base class (ABC).\n",
    "\n",
    "**You can’t instantiate ABCs directly.** You must subclass them. In a sense, ABCs work as templates for other classes to inherit from."
   ]
  },
  {
   "cell_type": "markdown",
   "id": "a20adbbc",
   "metadata": {},
   "source": [
    "Abstract method(@abstractmethod) vs non abstract method"
   ]
  },
  {
   "cell_type": "code",
   "execution_count": 142,
   "id": "93b66611",
   "metadata": {},
   "outputs": [],
   "source": [
    "from abc import ABC, abstractmethod\n",
    "from math import pi\n",
    "\n",
    "class Shape(ABC):\n",
    "#     def __init__(self):\n",
    "    @abstractmethod\n",
    "    def get_area(self):\n",
    "        pass\n",
    "    \n",
    "    @abstractmethod\n",
    "    def get_peri(self):\n",
    "        pass"
   ]
  },
  {
   "cell_type": "code",
   "execution_count": null,
   "id": "8b4f5bb4",
   "metadata": {},
   "outputs": [],
   "source": []
  },
  {
   "cell_type": "code",
   "execution_count": 145,
   "id": "141a022a",
   "metadata": {},
   "outputs": [],
   "source": [
    "class Circle(Shape):\n",
    "    def __init__(self, radius):\n",
    "        self.radius= radius\n",
    "        \n",
    "    def get_area(self):\n",
    "        return pi * self.radius ** 2\n",
    "    def get_peri(self):\n",
    "        pass"
   ]
  },
  {
   "cell_type": "code",
   "execution_count": 146,
   "id": "a6db7a3a",
   "metadata": {},
   "outputs": [],
   "source": [
    "c1=Circle(5)"
   ]
  },
  {
   "cell_type": "code",
   "execution_count": 147,
   "id": "d0b550c2",
   "metadata": {},
   "outputs": [
    {
     "data": {
      "text/plain": [
       "78.53981633974483"
      ]
     },
     "execution_count": 147,
     "metadata": {},
     "output_type": "execute_result"
    }
   ],
   "source": [
    "c1.get_area()"
   ]
  },
  {
   "cell_type": "code",
   "execution_count": null,
   "id": "e0a14229",
   "metadata": {},
   "outputs": [],
   "source": []
  }
 ],
 "metadata": {
  "kernelspec": {
   "display_name": "Python 3 (ipykernel)",
   "language": "python",
   "name": "python3"
  },
  "language_info": {
   "codemirror_mode": {
    "name": "ipython",
    "version": 3
   },
   "file_extension": ".py",
   "mimetype": "text/x-python",
   "name": "python",
   "nbconvert_exporter": "python",
   "pygments_lexer": "ipython3",
   "version": "3.11.5"
  }
 },
 "nbformat": 4,
 "nbformat_minor": 5
}
