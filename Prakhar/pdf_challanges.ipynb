{
 "cells": [
  {
   "attachments": {},
   "cell_type": "markdown",
   "metadata": {},
   "source": [
    "Chapter: 1\n",
    "Saying Hello\n",
    "The “Hello, World” program is the first program you learn\n",
    "to write in many languages, but it doesn’t involve any input.\n",
    "So create a program that prompts for your name and prints\n",
    "a greeting using your name.\n",
    "\n",
    "Example Output\n",
    "What is your name? Brian\n",
    "Hello, Brian, nice to meet you!\n",
    "Constraint\n",
    "• Keep the input, string concatenation, and output sepa-\n",
    "\n",
    "\n",
    "Chapter: 2\n",
    "Counting the Number of Characters\n",
    "Create a program that prompts for an input string and dis-\n",
    "plays output that shows the input string and the number of\n",
    "characters the string contains.\n",
    "\n",
    "Example Output\n",
    "What is the input string? Homer\n",
    "Homer has 5 characters.\n",
    "\n",
    "Constraints\n",
    "• Be sure the output contains the original string.\n",
    "• Use a single output statement to construct the output.\n",
    "• Use a built-in function of the programming language to"
   ]
  },
  {
   "cell_type": "code",
   "execution_count": 2,
   "metadata": {},
   "outputs": [
    {
     "name": "stdout",
     "output_type": "stream",
     "text": [
      "Prakhar Hello, Prakhar, nice to meet you!\n"
     ]
    }
   ],
   "source": [
    "p1 = input(\"What is your name?\")\n",
    "\n",
    "print(f\"{p1} Hello, {p1}, nice to meet you!\")"
   ]
  },
  {
   "cell_type": "code",
   "execution_count": 3,
   "metadata": {},
   "outputs": [
    {
     "name": "stdout",
     "output_type": "stream",
     "text": [
      "Homer Homer has 5 characters.\n"
     ]
    }
   ],
   "source": [
    "p2 = input(\"What is the input string?\")\n",
    "print(f\"{p2} {p2} has {len(p2)} characters.\")"
   ]
  },
  {
   "attachments": {},
   "cell_type": "markdown",
   "metadata": {},
   "source": [
    "\n",
    "Chapter: 3\n",
    "Printing Quotes\n",
    "Quotation marks are often used to denote the start and end\n",
    "of a string. But sometimes we need to print out the quotation\n",
    "marks themselves by using\n",
    "Create a program that prompts for a quote and an author.\n",
    "Display the quotation and author as shown in the example\n",
    "output.\n",
    "\n",
    "Example Output\n",
    "What is the quote? These aren't the droids you're looking for.\n",
    "Who said it? Obi-Wan Kenobi\n",
    "Obi-Wan Kenobi says, \"These aren't the droids\n",
    "you're looking for.\"\n",
    "\n",
    "Constraints\n",
    "• Use a single output statement to produce this output,\n",
    "using appropriate string-escaping techniques for quotes.\n",
    "• If your language supports string interpolation or string\n",
    "substitution, don’t use it for this exercise. Use string\n",
    "\n",
    "\n",
    "Chapter: 4\n",
    "Mad Lib\n",
    "Mad libs are a simple game where you create a story tem-\n",
    "plate with blanks for words. You, or another player, then\n",
    "construct a list of words and place them into the story, cre-\n",
    "ating an often silly or funny story as a result.\n",
    "Create a simple mad-lib program that prompts for a noun,\n",
    "a verb, an adverb, and an adjective and injects those into a\n",
    "story that you create.\n",
    "\n",
    "Example Output\n",
    "Enter a noun: dog\n",
    "Enter a verb: walk\n",
    "Enter an adjective: blue\n",
    "Enter an adverb: quickly\n",
    "Do you walk your blue dog quickly? That's hilarious!\n",
    "\n",
    "Constraints\n",
    "• Use a single output statement for this program.\n",
    "• If your language supports string interpolation or string\n",
    "\n",
    "\n",
    "Chapter: 5\n",
    "Simple Math\n",
    "You’ll often write programs that deal with numbers. And\n",
    "depending on the programming language you use, you’ll\n",
    "have to convert the inputs you get to numerical data types.\n",
    "Write a program that prompts for two numbers. Print the\n",
    "sum, difference, product, and quotient of those numbers as\n",
    "shown in the example output:\n",
    "\n",
    "Example Output\n",
    "What is the first number? 10\n",
    "What is the second number? 5\n",
    "10 + 5 = 15\n",
    "10 - 5 = 5\n",
    "10 * 5 = 50\n",
    "10 / 5 = 2\n",
    "\n",
    "Constraints\n",
    "• Values coming from users will be strings. Ensure that\n",
    "you convert these values to numbers before doing the\n",
    "math.\n",
    "• Keep the inputs and outputs separate from the numerical\n",
    "conversions and other processing.\n",
    "• Generate a single output statement with line breaks in"
   ]
  },
  {
   "cell_type": "code",
   "execution_count": 6,
   "metadata": {},
   "outputs": [
    {
     "name": "stdout",
     "output_type": "stream",
     "text": [
      "Obi Wan says,\"These aren't the droids you're looking for\"\n"
     ]
    }
   ],
   "source": [
    "q1=input(\"What is the quote? \")\n",
    "a1 = input(\"Who said it? \")\n",
    "print(f'''{a1} says,\"{q1}\"''')"
   ]
  },
  {
   "cell_type": "code",
   "execution_count": 8,
   "metadata": {},
   "outputs": [
    {
     "name": "stdout",
     "output_type": "stream",
     "text": [
      "Do you blue your walk Dog fast? That's hilarious!\n"
     ]
    }
   ],
   "source": [
    "n1 = input(\"Enter a noun\")\n",
    "v1 = input(\"Enter a verb\")\n",
    "adj1 = input(\"Enter a adjective\")\n",
    "adv1 = input(\"Enter a adverb\")\n",
    "\n",
    "print(f\"Do you {v1} your {adj1} {n1} {adv1}? That's hilarious!\")"
   ]
  },
  {
   "cell_type": "code",
   "execution_count": 9,
   "metadata": {},
   "outputs": [
    {
     "name": "stdout",
     "output_type": "stream",
     "text": [
      " 10 + 5 = 15 \n",
      " 10 - 5 = 8 \n",
      " 10 * 5 = 50 \n",
      " 10 / 5 = 2.0 \n",
      " \n"
     ]
    }
   ],
   "source": [
    "n1 = int(input(\"What is the first number? \"))\n",
    "n2 = int(input(\"What is the second number? \"))\n",
    "\n",
    "print (f\" {n1} + {n2} = {n1+n2} \\n {n1} - {n2} = {n1-2} \\n {n1} * {n2} = {n1*n2} \\n {n1} / {n2} = {n1/n2} \\n \")\n"
   ]
  },
  {
   "attachments": {},
   "cell_type": "markdown",
   "metadata": {},
   "source": [
    "\n",
    "Chapter: 6\n",
    "Retirement Calculator\n",
    "Your computer knows what the current year is, which means\n",
    "you can incorporate that into your programs. You just have\n",
    "to figure out how your programming language can provide\n",
    "you with that information.\n",
    "Create a program that determines how many years you have\n",
    "left until retirement and the year you can retire. It should\n",
    "prompt for your current age and the age you want to retire\n",
    "and display the output as shown in the example that follows.\n",
    "\n",
    "Example Output\n",
    "What is your current age? 25\n",
    "At what age would you like to retire? 65\n",
    "You have 40 years left until you can retire.\n",
    "It's 2015, so you can retire in 2055.\n",
    "\n",
    "Constraints\n",
    "• Again, be sure to convert the input to numerical data\n",
    "before doing any math.\n",
    "• Don’t hard-code the current year into your program.\n",
    "Get it from the system time via your programming lan-\n",
    "\n",
    "\n",
    "Chapter: 7\n",
    "Area of a Rectangular Room\n",
    "When working in a global environment, you’ll have to\n",
    "present information in both metric and Imperial units. And\n",
    "you’ll need to know when to do the conversion to ensure\n",
    "the most accurate results.\n",
    "Create a program that calculates the area of a room. Prompt\n",
    "the user for the length and width of the room in feet. Then\n",
    "display the area in both square feet and square meters.\n",
    "\n",
    "Example Output\n",
    "What is the length of the room in feet? 15\n",
    "What is the width of the room in feet? 20\n",
    "You entered dimensions of 15 feet by 20 feet.\n",
    "The area is\n",
    "300 square feet\n",
    "27.871 square meters\n",
    "The formula for this conversion is\n",
    "m\n",
    "\n",
    "Constraints\n",
    "• Keep the calculations separate from the output.\n",
    "\n",
    "\n",
    "Chapter: 8\n",
    "Pizza Party\n",
    "Division isn’t always exact, and sometimes you’ll write\n",
    "programs that will need to deal with the leftovers as a whole\n",
    "number instead of a decimal.\n",
    "Write a program to evenly divide pizzas. Prompt for the\n",
    "number of people, the number of pizzas, and the number of\n",
    "slices per pizza. Ensure that the number of pieces comes out\n",
    "even. Display the number of pieces of pizza each person\n",
    "should get. If there are leftovers, show the number of leftover\n",
    "pieces.\n",
    "\n",
    "Example Output\n",
    "How many people? 8\n",
    "How many pizzas do you have? 2\n",
    "8 people with 2 pizzas\n",
    "Each person gets 2 pieces of pizza.\n",
    "\n",
    "\n",
    "Chapter: 9\n",
    "Paint Calculator\n",
    "Sometimes you have to round up to the next number rather\n",
    "than follow standard rounding rules.\n",
    "Calculate gallons of paint needed to paint the ceiling of a\n",
    "room. Prompt for the length and width, and assume one\n",
    "gallon covers 350 square feet. Display the number of gallons\n",
    "needed to paint the ceiling as a\n",
    "\n",
    "Example Output\n",
    "You will need to purchase 2 gallons of\n",
    "paint to cover 360 square feet.\n",
    "Remember, you can’t buy a partial gallon of paint. You must\n",
    "round up to the next whole gallon.\n",
    "\n",
    "Constraints\n",
    "• Use a constant to hold the conversion rate.\n",
    "\n",
    "\n",
    "Chapter: 10\n",
    "Self-Checkout\n",
    "Working with multiple inputs and currency can introduce\n",
    "some tricky precision issues.\n",
    "Create a simple self-checkout system. Prompt for the prices\n",
    "and quantities of three items. Calculate the subtotal of the\n",
    "items. Then calculate the tax using a tax rate of 5.5%. Print\n",
    "out the line items with the quantity and total, and then print\n",
    "out the subtotal, tax amount, and total.\n",
    "\n",
    "Example Output\n",
    "Enter the price of item 1: 25\n",
    "Enter the quantity of item 1: 2\n",
    "Enter the price of item 2: 10\n",
    "Enter the quantity of item 2: 1\n",
    "Enter the price of item 3: 4\n",
    "Enter the quantity of item 3: 1\n",
    "Subtotal: $64.00\n",
    "Tax: $3.52\n",
    "Total: $67.52\n",
    "\n",
    "Constraints\n",
    "• Keep the input, processing, and output parts of your\n",
    "program separate. Collect the input, then do the math\n",
    "operations and string building, and then print out the\n",
    "output.\n",
    "• Be sure you explicitly convert input to numerical data\n",
    "\n"
   ]
  },
  {
   "cell_type": "code",
   "execution_count": 11,
   "metadata": {},
   "outputs": [
    {
     "name": "stdout",
     "output_type": "stream",
     "text": [
      "You have 23 years left until you can retire. It's 2024, so you can retire in 2079\n"
     ]
    }
   ],
   "source": [
    "from datetime import date\n",
    "\n",
    "yr = date.today().year\n",
    "age = int(input(\"What is your current age? \"))\n",
    "ret_age = int(input(\"What age would you want to retire? \"))\n",
    "print(f\"You have {ret_age-age} years left until you can retire. It's {yr}, so you can retire in {yr+ret_age}\")"
   ]
  },
  {
   "cell_type": "code",
   "execution_count": 13,
   "metadata": {},
   "outputs": [
    {
     "name": "stdout",
     "output_type": "stream",
     "text": [
      "The area is\n",
      " 300.0 square feet\n",
      " 27.869999999999997 square meters \n",
      " The formula for this conversion is\n",
      " area*0.0929 \n"
     ]
    }
   ],
   "source": [
    "len = float(input(\"What is the length of the room in ft?\"))\n",
    "wid = float(input(\"What is the width of the room in ft?\"))\n",
    "area = len*wid\n",
    "area_mt = area*0.0929\n",
    "print(f\"The area is\\n {area} square feet\\n {area_mt} square meters \\n The formula for this conversion is\\n area*0.0929 \")"
   ]
  },
  {
   "cell_type": "code",
   "execution_count": 18,
   "metadata": {},
   "outputs": [
    {
     "name": "stdout",
     "output_type": "stream",
     "text": [
      "3 people with 2 pizzas\n",
      " Each person gets 2 pieces of pizza. \n",
      " There are 2 leftover pieces.\n"
     ]
    }
   ],
   "source": [
    "ppl = int(input(\"How many ppl? \"))\n",
    "piz = int(input(\"How many pizza? \"))\n",
    "slc = int(input(\"How many slices per pizza? \"))\n",
    "\n",
    "rem = (piz*slc)%ppl\n",
    "\n",
    "print(f\" {ppl} people with {piz} pizzas\\n Each person gets {int(piz*slc/ppl)} pieces of pizza. \\n There are {rem} leftover pieces.\")"
   ]
  },
  {
   "cell_type": "code",
   "execution_count": 36,
   "metadata": {},
   "outputs": [
    {
     "name": "stdout",
     "output_type": "stream",
     "text": [
      "Subtotal = $64\n",
      "Tax = $3.52\n",
      "Total =$67.52\n"
     ]
    }
   ],
   "source": [
    "l1 = [0,0,0]\n",
    "l2 = [0,0,0]\n",
    "\n",
    "for i in range(3):\n",
    "    l1[i] = int(input(f\"Enter price of item {i+1}\"))\n",
    "    l2[i] = int(input(f\"Enter quantity of item {i+1}\"))\n",
    "stot=sum(i*j for i,j in zip(l1,l2))\n",
    "print(f\"Subtotal = ${stot}\\nTax = ${stot*0.055}\\nTotal =${stot*1.055}\")"
   ]
  },
  {
   "cell_type": "code",
   "execution_count": null,
   "metadata": {},
   "outputs": [],
   "source": []
  }
 ],
 "metadata": {
  "kernelspec": {
   "display_name": "base",
   "language": "python",
   "name": "python3"
  },
  "language_info": {
   "codemirror_mode": {
    "name": "ipython",
    "version": 3
   },
   "file_extension": ".py",
   "mimetype": "text/x-python",
   "name": "python",
   "nbconvert_exporter": "python",
   "pygments_lexer": "ipython3",
   "version": "3.11.5"
  },
  "orig_nbformat": 4
 },
 "nbformat": 4,
 "nbformat_minor": 2
}
