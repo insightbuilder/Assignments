{
 "cells": [
  {
   "attachments": {},
   "cell_type": "markdown",
   "metadata": {},
   "source": [
    "Chapter: 1\n",
    "Saying Hello\n",
    "The “Hello, World” program is the first program you learn\n",
    "to write in many languages, but it doesn’t involve any input.\n",
    "So create a program that prompts for your name and prints\n",
    "a greeting using your name.\n",
    "\n",
    "Example Output\n",
    "What is your name? Brian\n",
    "Hello, Brian, nice to meet you!\n",
    "Constraint\n",
    "• Keep the input, string concatenation, and output sepa-\n",
    "\n",
    "\n",
    "Chapter: 2\n",
    "Counting the Number of Characters\n",
    "Create a program that prompts for an input string and dis-\n",
    "plays output that shows the input string and the number of\n",
    "characters the string contains.\n",
    "\n",
    "Example Output\n",
    "What is the input string? Homer\n",
    "Homer has 5 characters.\n",
    "\n",
    "Constraints\n",
    "• Be sure the output contains the original string.\n",
    "• Use a single output statement to construct the output.\n",
    "• Use a built-in function of the programming language to"
   ]
  },
  {
   "cell_type": "code",
   "execution_count": 2,
   "metadata": {},
   "outputs": [
    {
     "name": "stdout",
     "output_type": "stream",
     "text": [
      "Prakhar Hello, Prakhar, nice to meet you!\n"
     ]
    }
   ],
   "source": [
    "p1 = input(\"What is your name?\")\n",
    "\n",
    "print(f\"{p1} Hello, {p1}, nice to meet you!\")"
   ]
  },
  {
   "cell_type": "code",
   "execution_count": 3,
   "metadata": {},
   "outputs": [
    {
     "name": "stdout",
     "output_type": "stream",
     "text": [
      "Homer Homer has 5 characters.\n"
     ]
    }
   ],
   "source": [
    "p2 = input(\"What is the input string?\")\n",
    "print(f\"{p2} {p2} has {len(p2)} characters.\")"
   ]
  },
  {
   "attachments": {},
   "cell_type": "markdown",
   "metadata": {},
   "source": [
    "\n",
    "Chapter: 3\n",
    "Printing Quotes\n",
    "Quotation marks are often used to denote the start and end\n",
    "of a string. But sometimes we need to print out the quotation\n",
    "marks themselves by using\n",
    "Create a program that prompts for a quote and an author.\n",
    "Display the quotation and author as shown in the example\n",
    "output.\n",
    "\n",
    "Example Output\n",
    "What is the quote? These aren't the droids you're looking for.\n",
    "Who said it? Obi-Wan Kenobi\n",
    "Obi-Wan Kenobi says, \"These aren't the droids\n",
    "you're looking for.\"\n",
    "\n",
    "Constraints\n",
    "• Use a single output statement to produce this output,\n",
    "using appropriate string-escaping techniques for quotes.\n",
    "• If your language supports string interpolation or string\n",
    "substitution, don’t use it for this exercise. Use string\n",
    "\n",
    "\n",
    "Chapter: 4\n",
    "Mad Lib\n",
    "Mad libs are a simple game where you create a story tem-\n",
    "plate with blanks for words. You, or another player, then\n",
    "construct a list of words and place them into the story, cre-\n",
    "ating an often silly or funny story as a result.\n",
    "Create a simple mad-lib program that prompts for a noun,\n",
    "a verb, an adverb, and an adjective and injects those into a\n",
    "story that you create.\n",
    "\n",
    "Example Output\n",
    "Enter a noun: dog\n",
    "Enter a verb: walk\n",
    "Enter an adjective: blue\n",
    "Enter an adverb: quickly\n",
    "Do you walk your blue dog quickly? That's hilarious!\n",
    "\n",
    "Constraints\n",
    "• Use a single output statement for this program.\n",
    "• If your language supports string interpolation or string\n",
    "\n",
    "\n",
    "Chapter: 5\n",
    "Simple Math\n",
    "You’ll often write programs that deal with numbers. And\n",
    "depending on the programming language you use, you’ll\n",
    "have to convert the inputs you get to numerical data types.\n",
    "Write a program that prompts for two numbers. Print the\n",
    "sum, difference, product, and quotient of those numbers as\n",
    "shown in the example output:\n",
    "\n",
    "Example Output\n",
    "What is the first number? 10\n",
    "What is the second number? 5\n",
    "10 + 5 = 15\n",
    "10 - 5 = 5\n",
    "10 * 5 = 50\n",
    "10 / 5 = 2\n",
    "\n",
    "Constraints\n",
    "• Values coming from users will be strings. Ensure that\n",
    "you convert these values to numbers before doing the\n",
    "math.\n",
    "• Keep the inputs and outputs separate from the numerical\n",
    "conversions and other processing.\n",
    "• Generate a single output statement with line breaks in"
   ]
  },
  {
   "cell_type": "code",
   "execution_count": 6,
   "metadata": {},
   "outputs": [
    {
     "name": "stdout",
     "output_type": "stream",
     "text": [
      "Obi Wan says,\"These aren't the droids you're looking for\"\n"
     ]
    }
   ],
   "source": [
    "q1=input(\"What is the quote? \")\n",
    "a1 = input(\"Who said it? \")\n",
    "print(f'''{a1} says,\"{q1}\"''')"
   ]
  },
  {
   "cell_type": "code",
   "execution_count": 8,
   "metadata": {},
   "outputs": [
    {
     "name": "stdout",
     "output_type": "stream",
     "text": [
      "Do you blue your walk Dog fast? That's hilarious!\n"
     ]
    }
   ],
   "source": [
    "n1 = input(\"Enter a noun\")\n",
    "v1 = input(\"Enter a verb\")\n",
    "adj1 = input(\"Enter a adjective\")\n",
    "adv1 = input(\"Enter a adverb\")\n",
    "\n",
    "print(f\"Do you {v1} your {adj1} {n1} {adv1}? That's hilarious!\")"
   ]
  },
  {
   "cell_type": "code",
   "execution_count": 9,
   "metadata": {},
   "outputs": [
    {
     "name": "stdout",
     "output_type": "stream",
     "text": [
      " 10 + 5 = 15 \n",
      " 10 - 5 = 8 \n",
      " 10 * 5 = 50 \n",
      " 10 / 5 = 2.0 \n",
      " \n"
     ]
    }
   ],
   "source": [
    "n1 = int(input(\"What is the first number? \"))\n",
    "n2 = int(input(\"What is the second number? \"))\n",
    "\n",
    "print (f\" {n1} + {n2} = {n1+n2} \\n {n1} - {n2} = {n1-2} \\n {n1} * {n2} = {n1*n2} \\n {n1} / {n2} = {n1/n2} \\n \")\n"
   ]
  },
  {
   "cell_type": "code",
   "execution_count": null,
   "metadata": {},
   "outputs": [],
   "source": []
  }
 ],
 "metadata": {
  "kernelspec": {
   "display_name": "base",
   "language": "python",
   "name": "python3"
  },
  "language_info": {
   "codemirror_mode": {
    "name": "ipython",
    "version": 3
   },
   "file_extension": ".py",
   "mimetype": "text/x-python",
   "name": "python",
   "nbconvert_exporter": "python",
   "pygments_lexer": "ipython3",
   "version": "3.11.5"
  },
  "orig_nbformat": 4
 },
 "nbformat": 4,
 "nbformat_minor": 2
}
