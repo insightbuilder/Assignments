{
 "cells": [
  {
   "cell_type": "code",
   "execution_count": null,
   "metadata": {},
   "outputs": [],
   "source": [
    "# [Advanced] Write a wrapper Class that takes a dataset name, provides access to list of configs, splits, dataset info, \n",
    "# contains methods to load dataset into memory, and process it as required.  << Expect to spend atleast 60 to 90 mins"
   ]
  },
  {
   "cell_type": "code",
   "execution_count": 1,
   "metadata": {},
   "outputs": [
    {
     "name": "stderr",
     "output_type": "stream",
     "text": [
      "/Users/apple/Desktop/KamalRaj/Assignments/.venv/lib/python3.9/site-packages/tqdm/auto.py:21: TqdmWarning: IProgress not found. Please update jupyter and ipywidgets. See https://ipywidgets.readthedocs.io/en/stable/user_install.html\n",
      "  from .autonotebook import tqdm as notebook_tqdm\n"
     ]
    }
   ],
   "source": [
    "from datasets import (get_dataset_config_info,\n",
    "                      get_dataset_config_names,\n",
    "                      get_dataset_infos,\n",
    "                      get_dataset_split_names,\n",
    "                      load_dataset,\n",
    "                      load_metric,\n",
    "                      list_datasets,\n",
    "                      list_metrics)"
   ]
  },
  {
   "cell_type": "code",
   "execution_count": 7,
   "metadata": {},
   "outputs": [],
   "source": [
    "class DS_wrap():\n",
    "    def __init__(self,dsname):\n",
    "        self.dsname = dsname\n",
    "        \n",
    "    def get_details(self):\n",
    "        # print(get_dataset_config_names(self.dsname))\n",
    "        d={}\n",
    "        d['config_names'] = get_dataset_config_names(self.dsname)\n",
    "        d['dataset_info'] = get_dataset_infos(self.dsname)\n",
    "        return d        \n",
    "    def ask_config(self):\n",
    "        if get_dataset_config_names(self.dsname) != ['default']:\n",
    "            self.config1= input(\"which config in this dataset do you want? \") # return self.config1\n",
    "        \n",
    "    def getconfig_details(self):\n",
    "        d={}\n",
    "        self.ask_config()\n",
    "        # config1= input(\"which config in this dataset do you want? \")\n",
    "        d['config_info'] = get_dataset_config_info(self.dsname, self.config1)         \n",
    "        d['split_names'] = get_dataset_split_names(self.dsname, self.config1)\n",
    "        return d\n",
    "    def load_ds(self):\n",
    "        self.ask_config()\n",
    "        d1=load_dataset(self.dsname,self.config1)\n",
    "        return d1"
   ]
  },
  {
   "cell_type": "code",
   "execution_count": 8,
   "metadata": {},
   "outputs": [],
   "source": [
    "d1=DS_wrap('glue')"
   ]
  },
  {
   "cell_type": "code",
   "execution_count": 9,
   "metadata": {},
   "outputs": [
    {
     "data": {
      "text/plain": [
       "{'config_names': ['ax',\n",
       "  'cola',\n",
       "  'mnli',\n",
       "  'mnli_matched',\n",
       "  'mnli_mismatched',\n",
       "  'mrpc',\n",
       "  'qnli',\n",
       "  'qqp',\n",
       "  'rte',\n",
       "  'sst2',\n",
       "  'stsb',\n",
       "  'wnli'],\n",
       " 'dataset_info': {'ax': DatasetInfo(description='', citation='', homepage='', license='', features={'premise': Value(dtype='string', id=None), 'hypothesis': Value(dtype='string', id=None), 'label': ClassLabel(names=['entailment', 'neutral', 'contradiction'], id=None), 'idx': Value(dtype='int32', id=None)}, post_processed=None, supervised_keys=None, task_templates=None, builder_name='parquet', dataset_name='glue', config_name='ax', version=0.0.0, splits={'test': SplitInfo(name='test', num_bytes=237694, num_examples=1104, shard_lengths=None, dataset_name=None)}, download_checksums=None, download_size=80767, post_processing_size=None, dataset_size=237694, size_in_bytes=None),\n",
       "  'cola': DatasetInfo(description='', citation='', homepage='', license='', features={'sentence': Value(dtype='string', id=None), 'label': ClassLabel(names=['unacceptable', 'acceptable'], id=None), 'idx': Value(dtype='int32', id=None)}, post_processed=None, supervised_keys=None, task_templates=None, builder_name='parquet', dataset_name='glue', config_name='cola', version=0.0.0, splits={'train': SplitInfo(name='train', num_bytes=484869, num_examples=8551, shard_lengths=None, dataset_name=None), 'validation': SplitInfo(name='validation', num_bytes=60322, num_examples=1043, shard_lengths=None, dataset_name=None), 'test': SplitInfo(name='test', num_bytes=60513, num_examples=1063, shard_lengths=None, dataset_name=None)}, download_checksums=None, download_size=326394, post_processing_size=None, dataset_size=605704, size_in_bytes=None),\n",
       "  'mnli': DatasetInfo(description='', citation='', homepage='', license='', features={'premise': Value(dtype='string', id=None), 'hypothesis': Value(dtype='string', id=None), 'label': ClassLabel(names=['entailment', 'neutral', 'contradiction'], id=None), 'idx': Value(dtype='int32', id=None)}, post_processed=None, supervised_keys=None, task_templates=None, builder_name='parquet', dataset_name='glue', config_name='mnli', version=0.0.0, splits={'train': SplitInfo(name='train', num_bytes=74619646, num_examples=392702, shard_lengths=None, dataset_name=None), 'validation_matched': SplitInfo(name='validation_matched', num_bytes=1833783, num_examples=9815, shard_lengths=None, dataset_name=None), 'validation_mismatched': SplitInfo(name='validation_mismatched', num_bytes=1949231, num_examples=9832, shard_lengths=None, dataset_name=None), 'test_matched': SplitInfo(name='test_matched', num_bytes=1848654, num_examples=9796, shard_lengths=None, dataset_name=None), 'test_mismatched': SplitInfo(name='test_mismatched', num_bytes=1950703, num_examples=9847, shard_lengths=None, dataset_name=None)}, download_checksums=None, download_size=57168425, post_processing_size=None, dataset_size=82202017, size_in_bytes=None),\n",
       "  'mnli_matched': DatasetInfo(description='', citation='', homepage='', license='', features={'premise': Value(dtype='string', id=None), 'hypothesis': Value(dtype='string', id=None), 'label': ClassLabel(names=['entailment', 'neutral', 'contradiction'], id=None), 'idx': Value(dtype='int32', id=None)}, post_processed=None, supervised_keys=None, task_templates=None, builder_name='parquet', dataset_name='glue', config_name='mnli_matched', version=0.0.0, splits={'validation': SplitInfo(name='validation', num_bytes=1833783, num_examples=9815, shard_lengths=None, dataset_name=None), 'test': SplitInfo(name='test', num_bytes=1848654, num_examples=9796, shard_lengths=None, dataset_name=None)}, download_checksums=None, download_size=2435055, post_processing_size=None, dataset_size=3682437, size_in_bytes=None),\n",
       "  'mnli_mismatched': DatasetInfo(description='', citation='', homepage='', license='', features={'premise': Value(dtype='string', id=None), 'hypothesis': Value(dtype='string', id=None), 'label': ClassLabel(names=['entailment', 'neutral', 'contradiction'], id=None), 'idx': Value(dtype='int32', id=None)}, post_processed=None, supervised_keys=None, task_templates=None, builder_name='parquet', dataset_name='glue', config_name='mnli_mismatched', version=0.0.0, splits={'validation': SplitInfo(name='validation', num_bytes=1949231, num_examples=9832, shard_lengths=None, dataset_name=None), 'test': SplitInfo(name='test', num_bytes=1950703, num_examples=9847, shard_lengths=None, dataset_name=None)}, download_checksums=None, download_size=2509009, post_processing_size=None, dataset_size=3899934, size_in_bytes=None),\n",
       "  'mrpc': DatasetInfo(description='', citation='', homepage='', license='', features={'sentence1': Value(dtype='string', id=None), 'sentence2': Value(dtype='string', id=None), 'label': ClassLabel(names=['not_equivalent', 'equivalent'], id=None), 'idx': Value(dtype='int32', id=None)}, post_processed=None, supervised_keys=None, task_templates=None, builder_name='parquet', dataset_name='glue', config_name='mrpc', version=0.0.0, splits={'train': SplitInfo(name='train', num_bytes=943843, num_examples=3668, shard_lengths=None, dataset_name=None), 'validation': SplitInfo(name='validation', num_bytes=105879, num_examples=408, shard_lengths=None, dataset_name=None), 'test': SplitInfo(name='test', num_bytes=442410, num_examples=1725, shard_lengths=None, dataset_name=None)}, download_checksums=None, download_size=1033400, post_processing_size=None, dataset_size=1492132, size_in_bytes=None),\n",
       "  'qnli': DatasetInfo(description='', citation='', homepage='', license='', features={'question': Value(dtype='string', id=None), 'sentence': Value(dtype='string', id=None), 'label': ClassLabel(names=['entailment', 'not_entailment'], id=None), 'idx': Value(dtype='int32', id=None)}, post_processed=None, supervised_keys=None, task_templates=None, builder_name='parquet', dataset_name='glue', config_name='qnli', version=0.0.0, splits={'train': SplitInfo(name='train', num_bytes=25612443, num_examples=104743, shard_lengths=None, dataset_name=None), 'validation': SplitInfo(name='validation', num_bytes=1368304, num_examples=5463, shard_lengths=None, dataset_name=None), 'test': SplitInfo(name='test', num_bytes=1373093, num_examples=5463, shard_lengths=None, dataset_name=None)}, download_checksums=None, download_size=19278324, post_processing_size=None, dataset_size=28353840, size_in_bytes=None),\n",
       "  'qqp': DatasetInfo(description='', citation='', homepage='', license='', features={'question1': Value(dtype='string', id=None), 'question2': Value(dtype='string', id=None), 'label': ClassLabel(names=['not_duplicate', 'duplicate'], id=None), 'idx': Value(dtype='int32', id=None)}, post_processed=None, supervised_keys=None, task_templates=None, builder_name='parquet', dataset_name='glue', config_name='qqp', version=0.0.0, splits={'train': SplitInfo(name='train', num_bytes=50900820, num_examples=363846, shard_lengths=None, dataset_name=None), 'validation': SplitInfo(name='validation', num_bytes=5653754, num_examples=40430, shard_lengths=None, dataset_name=None), 'test': SplitInfo(name='test', num_bytes=55171111, num_examples=390965, shard_lengths=None, dataset_name=None)}, download_checksums=None, download_size=73982265, post_processing_size=None, dataset_size=111725685, size_in_bytes=None),\n",
       "  'rte': DatasetInfo(description='', citation='', homepage='', license='', features={'sentence1': Value(dtype='string', id=None), 'sentence2': Value(dtype='string', id=None), 'label': ClassLabel(names=['entailment', 'not_entailment'], id=None), 'idx': Value(dtype='int32', id=None)}, post_processed=None, supervised_keys=None, task_templates=None, builder_name='parquet', dataset_name='glue', config_name='rte', version=0.0.0, splits={'train': SplitInfo(name='train', num_bytes=847320, num_examples=2490, shard_lengths=None, dataset_name=None), 'validation': SplitInfo(name='validation', num_bytes=90728, num_examples=277, shard_lengths=None, dataset_name=None), 'test': SplitInfo(name='test', num_bytes=974053, num_examples=3000, shard_lengths=None, dataset_name=None)}, download_checksums=None, download_size=1274409, post_processing_size=None, dataset_size=1912101, size_in_bytes=None),\n",
       "  'sst2': DatasetInfo(description='', citation='', homepage='', license='', features={'sentence': Value(dtype='string', id=None), 'label': ClassLabel(names=['negative', 'positive'], id=None), 'idx': Value(dtype='int32', id=None)}, post_processed=None, supervised_keys=None, task_templates=None, builder_name='parquet', dataset_name='glue', config_name='sst2', version=0.0.0, splits={'train': SplitInfo(name='train', num_bytes=4681603, num_examples=67349, shard_lengths=None, dataset_name=None), 'validation': SplitInfo(name='validation', num_bytes=106252, num_examples=872, shard_lengths=None, dataset_name=None), 'test': SplitInfo(name='test', num_bytes=216640, num_examples=1821, shard_lengths=None, dataset_name=None)}, download_checksums=None, download_size=3331080, post_processing_size=None, dataset_size=5004495, size_in_bytes=None),\n",
       "  'stsb': DatasetInfo(description='', citation='', homepage='', license='', features={'sentence1': Value(dtype='string', id=None), 'sentence2': Value(dtype='string', id=None), 'label': Value(dtype='float32', id=None), 'idx': Value(dtype='int32', id=None)}, post_processed=None, supervised_keys=None, task_templates=None, builder_name='parquet', dataset_name='glue', config_name='stsb', version=0.0.0, splits={'train': SplitInfo(name='train', num_bytes=754791, num_examples=5749, shard_lengths=None, dataset_name=None), 'validation': SplitInfo(name='validation', num_bytes=216064, num_examples=1500, shard_lengths=None, dataset_name=None), 'test': SplitInfo(name='test', num_bytes=169974, num_examples=1379, shard_lengths=None, dataset_name=None)}, download_checksums=None, download_size=766983, post_processing_size=None, dataset_size=1140829, size_in_bytes=None),\n",
       "  'wnli': DatasetInfo(description='', citation='', homepage='', license='', features={'sentence1': Value(dtype='string', id=None), 'sentence2': Value(dtype='string', id=None), 'label': ClassLabel(names=['not_entailment', 'entailment'], id=None), 'idx': Value(dtype='int32', id=None)}, post_processed=None, supervised_keys=None, task_templates=None, builder_name='parquet', dataset_name='glue', config_name='wnli', version=0.0.0, splits={'train': SplitInfo(name='train', num_bytes=107109, num_examples=635, shard_lengths=None, dataset_name=None), 'validation': SplitInfo(name='validation', num_bytes=12162, num_examples=71, shard_lengths=None, dataset_name=None), 'test': SplitInfo(name='test', num_bytes=37889, num_examples=146, shard_lengths=None, dataset_name=None)}, download_checksums=None, download_size=63522, post_processing_size=None, dataset_size=157160, size_in_bytes=None)}}"
      ]
     },
     "execution_count": 9,
     "metadata": {},
     "output_type": "execute_result"
    }
   ],
   "source": [
    "# d1.get_details()    # commented as it takes 4+ min to run"
   ]
  },
  {
   "cell_type": "code",
   "execution_count": 10,
   "metadata": {},
   "outputs": [
    {
     "data": {
      "text/plain": [
       "{'config_info': DatasetInfo(description='', citation='', homepage='', license='', features={'premise': Value(dtype='string', id=None), 'hypothesis': Value(dtype='string', id=None), 'label': ClassLabel(names=['entailment', 'neutral', 'contradiction'], id=None), 'idx': Value(dtype='int32', id=None)}, post_processed=None, supervised_keys=None, task_templates=None, builder_name='parquet', dataset_name='glue', config_name='ax', version=0.0.0, splits={'test': SplitInfo(name='test', num_bytes=237694, num_examples=1104, shard_lengths=None, dataset_name=None)}, download_checksums=None, download_size=80767, post_processing_size=None, dataset_size=237694, size_in_bytes=None),\n",
       " 'split_names': ['test']}"
      ]
     },
     "execution_count": 10,
     "metadata": {},
     "output_type": "execute_result"
    }
   ],
   "source": [
    "d1.getconfig_details()"
   ]
  },
  {
   "cell_type": "code",
   "execution_count": null,
   "metadata": {},
   "outputs": [],
   "source": []
  }
 ],
 "metadata": {
  "kernelspec": {
   "display_name": ".venv",
   "language": "python",
   "name": "python3"
  },
  "language_info": {
   "codemirror_mode": {
    "name": "ipython",
    "version": 3
   },
   "file_extension": ".py",
   "mimetype": "text/x-python",
   "name": "python",
   "nbconvert_exporter": "python",
   "pygments_lexer": "ipython3",
   "version": "3.9.2"
  },
  "orig_nbformat": 4
 },
 "nbformat": 4,
 "nbformat_minor": 2
}
