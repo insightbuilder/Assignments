{
 "cells": [
  {
   "cell_type": "markdown",
   "metadata": {},
   "source": [
    "# This notebook list the common python function"
   ]
  },
  {
   "cell_type": "code",
   "execution_count": 5,
   "metadata": {},
   "outputs": [
    {
     "name": "stdout",
     "output_type": "stream",
     "text": [
      "11\n",
      "This function prints\n",
      "<class 'str'>\n",
      "56\n",
      "56.0\n",
      "5 alpha\n",
      "[1, 2, 3, 4]\n",
      "(5, 2, 6, 7)\n",
      "{2, 5, 6, 7}\n",
      "{'x': 5, 'y': 2}\n"
     ]
    }
   ],
   "source": [
    "# len(): Returns the length of an object (e.g., string, list, tuple).\n",
    "\n",
    "print(len('this is now'))\n",
    "\n",
    "# print(): Prints the specified values.\n",
    "print(\"This function prints\")\n",
    "\n",
    "# type(): Returns the type of an object.\n",
    "print(type(\"Here is the type of this sentence\"))\n",
    "\n",
    "# int(): Converts a number or a string to an integer.\n",
    "print(int('56')) # 56 inside '' is string \n",
    "\n",
    "# float(): Converts a number or a string to a floating-point number.\n",
    "print(float('56')) # 56.0 is a float \n",
    "\n",
    "# str(): Converts an object to a string.\n",
    "print(str(5) + ' alpha') # we will get string 5\n",
    "\n",
    "# list(): Creates a list.\n",
    "print(list([1, 2, 3, 4]))\n",
    "# tuple(): Creates a tuple.\n",
    "print(tuple((5, 2, 6, 7)))\n",
    "# set(): Creates a set.\n",
    "print(set([5, 6, 7, 5, 6, 2,]))  # will see only unique numbers\n",
    "\n",
    "# dict(): Creates a dictionary.\n",
    "print(dict(x=5, y=2))"
   ]
  },
  {
   "cell_type": "code",
   "execution_count": 10,
   "metadata": {},
   "outputs": [
    {
     "name": "stdout",
     "output_type": "stream",
     "text": [
      "9\n",
      "0\n",
      "37\n",
      "5.67566\n",
      "5.68\n",
      "[0, 2, 5, 6, 7, 8, 9]\n",
      "False\n",
      "True\n",
      "<zip object at 0x000001FDAA102DC0>\n",
      "[(5, 'a'), (6, 'b'), (7, 'c'), (9, 'd'), (8, 'e'), (2, 'f'), (0, 'g')]\n"
     ]
    }
   ],
   "source": [
    "test = [5, 6, 7, 9, 8, 2, 0]\n",
    "# max(): Returns the largest item in an iterable or the largest of two or more arguments.\n",
    "print(max(test))\n",
    "# min(): Returns the smallest item in an iterable or the smallest of two or more arguments.\n",
    "print(min(test))\n",
    "# sum(): Returns the sum of all items in an iterable.\n",
    "print(sum(test))\n",
    "# abs(): Returns the absolute value of a number.\n",
    "print(abs(5.67566))\n",
    "# round(): Rounds a number to a specified number of decimal places.\n",
    "print(round(5.67566, 2))\n",
    "# sorted(): Returns a sorted list from the specified iterable.\n",
    "print(sorted(test))\n",
    "# all(): Returns True if all elements of an iterable are true.\n",
    "print(all(test))  # will return False\n",
    "# any(): Returns True if any element of an iterable is true.\n",
    "print(any(test))  # will return True\n",
    "# zip(): Returns an iterator of tuples, where the first item in each passed iterator is paired together, and so on.\n",
    "test2 =['a', 'b', 'c', 'd', 'e', 'f', 'g']\n",
    "print(zip(test, test2))\n",
    "print([(x, y) for x, y in zip(test, test2)])"
   ]
  },
  {
   "cell_type": "code",
   "execution_count": null,
   "metadata": {},
   "outputs": [],
   "source": [
    "# range(): Returns a sequence of numbers.\n",
    "print(range(5))\n",
    "# enumerate(): Returns an enumerate object, containing pairs of an index and the corresponding value from an iterable.\n",
    "print([(ind, x) for ind, x in enumerate(range(5))])\n",
    "\n",
    "# input(): Reads a line from input and returns it as a string.\n",
    "take = input('Provide Input: ')\n",
    "print(take)\n",
    "# open(): Opens a file and returns a file object.\n",
    "x = open('test.txt', '+w')\n",
    "print(type(x))\n",
    "# format(): Formats a specified value.\n",
    "print(format('Lets see'))\n",
    "# dir(): Returns a list of names in the current local scope or a list of attributes of an object.\n",
    "dir(take)\n",
    "# help(): Displays information about the object.\n",
    "help(str)\n",
    "# isinstance(): Returns True if the object argument is an instance of the classinfo argument.\n",
    "print(isinstance('t', str))"
   ]
  },
  {
   "cell_type": "code",
   "execution_count": 15,
   "metadata": {},
   "outputs": [
    {
     "name": "stdout",
     "output_type": "stream",
     "text": [
      "[10, 14, 12, 50, 158, 172, 126]\n",
      "[7, 6, 25, 79, 86, 63]\n",
      "1391\n"
     ]
    }
   ],
   "source": [
    "from functools import reduce\n",
    "\n",
    "def mul2(a):\n",
    "    return a * 2\n",
    "\n",
    "def getmore(x):\n",
    "    return x > 5\n",
    "\n",
    "def to_sum(x, y):\n",
    "    return 2 * x + y\n",
    "\n",
    "test = [5, 7, 6, 25, 79, 86, 63]\n",
    "\n",
    "# map(): Applies a given function to all items in an input list.\n",
    "test_map = map(mul2, test)\n",
    "print(list(test_map))\n",
    "\n",
    "# filter(): Filters elements of an iterable based on a function.\n",
    "filter_test = filter(getmore, test)\n",
    "print(list(filter_test))\n",
    "\n",
    "# reduce(): Applies a rolling computation to sequential pairs of values in an iterable.\n",
    "red_test = reduce(to_sum, test)\n",
    "print(red_test)"
   ]
  },
  {
   "cell_type": "code",
   "execution_count": 17,
   "metadata": {},
   "outputs": [
    {
     "name": "stdout",
     "output_type": "stream",
     "text": [
      "99\n",
      "0x5\n",
      "0b101\n",
      "0o5\n",
      "\u0005\n",
      "9765625\n",
      "140712130306984\n"
     ]
    }
   ],
   "source": [
    "c = 25\n",
    "x = 5\n",
    "# ord(c): Returns an integer representing the Unicode character.\n",
    "print(ord('c'))\n",
    "\n",
    "# hex(x): Converts an integer to a lowercase hexadecimal string.\n",
    "print(hex(x))\n",
    "# bin(x): Converts an integer to a binary string.\n",
    "print(bin(x))\n",
    "# oct(x): Converts an integer to an octal string.\n",
    "print(oct(x))\n",
    "# chr(i): Returns a string representing a character whose Unicode code point is the integer.\n",
    "print(chr(x))\n",
    "\n",
    "# pow(x, y, z=None): Returns x to the power of y; if z is present, return x to the power of y, modulo z.\n",
    "print(pow(c, x))\n",
    "\n",
    "# id(object): Returns the identity of an object, which is unique and constant for the object during its lifetime.\n",
    "print(id(x))\n"
   ]
  },
  {
   "cell_type": "code",
   "execution_count": 18,
   "metadata": {},
   "outputs": [
    {
     "name": "stdout",
     "output_type": "stream",
     "text": [
      "[0, 1, 2, 3, 4]\n",
      "[2, 4, 6, 8]\n",
      "True\n",
      "False\n",
      "42\n",
      "10\n",
      "Default\n",
      "True\n",
      "False\n"
     ]
    }
   ],
   "source": [
    "### bit more advanced functions \n",
    "\n",
    "# slice(stop), slice(start, stop, step): Creates a slice object representing the set of indices specified by range(start, stop, step).\n",
    "# Using slice(stop)\n",
    "my_slice = slice(5)\n",
    "numbers = [0, 1, 2, 3, 4, 5, 6, 7, 8, 9]\n",
    "result = numbers[my_slice]\n",
    "print(result)  # Output: [0, 1, 2, 3, 4]\n",
    "\n",
    "# Using slice(start, stop, step)\n",
    "my_slice = slice(2, 9, 2)\n",
    "result = numbers[my_slice]\n",
    "print(result)  # Output: [2, 4, 6, 8]\n",
    "\n",
    "# callable(object): Returns True if the object appears callable, otherwise False.\n",
    "# Using callable(object)\n",
    "def my_function():\n",
    "    print(\"Hello, World!\")\n",
    "\n",
    "print(callable(my_function))  # Output: True\n",
    "print(callable(\"Hello\"))      # Output: False\n",
    "\n",
    "# setattr(object, name, value): Sets the value of an attribute of an object.\n",
    "# Using setattr(object, name, value)\n",
    "class MyClass:\n",
    "    pass\n",
    "\n",
    "my_object = MyClass()\n",
    "setattr(my_object, 'my_attribute', 42)\n",
    "print(my_object.my_attribute)  # Output: 42\n",
    "\n",
    "# getattr(object, name[, default]): Returns the value of a named attribute of an object.\n",
    "class AnotherClass:\n",
    "    def __init__(self):\n",
    "        self.my_attribute = 10\n",
    "\n",
    "my_object = AnotherClass()\n",
    "result = getattr(my_object, 'my_attribute')\n",
    "print(result)  # Output: 10\n",
    "\n",
    "# Specifying a default value if the attribute is not present\n",
    "result = getattr(my_object, 'nonexistent_attribute', 'Default')\n",
    "print(result)  # Output: 'Default'\n",
    "\n",
    "# hasattr(object, name): Returns True if the object has the given named attribute, otherwise False\n",
    "\n",
    "print(hasattr(my_object, 'my_attribute'))         # Output: True\n",
    "print(hasattr(my_object, 'nonexistent_attribute')) # Output: False\n"
   ]
  },
  {
   "cell_type": "code",
   "execution_count": null,
   "metadata": {},
   "outputs": [],
   "source": []
  },
  {
   "cell_type": "code",
   "execution_count": null,
   "metadata": {},
   "outputs": [],
   "source": []
  },
  {
   "cell_type": "code",
   "execution_count": null,
   "metadata": {},
   "outputs": [],
   "source": []
  }
 ],
 "metadata": {
  "kernelspec": {
   "display_name": "Python 3",
   "language": "python",
   "name": "python3"
  },
  "language_info": {
   "codemirror_mode": {
    "name": "ipython",
    "version": 3
   },
   "file_extension": ".py",
   "mimetype": "text/x-python",
   "name": "python",
   "nbconvert_exporter": "python",
   "pygments_lexer": "ipython3",
   "version": "3.11.4"
  }
 },
 "nbformat": 4,
 "nbformat_minor": 2
}
